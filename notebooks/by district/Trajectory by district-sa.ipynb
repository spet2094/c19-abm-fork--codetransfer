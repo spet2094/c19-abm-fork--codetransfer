{
 "cells": [
  {
   "cell_type": "code",
   "execution_count": 6,
   "metadata": {},
   "outputs": [
    {
     "name": "stdout",
     "output_type": "stream",
     "text": [
      "The autotime extension is already loaded. To reload it, use:\n",
      "  %reload_ext autotime\n",
      "time: 928 µs\n"
     ]
    }
   ],
   "source": [
    "%load_ext autotime"
   ]
  },
  {
   "cell_type": "code",
   "execution_count": 7,
   "metadata": {},
   "outputs": [
    {
     "name": "stdout",
     "output_type": "stream",
     "text": [
      "time: 1.8 ms\n"
     ]
    }
   ],
   "source": [
    "import pandas as pd\n",
    "import numpy as np\n",
    "from datetime import datetime, timedelta\n",
    "import glob\n",
    "import pylab as plt\n",
    "import json\n",
    "import matplotlib as mpl\n",
    "import os\n",
    "\n",
    "import seaborn as sns\n",
    "sns.set(style=\"darkgrid\")"
   ]
  },
  {
   "cell_type": "code",
   "execution_count": 8,
   "metadata": {},
   "outputs": [
    {
     "data": {
      "text/plain": [
       "'/Users/sophieayling/Documents/GitHub/covid19-agent-based-model/notebooks/by district'"
      ]
     },
     "execution_count": 8,
     "metadata": {},
     "output_type": "execute_result"
    },
    {
     "name": "stdout",
     "output_type": "stream",
     "text": [
      "time: 2.55 ms\n"
     ]
    }
   ],
   "source": [
    "pwd"
   ]
  },
  {
   "cell_type": "code",
   "execution_count": 9,
   "metadata": {},
   "outputs": [
    {
     "data": {
      "text/html": [
       "<div>\n",
       "<style scoped>\n",
       "    .dataframe tbody tr th:only-of-type {\n",
       "        vertical-align: middle;\n",
       "    }\n",
       "\n",
       "    .dataframe tbody tr th {\n",
       "        vertical-align: top;\n",
       "    }\n",
       "\n",
       "    .dataframe thead th {\n",
       "        text-align: right;\n",
       "    }\n",
       "</style>\n",
       "<table border=\"1\" class=\"dataframe\">\n",
       "  <thead>\n",
       "    <tr style=\"text-align: right;\">\n",
       "      <th></th>\n",
       "      <th>Unnamed: 0</th>\n",
       "      <th>CNTRY_NAME_x</th>\n",
       "      <th>ADMIN_NAME_x</th>\n",
       "      <th>CNTRY_CODE_x</th>\n",
       "      <th>IPUM2012_x</th>\n",
       "      <th>DIST2012</th>\n",
       "      <th>PARENT_x</th>\n",
       "      <th>NEW_DIST_ID_2</th>\n",
       "      <th>CNTRY_NAME_y</th>\n",
       "      <th>ADMIN_NAME_y</th>\n",
       "      <th>CNTRY_CODE_y</th>\n",
       "      <th>IPUM2012_y</th>\n",
       "      <th>PARENT_y</th>\n",
       "      <th>mean_pop_dens</th>\n",
       "      <th>total_pop</th>\n",
       "      <th>mean_friction_pop_weighted</th>\n",
       "    </tr>\n",
       "  </thead>\n",
       "  <tbody>\n",
       "    <tr>\n",
       "      <th>0</th>\n",
       "      <td>1</td>\n",
       "      <td>Zimbabwe</td>\n",
       "      <td>Bulawayo Urban</td>\n",
       "      <td>716</td>\n",
       "      <td>21</td>\n",
       "      <td>21</td>\n",
       "      <td>0</td>\n",
       "      <td>1</td>\n",
       "      <td>Zimbabwe</td>\n",
       "      <td>Bulawayo Urban</td>\n",
       "      <td>716</td>\n",
       "      <td>21</td>\n",
       "      <td>0</td>\n",
       "      <td>1096.578765</td>\n",
       "      <td>629436.210860</td>\n",
       "      <td>0.002247</td>\n",
       "    </tr>\n",
       "    <tr>\n",
       "      <th>1</th>\n",
       "      <td>2</td>\n",
       "      <td>Zimbabwe</td>\n",
       "      <td>Buhera</td>\n",
       "      <td>716</td>\n",
       "      <td>1001</td>\n",
       "      <td>101</td>\n",
       "      <td>1</td>\n",
       "      <td>3</td>\n",
       "      <td>Zimbabwe</td>\n",
       "      <td>Buhera</td>\n",
       "      <td>716</td>\n",
       "      <td>1001</td>\n",
       "      <td>1</td>\n",
       "      <td>40.271155</td>\n",
       "      <td>266876.945520</td>\n",
       "      <td>0.009854</td>\n",
       "    </tr>\n",
       "    <tr>\n",
       "      <th>2</th>\n",
       "      <td>3</td>\n",
       "      <td>Zimbabwe</td>\n",
       "      <td>Chimanimani</td>\n",
       "      <td>716</td>\n",
       "      <td>1002</td>\n",
       "      <td>102</td>\n",
       "      <td>1</td>\n",
       "      <td>4</td>\n",
       "      <td>Zimbabwe</td>\n",
       "      <td>Chimanimani</td>\n",
       "      <td>716</td>\n",
       "      <td>1002</td>\n",
       "      <td>1</td>\n",
       "      <td>36.526321</td>\n",
       "      <td>151584.230765</td>\n",
       "      <td>0.015841</td>\n",
       "    </tr>\n",
       "    <tr>\n",
       "      <th>3</th>\n",
       "      <td>4</td>\n",
       "      <td>Zimbabwe</td>\n",
       "      <td>Chipinge Rural</td>\n",
       "      <td>716</td>\n",
       "      <td>1003</td>\n",
       "      <td>103</td>\n",
       "      <td>1</td>\n",
       "      <td>5</td>\n",
       "      <td>Zimbabwe</td>\n",
       "      <td>Chipinge Rural</td>\n",
       "      <td>716</td>\n",
       "      <td>1003</td>\n",
       "      <td>1</td>\n",
       "      <td>51.065586</td>\n",
       "      <td>332947.622011</td>\n",
       "      <td>0.012035</td>\n",
       "    </tr>\n",
       "    <tr>\n",
       "      <th>4</th>\n",
       "      <td>5</td>\n",
       "      <td>Zimbabwe</td>\n",
       "      <td>Makoni</td>\n",
       "      <td>716</td>\n",
       "      <td>1004</td>\n",
       "      <td>104</td>\n",
       "      <td>1</td>\n",
       "      <td>6</td>\n",
       "      <td>Zimbabwe</td>\n",
       "      <td>Makoni</td>\n",
       "      <td>716</td>\n",
       "      <td>1004</td>\n",
       "      <td>1</td>\n",
       "      <td>31.112857</td>\n",
       "      <td>299616.813787</td>\n",
       "      <td>0.010436</td>\n",
       "    </tr>\n",
       "  </tbody>\n",
       "</table>\n",
       "</div>"
      ],
      "text/plain": [
       "   Unnamed: 0 CNTRY_NAME_x    ADMIN_NAME_x  CNTRY_CODE_x  IPUM2012_x  \\\n",
       "0           1     Zimbabwe  Bulawayo Urban           716          21   \n",
       "1           2     Zimbabwe          Buhera           716        1001   \n",
       "2           3     Zimbabwe     Chimanimani           716        1002   \n",
       "3           4     Zimbabwe  Chipinge Rural           716        1003   \n",
       "4           5     Zimbabwe          Makoni           716        1004   \n",
       "\n",
       "   DIST2012  PARENT_x  NEW_DIST_ID_2 CNTRY_NAME_y    ADMIN_NAME_y  \\\n",
       "0        21         0              1     Zimbabwe  Bulawayo Urban   \n",
       "1       101         1              3     Zimbabwe          Buhera   \n",
       "2       102         1              4     Zimbabwe     Chimanimani   \n",
       "3       103         1              5     Zimbabwe  Chipinge Rural   \n",
       "4       104         1              6     Zimbabwe          Makoni   \n",
       "\n",
       "   CNTRY_CODE_y  IPUM2012_y  PARENT_y  mean_pop_dens      total_pop  \\\n",
       "0           716          21         0    1096.578765  629436.210860   \n",
       "1           716        1001         1      40.271155  266876.945520   \n",
       "2           716        1002         1      36.526321  151584.230765   \n",
       "3           716        1003         1      51.065586  332947.622011   \n",
       "4           716        1004         1      31.112857  299616.813787   \n",
       "\n",
       "   mean_friction_pop_weighted  \n",
       "0                    0.002247  \n",
       "1                    0.009854  \n",
       "2                    0.015841  \n",
       "3                    0.012035  \n",
       "4                    0.010436  "
      ]
     },
     "execution_count": 9,
     "metadata": {},
     "output_type": "execute_result"
    },
    {
     "name": "stdout",
     "output_type": "stream",
     "text": [
      "time: 34.1 ms\n"
     ]
    }
   ],
   "source": [
    "old_new_dist = pd.read_csv('../../data/raw/district_relation.csv')\n",
    "old_new_dist_map = old_new_dist[['DIST2012', 'NEW_DIST_ID_2']].set_index('DIST2012').to_dict()['NEW_DIST_ID_2']\n",
    "pop_dense = pd.read_csv('../../data/raw/district_pop_dens_friction.csv')\n",
    "old_new_dist = old_new_dist.merge(pop_dense, on='DIST2012')\n",
    "\n",
    "old_new_dist.head()"
   ]
  },
  {
   "cell_type": "code",
   "execution_count": 11,
   "metadata": {},
   "outputs": [
    {
     "ename": "ImportError",
     "evalue": "dlopen(/Applications/anaconda3/envs/aivins_abm/lib/python3.8/site-packages/fiona/ogrext.cpython-38-darwin.so, 2): Library not loaded: @rpath/libjpeg.9.dylib\n  Referenced from: /Applications/anaconda3/envs/aivins_abm/lib/libgdal.27.dylib\n  Reason: Incompatible library version: libgdal.27.dylib requires version 14.0.0 or later, but libjpeg.9.dylib provides version 12.0.0",
     "output_type": "error",
     "traceback": [
      "\u001b[0;31m---------------------------------------------------------------------------\u001b[0m",
      "\u001b[0;31mImportError\u001b[0m                               Traceback (most recent call last)",
      "\u001b[0;32m<ipython-input-11-e4ac23dbd4cc>\u001b[0m in \u001b[0;36m<module>\u001b[0;34m\u001b[0m\n\u001b[0;32m----> 1\u001b[0;31m \u001b[0;32mimport\u001b[0m \u001b[0mgeopandas\u001b[0m \u001b[0;32mas\u001b[0m \u001b[0mgpd\u001b[0m\u001b[0;34m\u001b[0m\u001b[0;34m\u001b[0m\u001b[0m\n\u001b[0m\u001b[1;32m      2\u001b[0m \u001b[0;34m\u001b[0m\u001b[0m\n\u001b[1;32m      3\u001b[0m \u001b[0;31m# p = gpd.read_file('../data/geo2_zw2012.shp')\u001b[0m\u001b[0;34m\u001b[0m\u001b[0;34m\u001b[0m\u001b[0;34m\u001b[0m\u001b[0m\n\u001b[1;32m      4\u001b[0m \u001b[0mshape\u001b[0m \u001b[0;34m=\u001b[0m \u001b[0mp\u001b[0m \u001b[0;34m=\u001b[0m \u001b[0mgpd\u001b[0m\u001b[0;34m.\u001b[0m\u001b[0mread_file\u001b[0m\u001b[0;34m(\u001b[0m\u001b[0;34m'../../data/raw/shapefiles/new_districts/ZWE_adm2.shp'\u001b[0m\u001b[0;34m)\u001b[0m\u001b[0;34m\u001b[0m\u001b[0;34m\u001b[0m\u001b[0m\n",
      "\u001b[0;32m/Applications/anaconda3/envs/aivins_abm/lib/python3.8/site-packages/geopandas/__init__.py\u001b[0m in \u001b[0;36m<module>\u001b[0;34m\u001b[0m\n\u001b[1;32m      5\u001b[0m \u001b[0;32mfrom\u001b[0m \u001b[0mgeopandas\u001b[0m\u001b[0;34m.\u001b[0m\u001b[0marray\u001b[0m \u001b[0;32mimport\u001b[0m \u001b[0mpoints_from_xy\u001b[0m  \u001b[0;31m# noqa\u001b[0m\u001b[0;34m\u001b[0m\u001b[0;34m\u001b[0m\u001b[0m\n\u001b[1;32m      6\u001b[0m \u001b[0;34m\u001b[0m\u001b[0m\n\u001b[0;32m----> 7\u001b[0;31m \u001b[0;32mfrom\u001b[0m \u001b[0mgeopandas\u001b[0m\u001b[0;34m.\u001b[0m\u001b[0mio\u001b[0m\u001b[0;34m.\u001b[0m\u001b[0mfile\u001b[0m \u001b[0;32mimport\u001b[0m \u001b[0m_read_file\u001b[0m \u001b[0;32mas\u001b[0m \u001b[0mread_file\u001b[0m  \u001b[0;31m# noqa\u001b[0m\u001b[0;34m\u001b[0m\u001b[0;34m\u001b[0m\u001b[0m\n\u001b[0m\u001b[1;32m      8\u001b[0m \u001b[0;32mfrom\u001b[0m \u001b[0mgeopandas\u001b[0m\u001b[0;34m.\u001b[0m\u001b[0mio\u001b[0m\u001b[0;34m.\u001b[0m\u001b[0marrow\u001b[0m \u001b[0;32mimport\u001b[0m \u001b[0m_read_parquet\u001b[0m \u001b[0;32mas\u001b[0m \u001b[0mread_parquet\u001b[0m  \u001b[0;31m# noqa\u001b[0m\u001b[0;34m\u001b[0m\u001b[0;34m\u001b[0m\u001b[0m\n\u001b[1;32m      9\u001b[0m \u001b[0;32mfrom\u001b[0m \u001b[0mgeopandas\u001b[0m\u001b[0;34m.\u001b[0m\u001b[0mio\u001b[0m\u001b[0;34m.\u001b[0m\u001b[0marrow\u001b[0m \u001b[0;32mimport\u001b[0m \u001b[0m_read_feather\u001b[0m \u001b[0;32mas\u001b[0m \u001b[0mread_feather\u001b[0m  \u001b[0;31m# noqa\u001b[0m\u001b[0;34m\u001b[0m\u001b[0;34m\u001b[0m\u001b[0m\n",
      "\u001b[0;32m/Applications/anaconda3/envs/aivins_abm/lib/python3.8/site-packages/geopandas/io/file.py\u001b[0m in \u001b[0;36m<module>\u001b[0;34m\u001b[0m\n\u001b[1;32m      5\u001b[0m \u001b[0;32mimport\u001b[0m \u001b[0mpandas\u001b[0m \u001b[0;32mas\u001b[0m \u001b[0mpd\u001b[0m\u001b[0;34m\u001b[0m\u001b[0;34m\u001b[0m\u001b[0m\n\u001b[1;32m      6\u001b[0m \u001b[0;34m\u001b[0m\u001b[0m\n\u001b[0;32m----> 7\u001b[0;31m \u001b[0;32mimport\u001b[0m \u001b[0mfiona\u001b[0m\u001b[0;34m\u001b[0m\u001b[0;34m\u001b[0m\u001b[0m\n\u001b[0m\u001b[1;32m      8\u001b[0m \u001b[0;32mimport\u001b[0m \u001b[0mpyproj\u001b[0m\u001b[0;34m\u001b[0m\u001b[0;34m\u001b[0m\u001b[0m\n\u001b[1;32m      9\u001b[0m \u001b[0;32mfrom\u001b[0m \u001b[0mshapely\u001b[0m\u001b[0;34m.\u001b[0m\u001b[0mgeometry\u001b[0m \u001b[0;32mimport\u001b[0m \u001b[0mmapping\u001b[0m\u001b[0;34m\u001b[0m\u001b[0;34m\u001b[0m\u001b[0m\n",
      "\u001b[0;32m/Applications/anaconda3/envs/aivins_abm/lib/python3.8/site-packages/fiona/__init__.py\u001b[0m in \u001b[0;36m<module>\u001b[0;34m\u001b[0m\n\u001b[1;32m     84\u001b[0m \u001b[0;32mimport\u001b[0m \u001b[0mfiona\u001b[0m\u001b[0;34m.\u001b[0m\u001b[0m_loading\u001b[0m\u001b[0;34m\u001b[0m\u001b[0;34m\u001b[0m\u001b[0m\n\u001b[1;32m     85\u001b[0m \u001b[0;32mwith\u001b[0m \u001b[0mfiona\u001b[0m\u001b[0;34m.\u001b[0m\u001b[0m_loading\u001b[0m\u001b[0;34m.\u001b[0m\u001b[0madd_gdal_dll_directories\u001b[0m\u001b[0;34m(\u001b[0m\u001b[0;34m)\u001b[0m\u001b[0;34m:\u001b[0m\u001b[0;34m\u001b[0m\u001b[0;34m\u001b[0m\u001b[0m\n\u001b[0;32m---> 86\u001b[0;31m     \u001b[0;32mfrom\u001b[0m \u001b[0mfiona\u001b[0m\u001b[0;34m.\u001b[0m\u001b[0mcollection\u001b[0m \u001b[0;32mimport\u001b[0m \u001b[0mBytesCollection\u001b[0m\u001b[0;34m,\u001b[0m \u001b[0mCollection\u001b[0m\u001b[0;34m\u001b[0m\u001b[0;34m\u001b[0m\u001b[0m\n\u001b[0m\u001b[1;32m     87\u001b[0m     \u001b[0;32mfrom\u001b[0m \u001b[0mfiona\u001b[0m\u001b[0;34m.\u001b[0m\u001b[0mdrvsupport\u001b[0m \u001b[0;32mimport\u001b[0m \u001b[0msupported_drivers\u001b[0m\u001b[0;34m\u001b[0m\u001b[0;34m\u001b[0m\u001b[0m\n\u001b[1;32m     88\u001b[0m     \u001b[0;32mfrom\u001b[0m \u001b[0mfiona\u001b[0m\u001b[0;34m.\u001b[0m\u001b[0menv\u001b[0m \u001b[0;32mimport\u001b[0m \u001b[0mensure_env_with_credentials\u001b[0m\u001b[0;34m,\u001b[0m \u001b[0mEnv\u001b[0m\u001b[0;34m\u001b[0m\u001b[0;34m\u001b[0m\u001b[0m\n",
      "\u001b[0;32m/Applications/anaconda3/envs/aivins_abm/lib/python3.8/site-packages/fiona/collection.py\u001b[0m in \u001b[0;36m<module>\u001b[0;34m\u001b[0m\n\u001b[1;32m      9\u001b[0m \u001b[0;32mwith\u001b[0m \u001b[0mfiona\u001b[0m\u001b[0;34m.\u001b[0m\u001b[0m_loading\u001b[0m\u001b[0;34m.\u001b[0m\u001b[0madd_gdal_dll_directories\u001b[0m\u001b[0;34m(\u001b[0m\u001b[0;34m)\u001b[0m\u001b[0;34m:\u001b[0m\u001b[0;34m\u001b[0m\u001b[0;34m\u001b[0m\u001b[0m\n\u001b[1;32m     10\u001b[0m     \u001b[0;32mfrom\u001b[0m \u001b[0mfiona\u001b[0m \u001b[0;32mimport\u001b[0m \u001b[0mcompat\u001b[0m\u001b[0;34m,\u001b[0m \u001b[0mvfs\u001b[0m\u001b[0;34m\u001b[0m\u001b[0;34m\u001b[0m\u001b[0m\n\u001b[0;32m---> 11\u001b[0;31m     \u001b[0;32mfrom\u001b[0m \u001b[0mfiona\u001b[0m\u001b[0;34m.\u001b[0m\u001b[0mogrext\u001b[0m \u001b[0;32mimport\u001b[0m \u001b[0mIterator\u001b[0m\u001b[0;34m,\u001b[0m \u001b[0mItemsIterator\u001b[0m\u001b[0;34m,\u001b[0m \u001b[0mKeysIterator\u001b[0m\u001b[0;34m\u001b[0m\u001b[0;34m\u001b[0m\u001b[0m\n\u001b[0m\u001b[1;32m     12\u001b[0m     \u001b[0;32mfrom\u001b[0m \u001b[0mfiona\u001b[0m\u001b[0;34m.\u001b[0m\u001b[0mogrext\u001b[0m \u001b[0;32mimport\u001b[0m \u001b[0mSession\u001b[0m\u001b[0;34m,\u001b[0m \u001b[0mWritingSession\u001b[0m\u001b[0;34m\u001b[0m\u001b[0;34m\u001b[0m\u001b[0m\n\u001b[1;32m     13\u001b[0m     \u001b[0;32mfrom\u001b[0m \u001b[0mfiona\u001b[0m\u001b[0;34m.\u001b[0m\u001b[0mogrext\u001b[0m \u001b[0;32mimport\u001b[0m \u001b[0mbuffer_to_virtual_file\u001b[0m\u001b[0;34m,\u001b[0m \u001b[0mremove_virtual_file\u001b[0m\u001b[0;34m,\u001b[0m \u001b[0mGEOMETRY_TYPES\u001b[0m\u001b[0;34m\u001b[0m\u001b[0;34m\u001b[0m\u001b[0m\n",
      "\u001b[0;31mImportError\u001b[0m: dlopen(/Applications/anaconda3/envs/aivins_abm/lib/python3.8/site-packages/fiona/ogrext.cpython-38-darwin.so, 2): Library not loaded: @rpath/libjpeg.9.dylib\n  Referenced from: /Applications/anaconda3/envs/aivins_abm/lib/libgdal.27.dylib\n  Reason: Incompatible library version: libgdal.27.dylib requires version 14.0.0 or later, but libjpeg.9.dylib provides version 12.0.0"
     ]
    },
    {
     "name": "stdout",
     "output_type": "stream",
     "text": [
      "time: 120 ms\n"
     ]
    }
   ],
   "source": [
    "import geopandas as gpd\n",
    "\n",
    "# p = gpd.read_file('../data/geo2_zw2012.shp')\n",
    "shape = p = gpd.read_file('../../data/raw/shapefiles/new_districts/ZWE_adm2.shp')"
   ]
  },
  {
   "cell_type": "code",
   "execution_count": null,
   "metadata": {},
   "outputs": [],
   "source": [
    "shape['total_population'] = shape['ID_2'].map(old_new_dist.groupby('NEW_DIST_ID_2')['total_pop'].sum())"
   ]
  },
  {
   "cell_type": "markdown",
   "metadata": {},
   "source": [
    "# Trajectory by district"
   ]
  },
  {
   "cell_type": "code",
   "execution_count": null,
   "metadata": {},
   "outputs": [],
   "source": [
    "from scenario_models import *"
   ]
  },
  {
   "cell_type": "code",
   "execution_count": null,
   "metadata": {},
   "outputs": [],
   "source": [
    "import pickle"
   ]
  },
  {
   "cell_type": "code",
   "execution_count": null,
   "metadata": {},
   "outputs": [],
   "source": [
    "def get_model_statistics(model, ward_id=None, scale=22):\n",
    "    model_data = pd.DataFrame(\n",
    "        {\n",
    "            'date_infected': model.date_infected,\n",
    "            'date_start_hospitalized': model.date_start_hospitalized,\n",
    "            'date_start_critical': model.date_start_critical,\n",
    "            'date_recovered': model.date_recovered,\n",
    "            'date_died': model.date_died,\n",
    "            'ward_id': list(map(lambda x: model.params.WARD_ID_TO_NAME.get(x, x), model.ward_ids)),\n",
    "            'ward_id_code': model.ward_ids,\n",
    "            'infected_at_ward_id': list(map(lambda x: model.params.WARD_ID_TO_NAME.get(x, x), model.infected_at_ward_ids)),\n",
    "            'symptomatic_status': model.infected_symptomatic_status,\n",
    "            'age': model.age,\n",
    "            'economic_status_id': list(map(lambda x: model.params.ECON_STAT_ID_TO_NAME.get(x, x), model.economic_status_ids)),\n",
    "            'economic_status_id_code': model.economic_status_ids,\n",
    "        }\n",
    "    )\n",
    "\n",
    "    model_data['ID_2'] = model_data['ward_id'].str.strip('w_').astype(int)  # .map(old_new_dist_map)\n",
    "\n",
    "    if ward_id is not None:\n",
    "        model_data = model_data[model_data['ward_id'] == ward_id]\n",
    "\n",
    "    return model_data\n",
    "\n",
    "\n",
    "def get_active_cases(model_data, ref_col, start_col, end_cols, date_start='2020-04-20', date_end='2020-12-30', scale=22):\n",
    "    hosps = model_data[model_data[start_col] < datetime.max].copy()\n",
    "    hosps['day_start'] = hosps[start_col].dt.date\n",
    "\n",
    "    ends = []\n",
    "    for col in end_cols:\n",
    "        ends.append(hosps[col][hosps[col] < datetime.max].dt.date)\n",
    "\n",
    "    hosps['day_end'] = pd.concat(ends)\n",
    "\n",
    "    ind = pd.period_range(start=date_start, end=date_end, freq='D')\n",
    "    ind = ind.to_timestamp()\n",
    "\n",
    "    col_name = start_col.split('_')[-1]\n",
    "    col_name = f'active_{col_name}'\n",
    "\n",
    "    active_hospitalizations = pd.DataFrame(columns=[col_name], index=ind).fillna(0)\n",
    "\n",
    "    active_hosp_range_count = hosps.groupby(['day_start', 'day_end'])[ref_col].count()\n",
    "\n",
    "    for start, end in active_hosp_range_count.index:\n",
    "        active_hospitalizations.loc[start:end, col_name] += scale * active_hosp_range_count[(start, end)]\n",
    "\n",
    "    return active_hospitalizations\n",
    "\n",
    "\n",
    "def epidemic_statistics(model_data, case_col='date_infected', date_start='2020-04-20', date_end='2020-11-20', scale=22):\n",
    "\n",
    "#     hospitalized = model_data[model_data['date_start_hospitalized'] < datetime.max]\n",
    "#     q = hospitalized['date_start_hospitalized'].dt.date.value_counts().sort_index()\n",
    "\n",
    "    hospitalized = model_data[model_data[case_col] < datetime.max].copy()\n",
    "    q = hospitalized[case_col].dt.date.value_counts().sort_index()\n",
    "\n",
    "    q = scale * q\n",
    "\n",
    "    ind = pd.period_range(start=date_start, end=date_end, freq='D')\n",
    "    ind = ind.to_timestamp()\n",
    "\n",
    "    return q[ind].fillna(0).cumsum()"
   ]
  },
  {
   "cell_type": "code",
   "execution_count": null,
   "metadata": {},
   "outputs": [],
   "source": [
    "scale = 11\n",
    "\n",
    "scenario_files = {\n",
    "#     'UnmitigatedScenario': 'Unmitigated w/o hand\\nwashing considerations',\n",
    "    'HandWashingRiskScenario': 'Unmitigated w/ hand\\nwashing considerations',\n",
    "#     'HandWashingRiskImproved1Scenario': 'Unmitigated w/ improved\\nhand washing',\n",
    "#     'HandWashingRiskImproved2Scenario': 'Unmitigated w/ extreme hand\\nwashing',\n",
    "#     'BlockGreatestMobilityScenario': 'Selective Blocking',\n",
    "#     'LockdownGreatestMobilityScenario': 'Selective lockdown',\n",
    "#     'OpenSchoolsScenario': 'Continued lockdown - open schools',\n",
    "#     'OpenManufacturingScenario': 'Continued lockdown - open manufacturing',\n",
    "#     'OpenMiningScenario': 'Continued lockdown - open mining',\n",
    "#     'ContinuedLockdownScenario': 'Continued lockdown',\n",
    "#     'OpenManufacturingAndSchoolsScenario': 'Continued lockdown - open\\nmanufacturing/schools',\n",
    "#     'InteractionSensitivityScenario': 'Unmitigated - homogeneous interaction',\n",
    "}\n",
    "\n",
    "\n",
    "for scenario in scenario_files:\n",
    "    scenario_code = '_'.join(scenario.split('.')[0].split('_')[2:])\n",
    "    scenario_code = scenario_files.get(scenario)\n",
    "    scenario_df = []\n",
    "\n",
    "    for sim_id, dump_file in enumerate(glob.glob(f'./logs/model_dump_file_{scenario}*R1.9*.pickle')):\n",
    "        print(f'Loading {dump_file}...')\n",
    "\n",
    "        try:\n",
    "            with open(dump_file, 'rb') as fl:\n",
    "                model = pickle.load(fl)\n",
    "        except pickle.UnpicklingError:\n",
    "            continue\n",
    "\n",
    "        model_df = get_model_statistics(model, scale=scale)\n",
    "        model_df['sim_id'] = sim_id\n",
    "\n",
    "        scenario_df.append(model_df)\n",
    "\n",
    "    scenario_df = pd.concat(scenario_df)"
   ]
  },
  {
   "cell_type": "code",
   "execution_count": null,
   "metadata": {},
   "outputs": [],
   "source": [
    "len(scenario_df)"
   ]
  },
  {
   "cell_type": "code",
   "execution_count": null,
   "metadata": {},
   "outputs": [],
   "source": [
    "date_start = '2020-04-20'\n",
    "date_end = '2020-12-01'\n",
    "period = 'D'\n",
    "ind_start = pd.period_range(start=date_start, end=date_end, freq=period)\n",
    "ind_start"
   ]
  },
  {
   "cell_type": "code",
   "execution_count": null,
   "metadata": {},
   "outputs": [],
   "source": []
  },
  {
   "cell_type": "code",
   "execution_count": null,
   "metadata": {},
   "outputs": [],
   "source": [
    "pd.Timedelta?"
   ]
  },
  {
   "cell_type": "code",
   "execution_count": null,
   "metadata": {},
   "outputs": [],
   "source": [
    "date_start = '2020-04-20'\n",
    "date_end = '2020-12-01'\n",
    "period = 'D'\n",
    "# date_end = scenario_df.date_recovered[scenario_df.date_recovered < datetime.max].max()\n",
    "# date_end = date_end.strftime('%Y-%m-%d')\n",
    "if period == 'D':\n",
    "    ind_start = pd.period_range(start=date_start, end=date_end, freq=period)\n",
    "    ind_end = ind_start + pd.Timedelta(1, unit=period)\n",
    "    ind = list(zip(ind_start, ind_end))\n",
    "else:\n",
    "    ind = pd.period_range(start=date_start, end=date_end, freq=period)\n",
    "\n",
    "case_col = 'date_infected'\n",
    "scenario_data = []\n",
    "\n",
    "for sim_id in scenario_df.sim_id.unique():\n",
    "    print(sim_id)\n",
    "    md = scenario_df[scenario_df.sim_id == sim_id].copy()\n",
    "\n",
    "    for dist_id in md.ID_2.unique():\n",
    "        dmd = md[md.ID_2==dist_id].copy()\n",
    "\n",
    "        for e in ind:\n",
    "            if period == 'D':\n",
    "                st, en = e\n",
    "            elif period == 'W':\n",
    "                st, en = str(e).split('/')\n",
    "\n",
    "            if dmd[dmd[case_col] < datetime.max].empty:\n",
    "                i = 0\n",
    "            else:\n",
    "                i = epidemic_statistics(dmd, case_col=case_col, date_start=st, date_end=en, scale=scale).diff().sum()\n",
    "            scenario_data.append([sim_id, dist_id, st, i])"
   ]
  },
  {
   "cell_type": "code",
   "execution_count": null,
   "metadata": {},
   "outputs": [],
   "source": [
    "tperiod = 'week' if period == 'W' else 'day'\n",
    "scenario_data_df = pd.DataFrame(scenario_data, columns=['sim_id', 'ID_2', tperiod, case_col.split('_')[-1]])\n",
    "unmitigated_scenario_data_df = scenario_data_df.copy()"
   ]
  },
  {
   "cell_type": "code",
   "execution_count": null,
   "metadata": {},
   "outputs": [],
   "source": [
    "old_new_dist.groupby('NEW_DIST_ID_2')['total_pop'].sum().head()"
   ]
  },
  {
   "cell_type": "code",
   "execution_count": null,
   "metadata": {},
   "outputs": [],
   "source": [
    "spatial_scenario_data_df = scenario_data_df.merge(shape[['ID_2', 'NAME_2']], on='ID_2', how='left')"
   ]
  },
  {
   "cell_type": "code",
   "execution_count": null,
   "metadata": {},
   "outputs": [],
   "source": [
    "inbound_5 = ['Harare', 'Zvimba', 'Goromonzi', 'Bulawayo', 'Masvingo']\n",
    "outbound_5 = ['Harare', 'Goromonzi', 'Zvimba', 'Bulawayo', 'Masvingo']\n",
    "\n",
    "top_5_inbound = spatial_scenario_data_df[spatial_scenario_data_df['NAME_2'].isin(inbound_5)].copy()\n",
    "top_5_outbound = spatial_scenario_data_df[spatial_scenario_data_df['NAME_2'].isin(outbound_5)].copy()"
   ]
  },
  {
   "cell_type": "code",
   "execution_count": null,
   "metadata": {},
   "outputs": [],
   "source": [
    "pp = top_5_inbound[tperiod].loc[0]\n",
    "pp"
   ]
  },
  {
   "cell_type": "code",
   "execution_count": null,
   "metadata": {},
   "outputs": [],
   "source": [
    "tstamps = top_5_inbound[tperiod].map(lambda x: x.to_timestamp())\n",
    "top_5_inbound[f'{tperiod}s'] = tstamps\n",
    "top_5_inbound['district'] = top_5_inbound['NAME_2']"
   ]
  },
  {
   "cell_type": "code",
   "execution_count": null,
   "metadata": {},
   "outputs": [],
   "source": [
    "import matplotlib.dates as mdates"
   ]
  },
  {
   "cell_type": "code",
   "execution_count": null,
   "metadata": {},
   "outputs": [],
   "source": [
    "plt.figure(figsize=(8, 5), dpi=500)\n",
    "\n",
    "ax = sns.lineplot(x=f'{tperiod}s', y=\"infected\", hue='district',\n",
    "             data=top_5_inbound, n_boot=10)\n",
    "ax.patch.set_alpha(0)\n",
    "ax.xaxis.set_major_locator(mdates.MonthLocator())\n",
    "ax.xaxis.set_minor_locator(mdates.DayLocator())\n",
    "ax.xaxis.set_major_formatter(mdates.DateFormatter('%b %d'))\n",
    "ax.set_title('Active cases in top 5 districts by movement')"
   ]
  },
  {
   "cell_type": "code",
   "execution_count": null,
   "metadata": {},
   "outputs": [],
   "source": [
    "sns.lineplot(x=\"week\", y=\"infected\", hue='NAME_2',\n",
    "             data=top_5_outbound)"
   ]
  },
  {
   "cell_type": "code",
   "execution_count": null,
   "metadata": {},
   "outputs": [],
   "source": []
  },
  {
   "cell_type": "code",
   "execution_count": null,
   "metadata": {},
   "outputs": [],
   "source": [
    "sns.lineplot(x=\"week\", y=\"infected\", hue='ID_2',\n",
    "             data=scenario_data_df)"
   ]
  },
  {
   "cell_type": "code",
   "execution_count": null,
   "metadata": {},
   "outputs": [],
   "source": [
    "ax = scenario_data_df.groupby(['ID_2', 'week'])['infected'].mean()[1].plot()\n",
    "scenario_data_df.groupby(['ID_2', 'week'])['infected'].mean()[2].plot(ax=ax)\n",
    "scenario_data_df.groupby(['ID_2', 'week'])['infected'].mean()[3].plot(ax=ax)\n",
    "scenario_data_df.groupby(['ID_2', 'week'])['infected'].mean()[4].plot(ax=ax)"
   ]
  },
  {
   "cell_type": "code",
   "execution_count": null,
   "metadata": {},
   "outputs": [],
   "source": [
    "ax = scenario_data_df.groupby(['ID_2', 'week'])['infected'].mean()[1].plot()\n",
    "scenario_data_df.groupby(['ID_2', 'week'])['infected'].mean()[2].plot(ax=ax)\n",
    "scenario_data_df.groupby(['ID_2', 'week'])['infected'].mean()[3].plot(ax=ax)\n",
    "scenario_data_df.groupby(['ID_2', 'week'])['infected'].mean()[4].plot(ax=ax)"
   ]
  },
  {
   "cell_type": "code",
   "execution_count": null,
   "metadata": {},
   "outputs": [],
   "source": [
    "ax = scenario_data_df.groupby(['ID_2', 'week'])['infected'].mean()[1].plot()\n",
    "scenario_data_df.groupby(['ID_2', 'week'])['infected'].mean()[2].plot(ax=ax)\n",
    "scenario_data_df.groupby(['ID_2', 'week'])['infected'].mean()[3].plot(ax=ax)\n",
    "scenario_data_df.groupby(['ID_2', 'week'])['infected'].mean()[4].plot(ax=ax)"
   ]
  }
 ],
 "metadata": {
  "kernelspec": {
   "display_name": "Python 3",
   "language": "python",
   "name": "python3"
  },
  "language_info": {
   "codemirror_mode": {
    "name": "ipython",
    "version": 3
   },
   "file_extension": ".py",
   "mimetype": "text/x-python",
   "name": "python",
   "nbconvert_exporter": "python",
   "pygments_lexer": "ipython3",
   "version": "3.8.3"
  }
 },
 "nbformat": 4,
 "nbformat_minor": 4
}
