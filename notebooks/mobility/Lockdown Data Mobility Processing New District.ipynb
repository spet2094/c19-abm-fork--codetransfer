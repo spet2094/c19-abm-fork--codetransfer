{
 "cells": [
  {
   "cell_type": "code",
<<<<<<< Updated upstream
   "execution_count": 1,
=======
   "execution_count": 21,
>>>>>>> Stashed changes
   "metadata": {},
   "outputs": [],
   "source": [
    "import pandas as pd\n",
    "import numpy as np\n",
<<<<<<< Updated upstream
=======
    "import geopandas as gpd\n",
>>>>>>> Stashed changes
    "from datetime import datetime, timedelta\n",
    "\n",
    "from covid19_abm.dir_manager import get_data_dir"
   ]
  },
  {
   "cell_type": "code",
<<<<<<< Updated upstream
   "execution_count": 2,
=======
   "execution_count": 4,
>>>>>>> Stashed changes
   "metadata": {},
   "outputs": [
    {
     "data": {
      "text/html": [
       "<div>\n",
       "<style scoped>\n",
       "    .dataframe tbody tr th:only-of-type {\n",
       "        vertical-align: middle;\n",
       "    }\n",
       "\n",
       "    .dataframe tbody tr th {\n",
       "        vertical-align: top;\n",
       "    }\n",
       "\n",
       "    .dataframe thead th {\n",
       "        text-align: right;\n",
       "    }\n",
       "</style>\n",
       "<table border=\"1\" class=\"dataframe\">\n",
       "  <thead>\n",
       "    <tr style=\"text-align: right;\">\n",
       "      <th></th>\n",
       "      <th>day</th>\n",
       "      <th>home_region</th>\n",
       "      <th>region</th>\n",
       "      <th>date2</th>\n",
       "      <th>count</th>\n",
       "    </tr>\n",
       "  </thead>\n",
       "  <tbody>\n",
       "  </tbody>\n",
       "</table>\n",
       "</div>"
      ],
      "text/plain": [
       "Empty DataFrame\n",
       "Columns: [day, home_region, region, date2, count]\n",
       "Index: []"
      ]
     },
<<<<<<< Updated upstream
     "execution_count": 2,
=======
     "execution_count": 4,
>>>>>>> Stashed changes
     "metadata": {},
     "output_type": "execute_result"
    }
   ],
   "source": [
    "full_calibrated_home_subscribers_mobility_df = pd.read_csv(\n",
<<<<<<< Updated upstream
    "    get_data_dir('raw', 'mobility','week_home_vs_day_location_febapr.csv'))\n",
=======
    "    '/Users/sophieayling/Documents/GitHub/c19abm_fork/data/mobility_private/week_home_vs_day_location_febapr.csv')\n",
>>>>>>> Stashed changes
    "\n",
    "full_calibrated_home_subscribers_mobility_df = full_calibrated_home_subscribers_mobility_df.dropna(axis=0)\n",
    "full_calibrated_home_subscribers_mobility_df = full_calibrated_home_subscribers_mobility_df[full_calibrated_home_subscribers_mobility_df['home_region'] < 100]\n",
    "\n",
<<<<<<< Updated upstream
    "full_calibrated_home_subscribers_mobility_df['region'] = full_calibrated_home_subscribers_mobility_df['region'].astype(int).astype(str).map(lambda x: f'w_{x}')\n",
    "full_calibrated_home_subscribers_mobility_df['home_region'] = full_calibrated_home_subscribers_mobility_df['home_region'].astype(int).astype(str).map(lambda x: f'w_{x}')\n",
=======
    "full_calibrated_home_subscribers_mobility_df['region'] = full_calibrated_home_subscribers_mobility_df['region'].astype(int).astype(str).map(lambda x: f'd_{x}')\n",
    "full_calibrated_home_subscribers_mobility_df['home_region'] = full_calibrated_home_subscribers_mobility_df['home_region'].astype(int).astype(str).map(lambda x: f'd_{x}')\n",
>>>>>>> Stashed changes
    "full_calibrated_home_subscribers_mobility_df['day'] = pd.to_datetime(full_calibrated_home_subscribers_mobility_df['date2'])\n",
    "\n",
    "region = sorted(full_calibrated_home_subscribers_mobility_df['region'].unique())\n",
    "home_region = sorted(full_calibrated_home_subscribers_mobility_df['home_region'].unique())\n",
    "days = sorted(full_calibrated_home_subscribers_mobility_df['day'].unique())\n",
    "\n",
    "expanded_idx = [(\n",
    "    day,\n",
    "    h_reg,\n",
    "    reg) for day in days for h_reg in home_region for reg in region]\n",
    "\n",
    "full_calibrated_home_subscribers_mobility_df = full_calibrated_home_subscribers_mobility_df.set_index(\n",
    "    ['day', 'home_region', 'region']).reindex(expanded_idx).fillna(0)\n",
    "\n",
    "full_calibrated_home_subscribers_mobility_df = full_calibrated_home_subscribers_mobility_df.reset_index()\n",
    "\n",
    "full_calibrated_home_subscribers_mobility_df[full_calibrated_home_subscribers_mobility_df['home_region'].isnull()]"
   ]
  },
  {
   "cell_type": "markdown",
   "metadata": {},
   "source": [
    "# Transition rate"
   ]
  },
  {
   "cell_type": "markdown",
   "metadata": {},
   "source": [
    "### Pre-lockdown"
   ]
  },
  {
   "cell_type": "code",
<<<<<<< Updated upstream
   "execution_count": 3,
=======
   "execution_count": 5,
>>>>>>> Stashed changes
   "metadata": {},
   "outputs": [],
   "source": [
    "end_normal_date = datetime(2020, 3, 20)"
   ]
  },
  {
   "cell_type": "code",
<<<<<<< Updated upstream
   "execution_count": 4,
=======
   "execution_count": 9,
>>>>>>> Stashed changes
   "metadata": {},
   "outputs": [
    {
     "data": {
      "text/html": [
       "<div>\n",
       "<style scoped>\n",
       "    .dataframe tbody tr th:only-of-type {\n",
       "        vertical-align: middle;\n",
       "    }\n",
       "\n",
       "    .dataframe tbody tr th {\n",
       "        vertical-align: top;\n",
       "    }\n",
       "\n",
       "    .dataframe thead th {\n",
       "        text-align: right;\n",
       "    }\n",
       "</style>\n",
       "<table border=\"1\" class=\"dataframe\">\n",
       "  <thead>\n",
       "    <tr style=\"text-align: right;\">\n",
       "      <th></th>\n",
       "      <th>region</th>\n",
<<<<<<< Updated upstream
       "      <th>w_1</th>\n",
       "      <th>w_10</th>\n",
       "      <th>w_11</th>\n",
       "      <th>w_12</th>\n",
       "      <th>w_13</th>\n",
       "      <th>w_14</th>\n",
       "      <th>w_15</th>\n",
       "      <th>w_16</th>\n",
       "      <th>w_17</th>\n",
       "      <th>w_18</th>\n",
       "      <th>...</th>\n",
       "      <th>w_55</th>\n",
       "      <th>w_56</th>\n",
       "      <th>w_57</th>\n",
       "      <th>w_58</th>\n",
       "      <th>w_59</th>\n",
       "      <th>w_6</th>\n",
       "      <th>w_60</th>\n",
       "      <th>w_7</th>\n",
       "      <th>w_8</th>\n",
       "      <th>w_9</th>\n",
=======
       "      <th>d_1</th>\n",
       "      <th>d_10</th>\n",
       "      <th>d_11</th>\n",
       "      <th>d_12</th>\n",
       "      <th>d_13</th>\n",
       "      <th>d_14</th>\n",
       "      <th>d_15</th>\n",
       "      <th>d_16</th>\n",
       "      <th>d_17</th>\n",
       "      <th>d_18</th>\n",
       "      <th>...</th>\n",
       "      <th>d_55</th>\n",
       "      <th>d_56</th>\n",
       "      <th>d_57</th>\n",
       "      <th>d_58</th>\n",
       "      <th>d_59</th>\n",
       "      <th>d_6</th>\n",
       "      <th>d_60</th>\n",
       "      <th>d_7</th>\n",
       "      <th>d_8</th>\n",
       "      <th>d_9</th>\n",
>>>>>>> Stashed changes
       "    </tr>\n",
       "    <tr>\n",
       "      <th>weekday</th>\n",
       "      <th>home_region</th>\n",
       "      <th></th>\n",
       "      <th></th>\n",
       "      <th></th>\n",
       "      <th></th>\n",
       "      <th></th>\n",
       "      <th></th>\n",
       "      <th></th>\n",
       "      <th></th>\n",
       "      <th></th>\n",
       "      <th></th>\n",
       "      <th></th>\n",
       "      <th></th>\n",
       "      <th></th>\n",
       "      <th></th>\n",
       "      <th></th>\n",
       "      <th></th>\n",
       "      <th></th>\n",
       "      <th></th>\n",
       "      <th></th>\n",
       "      <th></th>\n",
       "      <th></th>\n",
       "    </tr>\n",
       "  </thead>\n",
       "  <tbody>\n",
       "    <tr>\n",
       "      <th rowspan=\"5\" valign=\"top\">0</th>\n",
<<<<<<< Updated upstream
       "      <th>w_1</th>\n",
=======
       "      <th>d_1</th>\n",
>>>>>>> Stashed changes
       "      <td>0.952601</td>\n",
       "      <td>0.952643</td>\n",
       "      <td>0.952643</td>\n",
       "      <td>0.952643</td>\n",
       "      <td>0.952690</td>\n",
       "      <td>0.952690</td>\n",
       "      <td>0.952690</td>\n",
       "      <td>0.952690</td>\n",
       "      <td>0.952846</td>\n",
       "      <td>0.953035</td>\n",
       "      <td>...</td>\n",
       "      <td>0.995582</td>\n",
       "      <td>0.997295</td>\n",
       "      <td>0.998182</td>\n",
       "      <td>0.998490</td>\n",
       "      <td>0.998797</td>\n",
       "      <td>0.998930</td>\n",
       "      <td>0.999516</td>\n",
       "      <td>0.999945</td>\n",
       "      <td>1.000000</td>\n",
       "      <td>1.0</td>\n",
       "    </tr>\n",
       "    <tr>\n",
<<<<<<< Updated upstream
       "      <th>w_10</th>\n",
=======
       "      <th>d_10</th>\n",
>>>>>>> Stashed changes
       "      <td>0.000111</td>\n",
       "      <td>0.912164</td>\n",
       "      <td>0.912616</td>\n",
       "      <td>0.913231</td>\n",
       "      <td>0.935119</td>\n",
       "      <td>0.942043</td>\n",
       "      <td>0.942656</td>\n",
       "      <td>0.965920</td>\n",
       "      <td>0.965920</td>\n",
       "      <td>0.972148</td>\n",
       "      <td>...</td>\n",
       "      <td>0.998710</td>\n",
       "      <td>0.998997</td>\n",
       "      <td>0.999262</td>\n",
       "      <td>0.999262</td>\n",
       "      <td>0.999262</td>\n",
       "      <td>0.999466</td>\n",
       "      <td>0.999466</td>\n",
       "      <td>1.000000</td>\n",
       "      <td>1.000000</td>\n",
       "      <td>1.0</td>\n",
       "    </tr>\n",
       "    <tr>\n",
<<<<<<< Updated upstream
       "      <th>w_11</th>\n",
=======
       "      <th>d_11</th>\n",
>>>>>>> Stashed changes
       "      <td>0.000000</td>\n",
       "      <td>0.001716</td>\n",
       "      <td>0.900063</td>\n",
       "      <td>0.936411</td>\n",
       "      <td>0.950390</td>\n",
       "      <td>0.983489</td>\n",
       "      <td>0.983489</td>\n",
       "      <td>0.983489</td>\n",
       "      <td>0.983489</td>\n",
       "      <td>0.984168</td>\n",
       "      <td>...</td>\n",
       "      <td>1.000000</td>\n",
       "      <td>1.000000</td>\n",
       "      <td>1.000000</td>\n",
       "      <td>1.000000</td>\n",
       "      <td>1.000000</td>\n",
       "      <td>1.000000</td>\n",
       "      <td>1.000000</td>\n",
       "      <td>1.000000</td>\n",
       "      <td>1.000000</td>\n",
       "      <td>1.0</td>\n",
       "    </tr>\n",
       "    <tr>\n",
<<<<<<< Updated upstream
       "      <th>w_12</th>\n",
=======
       "      <th>d_12</th>\n",
>>>>>>> Stashed changes
       "      <td>0.000000</td>\n",
       "      <td>0.000889</td>\n",
       "      <td>0.014743</td>\n",
       "      <td>0.963280</td>\n",
       "      <td>0.969570</td>\n",
       "      <td>0.970181</td>\n",
       "      <td>0.970181</td>\n",
       "      <td>0.970181</td>\n",
       "      <td>0.970181</td>\n",
       "      <td>0.971053</td>\n",
       "      <td>...</td>\n",
       "      <td>1.000000</td>\n",
       "      <td>1.000000</td>\n",
       "      <td>1.000000</td>\n",
       "      <td>1.000000</td>\n",
       "      <td>1.000000</td>\n",
       "      <td>1.000000</td>\n",
       "      <td>1.000000</td>\n",
       "      <td>1.000000</td>\n",
       "      <td>1.000000</td>\n",
       "      <td>1.0</td>\n",
       "    </tr>\n",
       "    <tr>\n",
<<<<<<< Updated upstream
       "      <th>w_13</th>\n",
=======
       "      <th>d_13</th>\n",
>>>>>>> Stashed changes
       "      <td>0.000185</td>\n",
       "      <td>0.016048</td>\n",
       "      <td>0.018727</td>\n",
       "      <td>0.021197</td>\n",
       "      <td>0.931744</td>\n",
       "      <td>0.933867</td>\n",
       "      <td>0.933925</td>\n",
       "      <td>0.935037</td>\n",
       "      <td>0.935099</td>\n",
       "      <td>0.944762</td>\n",
       "      <td>...</td>\n",
       "      <td>0.998916</td>\n",
       "      <td>0.999060</td>\n",
       "      <td>0.999332</td>\n",
       "      <td>0.999332</td>\n",
       "      <td>0.999332</td>\n",
       "      <td>0.999599</td>\n",
       "      <td>0.999599</td>\n",
       "      <td>1.000000</td>\n",
       "      <td>1.000000</td>\n",
       "      <td>1.0</td>\n",
       "    </tr>\n",
       "    <tr>\n",
       "      <th>...</th>\n",
       "      <th>...</th>\n",
       "      <td>...</td>\n",
       "      <td>...</td>\n",
       "      <td>...</td>\n",
       "      <td>...</td>\n",
       "      <td>...</td>\n",
       "      <td>...</td>\n",
       "      <td>...</td>\n",
       "      <td>...</td>\n",
       "      <td>...</td>\n",
       "      <td>...</td>\n",
       "      <td>...</td>\n",
       "      <td>...</td>\n",
       "      <td>...</td>\n",
       "      <td>...</td>\n",
       "      <td>...</td>\n",
       "      <td>...</td>\n",
       "      <td>...</td>\n",
       "      <td>...</td>\n",
       "      <td>...</td>\n",
       "      <td>...</td>\n",
       "      <td>...</td>\n",
       "    </tr>\n",
       "    <tr>\n",
       "      <th rowspan=\"5\" valign=\"top\">6</th>\n",
<<<<<<< Updated upstream
       "      <th>w_6</th>\n",
=======
       "      <th>d_6</th>\n",
>>>>>>> Stashed changes
       "      <td>0.000424</td>\n",
       "      <td>0.000553</td>\n",
       "      <td>0.000553</td>\n",
       "      <td>0.000553</td>\n",
       "      <td>0.000749</td>\n",
       "      <td>0.000749</td>\n",
       "      <td>0.000749</td>\n",
       "      <td>0.000749</td>\n",
       "      <td>0.001100</td>\n",
       "      <td>0.002620</td>\n",
       "      <td>...</td>\n",
       "      <td>0.044532</td>\n",
       "      <td>0.044945</td>\n",
       "      <td>0.045029</td>\n",
       "      <td>0.045029</td>\n",
       "      <td>0.045029</td>\n",
       "      <td>0.972009</td>\n",
       "      <td>0.972009</td>\n",
       "      <td>0.987383</td>\n",
       "      <td>0.997199</td>\n",
       "      <td>1.0</td>\n",
       "    </tr>\n",
       "    <tr>\n",
<<<<<<< Updated upstream
       "      <th>w_60</th>\n",
=======
       "      <th>d_60</th>\n",
>>>>>>> Stashed changes
       "      <td>0.003827</td>\n",
       "      <td>0.003827</td>\n",
       "      <td>0.003827</td>\n",
       "      <td>0.003827</td>\n",
       "      <td>0.003827</td>\n",
       "      <td>0.003827</td>\n",
       "      <td>0.003827</td>\n",
       "      <td>0.003827</td>\n",
       "      <td>0.004020</td>\n",
       "      <td>0.004163</td>\n",
       "      <td>...</td>\n",
       "      <td>0.040840</td>\n",
       "      <td>0.046243</td>\n",
       "      <td>0.047831</td>\n",
       "      <td>0.076204</td>\n",
       "      <td>0.084937</td>\n",
       "      <td>0.084937</td>\n",
       "      <td>0.999292</td>\n",
       "      <td>1.000000</td>\n",
       "      <td>1.000000</td>\n",
       "      <td>1.0</td>\n",
       "    </tr>\n",
       "    <tr>\n",
<<<<<<< Updated upstream
       "      <th>w_7</th>\n",
=======
       "      <th>d_7</th>\n",
>>>>>>> Stashed changes
       "      <td>0.000604</td>\n",
       "      <td>0.000808</td>\n",
       "      <td>0.000808</td>\n",
       "      <td>0.000808</td>\n",
       "      <td>0.000980</td>\n",
       "      <td>0.000995</td>\n",
       "      <td>0.000995</td>\n",
       "      <td>0.001045</td>\n",
       "      <td>0.001288</td>\n",
       "      <td>0.002296</td>\n",
       "      <td>...</td>\n",
       "      <td>0.034407</td>\n",
       "      <td>0.034994</td>\n",
       "      <td>0.035176</td>\n",
       "      <td>0.035196</td>\n",
       "      <td>0.035245</td>\n",
       "      <td>0.043500</td>\n",
       "      <td>0.043735</td>\n",
       "      <td>0.981834</td>\n",
       "      <td>0.998665</td>\n",
       "      <td>1.0</td>\n",
       "    </tr>\n",
       "    <tr>\n",
<<<<<<< Updated upstream
       "      <th>w_8</th>\n",
=======
       "      <th>d_8</th>\n",
>>>>>>> Stashed changes
       "      <td>0.000195</td>\n",
       "      <td>0.000195</td>\n",
       "      <td>0.000195</td>\n",
       "      <td>0.000195</td>\n",
       "      <td>0.000195</td>\n",
       "      <td>0.000195</td>\n",
       "      <td>0.000195</td>\n",
       "      <td>0.000195</td>\n",
       "      <td>0.000195</td>\n",
       "      <td>0.001165</td>\n",
       "      <td>...</td>\n",
       "      <td>0.012964</td>\n",
       "      <td>0.013082</td>\n",
       "      <td>0.013082</td>\n",
       "      <td>0.013082</td>\n",
       "      <td>0.013082</td>\n",
       "      <td>0.029248</td>\n",
       "      <td>0.029248</td>\n",
       "      <td>0.060809</td>\n",
       "      <td>0.990583</td>\n",
       "      <td>1.0</td>\n",
       "    </tr>\n",
       "    <tr>\n",
<<<<<<< Updated upstream
       "      <th>w_9</th>\n",
=======
       "      <th>d_9</th>\n",
>>>>>>> Stashed changes
       "      <td>0.000471</td>\n",
       "      <td>0.000471</td>\n",
       "      <td>0.000471</td>\n",
       "      <td>0.000471</td>\n",
       "      <td>0.000471</td>\n",
       "      <td>0.000471</td>\n",
       "      <td>0.000471</td>\n",
       "      <td>0.000471</td>\n",
       "      <td>0.000471</td>\n",
       "      <td>0.001928</td>\n",
       "      <td>...</td>\n",
       "      <td>0.019381</td>\n",
       "      <td>0.019548</td>\n",
       "      <td>0.019548</td>\n",
       "      <td>0.019548</td>\n",
       "      <td>0.019548</td>\n",
       "      <td>0.026639</td>\n",
       "      <td>0.026639</td>\n",
       "      <td>0.034537</td>\n",
       "      <td>0.050461</td>\n",
       "      <td>1.0</td>\n",
       "    </tr>\n",
       "  </tbody>\n",
       "</table>\n",
       "<p>420 rows × 60 columns</p>\n",
       "</div>"
      ],
      "text/plain": [
<<<<<<< Updated upstream
       "region                    w_1      w_10      w_11      w_12      w_13  \\\n",
       "weekday home_region                                                     \n",
       "0       w_1          0.952601  0.952643  0.952643  0.952643  0.952690   \n",
       "        w_10         0.000111  0.912164  0.912616  0.913231  0.935119   \n",
       "        w_11         0.000000  0.001716  0.900063  0.936411  0.950390   \n",
       "        w_12         0.000000  0.000889  0.014743  0.963280  0.969570   \n",
       "        w_13         0.000185  0.016048  0.018727  0.021197  0.931744   \n",
       "...                       ...       ...       ...       ...       ...   \n",
       "6       w_6          0.000424  0.000553  0.000553  0.000553  0.000749   \n",
       "        w_60         0.003827  0.003827  0.003827  0.003827  0.003827   \n",
       "        w_7          0.000604  0.000808  0.000808  0.000808  0.000980   \n",
       "        w_8          0.000195  0.000195  0.000195  0.000195  0.000195   \n",
       "        w_9          0.000471  0.000471  0.000471  0.000471  0.000471   \n",
       "\n",
       "region                   w_14      w_15      w_16      w_17      w_18  ...  \\\n",
       "weekday home_region                                                    ...   \n",
       "0       w_1          0.952690  0.952690  0.952690  0.952846  0.953035  ...   \n",
       "        w_10         0.942043  0.942656  0.965920  0.965920  0.972148  ...   \n",
       "        w_11         0.983489  0.983489  0.983489  0.983489  0.984168  ...   \n",
       "        w_12         0.970181  0.970181  0.970181  0.970181  0.971053  ...   \n",
       "        w_13         0.933867  0.933925  0.935037  0.935099  0.944762  ...   \n",
       "...                       ...       ...       ...       ...       ...  ...   \n",
       "6       w_6          0.000749  0.000749  0.000749  0.001100  0.002620  ...   \n",
       "        w_60         0.003827  0.003827  0.003827  0.004020  0.004163  ...   \n",
       "        w_7          0.000995  0.000995  0.001045  0.001288  0.002296  ...   \n",
       "        w_8          0.000195  0.000195  0.000195  0.000195  0.001165  ...   \n",
       "        w_9          0.000471  0.000471  0.000471  0.000471  0.001928  ...   \n",
       "\n",
       "region                   w_55      w_56      w_57      w_58      w_59  \\\n",
       "weekday home_region                                                     \n",
       "0       w_1          0.995582  0.997295  0.998182  0.998490  0.998797   \n",
       "        w_10         0.998710  0.998997  0.999262  0.999262  0.999262   \n",
       "        w_11         1.000000  1.000000  1.000000  1.000000  1.000000   \n",
       "        w_12         1.000000  1.000000  1.000000  1.000000  1.000000   \n",
       "        w_13         0.998916  0.999060  0.999332  0.999332  0.999332   \n",
       "...                       ...       ...       ...       ...       ...   \n",
       "6       w_6          0.044532  0.044945  0.045029  0.045029  0.045029   \n",
       "        w_60         0.040840  0.046243  0.047831  0.076204  0.084937   \n",
       "        w_7          0.034407  0.034994  0.035176  0.035196  0.035245   \n",
       "        w_8          0.012964  0.013082  0.013082  0.013082  0.013082   \n",
       "        w_9          0.019381  0.019548  0.019548  0.019548  0.019548   \n",
       "\n",
       "region                    w_6      w_60       w_7       w_8  w_9  \n",
       "weekday home_region                                               \n",
       "0       w_1          0.998930  0.999516  0.999945  1.000000  1.0  \n",
       "        w_10         0.999466  0.999466  1.000000  1.000000  1.0  \n",
       "        w_11         1.000000  1.000000  1.000000  1.000000  1.0  \n",
       "        w_12         1.000000  1.000000  1.000000  1.000000  1.0  \n",
       "        w_13         0.999599  0.999599  1.000000  1.000000  1.0  \n",
       "...                       ...       ...       ...       ...  ...  \n",
       "6       w_6          0.972009  0.972009  0.987383  0.997199  1.0  \n",
       "        w_60         0.084937  0.999292  1.000000  1.000000  1.0  \n",
       "        w_7          0.043500  0.043735  0.981834  0.998665  1.0  \n",
       "        w_8          0.029248  0.029248  0.060809  0.990583  1.0  \n",
       "        w_9          0.026639  0.026639  0.034537  0.050461  1.0  \n",
=======
       "region                    d_1      d_10      d_11      d_12      d_13  \\\n",
       "weekday home_region                                                     \n",
       "0       d_1          0.952601  0.952643  0.952643  0.952643  0.952690   \n",
       "        d_10         0.000111  0.912164  0.912616  0.913231  0.935119   \n",
       "        d_11         0.000000  0.001716  0.900063  0.936411  0.950390   \n",
       "        d_12         0.000000  0.000889  0.014743  0.963280  0.969570   \n",
       "        d_13         0.000185  0.016048  0.018727  0.021197  0.931744   \n",
       "...                       ...       ...       ...       ...       ...   \n",
       "6       d_6          0.000424  0.000553  0.000553  0.000553  0.000749   \n",
       "        d_60         0.003827  0.003827  0.003827  0.003827  0.003827   \n",
       "        d_7          0.000604  0.000808  0.000808  0.000808  0.000980   \n",
       "        d_8          0.000195  0.000195  0.000195  0.000195  0.000195   \n",
       "        d_9          0.000471  0.000471  0.000471  0.000471  0.000471   \n",
       "\n",
       "region                   d_14      d_15      d_16      d_17      d_18  ...  \\\n",
       "weekday home_region                                                    ...   \n",
       "0       d_1          0.952690  0.952690  0.952690  0.952846  0.953035  ...   \n",
       "        d_10         0.942043  0.942656  0.965920  0.965920  0.972148  ...   \n",
       "        d_11         0.983489  0.983489  0.983489  0.983489  0.984168  ...   \n",
       "        d_12         0.970181  0.970181  0.970181  0.970181  0.971053  ...   \n",
       "        d_13         0.933867  0.933925  0.935037  0.935099  0.944762  ...   \n",
       "...                       ...       ...       ...       ...       ...  ...   \n",
       "6       d_6          0.000749  0.000749  0.000749  0.001100  0.002620  ...   \n",
       "        d_60         0.003827  0.003827  0.003827  0.004020  0.004163  ...   \n",
       "        d_7          0.000995  0.000995  0.001045  0.001288  0.002296  ...   \n",
       "        d_8          0.000195  0.000195  0.000195  0.000195  0.001165  ...   \n",
       "        d_9          0.000471  0.000471  0.000471  0.000471  0.001928  ...   \n",
       "\n",
       "region                   d_55      d_56      d_57      d_58      d_59  \\\n",
       "weekday home_region                                                     \n",
       "0       d_1          0.995582  0.997295  0.998182  0.998490  0.998797   \n",
       "        d_10         0.998710  0.998997  0.999262  0.999262  0.999262   \n",
       "        d_11         1.000000  1.000000  1.000000  1.000000  1.000000   \n",
       "        d_12         1.000000  1.000000  1.000000  1.000000  1.000000   \n",
       "        d_13         0.998916  0.999060  0.999332  0.999332  0.999332   \n",
       "...                       ...       ...       ...       ...       ...   \n",
       "6       d_6          0.044532  0.044945  0.045029  0.045029  0.045029   \n",
       "        d_60         0.040840  0.046243  0.047831  0.076204  0.084937   \n",
       "        d_7          0.034407  0.034994  0.035176  0.035196  0.035245   \n",
       "        d_8          0.012964  0.013082  0.013082  0.013082  0.013082   \n",
       "        d_9          0.019381  0.019548  0.019548  0.019548  0.019548   \n",
       "\n",
       "region                    d_6      d_60       d_7       d_8  d_9  \n",
       "weekday home_region                                               \n",
       "0       d_1          0.998930  0.999516  0.999945  1.000000  1.0  \n",
       "        d_10         0.999466  0.999466  1.000000  1.000000  1.0  \n",
       "        d_11         1.000000  1.000000  1.000000  1.000000  1.0  \n",
       "        d_12         1.000000  1.000000  1.000000  1.000000  1.0  \n",
       "        d_13         0.999599  0.999599  1.000000  1.000000  1.0  \n",
       "...                       ...       ...       ...       ...  ...  \n",
       "6       d_6          0.972009  0.972009  0.987383  0.997199  1.0  \n",
       "        d_60         0.084937  0.999292  1.000000  1.000000  1.0  \n",
       "        d_7          0.043500  0.043735  0.981834  0.998665  1.0  \n",
       "        d_8          0.029248  0.029248  0.060809  0.990583  1.0  \n",
       "        d_9          0.026639  0.026639  0.034537  0.050461  1.0  \n",
>>>>>>> Stashed changes
       "\n",
       "[420 rows x 60 columns]"
      ]
     },
<<<<<<< Updated upstream
     "execution_count": 4,
=======
     "execution_count": 9,
>>>>>>> Stashed changes
     "metadata": {},
     "output_type": "execute_result"
    }
   ],
   "source": [
    "pre_lockdown_calibrated_home_subscribers_mobility_df = full_calibrated_home_subscribers_mobility_df[full_calibrated_home_subscribers_mobility_df['day'] <= end_normal_date].copy()\n",
    "\n",
    "pre_lockdown_calibrated_home_subscribers_mobility_df['date'] = pd.to_datetime(pre_lockdown_calibrated_home_subscribers_mobility_df['day'])\n",
    "pre_lockdown_calibrated_home_subscribers_mobility_df['weekday'] = pre_lockdown_calibrated_home_subscribers_mobility_df.date.dt.weekday\n",
    "\n",
    "pre_lockdown_daily_population_subscribers = pre_lockdown_calibrated_home_subscribers_mobility_df.groupby(['date', 'home_region'])['count'].sum()\n",
    "pre_lockdown_day_src_dst_location_count = pre_lockdown_calibrated_home_subscribers_mobility_df.groupby(['date', 'home_region', 'region'])['count'].sum()\n",
    "\n",
    "pre_lockdown_daily_region_transition_probability = pre_lockdown_day_src_dst_location_count.divide(\n",
    "    pre_lockdown_daily_population_subscribers\n",
    ").groupby(level=['date', 'home_region']).cumsum()\n",
    "\n",
    "pre_lockdown_daily_region_transition_probability = pre_lockdown_daily_region_transition_probability.reset_index()\n",
    "pre_lockdown_daily_region_transition_probability['weekday'] = pre_lockdown_daily_region_transition_probability['date'].dt.weekday\n",
    "pre_lockdown_daily_region_transition_probability.rename(columns={'count': 'prob'}, inplace=True)\n",
    "\n",
    "pre_lockdown_daily_region_transition_probability = pre_lockdown_daily_region_transition_probability.groupby(['weekday', 'home_region', 'region'], sort=True)['prob'].mean()\n",
    "pre_lockdown_daily_region_transition_probability = pre_lockdown_daily_region_transition_probability.unstack('region')\n",
    "\n",
<<<<<<< Updated upstream
    "pre_lockdown_daily_region_transition_probability.to_csv(\n",
    "    get_data_dir('preprocessed', 'mobility', 'daily_region_transition_probability-new-district-pre-lockdown.csv'))\n",
=======
    "pre_lockdown_daily_region_transition_probability.to_csv('/Users/sophieayling/Documents/GitHub/c19abm_fork/data/mobility_private/daily_region_transition_probability-new-district_dummy.csv')\n",
>>>>>>> Stashed changes
    "pre_lockdown_daily_region_transition_probability"
   ]
  },
  {
   "cell_type": "markdown",
   "metadata": {},
   "source": [
    "### Post-lockdown"
   ]
  },
  {
   "cell_type": "code",
<<<<<<< Updated upstream
   "execution_count": 5,
=======
   "execution_count": 10,
>>>>>>> Stashed changes
   "metadata": {},
   "outputs": [],
   "source": [
    "start_lockdown_date = datetime(2020, 4, 1)\n",
    "end_lockdown_date = datetime(2020, 5, 1)"
   ]
  },
  {
   "cell_type": "code",
<<<<<<< Updated upstream
   "execution_count": 6,
=======
   "execution_count": 11,
>>>>>>> Stashed changes
   "metadata": {},
   "outputs": [
    {
     "data": {
      "text/html": [
       "<div>\n",
       "<style scoped>\n",
       "    .dataframe tbody tr th:only-of-type {\n",
       "        vertical-align: middle;\n",
       "    }\n",
       "\n",
       "    .dataframe tbody tr th {\n",
       "        vertical-align: top;\n",
       "    }\n",
       "\n",
       "    .dataframe thead th {\n",
       "        text-align: right;\n",
       "    }\n",
       "</style>\n",
       "<table border=\"1\" class=\"dataframe\">\n",
       "  <thead>\n",
       "    <tr style=\"text-align: right;\">\n",
       "      <th></th>\n",
       "      <th>region</th>\n",
<<<<<<< Updated upstream
       "      <th>w_1</th>\n",
       "      <th>w_10</th>\n",
       "      <th>w_11</th>\n",
       "      <th>w_12</th>\n",
       "      <th>w_13</th>\n",
       "      <th>w_14</th>\n",
       "      <th>w_15</th>\n",
       "      <th>w_16</th>\n",
       "      <th>w_17</th>\n",
       "      <th>w_18</th>\n",
       "      <th>...</th>\n",
       "      <th>w_55</th>\n",
       "      <th>w_56</th>\n",
       "      <th>w_57</th>\n",
       "      <th>w_58</th>\n",
       "      <th>w_59</th>\n",
       "      <th>w_6</th>\n",
       "      <th>w_60</th>\n",
       "      <th>w_7</th>\n",
       "      <th>w_8</th>\n",
       "      <th>w_9</th>\n",
=======
       "      <th>d_1</th>\n",
       "      <th>d_10</th>\n",
       "      <th>d_11</th>\n",
       "      <th>d_12</th>\n",
       "      <th>d_13</th>\n",
       "      <th>d_14</th>\n",
       "      <th>d_15</th>\n",
       "      <th>d_16</th>\n",
       "      <th>d_17</th>\n",
       "      <th>d_18</th>\n",
       "      <th>...</th>\n",
       "      <th>d_55</th>\n",
       "      <th>d_56</th>\n",
       "      <th>d_57</th>\n",
       "      <th>d_58</th>\n",
       "      <th>d_59</th>\n",
       "      <th>d_6</th>\n",
       "      <th>d_60</th>\n",
       "      <th>d_7</th>\n",
       "      <th>d_8</th>\n",
       "      <th>d_9</th>\n",
>>>>>>> Stashed changes
       "    </tr>\n",
       "    <tr>\n",
       "      <th>weekday</th>\n",
       "      <th>home_region</th>\n",
       "      <th></th>\n",
       "      <th></th>\n",
       "      <th></th>\n",
       "      <th></th>\n",
       "      <th></th>\n",
       "      <th></th>\n",
       "      <th></th>\n",
       "      <th></th>\n",
       "      <th></th>\n",
       "      <th></th>\n",
       "      <th></th>\n",
       "      <th></th>\n",
       "      <th></th>\n",
       "      <th></th>\n",
       "      <th></th>\n",
       "      <th></th>\n",
       "      <th></th>\n",
       "      <th></th>\n",
       "      <th></th>\n",
       "      <th></th>\n",
       "      <th></th>\n",
       "    </tr>\n",
       "  </thead>\n",
       "  <tbody>\n",
       "    <tr>\n",
       "      <th rowspan=\"5\" valign=\"top\">0</th>\n",
<<<<<<< Updated upstream
       "      <th>w_1</th>\n",
=======
       "      <th>d_1</th>\n",
>>>>>>> Stashed changes
       "      <td>0.978868</td>\n",
       "      <td>0.978868</td>\n",
       "      <td>0.978868</td>\n",
       "      <td>0.978868</td>\n",
       "      <td>0.978868</td>\n",
       "      <td>0.978868</td>\n",
       "      <td>0.978868</td>\n",
       "      <td>0.978868</td>\n",
       "      <td>0.978885</td>\n",
       "      <td>0.978885</td>\n",
       "      <td>...</td>\n",
       "      <td>0.998895</td>\n",
       "      <td>0.999362</td>\n",
       "      <td>0.999583</td>\n",
       "      <td>0.999683</td>\n",
       "      <td>0.999776</td>\n",
       "      <td>0.999776</td>\n",
       "      <td>0.999936</td>\n",
       "      <td>1.000000</td>\n",
       "      <td>1.000000</td>\n",
       "      <td>1.0</td>\n",
       "    </tr>\n",
       "    <tr>\n",
<<<<<<< Updated upstream
       "      <th>w_10</th>\n",
=======
       "      <th>d_10</th>\n",
>>>>>>> Stashed changes
       "      <td>0.000000</td>\n",
       "      <td>0.952490</td>\n",
       "      <td>0.952562</td>\n",
       "      <td>0.952562</td>\n",
       "      <td>0.966524</td>\n",
       "      <td>0.970408</td>\n",
       "      <td>0.970502</td>\n",
       "      <td>0.989808</td>\n",
       "      <td>0.989808</td>\n",
       "      <td>0.994114</td>\n",
       "      <td>...</td>\n",
       "      <td>0.999924</td>\n",
       "      <td>0.999924</td>\n",
       "      <td>0.999924</td>\n",
       "      <td>0.999924</td>\n",
       "      <td>0.999924</td>\n",
       "      <td>0.999924</td>\n",
       "      <td>0.999924</td>\n",
       "      <td>1.000000</td>\n",
       "      <td>1.000000</td>\n",
       "      <td>1.0</td>\n",
       "    </tr>\n",
       "    <tr>\n",
<<<<<<< Updated upstream
       "      <th>w_11</th>\n",
=======
       "      <th>d_11</th>\n",
>>>>>>> Stashed changes
       "      <td>0.000000</td>\n",
       "      <td>0.000718</td>\n",
       "      <td>0.941212</td>\n",
       "      <td>0.968412</td>\n",
       "      <td>0.976766</td>\n",
       "      <td>0.997433</td>\n",
       "      <td>0.997433</td>\n",
       "      <td>0.997433</td>\n",
       "      <td>0.997433</td>\n",
       "      <td>0.997433</td>\n",
       "      <td>...</td>\n",
       "      <td>1.000000</td>\n",
       "      <td>1.000000</td>\n",
       "      <td>1.000000</td>\n",
       "      <td>1.000000</td>\n",
       "      <td>1.000000</td>\n",
       "      <td>1.000000</td>\n",
       "      <td>1.000000</td>\n",
       "      <td>1.000000</td>\n",
       "      <td>1.000000</td>\n",
       "      <td>1.0</td>\n",
       "    </tr>\n",
       "    <tr>\n",
<<<<<<< Updated upstream
       "      <th>w_12</th>\n",
=======
       "      <th>d_12</th>\n",
>>>>>>> Stashed changes
       "      <td>0.000000</td>\n",
       "      <td>0.000094</td>\n",
       "      <td>0.013281</td>\n",
       "      <td>0.985242</td>\n",
       "      <td>0.987898</td>\n",
       "      <td>0.987997</td>\n",
       "      <td>0.987997</td>\n",
       "      <td>0.987997</td>\n",
       "      <td>0.987997</td>\n",
       "      <td>0.988086</td>\n",
       "      <td>...</td>\n",
       "      <td>1.000000</td>\n",
       "      <td>1.000000</td>\n",
       "      <td>1.000000</td>\n",
       "      <td>1.000000</td>\n",
       "      <td>1.000000</td>\n",
       "      <td>1.000000</td>\n",
       "      <td>1.000000</td>\n",
       "      <td>1.000000</td>\n",
       "      <td>1.000000</td>\n",
       "      <td>1.0</td>\n",
       "    </tr>\n",
       "    <tr>\n",
<<<<<<< Updated upstream
       "      <th>w_13</th>\n",
=======
       "      <th>d_13</th>\n",
>>>>>>> Stashed changes
       "      <td>0.000000</td>\n",
       "      <td>0.010781</td>\n",
       "      <td>0.012729</td>\n",
       "      <td>0.014179</td>\n",
       "      <td>0.967064</td>\n",
       "      <td>0.967866</td>\n",
       "      <td>0.967866</td>\n",
       "      <td>0.968350</td>\n",
       "      <td>0.968350</td>\n",
       "      <td>0.975453</td>\n",
       "      <td>...</td>\n",
       "      <td>1.000000</td>\n",
       "      <td>1.000000</td>\n",
       "      <td>1.000000</td>\n",
       "      <td>1.000000</td>\n",
       "      <td>1.000000</td>\n",
       "      <td>1.000000</td>\n",
       "      <td>1.000000</td>\n",
       "      <td>1.000000</td>\n",
       "      <td>1.000000</td>\n",
       "      <td>1.0</td>\n",
       "    </tr>\n",
       "    <tr>\n",
       "      <th>...</th>\n",
       "      <th>...</th>\n",
       "      <td>...</td>\n",
       "      <td>...</td>\n",
       "      <td>...</td>\n",
       "      <td>...</td>\n",
       "      <td>...</td>\n",
       "      <td>...</td>\n",
       "      <td>...</td>\n",
       "      <td>...</td>\n",
       "      <td>...</td>\n",
       "      <td>...</td>\n",
       "      <td>...</td>\n",
       "      <td>...</td>\n",
       "      <td>...</td>\n",
       "      <td>...</td>\n",
       "      <td>...</td>\n",
       "      <td>...</td>\n",
       "      <td>...</td>\n",
       "      <td>...</td>\n",
       "      <td>...</td>\n",
       "      <td>...</td>\n",
       "      <td>...</td>\n",
       "    </tr>\n",
       "    <tr>\n",
       "      <th rowspan=\"5\" valign=\"top\">6</th>\n",
<<<<<<< Updated upstream
       "      <th>w_6</th>\n",
=======
       "      <th>d_6</th>\n",
>>>>>>> Stashed changes
       "      <td>0.000000</td>\n",
       "      <td>0.000000</td>\n",
       "      <td>0.000000</td>\n",
       "      <td>0.000000</td>\n",
       "      <td>0.000000</td>\n",
       "      <td>0.000000</td>\n",
       "      <td>0.000000</td>\n",
       "      <td>0.000000</td>\n",
       "      <td>0.000121</td>\n",
       "      <td>0.000485</td>\n",
       "      <td>...</td>\n",
       "      <td>0.031883</td>\n",
       "      <td>0.031883</td>\n",
       "      <td>0.031883</td>\n",
       "      <td>0.031883</td>\n",
       "      <td>0.031883</td>\n",
       "      <td>0.979339</td>\n",
       "      <td>0.979339</td>\n",
       "      <td>0.990447</td>\n",
       "      <td>0.998294</td>\n",
       "      <td>1.0</td>\n",
       "    </tr>\n",
       "    <tr>\n",
<<<<<<< Updated upstream
       "      <th>w_60</th>\n",
=======
       "      <th>d_60</th>\n",
>>>>>>> Stashed changes
       "      <td>0.000501</td>\n",
       "      <td>0.000501</td>\n",
       "      <td>0.000501</td>\n",
       "      <td>0.000501</td>\n",
       "      <td>0.000501</td>\n",
       "      <td>0.000501</td>\n",
       "      <td>0.000501</td>\n",
       "      <td>0.000501</td>\n",
       "      <td>0.000501</td>\n",
       "      <td>0.000501</td>\n",
       "      <td>...</td>\n",
       "      <td>0.018821</td>\n",
       "      <td>0.019868</td>\n",
       "      <td>0.020080</td>\n",
       "      <td>0.047256</td>\n",
       "      <td>0.054945</td>\n",
       "      <td>0.054945</td>\n",
       "      <td>1.000000</td>\n",
       "      <td>1.000000</td>\n",
       "      <td>1.000000</td>\n",
       "      <td>1.0</td>\n",
       "    </tr>\n",
       "    <tr>\n",
<<<<<<< Updated upstream
       "      <th>w_7</th>\n",
=======
       "      <th>d_7</th>\n",
>>>>>>> Stashed changes
       "      <td>0.000051</td>\n",
       "      <td>0.000051</td>\n",
       "      <td>0.000051</td>\n",
       "      <td>0.000051</td>\n",
       "      <td>0.000051</td>\n",
       "      <td>0.000051</td>\n",
       "      <td>0.000051</td>\n",
       "      <td>0.000051</td>\n",
       "      <td>0.000051</td>\n",
       "      <td>0.000274</td>\n",
       "      <td>...</td>\n",
       "      <td>0.017351</td>\n",
       "      <td>0.017351</td>\n",
       "      <td>0.017351</td>\n",
       "      <td>0.017351</td>\n",
       "      <td>0.017351</td>\n",
       "      <td>0.023025</td>\n",
       "      <td>0.023025</td>\n",
       "      <td>0.987717</td>\n",
       "      <td>0.999570</td>\n",
       "      <td>1.0</td>\n",
       "    </tr>\n",
       "    <tr>\n",
<<<<<<< Updated upstream
       "      <th>w_8</th>\n",
=======
       "      <th>d_8</th>\n",
>>>>>>> Stashed changes
       "      <td>0.000000</td>\n",
       "      <td>0.000000</td>\n",
       "      <td>0.000000</td>\n",
       "      <td>0.000000</td>\n",
       "      <td>0.000000</td>\n",
       "      <td>0.000000</td>\n",
       "      <td>0.000000</td>\n",
       "      <td>0.000000</td>\n",
       "      <td>0.000000</td>\n",
       "      <td>0.000000</td>\n",
       "      <td>...</td>\n",
       "      <td>0.001620</td>\n",
       "      <td>0.001620</td>\n",
       "      <td>0.001620</td>\n",
       "      <td>0.001620</td>\n",
       "      <td>0.001620</td>\n",
       "      <td>0.014740</td>\n",
       "      <td>0.014740</td>\n",
       "      <td>0.029914</td>\n",
       "      <td>0.992222</td>\n",
       "      <td>1.0</td>\n",
       "    </tr>\n",
       "    <tr>\n",
<<<<<<< Updated upstream
       "      <th>w_9</th>\n",
=======
       "      <th>d_9</th>\n",
>>>>>>> Stashed changes
       "      <td>0.000000</td>\n",
       "      <td>0.000000</td>\n",
       "      <td>0.000000</td>\n",
       "      <td>0.000000</td>\n",
       "      <td>0.000000</td>\n",
       "      <td>0.000000</td>\n",
       "      <td>0.000000</td>\n",
       "      <td>0.000000</td>\n",
       "      <td>0.000000</td>\n",
       "      <td>0.000000</td>\n",
       "      <td>...</td>\n",
       "      <td>0.005887</td>\n",
       "      <td>0.005887</td>\n",
       "      <td>0.005887</td>\n",
       "      <td>0.005887</td>\n",
       "      <td>0.005887</td>\n",
       "      <td>0.009966</td>\n",
       "      <td>0.009966</td>\n",
       "      <td>0.011736</td>\n",
       "      <td>0.022515</td>\n",
       "      <td>1.0</td>\n",
       "    </tr>\n",
       "  </tbody>\n",
       "</table>\n",
       "<p>420 rows × 60 columns</p>\n",
       "</div>"
      ],
      "text/plain": [
<<<<<<< Updated upstream
       "region                    w_1      w_10      w_11      w_12      w_13  \\\n",
       "weekday home_region                                                     \n",
       "0       w_1          0.978868  0.978868  0.978868  0.978868  0.978868   \n",
       "        w_10         0.000000  0.952490  0.952562  0.952562  0.966524   \n",
       "        w_11         0.000000  0.000718  0.941212  0.968412  0.976766   \n",
       "        w_12         0.000000  0.000094  0.013281  0.985242  0.987898   \n",
       "        w_13         0.000000  0.010781  0.012729  0.014179  0.967064   \n",
       "...                       ...       ...       ...       ...       ...   \n",
       "6       w_6          0.000000  0.000000  0.000000  0.000000  0.000000   \n",
       "        w_60         0.000501  0.000501  0.000501  0.000501  0.000501   \n",
       "        w_7          0.000051  0.000051  0.000051  0.000051  0.000051   \n",
       "        w_8          0.000000  0.000000  0.000000  0.000000  0.000000   \n",
       "        w_9          0.000000  0.000000  0.000000  0.000000  0.000000   \n",
       "\n",
       "region                   w_14      w_15      w_16      w_17      w_18  ...  \\\n",
       "weekday home_region                                                    ...   \n",
       "0       w_1          0.978868  0.978868  0.978868  0.978885  0.978885  ...   \n",
       "        w_10         0.970408  0.970502  0.989808  0.989808  0.994114  ...   \n",
       "        w_11         0.997433  0.997433  0.997433  0.997433  0.997433  ...   \n",
       "        w_12         0.987997  0.987997  0.987997  0.987997  0.988086  ...   \n",
       "        w_13         0.967866  0.967866  0.968350  0.968350  0.975453  ...   \n",
       "...                       ...       ...       ...       ...       ...  ...   \n",
       "6       w_6          0.000000  0.000000  0.000000  0.000121  0.000485  ...   \n",
       "        w_60         0.000501  0.000501  0.000501  0.000501  0.000501  ...   \n",
       "        w_7          0.000051  0.000051  0.000051  0.000051  0.000274  ...   \n",
       "        w_8          0.000000  0.000000  0.000000  0.000000  0.000000  ...   \n",
       "        w_9          0.000000  0.000000  0.000000  0.000000  0.000000  ...   \n",
       "\n",
       "region                   w_55      w_56      w_57      w_58      w_59  \\\n",
       "weekday home_region                                                     \n",
       "0       w_1          0.998895  0.999362  0.999583  0.999683  0.999776   \n",
       "        w_10         0.999924  0.999924  0.999924  0.999924  0.999924   \n",
       "        w_11         1.000000  1.000000  1.000000  1.000000  1.000000   \n",
       "        w_12         1.000000  1.000000  1.000000  1.000000  1.000000   \n",
       "        w_13         1.000000  1.000000  1.000000  1.000000  1.000000   \n",
       "...                       ...       ...       ...       ...       ...   \n",
       "6       w_6          0.031883  0.031883  0.031883  0.031883  0.031883   \n",
       "        w_60         0.018821  0.019868  0.020080  0.047256  0.054945   \n",
       "        w_7          0.017351  0.017351  0.017351  0.017351  0.017351   \n",
       "        w_8          0.001620  0.001620  0.001620  0.001620  0.001620   \n",
       "        w_9          0.005887  0.005887  0.005887  0.005887  0.005887   \n",
       "\n",
       "region                    w_6      w_60       w_7       w_8  w_9  \n",
       "weekday home_region                                               \n",
       "0       w_1          0.999776  0.999936  1.000000  1.000000  1.0  \n",
       "        w_10         0.999924  0.999924  1.000000  1.000000  1.0  \n",
       "        w_11         1.000000  1.000000  1.000000  1.000000  1.0  \n",
       "        w_12         1.000000  1.000000  1.000000  1.000000  1.0  \n",
       "        w_13         1.000000  1.000000  1.000000  1.000000  1.0  \n",
       "...                       ...       ...       ...       ...  ...  \n",
       "6       w_6          0.979339  0.979339  0.990447  0.998294  1.0  \n",
       "        w_60         0.054945  1.000000  1.000000  1.000000  1.0  \n",
       "        w_7          0.023025  0.023025  0.987717  0.999570  1.0  \n",
       "        w_8          0.014740  0.014740  0.029914  0.992222  1.0  \n",
       "        w_9          0.009966  0.009966  0.011736  0.022515  1.0  \n",
=======
       "region                    d_1      d_10      d_11      d_12      d_13  \\\n",
       "weekday home_region                                                     \n",
       "0       d_1          0.978868  0.978868  0.978868  0.978868  0.978868   \n",
       "        d_10         0.000000  0.952490  0.952562  0.952562  0.966524   \n",
       "        d_11         0.000000  0.000718  0.941212  0.968412  0.976766   \n",
       "        d_12         0.000000  0.000094  0.013281  0.985242  0.987898   \n",
       "        d_13         0.000000  0.010781  0.012729  0.014179  0.967064   \n",
       "...                       ...       ...       ...       ...       ...   \n",
       "6       d_6          0.000000  0.000000  0.000000  0.000000  0.000000   \n",
       "        d_60         0.000501  0.000501  0.000501  0.000501  0.000501   \n",
       "        d_7          0.000051  0.000051  0.000051  0.000051  0.000051   \n",
       "        d_8          0.000000  0.000000  0.000000  0.000000  0.000000   \n",
       "        d_9          0.000000  0.000000  0.000000  0.000000  0.000000   \n",
       "\n",
       "region                   d_14      d_15      d_16      d_17      d_18  ...  \\\n",
       "weekday home_region                                                    ...   \n",
       "0       d_1          0.978868  0.978868  0.978868  0.978885  0.978885  ...   \n",
       "        d_10         0.970408  0.970502  0.989808  0.989808  0.994114  ...   \n",
       "        d_11         0.997433  0.997433  0.997433  0.997433  0.997433  ...   \n",
       "        d_12         0.987997  0.987997  0.987997  0.987997  0.988086  ...   \n",
       "        d_13         0.967866  0.967866  0.968350  0.968350  0.975453  ...   \n",
       "...                       ...       ...       ...       ...       ...  ...   \n",
       "6       d_6          0.000000  0.000000  0.000000  0.000121  0.000485  ...   \n",
       "        d_60         0.000501  0.000501  0.000501  0.000501  0.000501  ...   \n",
       "        d_7          0.000051  0.000051  0.000051  0.000051  0.000274  ...   \n",
       "        d_8          0.000000  0.000000  0.000000  0.000000  0.000000  ...   \n",
       "        d_9          0.000000  0.000000  0.000000  0.000000  0.000000  ...   \n",
       "\n",
       "region                   d_55      d_56      d_57      d_58      d_59  \\\n",
       "weekday home_region                                                     \n",
       "0       d_1          0.998895  0.999362  0.999583  0.999683  0.999776   \n",
       "        d_10         0.999924  0.999924  0.999924  0.999924  0.999924   \n",
       "        d_11         1.000000  1.000000  1.000000  1.000000  1.000000   \n",
       "        d_12         1.000000  1.000000  1.000000  1.000000  1.000000   \n",
       "        d_13         1.000000  1.000000  1.000000  1.000000  1.000000   \n",
       "...                       ...       ...       ...       ...       ...   \n",
       "6       d_6          0.031883  0.031883  0.031883  0.031883  0.031883   \n",
       "        d_60         0.018821  0.019868  0.020080  0.047256  0.054945   \n",
       "        d_7          0.017351  0.017351  0.017351  0.017351  0.017351   \n",
       "        d_8          0.001620  0.001620  0.001620  0.001620  0.001620   \n",
       "        d_9          0.005887  0.005887  0.005887  0.005887  0.005887   \n",
       "\n",
       "region                    d_6      d_60       d_7       d_8  d_9  \n",
       "weekday home_region                                               \n",
       "0       d_1          0.999776  0.999936  1.000000  1.000000  1.0  \n",
       "        d_10         0.999924  0.999924  1.000000  1.000000  1.0  \n",
       "        d_11         1.000000  1.000000  1.000000  1.000000  1.0  \n",
       "        d_12         1.000000  1.000000  1.000000  1.000000  1.0  \n",
       "        d_13         1.000000  1.000000  1.000000  1.000000  1.0  \n",
       "...                       ...       ...       ...       ...  ...  \n",
       "6       d_6          0.979339  0.979339  0.990447  0.998294  1.0  \n",
       "        d_60         0.054945  1.000000  1.000000  1.000000  1.0  \n",
       "        d_7          0.023025  0.023025  0.987717  0.999570  1.0  \n",
       "        d_8          0.014740  0.014740  0.029914  0.992222  1.0  \n",
       "        d_9          0.009966  0.009966  0.011736  0.022515  1.0  \n",
>>>>>>> Stashed changes
       "\n",
       "[420 rows x 60 columns]"
      ]
     },
<<<<<<< Updated upstream
     "execution_count": 6,
=======
     "execution_count": 11,
>>>>>>> Stashed changes
     "metadata": {},
     "output_type": "execute_result"
    }
   ],
   "source": [
    "post_lockdown_calibrated_home_subscribers_mobility_df = full_calibrated_home_subscribers_mobility_df[\n",
    "    (full_calibrated_home_subscribers_mobility_df['day'] >= start_lockdown_date) &\n",
    "    (full_calibrated_home_subscribers_mobility_df['day'] <= end_lockdown_date)\n",
    "].copy()\n",
    "\n",
    "post_lockdown_calibrated_home_subscribers_mobility_df['date'] = pd.to_datetime(post_lockdown_calibrated_home_subscribers_mobility_df['day'])\n",
    "post_lockdown_calibrated_home_subscribers_mobility_df['weekday'] = post_lockdown_calibrated_home_subscribers_mobility_df.date.dt.weekday\n",
    "\n",
    "post_lockdown_daily_population_subscribers = post_lockdown_calibrated_home_subscribers_mobility_df.groupby(['date', 'home_region'])['count'].sum()\n",
    "post_lockdown_day_src_dst_location_count = post_lockdown_calibrated_home_subscribers_mobility_df.groupby(['date', 'home_region', 'region'])['count'].sum()\n",
    "\n",
    "post_lockdown_daily_region_transition_probability = post_lockdown_day_src_dst_location_count.divide(\n",
    "    post_lockdown_daily_population_subscribers\n",
    ").groupby(level=['date', 'home_region']).cumsum()\n",
    "\n",
    "post_lockdown_daily_region_transition_probability = post_lockdown_daily_region_transition_probability.reset_index()\n",
    "post_lockdown_daily_region_transition_probability['weekday'] = post_lockdown_daily_region_transition_probability['date'].dt.weekday\n",
    "post_lockdown_daily_region_transition_probability.rename(columns={'count': 'prob'}, inplace=True)\n",
    "\n",
    "post_lockdown_daily_region_transition_probability = post_lockdown_daily_region_transition_probability.groupby(['weekday', 'home_region', 'region'], sort=True)['prob'].mean()\n",
    "post_lockdown_daily_region_transition_probability = post_lockdown_daily_region_transition_probability.unstack('region')\n",
    "\n",
<<<<<<< Updated upstream
    "post_lockdown_daily_region_transition_probability.to_csv(\n",
    "    get_data_dir('preprocessed', 'mobility', 'daily_region_transition_probability-new-district-post-lockdown.csv'))\n",
=======
    "post_lockdown_daily_region_transition_probability.to_csv('/Users/sophieayling/Documents/GitHub/c19abm_fork/data/preprocessed/mobility/daily_region_transition_probability-new-district-post-lockdown_dummy.csv')\n",
>>>>>>> Stashed changes
    "post_lockdown_daily_region_transition_probability"
   ]
  },
  {
   "cell_type": "markdown",
   "metadata": {},
   "source": [
<<<<<<< Updated upstream
=======
    "# Compute reduction in inter-district mobility"
   ]
  },
  {
   "cell_type": "code",
   "execution_count": 12,
   "metadata": {},
   "outputs": [],
   "source": [
    "d_post = post_lockdown_day_src_dst_location_count.divide(\n",
    "    post_lockdown_daily_population_subscribers\n",
    ")  #.groupby(level=['date', 'home_region']).cumsum().reset_index()\n",
    "\n",
    "dd_post = d_post.reset_index().rename(columns={'count': 'prob'})\n",
    "dd_post = dd_post[dd_post['home_region'] == dd_post['region']]\n",
    "dd_post['weekday'] = dd_post['date'].dt.weekday\n",
    "dd_post = dd_post.groupby(['weekday', 'home_region'])['prob'].mean()"
   ]
  },
  {
   "cell_type": "code",
   "execution_count": 9,
   "metadata": {},
   "outputs": [],
   "source": [
    "d_pre = pre_lockdown_day_src_dst_location_count.divide(\n",
    "    pre_lockdown_daily_population_subscribers\n",
    ")  #.groupby(level=['date', 'home_region']).cumsum().reset_index()\n",
    "\n",
    "dd_pre = d_pre.reset_index().rename(columns={'count': 'prob'})\n",
    "dd_pre = dd_pre[dd_pre['home_region'] == dd_pre['region']]\n",
    "dd_pre['weekday'] = dd_pre['date'].dt.weekday\n",
    "dd_pre = dd_pre.groupby(['weekday', 'home_region'])['prob'].mean()\n"
   ]
  },
  {
   "cell_type": "code",
   "execution_count": 10,
   "metadata": {},
   "outputs": [
    {
     "data": {
      "text/plain": [
       "weekday  home_region\n",
       "0        d_1            1.027573\n",
       "         d_10           1.044337\n",
       "         d_11           1.046916\n",
       "         d_12           1.024696\n",
       "         d_13           1.046497\n",
       "                          ...   \n",
       "6        d_6            1.022088\n",
       "         d_60           1.033575\n",
       "         d_7            1.028347\n",
       "         d_8            1.034990\n",
       "         d_9            1.029431\n",
       "Name: prob, Length: 420, dtype: float64"
      ]
     },
     "execution_count": 10,
     "metadata": {},
     "output_type": "execute_result"
    }
   ],
   "source": [
    "(dd_post / dd_pre)"
   ]
  },
  {
   "cell_type": "markdown",
   "metadata": {},
   "source": [
>>>>>>> Stashed changes
    "# Generate districts to lockdown for different scenarios"
   ]
  },
  {
   "cell_type": "code",
<<<<<<< Updated upstream
   "execution_count": 7,
=======
   "execution_count": 11,
>>>>>>> Stashed changes
   "metadata": {},
   "outputs": [],
   "source": [
    "daily_region_transition_rates = pre_lockdown_day_src_dst_location_count.divide(pre_lockdown_daily_population_subscribers)\n",
    "\n",
    "daily_region_transition_rates = daily_region_transition_rates.reset_index()\n",
    "\n",
    "daily_region_transition_rates['weekday'] = daily_region_transition_rates['date'].dt.weekday\n",
    "daily_region_transition_rates.rename(columns={'count': 'prob'}, inplace=True)\n",
    "\n",
    "daily_region_transition_rates = daily_region_transition_rates.groupby(['weekday', 'home_region', 'region'], sort=True)['prob'].mean()\n",
    "daily_region_transition_rates = daily_region_transition_rates.unstack('region')"
   ]
  },
  {
   "cell_type": "code",
<<<<<<< Updated upstream
   "execution_count": 8,
=======
<<<<<<< Updated upstream:notebooks/mobility/Lockdown Data Mobility Processing New District_dummy.ipynb
   "execution_count": 13,
=======
   "execution_count": 12,
>>>>>>> Stashed changes:notebooks/mobility/Lockdown Data Mobility Processing New District.ipynb
>>>>>>> Stashed changes
   "metadata": {},
   "outputs": [
    {
     "data": {
      "text/html": [
       "<div>\n",
       "<style scoped>\n",
       "    .dataframe tbody tr th:only-of-type {\n",
       "        vertical-align: middle;\n",
       "    }\n",
       "\n",
       "    .dataframe tbody tr th {\n",
       "        vertical-align: top;\n",
       "    }\n",
       "\n",
       "    .dataframe thead th {\n",
       "        text-align: right;\n",
       "    }\n",
       "</style>\n",
       "<table border=\"1\" class=\"dataframe\">\n",
       "  <thead>\n",
       "    <tr style=\"text-align: right;\">\n",
       "      <th>region</th>\n",
<<<<<<< Updated upstream
       "      <th>w_1</th>\n",
       "      <th>w_10</th>\n",
       "      <th>w_11</th>\n",
       "      <th>w_12</th>\n",
       "      <th>w_13</th>\n",
       "      <th>w_14</th>\n",
       "      <th>w_15</th>\n",
       "      <th>w_16</th>\n",
       "      <th>w_17</th>\n",
       "      <th>w_18</th>\n",
       "      <th>...</th>\n",
       "      <th>w_55</th>\n",
       "      <th>w_56</th>\n",
       "      <th>w_57</th>\n",
       "      <th>w_58</th>\n",
       "      <th>w_59</th>\n",
       "      <th>w_6</th>\n",
       "      <th>w_60</th>\n",
       "      <th>w_7</th>\n",
       "      <th>w_8</th>\n",
       "      <th>w_9</th>\n",
=======
       "      <th>d_1</th>\n",
       "      <th>d_10</th>\n",
       "      <th>d_11</th>\n",
       "      <th>d_12</th>\n",
       "      <th>d_13</th>\n",
       "      <th>d_14</th>\n",
       "      <th>d_15</th>\n",
       "      <th>d_16</th>\n",
       "      <th>d_17</th>\n",
       "      <th>d_18</th>\n",
       "      <th>...</th>\n",
       "      <th>d_55</th>\n",
       "      <th>d_56</th>\n",
       "      <th>d_57</th>\n",
       "      <th>d_58</th>\n",
       "      <th>d_59</th>\n",
       "      <th>d_6</th>\n",
       "      <th>d_60</th>\n",
       "      <th>d_7</th>\n",
       "      <th>d_8</th>\n",
       "      <th>d_9</th>\n",
>>>>>>> Stashed changes
       "    </tr>\n",
       "    <tr>\n",
       "      <th>home_region</th>\n",
       "      <th></th>\n",
       "      <th></th>\n",
       "      <th></th>\n",
       "      <th></th>\n",
       "      <th></th>\n",
       "      <th></th>\n",
       "      <th></th>\n",
       "      <th></th>\n",
       "      <th></th>\n",
       "      <th></th>\n",
       "      <th></th>\n",
       "      <th></th>\n",
       "      <th></th>\n",
       "      <th></th>\n",
       "      <th></th>\n",
       "      <th></th>\n",
       "      <th></th>\n",
       "      <th></th>\n",
       "      <th></th>\n",
       "      <th></th>\n",
       "      <th></th>\n",
       "    </tr>\n",
       "  </thead>\n",
       "  <tbody>\n",
       "    <tr>\n",
<<<<<<< Updated upstream
       "      <th>w_1</th>\n",
=======
       "      <th>d_1</th>\n",
>>>>>>> Stashed changes
       "      <td>258002.278912</td>\n",
       "      <td>6.326531</td>\n",
       "      <td>0.000000</td>\n",
       "      <td>0.428571</td>\n",
       "      <td>12.312925</td>\n",
       "      <td>0.000000</td>\n",
       "      <td>0.000000</td>\n",
       "      <td>0.000000</td>\n",
       "      <td>44.401361</td>\n",
       "      <td>45.034014</td>\n",
       "      <td>...</td>\n",
       "      <td>81.452381</td>\n",
       "      <td>495.377551</td>\n",
       "      <td>223.527211</td>\n",
       "      <td>79.316327</td>\n",
       "      <td>72.806122</td>\n",
       "      <td>28.095238</td>\n",
       "      <td>155.894558</td>\n",
       "      <td>97.258503</td>\n",
       "      <td>10.258503</td>\n",
       "      <td>3.938776</td>\n",
       "    </tr>\n",
       "    <tr>\n",
<<<<<<< Updated upstream
       "      <th>w_10</th>\n",
=======
       "      <th>d_10</th>\n",
>>>>>>> Stashed changes
       "      <td>5.704082</td>\n",
       "      <td>52654.982993</td>\n",
       "      <td>17.850340</td>\n",
       "      <td>32.928571</td>\n",
       "      <td>1055.323129</td>\n",
       "      <td>345.163265</td>\n",
       "      <td>28.823129</td>\n",
       "      <td>1437.486395</td>\n",
       "      <td>2.285714</td>\n",
       "      <td>350.795918</td>\n",
       "      <td>...</td>\n",
       "      <td>0.000000</td>\n",
       "      <td>9.037415</td>\n",
       "      <td>13.867347</td>\n",
       "      <td>0.000000</td>\n",
       "      <td>0.000000</td>\n",
       "      <td>8.714286</td>\n",
       "      <td>0.000000</td>\n",
       "      <td>20.044218</td>\n",
       "      <td>0.000000</td>\n",
       "      <td>0.000000</td>\n",
       "    </tr>\n",
       "    <tr>\n",
<<<<<<< Updated upstream
       "      <th>w_11</th>\n",
=======
       "      <th>d_11</th>\n",
>>>>>>> Stashed changes
       "      <td>0.000000</td>\n",
       "      <td>20.387755</td>\n",
       "      <td>14482.799320</td>\n",
       "      <td>557.088435</td>\n",
       "      <td>198.741497</td>\n",
       "      <td>464.153061</td>\n",
       "      <td>0.000000</td>\n",
       "      <td>0.000000</td>\n",
       "      <td>0.000000</td>\n",
       "      <td>6.962585</td>\n",
       "      <td>...</td>\n",
       "      <td>0.000000</td>\n",
       "      <td>0.000000</td>\n",
       "      <td>0.000000</td>\n",
       "      <td>0.000000</td>\n",
       "      <td>0.000000</td>\n",
       "      <td>0.000000</td>\n",
       "      <td>0.000000</td>\n",
       "      <td>0.000000</td>\n",
       "      <td>0.000000</td>\n",
       "      <td>0.000000</td>\n",
       "    </tr>\n",
       "    <tr>\n",
<<<<<<< Updated upstream
       "      <th>w_12</th>\n",
=======
       "      <th>d_12</th>\n",
>>>>>>> Stashed changes
       "      <td>0.000000</td>\n",
       "      <td>32.809524</td>\n",
       "      <td>598.836735</td>\n",
       "      <td>45178.493197</td>\n",
       "      <td>243.530612</td>\n",
       "      <td>16.091837</td>\n",
       "      <td>0.000000</td>\n",
       "      <td>0.000000</td>\n",
       "      <td>0.000000</td>\n",
       "      <td>29.578231</td>\n",
       "      <td>...</td>\n",
       "      <td>0.000000</td>\n",
       "      <td>0.000000</td>\n",
       "      <td>0.000000</td>\n",
       "      <td>0.000000</td>\n",
       "      <td>0.000000</td>\n",
       "      <td>0.000000</td>\n",
       "      <td>0.000000</td>\n",
       "      <td>0.452381</td>\n",
       "      <td>0.000000</td>\n",
       "      <td>0.000000</td>\n",
       "    </tr>\n",
       "    <tr>\n",
<<<<<<< Updated upstream
       "      <th>w_13</th>\n",
=======
       "      <th>d_13</th>\n",
>>>>>>> Stashed changes
       "      <td>5.078231</td>\n",
       "      <td>1245.061224</td>\n",
       "      <td>191.122449</td>\n",
       "      <td>173.180272</td>\n",
       "      <td>73418.496599</td>\n",
       "      <td>141.639456</td>\n",
       "      <td>7.088435</td>\n",
       "      <td>79.139456</td>\n",
       "      <td>8.149660</td>\n",
       "      <td>702.721088</td>\n",
       "      <td>...</td>\n",
       "      <td>0.000000</td>\n",
       "      <td>7.421769</td>\n",
       "      <td>12.500000</td>\n",
       "      <td>0.000000</td>\n",
       "      <td>0.000000</td>\n",
       "      <td>18.683673</td>\n",
       "      <td>0.000000</td>\n",
       "      <td>21.659864</td>\n",
       "      <td>0.000000</td>\n",
       "      <td>0.380952</td>\n",
       "    </tr>\n",
       "    <tr>\n",
<<<<<<< Updated upstream
       "      <th>w_14</th>\n",
=======
       "      <th>d_14</th>\n",
>>>>>>> Stashed changes
       "      <td>0.000000</td>\n",
       "      <td>373.397959</td>\n",
       "      <td>536.421769</td>\n",
       "      <td>12.119048</td>\n",
       "      <td>154.438776</td>\n",
       "      <td>50953.639456</td>\n",
       "      <td>360.544218</td>\n",
       "      <td>507.697279</td>\n",
       "      <td>0.000000</td>\n",
       "      <td>51.227891</td>\n",
       "      <td>...</td>\n",
       "      <td>0.000000</td>\n",
       "      <td>1.530612</td>\n",
       "      <td>0.000000</td>\n",
       "      <td>0.000000</td>\n",
       "      <td>0.000000</td>\n",
       "      <td>0.000000</td>\n",
       "      <td>0.000000</td>\n",
       "      <td>0.326531</td>\n",
       "      <td>0.000000</td>\n",
       "      <td>0.000000</td>\n",
       "    </tr>\n",
       "    <tr>\n",
<<<<<<< Updated upstream
       "      <th>w_15</th>\n",
=======
       "      <th>d_15</th>\n",
>>>>>>> Stashed changes
       "      <td>0.000000</td>\n",
       "      <td>38.819728</td>\n",
       "      <td>0.000000</td>\n",
       "      <td>0.000000</td>\n",
       "      <td>9.244898</td>\n",
       "      <td>370.877551</td>\n",
       "      <td>9357.326531</td>\n",
       "      <td>10.670068</td>\n",
       "      <td>0.000000</td>\n",
       "      <td>3.125850</td>\n",
       "      <td>...</td>\n",
       "      <td>0.000000</td>\n",
       "      <td>0.000000</td>\n",
       "      <td>0.000000</td>\n",
       "      <td>0.000000</td>\n",
       "      <td>0.000000</td>\n",
       "      <td>0.000000</td>\n",
       "      <td>0.000000</td>\n",
       "      <td>0.000000</td>\n",
       "      <td>0.000000</td>\n",
       "      <td>0.000000</td>\n",
       "    </tr>\n",
       "    <tr>\n",
<<<<<<< Updated upstream
       "      <th>w_16</th>\n",
=======
       "      <th>d_16</th>\n",
>>>>>>> Stashed changes
       "      <td>0.000000</td>\n",
       "      <td>1487.030612</td>\n",
       "      <td>0.476190</td>\n",
       "      <td>0.996599</td>\n",
       "      <td>86.340136</td>\n",
       "      <td>556.700680</td>\n",
       "      <td>7.731293</td>\n",
       "      <td>27546.816327</td>\n",
       "      <td>0.000000</td>\n",
       "      <td>176.612245</td>\n",
       "      <td>...</td>\n",
       "      <td>0.000000</td>\n",
       "      <td>0.000000</td>\n",
       "      <td>0.000000</td>\n",
       "      <td>0.000000</td>\n",
       "      <td>0.000000</td>\n",
       "      <td>0.000000</td>\n",
       "      <td>0.000000</td>\n",
       "      <td>0.500000</td>\n",
       "      <td>0.000000</td>\n",
       "      <td>0.000000</td>\n",
       "    </tr>\n",
       "    <tr>\n",
<<<<<<< Updated upstream
       "      <th>w_17</th>\n",
=======
       "      <th>d_17</th>\n",
>>>>>>> Stashed changes
       "      <td>18.517007</td>\n",
       "      <td>0.785714</td>\n",
       "      <td>0.000000</td>\n",
       "      <td>0.000000</td>\n",
       "      <td>2.846939</td>\n",
       "      <td>0.000000</td>\n",
       "      <td>0.000000</td>\n",
       "      <td>0.000000</td>\n",
       "      <td>32508.108844</td>\n",
       "      <td>36.721088</td>\n",
       "      <td>...</td>\n",
       "      <td>0.000000</td>\n",
       "      <td>39.285714</td>\n",
       "      <td>14.034014</td>\n",
       "      <td>0.000000</td>\n",
       "      <td>0.000000</td>\n",
       "      <td>21.156463</td>\n",
       "      <td>0.000000</td>\n",
       "      <td>26.207483</td>\n",
       "      <td>0.000000</td>\n",
       "      <td>0.000000</td>\n",
       "    </tr>\n",
       "    <tr>\n",
<<<<<<< Updated upstream
       "      <th>w_18</th>\n",
=======
       "      <th>d_18</th>\n",
>>>>>>> Stashed changes
       "      <td>39.459184</td>\n",
       "      <td>355.173469</td>\n",
       "      <td>4.214286</td>\n",
       "      <td>28.119048</td>\n",
       "      <td>821.153061</td>\n",
       "      <td>53.197279</td>\n",
       "      <td>1.183673</td>\n",
       "      <td>193.816327</td>\n",
       "      <td>51.982993</td>\n",
       "      <td>103781.571429</td>\n",
       "      <td>...</td>\n",
       "      <td>4.387755</td>\n",
       "      <td>38.122449</td>\n",
       "      <td>32.013605</td>\n",
       "      <td>0.000000</td>\n",
       "      <td>0.346939</td>\n",
       "      <td>109.180272</td>\n",
       "      <td>2.132653</td>\n",
       "      <td>115.173469</td>\n",
       "      <td>32.074830</td>\n",
       "      <td>31.782313</td>\n",
       "    </tr>\n",
       "    <tr>\n",
<<<<<<< Updated upstream
       "      <th>w_19</th>\n",
=======
       "      <th>d_19</th>\n",
>>>>>>> Stashed changes
       "      <td>14.000000</td>\n",
       "      <td>17.176871</td>\n",
       "      <td>0.000000</td>\n",
       "      <td>1.605442</td>\n",
       "      <td>32.153061</td>\n",
       "      <td>3.996599</td>\n",
       "      <td>0.000000</td>\n",
       "      <td>1.183673</td>\n",
       "      <td>74.527211</td>\n",
       "      <td>643.489796</td>\n",
       "      <td>...</td>\n",
       "      <td>0.000000</td>\n",
       "      <td>12.544218</td>\n",
       "      <td>4.989796</td>\n",
       "      <td>0.000000</td>\n",
       "      <td>0.000000</td>\n",
       "      <td>512.925170</td>\n",
       "      <td>0.000000</td>\n",
       "      <td>101.258503</td>\n",
       "      <td>18.901361</td>\n",
       "      <td>13.772109</td>\n",
       "    </tr>\n",
       "    <tr>\n",
<<<<<<< Updated upstream
       "      <th>w_2</th>\n",
=======
       "      <th>d_2</th>\n",
>>>>>>> Stashed changes
       "      <td>947.047619</td>\n",
       "      <td>965.170068</td>\n",
       "      <td>167.799320</td>\n",
       "      <td>382.241497</td>\n",
       "      <td>3175.972789</td>\n",
       "      <td>514.197279</td>\n",
       "      <td>115.037415</td>\n",
       "      <td>416.789116</td>\n",
       "      <td>859.792517</td>\n",
       "      <td>13352.034014</td>\n",
       "      <td>...</td>\n",
       "      <td>173.870748</td>\n",
       "      <td>778.336735</td>\n",
       "      <td>599.210884</td>\n",
       "      <td>63.921769</td>\n",
       "      <td>133.574830</td>\n",
       "      <td>1123.040816</td>\n",
       "      <td>181.061224</td>\n",
       "      <td>1455.197279</td>\n",
       "      <td>422.472789</td>\n",
       "      <td>398.489796</td>\n",
       "    </tr>\n",
       "    <tr>\n",
<<<<<<< Updated upstream
       "      <th>w_20</th>\n",
=======
       "      <th>d_20</th>\n",
>>>>>>> Stashed changes
       "      <td>0.380952</td>\n",
       "      <td>0.000000</td>\n",
       "      <td>0.000000</td>\n",
       "      <td>0.000000</td>\n",
       "      <td>2.517007</td>\n",
       "      <td>0.000000</td>\n",
       "      <td>0.000000</td>\n",
       "      <td>0.000000</td>\n",
       "      <td>0.000000</td>\n",
       "      <td>49.891156</td>\n",
       "      <td>...</td>\n",
       "      <td>0.000000</td>\n",
       "      <td>0.380952</td>\n",
       "      <td>0.000000</td>\n",
       "      <td>0.000000</td>\n",
       "      <td>0.000000</td>\n",
       "      <td>0.428571</td>\n",
       "      <td>0.000000</td>\n",
       "      <td>4.925170</td>\n",
       "      <td>0.000000</td>\n",
       "      <td>22.231293</td>\n",
       "    </tr>\n",
       "    <tr>\n",
<<<<<<< Updated upstream
       "      <th>w_21</th>\n",
=======
       "      <th>d_21</th>\n",
>>>>>>> Stashed changes
       "      <td>0.870748</td>\n",
       "      <td>20.149660</td>\n",
       "      <td>0.000000</td>\n",
       "      <td>0.000000</td>\n",
       "      <td>21.986395</td>\n",
       "      <td>1.285714</td>\n",
       "      <td>0.000000</td>\n",
       "      <td>106.775510</td>\n",
       "      <td>2.404762</td>\n",
       "      <td>1531.840136</td>\n",
       "      <td>...</td>\n",
       "      <td>0.000000</td>\n",
       "      <td>0.523810</td>\n",
       "      <td>0.000000</td>\n",
       "      <td>0.000000</td>\n",
       "      <td>0.000000</td>\n",
       "      <td>788.578231</td>\n",
       "      <td>0.000000</td>\n",
       "      <td>42.210884</td>\n",
       "      <td>0.840136</td>\n",
       "      <td>0.523810</td>\n",
       "    </tr>\n",
       "    <tr>\n",
<<<<<<< Updated upstream
       "      <th>w_22</th>\n",
=======
       "      <th>d_22</th>\n",
>>>>>>> Stashed changes
       "      <td>0.000000</td>\n",
       "      <td>0.880952</td>\n",
       "      <td>0.000000</td>\n",
       "      <td>0.000000</td>\n",
       "      <td>3.034014</td>\n",
       "      <td>0.408163</td>\n",
       "      <td>0.000000</td>\n",
       "      <td>0.000000</td>\n",
       "      <td>0.000000</td>\n",
       "      <td>82.425170</td>\n",
       "      <td>...</td>\n",
       "      <td>0.000000</td>\n",
       "      <td>0.000000</td>\n",
       "      <td>0.000000</td>\n",
       "      <td>0.000000</td>\n",
       "      <td>0.000000</td>\n",
       "      <td>84.908163</td>\n",
       "      <td>0.734694</td>\n",
       "      <td>4.251701</td>\n",
       "      <td>0.000000</td>\n",
       "      <td>136.149660</td>\n",
       "    </tr>\n",
       "    <tr>\n",
<<<<<<< Updated upstream
       "      <th>w_23</th>\n",
=======
       "      <th>d_23</th>\n",
>>>>>>> Stashed changes
       "      <td>2.265306</td>\n",
       "      <td>15.537415</td>\n",
       "      <td>0.000000</td>\n",
       "      <td>4.676871</td>\n",
       "      <td>41.149660</td>\n",
       "      <td>4.044218</td>\n",
       "      <td>0.000000</td>\n",
       "      <td>0.000000</td>\n",
       "      <td>192.554422</td>\n",
       "      <td>432.717687</td>\n",
       "      <td>...</td>\n",
       "      <td>0.000000</td>\n",
       "      <td>4.578231</td>\n",
       "      <td>2.537415</td>\n",
       "      <td>0.000000</td>\n",
       "      <td>0.000000</td>\n",
       "      <td>24.938776</td>\n",
       "      <td>0.326531</td>\n",
       "      <td>28.027211</td>\n",
       "      <td>0.000000</td>\n",
       "      <td>0.000000</td>\n",
       "    </tr>\n",
       "    <tr>\n",
<<<<<<< Updated upstream
       "      <th>w_24</th>\n",
=======
       "      <th>d_24</th>\n",
>>>>>>> Stashed changes
       "      <td>0.000000</td>\n",
       "      <td>34.598639</td>\n",
       "      <td>0.000000</td>\n",
       "      <td>0.000000</td>\n",
       "      <td>11.129252</td>\n",
       "      <td>54.200680</td>\n",
       "      <td>377.707483</td>\n",
       "      <td>293.802721</td>\n",
       "      <td>0.000000</td>\n",
       "      <td>68.136054</td>\n",
       "      <td>...</td>\n",
       "      <td>0.000000</td>\n",
       "      <td>0.000000</td>\n",
       "      <td>0.000000</td>\n",
       "      <td>0.000000</td>\n",
       "      <td>0.000000</td>\n",
       "      <td>0.000000</td>\n",
       "      <td>0.000000</td>\n",
       "      <td>2.000000</td>\n",
       "      <td>0.000000</td>\n",
       "      <td>0.000000</td>\n",
       "    </tr>\n",
       "    <tr>\n",
<<<<<<< Updated upstream
       "      <th>w_25</th>\n",
=======
       "      <th>d_25</th>\n",
>>>>>>> Stashed changes
       "      <td>0.000000</td>\n",
       "      <td>0.000000</td>\n",
       "      <td>0.000000</td>\n",
       "      <td>0.000000</td>\n",
       "      <td>0.404762</td>\n",
       "      <td>0.000000</td>\n",
       "      <td>0.000000</td>\n",
       "      <td>0.000000</td>\n",
       "      <td>507.217687</td>\n",
       "      <td>32.738095</td>\n",
       "      <td>...</td>\n",
       "      <td>0.000000</td>\n",
       "      <td>0.000000</td>\n",
       "      <td>0.000000</td>\n",
       "      <td>0.000000</td>\n",
       "      <td>0.000000</td>\n",
       "      <td>675.306122</td>\n",
       "      <td>0.000000</td>\n",
       "      <td>25.442177</td>\n",
       "      <td>0.000000</td>\n",
       "      <td>0.000000</td>\n",
       "    </tr>\n",
       "    <tr>\n",
<<<<<<< Updated upstream
       "      <th>w_26</th>\n",
=======
       "      <th>d_26</th>\n",
>>>>>>> Stashed changes
       "      <td>53.527211</td>\n",
       "      <td>39.789116</td>\n",
       "      <td>0.809524</td>\n",
       "      <td>16.377551</td>\n",
       "      <td>77.911565</td>\n",
       "      <td>19.329932</td>\n",
       "      <td>0.000000</td>\n",
       "      <td>12.295918</td>\n",
       "      <td>194.812925</td>\n",
       "      <td>144.387755</td>\n",
       "      <td>...</td>\n",
       "      <td>42.125850</td>\n",
       "      <td>93.234694</td>\n",
       "      <td>131.292517</td>\n",
       "      <td>0.326531</td>\n",
       "      <td>21.707483</td>\n",
       "      <td>32.527211</td>\n",
       "      <td>13.411565</td>\n",
       "      <td>46.149660</td>\n",
       "      <td>3.632653</td>\n",
       "      <td>1.714286</td>\n",
       "    </tr>\n",
       "    <tr>\n",
<<<<<<< Updated upstream
       "      <th>w_27</th>\n",
=======
       "      <th>d_27</th>\n",
>>>>>>> Stashed changes
       "      <td>7.098639</td>\n",
       "      <td>4.564626</td>\n",
       "      <td>0.000000</td>\n",
       "      <td>4.772109</td>\n",
       "      <td>17.197279</td>\n",
       "      <td>0.000000</td>\n",
       "      <td>0.000000</td>\n",
       "      <td>0.380952</td>\n",
       "      <td>1.238095</td>\n",
       "      <td>47.170068</td>\n",
       "      <td>...</td>\n",
       "      <td>0.000000</td>\n",
       "      <td>21.166667</td>\n",
       "      <td>20.462585</td>\n",
       "      <td>0.000000</td>\n",
       "      <td>0.000000</td>\n",
       "      <td>8.734694</td>\n",
       "      <td>0.000000</td>\n",
       "      <td>51.612245</td>\n",
       "      <td>0.547619</td>\n",
       "      <td>0.000000</td>\n",
       "    </tr>\n",
       "    <tr>\n",
<<<<<<< Updated upstream
       "      <th>w_28</th>\n",
=======
       "      <th>d_28</th>\n",
>>>>>>> Stashed changes
       "      <td>89.816327</td>\n",
       "      <td>32.438776</td>\n",
       "      <td>0.595238</td>\n",
       "      <td>8.384354</td>\n",
       "      <td>51.772109</td>\n",
       "      <td>6.156463</td>\n",
       "      <td>0.000000</td>\n",
       "      <td>7.976190</td>\n",
       "      <td>869.421769</td>\n",
       "      <td>88.581633</td>\n",
       "      <td>...</td>\n",
       "      <td>737.993197</td>\n",
       "      <td>210.435374</td>\n",
       "      <td>864.275510</td>\n",
       "      <td>7.183673</td>\n",
       "      <td>46.819728</td>\n",
       "      <td>17.384354</td>\n",
       "      <td>33.687075</td>\n",
       "      <td>39.581633</td>\n",
       "      <td>0.785714</td>\n",
       "      <td>0.326531</td>\n",
       "    </tr>\n",
       "    <tr>\n",
<<<<<<< Updated upstream
       "      <th>w_29</th>\n",
=======
       "      <th>d_29</th>\n",
>>>>>>> Stashed changes
       "      <td>0.500000</td>\n",
       "      <td>0.000000</td>\n",
       "      <td>0.000000</td>\n",
       "      <td>0.367347</td>\n",
       "      <td>0.000000</td>\n",
       "      <td>0.000000</td>\n",
       "      <td>0.000000</td>\n",
       "      <td>0.000000</td>\n",
       "      <td>0.000000</td>\n",
       "      <td>6.319728</td>\n",
       "      <td>...</td>\n",
       "      <td>3.129252</td>\n",
       "      <td>0.000000</td>\n",
       "      <td>1.380952</td>\n",
       "      <td>0.000000</td>\n",
       "      <td>0.000000</td>\n",
       "      <td>0.000000</td>\n",
       "      <td>0.000000</td>\n",
       "      <td>0.000000</td>\n",
       "      <td>0.000000</td>\n",
       "      <td>0.000000</td>\n",
       "    </tr>\n",
       "    <tr>\n",
<<<<<<< Updated upstream
       "      <th>w_3</th>\n",
=======
       "      <th>d_3</th>\n",
>>>>>>> Stashed changes
       "      <td>20.431973</td>\n",
       "      <td>0.000000</td>\n",
       "      <td>0.000000</td>\n",
       "      <td>0.000000</td>\n",
       "      <td>0.000000</td>\n",
       "      <td>0.000000</td>\n",
       "      <td>0.000000</td>\n",
       "      <td>0.000000</td>\n",
       "      <td>667.146259</td>\n",
       "      <td>28.357143</td>\n",
       "      <td>...</td>\n",
       "      <td>0.000000</td>\n",
       "      <td>25.642857</td>\n",
       "      <td>7.370748</td>\n",
       "      <td>0.000000</td>\n",
       "      <td>0.000000</td>\n",
       "      <td>307.799320</td>\n",
       "      <td>0.000000</td>\n",
       "      <td>566.537415</td>\n",
       "      <td>20.829932</td>\n",
       "      <td>3.319728</td>\n",
       "    </tr>\n",
       "    <tr>\n",
<<<<<<< Updated upstream
       "      <th>w_30</th>\n",
=======
       "      <th>d_30</th>\n",
>>>>>>> Stashed changes
       "      <td>17.227891</td>\n",
       "      <td>13.935374</td>\n",
       "      <td>0.428571</td>\n",
       "      <td>230.571429</td>\n",
       "      <td>47.629252</td>\n",
       "      <td>0.500000</td>\n",
       "      <td>0.000000</td>\n",
       "      <td>0.761905</td>\n",
       "      <td>3.693878</td>\n",
       "      <td>60.972789</td>\n",
       "      <td>...</td>\n",
       "      <td>3.738095</td>\n",
       "      <td>34.319728</td>\n",
       "      <td>38.255102</td>\n",
       "      <td>0.000000</td>\n",
       "      <td>0.000000</td>\n",
       "      <td>9.921769</td>\n",
       "      <td>0.000000</td>\n",
       "      <td>27.700680</td>\n",
       "      <td>0.000000</td>\n",
       "      <td>0.000000</td>\n",
       "    </tr>\n",
       "    <tr>\n",
<<<<<<< Updated upstream
       "      <th>w_31</th>\n",
=======
       "      <th>d_31</th>\n",
>>>>>>> Stashed changes
       "      <td>50.275510</td>\n",
       "      <td>72.636054</td>\n",
       "      <td>8.857143</td>\n",
       "      <td>348.030612</td>\n",
       "      <td>1277.064626</td>\n",
       "      <td>43.653061</td>\n",
       "      <td>0.428571</td>\n",
       "      <td>30.210884</td>\n",
       "      <td>50.772109</td>\n",
       "      <td>719.476190</td>\n",
       "      <td>...</td>\n",
       "      <td>5.659864</td>\n",
       "      <td>52.829932</td>\n",
       "      <td>48.142857</td>\n",
       "      <td>0.000000</td>\n",
       "      <td>5.363946</td>\n",
       "      <td>67.568027</td>\n",
       "      <td>5.843537</td>\n",
       "      <td>77.564626</td>\n",
       "      <td>15.646259</td>\n",
       "      <td>17.414966</td>\n",
       "    </tr>\n",
       "    <tr>\n",
<<<<<<< Updated upstream
       "      <th>w_32</th>\n",
=======
       "      <th>d_32</th>\n",
>>>>>>> Stashed changes
       "      <td>19.394558</td>\n",
       "      <td>0.000000</td>\n",
       "      <td>0.000000</td>\n",
       "      <td>0.000000</td>\n",
       "      <td>0.000000</td>\n",
       "      <td>0.000000</td>\n",
       "      <td>0.000000</td>\n",
       "      <td>0.000000</td>\n",
       "      <td>4.370748</td>\n",
       "      <td>2.336735</td>\n",
       "      <td>...</td>\n",
       "      <td>0.000000</td>\n",
       "      <td>19.374150</td>\n",
       "      <td>2.431973</td>\n",
       "      <td>0.877551</td>\n",
       "      <td>9.119048</td>\n",
       "      <td>0.809524</td>\n",
       "      <td>12.642857</td>\n",
       "      <td>69.554422</td>\n",
       "      <td>1.020408</td>\n",
       "      <td>0.000000</td>\n",
       "    </tr>\n",
       "    <tr>\n",
<<<<<<< Updated upstream
       "      <th>w_33</th>\n",
=======
       "      <th>d_33</th>\n",
>>>>>>> Stashed changes
       "      <td>38.802721</td>\n",
       "      <td>0.000000</td>\n",
       "      <td>0.387755</td>\n",
       "      <td>0.000000</td>\n",
       "      <td>0.000000</td>\n",
       "      <td>0.000000</td>\n",
       "      <td>0.000000</td>\n",
       "      <td>0.000000</td>\n",
       "      <td>14.952381</td>\n",
       "      <td>9.931973</td>\n",
       "      <td>...</td>\n",
       "      <td>0.000000</td>\n",
       "      <td>31.799320</td>\n",
       "      <td>4.918367</td>\n",
       "      <td>25.554422</td>\n",
       "      <td>7.778912</td>\n",
       "      <td>0.785714</td>\n",
       "      <td>27.901361</td>\n",
       "      <td>63.931973</td>\n",
       "      <td>0.772109</td>\n",
       "      <td>0.000000</td>\n",
       "    </tr>\n",
       "    <tr>\n",
<<<<<<< Updated upstream
       "      <th>w_34</th>\n",
=======
       "      <th>d_34</th>\n",
>>>>>>> Stashed changes
       "      <td>23.278912</td>\n",
       "      <td>0.000000</td>\n",
       "      <td>0.000000</td>\n",
       "      <td>0.000000</td>\n",
       "      <td>0.000000</td>\n",
       "      <td>0.000000</td>\n",
       "      <td>0.000000</td>\n",
       "      <td>0.000000</td>\n",
       "      <td>0.727891</td>\n",
       "      <td>0.000000</td>\n",
       "      <td>...</td>\n",
       "      <td>0.000000</td>\n",
       "      <td>39.020408</td>\n",
       "      <td>9.755102</td>\n",
       "      <td>272.166667</td>\n",
       "      <td>219.925170</td>\n",
       "      <td>0.000000</td>\n",
       "      <td>463.802721</td>\n",
       "      <td>6.479592</td>\n",
       "      <td>0.000000</td>\n",
       "      <td>0.000000</td>\n",
       "    </tr>\n",
       "    <tr>\n",
<<<<<<< Updated upstream
       "      <th>w_35</th>\n",
=======
       "      <th>d_35</th>\n",
>>>>>>> Stashed changes
       "      <td>29.418367</td>\n",
       "      <td>0.404762</td>\n",
       "      <td>0.000000</td>\n",
       "      <td>0.000000</td>\n",
       "      <td>1.445578</td>\n",
       "      <td>0.000000</td>\n",
       "      <td>0.000000</td>\n",
       "      <td>0.000000</td>\n",
       "      <td>266.500000</td>\n",
       "      <td>19.741497</td>\n",
       "      <td>...</td>\n",
       "      <td>0.000000</td>\n",
       "      <td>60.877551</td>\n",
       "      <td>18.261905</td>\n",
       "      <td>0.346939</td>\n",
       "      <td>5.860544</td>\n",
       "      <td>1.976190</td>\n",
       "      <td>13.489796</td>\n",
       "      <td>35.350340</td>\n",
       "      <td>0.326531</td>\n",
       "      <td>0.690476</td>\n",
       "    </tr>\n",
       "    <tr>\n",
<<<<<<< Updated upstream
       "      <th>w_36</th>\n",
=======
       "      <th>d_36</th>\n",
>>>>>>> Stashed changes
       "      <td>134.482993</td>\n",
       "      <td>4.435374</td>\n",
       "      <td>0.632653</td>\n",
       "      <td>0.000000</td>\n",
       "      <td>5.564626</td>\n",
       "      <td>0.000000</td>\n",
       "      <td>0.000000</td>\n",
       "      <td>0.000000</td>\n",
       "      <td>65.465986</td>\n",
       "      <td>35.891156</td>\n",
       "      <td>...</td>\n",
       "      <td>16.489796</td>\n",
       "      <td>158.200680</td>\n",
       "      <td>54.255102</td>\n",
       "      <td>80.091837</td>\n",
       "      <td>317.486395</td>\n",
       "      <td>12.884354</td>\n",
       "      <td>212.843537</td>\n",
       "      <td>121.938776</td>\n",
       "      <td>6.843537</td>\n",
       "      <td>0.000000</td>\n",
       "    </tr>\n",
       "    <tr>\n",
<<<<<<< Updated upstream
       "      <th>w_37</th>\n",
=======
       "      <th>d_37</th>\n",
>>>>>>> Stashed changes
       "      <td>12.391156</td>\n",
       "      <td>0.000000</td>\n",
       "      <td>0.000000</td>\n",
       "      <td>0.000000</td>\n",
       "      <td>0.000000</td>\n",
       "      <td>0.000000</td>\n",
       "      <td>0.000000</td>\n",
       "      <td>0.000000</td>\n",
       "      <td>0.000000</td>\n",
       "      <td>0.000000</td>\n",
       "      <td>...</td>\n",
       "      <td>0.000000</td>\n",
       "      <td>10.578231</td>\n",
       "      <td>0.000000</td>\n",
       "      <td>632.435374</td>\n",
       "      <td>1.693878</td>\n",
       "      <td>0.000000</td>\n",
       "      <td>39.955782</td>\n",
       "      <td>0.326531</td>\n",
       "      <td>0.000000</td>\n",
       "      <td>0.000000</td>\n",
       "    </tr>\n",
       "    <tr>\n",
<<<<<<< Updated upstream
       "      <th>w_38</th>\n",
=======
       "      <th>d_38</th>\n",
>>>>>>> Stashed changes
       "      <td>9.540816</td>\n",
       "      <td>0.000000</td>\n",
       "      <td>0.000000</td>\n",
       "      <td>0.000000</td>\n",
       "      <td>0.000000</td>\n",
       "      <td>0.000000</td>\n",
       "      <td>0.000000</td>\n",
       "      <td>0.000000</td>\n",
       "      <td>0.380952</td>\n",
       "      <td>0.000000</td>\n",
       "      <td>...</td>\n",
       "      <td>0.000000</td>\n",
       "      <td>10.122449</td>\n",
       "      <td>0.326531</td>\n",
       "      <td>0.346939</td>\n",
       "      <td>1.272109</td>\n",
       "      <td>0.000000</td>\n",
       "      <td>1.527211</td>\n",
       "      <td>13.350340</td>\n",
       "      <td>0.000000</td>\n",
       "      <td>0.000000</td>\n",
       "    </tr>\n",
       "    <tr>\n",
<<<<<<< Updated upstream
       "      <th>w_39</th>\n",
=======
       "      <th>d_39</th>\n",
>>>>>>> Stashed changes
       "      <td>166.561224</td>\n",
       "      <td>0.000000</td>\n",
       "      <td>0.000000</td>\n",
       "      <td>0.000000</td>\n",
       "      <td>0.000000</td>\n",
       "      <td>0.000000</td>\n",
       "      <td>0.000000</td>\n",
       "      <td>0.000000</td>\n",
       "      <td>0.000000</td>\n",
       "      <td>0.000000</td>\n",
       "      <td>...</td>\n",
       "      <td>9.683673</td>\n",
       "      <td>0.428571</td>\n",
       "      <td>0.000000</td>\n",
       "      <td>0.000000</td>\n",
       "      <td>0.000000</td>\n",
       "      <td>0.000000</td>\n",
       "      <td>0.000000</td>\n",
       "      <td>0.000000</td>\n",
       "      <td>0.000000</td>\n",
       "      <td>0.000000</td>\n",
       "    </tr>\n",
       "    <tr>\n",
<<<<<<< Updated upstream
       "      <th>w_4</th>\n",
=======
       "      <th>d_4</th>\n",
>>>>>>> Stashed changes
       "      <td>3.996599</td>\n",
       "      <td>0.000000</td>\n",
       "      <td>0.000000</td>\n",
       "      <td>0.000000</td>\n",
       "      <td>0.000000</td>\n",
       "      <td>0.000000</td>\n",
       "      <td>0.000000</td>\n",
       "      <td>0.000000</td>\n",
       "      <td>0.000000</td>\n",
       "      <td>8.074830</td>\n",
       "      <td>...</td>\n",
       "      <td>0.000000</td>\n",
       "      <td>11.938776</td>\n",
       "      <td>0.000000</td>\n",
       "      <td>0.000000</td>\n",
       "      <td>0.000000</td>\n",
       "      <td>21.772109</td>\n",
       "      <td>0.448980</td>\n",
       "      <td>1607.714286</td>\n",
       "      <td>41.914966</td>\n",
       "      <td>3.540816</td>\n",
       "    </tr>\n",
       "    <tr>\n",
<<<<<<< Updated upstream
       "      <th>w_40</th>\n",
=======
       "      <th>d_40</th>\n",
>>>>>>> Stashed changes
       "      <td>617.789116</td>\n",
       "      <td>0.000000</td>\n",
       "      <td>0.000000</td>\n",
       "      <td>0.000000</td>\n",
       "      <td>0.000000</td>\n",
       "      <td>0.000000</td>\n",
       "      <td>0.000000</td>\n",
       "      <td>0.000000</td>\n",
       "      <td>0.000000</td>\n",
       "      <td>0.000000</td>\n",
       "      <td>...</td>\n",
       "      <td>0.809524</td>\n",
       "      <td>5.591837</td>\n",
       "      <td>5.918367</td>\n",
       "      <td>0.000000</td>\n",
       "      <td>0.000000</td>\n",
       "      <td>0.000000</td>\n",
       "      <td>0.000000</td>\n",
       "      <td>0.000000</td>\n",
       "      <td>0.000000</td>\n",
       "      <td>0.000000</td>\n",
       "    </tr>\n",
       "    <tr>\n",
<<<<<<< Updated upstream
       "      <th>w_41</th>\n",
=======
       "      <th>d_41</th>\n",
>>>>>>> Stashed changes
       "      <td>552.704082</td>\n",
       "      <td>0.000000</td>\n",
       "      <td>0.000000</td>\n",
       "      <td>0.000000</td>\n",
       "      <td>0.000000</td>\n",
       "      <td>0.000000</td>\n",
       "      <td>0.000000</td>\n",
       "      <td>0.000000</td>\n",
       "      <td>0.000000</td>\n",
       "      <td>5.693878</td>\n",
       "      <td>...</td>\n",
       "      <td>0.000000</td>\n",
       "      <td>51.241497</td>\n",
       "      <td>22.666667</td>\n",
       "      <td>0.000000</td>\n",
       "      <td>0.000000</td>\n",
       "      <td>0.000000</td>\n",
       "      <td>8.479592</td>\n",
       "      <td>3.588435</td>\n",
       "      <td>0.000000</td>\n",
       "      <td>0.000000</td>\n",
       "    </tr>\n",
       "    <tr>\n",
<<<<<<< Updated upstream
       "      <th>w_42</th>\n",
=======
       "      <th>d_42</th>\n",
>>>>>>> Stashed changes
       "      <td>304.408163</td>\n",
       "      <td>0.000000</td>\n",
       "      <td>0.000000</td>\n",
       "      <td>0.000000</td>\n",
       "      <td>0.000000</td>\n",
       "      <td>0.000000</td>\n",
       "      <td>0.000000</td>\n",
       "      <td>0.000000</td>\n",
       "      <td>0.000000</td>\n",
       "      <td>0.000000</td>\n",
       "      <td>...</td>\n",
       "      <td>0.000000</td>\n",
       "      <td>0.000000</td>\n",
       "      <td>0.000000</td>\n",
       "      <td>0.000000</td>\n",
       "      <td>0.000000</td>\n",
       "      <td>0.000000</td>\n",
       "      <td>0.000000</td>\n",
       "      <td>0.000000</td>\n",
       "      <td>0.000000</td>\n",
       "      <td>0.000000</td>\n",
       "    </tr>\n",
       "    <tr>\n",
<<<<<<< Updated upstream
       "      <th>w_43</th>\n",
=======
       "      <th>d_43</th>\n",
>>>>>>> Stashed changes
       "      <td>208.017007</td>\n",
       "      <td>0.000000</td>\n",
       "      <td>0.000000</td>\n",
       "      <td>0.000000</td>\n",
       "      <td>0.000000</td>\n",
       "      <td>0.000000</td>\n",
       "      <td>0.000000</td>\n",
       "      <td>0.000000</td>\n",
       "      <td>0.000000</td>\n",
       "      <td>0.000000</td>\n",
       "      <td>...</td>\n",
       "      <td>83.068027</td>\n",
       "      <td>63.503401</td>\n",
       "      <td>371.251701</td>\n",
       "      <td>0.000000</td>\n",
       "      <td>0.000000</td>\n",
       "      <td>0.000000</td>\n",
       "      <td>0.000000</td>\n",
       "      <td>0.000000</td>\n",
       "      <td>0.000000</td>\n",
       "      <td>0.000000</td>\n",
       "    </tr>\n",
       "    <tr>\n",
<<<<<<< Updated upstream
       "      <th>w_44</th>\n",
=======
       "      <th>d_44</th>\n",
>>>>>>> Stashed changes
       "      <td>304.411565</td>\n",
       "      <td>0.000000</td>\n",
       "      <td>0.000000</td>\n",
       "      <td>0.000000</td>\n",
       "      <td>0.000000</td>\n",
       "      <td>0.000000</td>\n",
       "      <td>0.000000</td>\n",
       "      <td>0.000000</td>\n",
       "      <td>0.000000</td>\n",
       "      <td>0.000000</td>\n",
       "      <td>...</td>\n",
       "      <td>0.000000</td>\n",
       "      <td>0.000000</td>\n",
       "      <td>0.000000</td>\n",
       "      <td>0.000000</td>\n",
       "      <td>0.000000</td>\n",
       "      <td>0.000000</td>\n",
       "      <td>0.000000</td>\n",
       "      <td>0.000000</td>\n",
       "      <td>0.000000</td>\n",
       "      <td>0.000000</td>\n",
       "    </tr>\n",
       "    <tr>\n",
<<<<<<< Updated upstream
       "      <th>w_45</th>\n",
=======
       "      <th>d_45</th>\n",
>>>>>>> Stashed changes
       "      <td>3099.659864</td>\n",
       "      <td>0.000000</td>\n",
       "      <td>0.000000</td>\n",
       "      <td>0.000000</td>\n",
       "      <td>0.000000</td>\n",
       "      <td>0.000000</td>\n",
       "      <td>0.000000</td>\n",
       "      <td>0.000000</td>\n",
       "      <td>0.000000</td>\n",
       "      <td>0.000000</td>\n",
       "      <td>...</td>\n",
       "      <td>0.000000</td>\n",
       "      <td>38.282313</td>\n",
       "      <td>11.945578</td>\n",
       "      <td>0.000000</td>\n",
       "      <td>0.000000</td>\n",
       "      <td>0.476190</td>\n",
       "      <td>1.166667</td>\n",
       "      <td>1.530612</td>\n",
       "      <td>0.000000</td>\n",
       "      <td>0.000000</td>\n",
       "    </tr>\n",
       "    <tr>\n",
<<<<<<< Updated upstream
       "      <th>w_46</th>\n",
=======
       "      <th>d_46</th>\n",
>>>>>>> Stashed changes
       "      <td>242.935374</td>\n",
       "      <td>0.000000</td>\n",
       "      <td>0.000000</td>\n",
       "      <td>0.000000</td>\n",
       "      <td>1.414966</td>\n",
       "      <td>0.000000</td>\n",
       "      <td>0.000000</td>\n",
       "      <td>0.000000</td>\n",
       "      <td>30.731293</td>\n",
       "      <td>24.241497</td>\n",
       "      <td>...</td>\n",
       "      <td>18.088435</td>\n",
       "      <td>62.574830</td>\n",
       "      <td>37.017007</td>\n",
       "      <td>42.085034</td>\n",
       "      <td>25.863946</td>\n",
       "      <td>4.102041</td>\n",
       "      <td>39.996599</td>\n",
       "      <td>62.700680</td>\n",
       "      <td>0.346939</td>\n",
       "      <td>0.000000</td>\n",
       "    </tr>\n",
       "    <tr>\n",
<<<<<<< Updated upstream
       "      <th>w_47</th>\n",
=======
       "      <th>d_47</th>\n",
>>>>>>> Stashed changes
       "      <td>328.942177</td>\n",
       "      <td>0.000000</td>\n",
       "      <td>0.000000</td>\n",
       "      <td>0.000000</td>\n",
       "      <td>0.000000</td>\n",
       "      <td>0.000000</td>\n",
       "      <td>0.000000</td>\n",
       "      <td>0.000000</td>\n",
       "      <td>0.000000</td>\n",
       "      <td>0.000000</td>\n",
       "      <td>...</td>\n",
       "      <td>0.000000</td>\n",
       "      <td>0.000000</td>\n",
       "      <td>0.000000</td>\n",
       "      <td>0.000000</td>\n",
       "      <td>0.000000</td>\n",
       "      <td>0.000000</td>\n",
       "      <td>0.000000</td>\n",
       "      <td>0.000000</td>\n",
       "      <td>0.000000</td>\n",
       "      <td>0.000000</td>\n",
       "    </tr>\n",
       "    <tr>\n",
<<<<<<< Updated upstream
       "      <th>w_48</th>\n",
=======
       "      <th>d_48</th>\n",
>>>>>>> Stashed changes
       "      <td>537.017007</td>\n",
       "      <td>0.000000</td>\n",
       "      <td>0.000000</td>\n",
       "      <td>0.000000</td>\n",
       "      <td>0.000000</td>\n",
       "      <td>0.000000</td>\n",
       "      <td>0.000000</td>\n",
       "      <td>0.000000</td>\n",
       "      <td>0.000000</td>\n",
       "      <td>0.000000</td>\n",
       "      <td>...</td>\n",
       "      <td>0.000000</td>\n",
       "      <td>22.833333</td>\n",
       "      <td>5.336735</td>\n",
       "      <td>61.377551</td>\n",
       "      <td>1.023810</td>\n",
       "      <td>0.000000</td>\n",
       "      <td>31.540816</td>\n",
       "      <td>0.000000</td>\n",
       "      <td>0.000000</td>\n",
       "      <td>0.000000</td>\n",
       "    </tr>\n",
       "    <tr>\n",
<<<<<<< Updated upstream
       "      <th>w_49</th>\n",
=======
       "      <th>d_49</th>\n",
>>>>>>> Stashed changes
       "      <td>514.704082</td>\n",
       "      <td>0.000000</td>\n",
       "      <td>0.000000</td>\n",
       "      <td>0.000000</td>\n",
       "      <td>0.000000</td>\n",
       "      <td>0.000000</td>\n",
       "      <td>0.000000</td>\n",
       "      <td>0.000000</td>\n",
       "      <td>0.000000</td>\n",
       "      <td>0.000000</td>\n",
       "      <td>...</td>\n",
       "      <td>1.530612</td>\n",
       "      <td>182.374150</td>\n",
       "      <td>10.908163</td>\n",
       "      <td>69.149660</td>\n",
       "      <td>20.401361</td>\n",
       "      <td>0.000000</td>\n",
       "      <td>166.863946</td>\n",
       "      <td>0.000000</td>\n",
       "      <td>0.000000</td>\n",
       "      <td>0.000000</td>\n",
       "    </tr>\n",
       "    <tr>\n",
<<<<<<< Updated upstream
       "      <th>w_5</th>\n",
=======
       "      <th>d_5</th>\n",
>>>>>>> Stashed changes
       "      <td>15.241497</td>\n",
       "      <td>0.452381</td>\n",
       "      <td>0.000000</td>\n",
       "      <td>0.000000</td>\n",
       "      <td>0.000000</td>\n",
       "      <td>0.000000</td>\n",
       "      <td>0.000000</td>\n",
       "      <td>0.000000</td>\n",
       "      <td>0.000000</td>\n",
       "      <td>11.744898</td>\n",
       "      <td>...</td>\n",
       "      <td>0.000000</td>\n",
       "      <td>12.408163</td>\n",
       "      <td>1.795918</td>\n",
       "      <td>1.074830</td>\n",
       "      <td>0.000000</td>\n",
       "      <td>28.000000</td>\n",
       "      <td>1.727891</td>\n",
       "      <td>304.748299</td>\n",
       "      <td>26.207483</td>\n",
       "      <td>2.772109</td>\n",
       "    </tr>\n",
       "    <tr>\n",
<<<<<<< Updated upstream
       "      <th>w_50</th>\n",
=======
       "      <th>d_50</th>\n",
>>>>>>> Stashed changes
       "      <td>281.605442</td>\n",
       "      <td>0.000000</td>\n",
       "      <td>0.000000</td>\n",
       "      <td>0.000000</td>\n",
       "      <td>0.000000</td>\n",
       "      <td>0.000000</td>\n",
       "      <td>0.000000</td>\n",
       "      <td>0.000000</td>\n",
       "      <td>0.000000</td>\n",
       "      <td>0.000000</td>\n",
       "      <td>...</td>\n",
       "      <td>0.000000</td>\n",
       "      <td>8.666667</td>\n",
       "      <td>0.775510</td>\n",
       "      <td>0.000000</td>\n",
       "      <td>0.000000</td>\n",
       "      <td>0.000000</td>\n",
       "      <td>0.000000</td>\n",
       "      <td>0.000000</td>\n",
       "      <td>0.000000</td>\n",
       "      <td>0.000000</td>\n",
       "    </tr>\n",
       "    <tr>\n",
<<<<<<< Updated upstream
       "      <th>w_51</th>\n",
=======
       "      <th>d_51</th>\n",
>>>>>>> Stashed changes
       "      <td>387.989796</td>\n",
       "      <td>0.000000</td>\n",
       "      <td>0.000000</td>\n",
       "      <td>0.000000</td>\n",
       "      <td>0.000000</td>\n",
       "      <td>0.000000</td>\n",
       "      <td>0.000000</td>\n",
       "      <td>0.000000</td>\n",
       "      <td>0.000000</td>\n",
       "      <td>0.000000</td>\n",
       "      <td>...</td>\n",
       "      <td>0.000000</td>\n",
       "      <td>0.000000</td>\n",
       "      <td>0.000000</td>\n",
       "      <td>0.000000</td>\n",
       "      <td>0.000000</td>\n",
       "      <td>0.000000</td>\n",
       "      <td>0.000000</td>\n",
       "      <td>0.000000</td>\n",
       "      <td>0.000000</td>\n",
       "      <td>0.000000</td>\n",
       "    </tr>\n",
       "    <tr>\n",
<<<<<<< Updated upstream
       "      <th>w_52</th>\n",
=======
       "      <th>d_52</th>\n",
>>>>>>> Stashed changes
       "      <td>938.829932</td>\n",
       "      <td>0.000000</td>\n",
       "      <td>0.000000</td>\n",
       "      <td>0.000000</td>\n",
       "      <td>0.000000</td>\n",
       "      <td>0.000000</td>\n",
       "      <td>0.000000</td>\n",
       "      <td>0.000000</td>\n",
       "      <td>0.000000</td>\n",
       "      <td>0.000000</td>\n",
       "      <td>...</td>\n",
       "      <td>1.969388</td>\n",
       "      <td>15.197279</td>\n",
       "      <td>3.078231</td>\n",
       "      <td>1.000000</td>\n",
       "      <td>3.380952</td>\n",
       "      <td>0.000000</td>\n",
       "      <td>10.455782</td>\n",
       "      <td>0.326531</td>\n",
       "      <td>0.000000</td>\n",
       "      <td>0.000000</td>\n",
       "    </tr>\n",
       "    <tr>\n",
<<<<<<< Updated upstream
       "      <th>w_53</th>\n",
=======
       "      <th>d_53</th>\n",
>>>>>>> Stashed changes
       "      <td>21.530612</td>\n",
       "      <td>0.000000</td>\n",
       "      <td>0.000000</td>\n",
       "      <td>0.000000</td>\n",
       "      <td>0.000000</td>\n",
       "      <td>0.000000</td>\n",
       "      <td>0.000000</td>\n",
       "      <td>0.000000</td>\n",
       "      <td>269.462585</td>\n",
       "      <td>3.829932</td>\n",
       "      <td>...</td>\n",
       "      <td>1.704082</td>\n",
       "      <td>383.911565</td>\n",
       "      <td>101.414966</td>\n",
       "      <td>0.380952</td>\n",
       "      <td>205.833333</td>\n",
       "      <td>0.000000</td>\n",
       "      <td>12.687075</td>\n",
       "      <td>3.204082</td>\n",
       "      <td>0.000000</td>\n",
       "      <td>0.000000</td>\n",
       "    </tr>\n",
       "    <tr>\n",
<<<<<<< Updated upstream
       "      <th>w_54</th>\n",
=======
       "      <th>d_54</th>\n",
>>>>>>> Stashed changes
       "      <td>19.537415</td>\n",
       "      <td>0.000000</td>\n",
       "      <td>0.000000</td>\n",
       "      <td>0.000000</td>\n",
       "      <td>0.000000</td>\n",
       "      <td>0.000000</td>\n",
       "      <td>0.000000</td>\n",
       "      <td>0.000000</td>\n",
       "      <td>0.000000</td>\n",
       "      <td>0.000000</td>\n",
       "      <td>...</td>\n",
       "      <td>962.510204</td>\n",
       "      <td>62.496599</td>\n",
       "      <td>216.384354</td>\n",
       "      <td>0.326531</td>\n",
       "      <td>7.129252</td>\n",
       "      <td>0.387755</td>\n",
       "      <td>0.346939</td>\n",
       "      <td>0.000000</td>\n",
       "      <td>0.000000</td>\n",
       "      <td>0.000000</td>\n",
       "    </tr>\n",
       "    <tr>\n",
<<<<<<< Updated upstream
       "      <th>w_55</th>\n",
=======
       "      <th>d_55</th>\n",
>>>>>>> Stashed changes
       "      <td>68.778912</td>\n",
       "      <td>0.000000</td>\n",
       "      <td>0.000000</td>\n",
       "      <td>0.000000</td>\n",
       "      <td>0.000000</td>\n",
       "      <td>0.000000</td>\n",
       "      <td>0.000000</td>\n",
       "      <td>0.000000</td>\n",
       "      <td>0.000000</td>\n",
       "      <td>5.710884</td>\n",
       "      <td>...</td>\n",
       "      <td>48937.197279</td>\n",
       "      <td>136.336735</td>\n",
       "      <td>1027.078231</td>\n",
       "      <td>0.367347</td>\n",
       "      <td>30.442177</td>\n",
       "      <td>0.000000</td>\n",
       "      <td>5.527211</td>\n",
       "      <td>1.204082</td>\n",
       "      <td>0.000000</td>\n",
       "      <td>0.000000</td>\n",
       "    </tr>\n",
       "    <tr>\n",
<<<<<<< Updated upstream
       "      <th>w_56</th>\n",
=======
       "      <th>d_56</th>\n",
>>>>>>> Stashed changes
       "      <td>381.023810</td>\n",
       "      <td>3.877551</td>\n",
       "      <td>0.000000</td>\n",
       "      <td>0.000000</td>\n",
       "      <td>10.489796</td>\n",
       "      <td>0.000000</td>\n",
       "      <td>0.000000</td>\n",
       "      <td>0.000000</td>\n",
       "      <td>56.829932</td>\n",
       "      <td>38.156463</td>\n",
       "      <td>...</td>\n",
       "      <td>132.707483</td>\n",
       "      <td>113317.666667</td>\n",
       "      <td>1112.350340</td>\n",
       "      <td>53.853741</td>\n",
       "      <td>1254.476190</td>\n",
       "      <td>19.755102</td>\n",
       "      <td>168.897959</td>\n",
       "      <td>63.064626</td>\n",
       "      <td>2.503401</td>\n",
       "      <td>0.404762</td>\n",
       "    </tr>\n",
       "    <tr>\n",
<<<<<<< Updated upstream
       "      <th>w_57</th>\n",
=======
       "      <th>d_57</th>\n",
>>>>>>> Stashed changes
       "      <td>172.034014</td>\n",
       "      <td>10.517007</td>\n",
       "      <td>0.000000</td>\n",
       "      <td>0.000000</td>\n",
       "      <td>18.231293</td>\n",
       "      <td>0.000000</td>\n",
       "      <td>0.000000</td>\n",
       "      <td>1.023810</td>\n",
       "      <td>27.384354</td>\n",
       "      <td>40.741497</td>\n",
       "      <td>...</td>\n",
       "      <td>1277.622449</td>\n",
       "      <td>1035.023810</td>\n",
       "      <td>96319.581633</td>\n",
       "      <td>15.431973</td>\n",
       "      <td>108.931973</td>\n",
       "      <td>9.275510</td>\n",
       "      <td>51.353741</td>\n",
       "      <td>33.744898</td>\n",
       "      <td>0.346939</td>\n",
       "      <td>0.000000</td>\n",
       "    </tr>\n",
       "    <tr>\n",
<<<<<<< Updated upstream
       "      <th>w_58</th>\n",
=======
       "      <th>d_58</th>\n",
>>>>>>> Stashed changes
       "      <td>57.993197</td>\n",
       "      <td>0.000000</td>\n",
       "      <td>0.000000</td>\n",
       "      <td>0.000000</td>\n",
       "      <td>0.000000</td>\n",
       "      <td>0.000000</td>\n",
       "      <td>0.000000</td>\n",
       "      <td>0.000000</td>\n",
       "      <td>0.000000</td>\n",
       "      <td>0.000000</td>\n",
       "      <td>...</td>\n",
       "      <td>0.387755</td>\n",
       "      <td>51.717687</td>\n",
       "      <td>14.993197</td>\n",
       "      <td>27866.040816</td>\n",
       "      <td>30.738095</td>\n",
       "      <td>0.000000</td>\n",
       "      <td>1340.023810</td>\n",
       "      <td>0.993197</td>\n",
       "      <td>0.000000</td>\n",
       "      <td>0.000000</td>\n",
       "    </tr>\n",
       "    <tr>\n",
<<<<<<< Updated upstream
       "      <th>w_59</th>\n",
=======
       "      <th>d_59</th>\n",
>>>>>>> Stashed changes
       "      <td>66.639456</td>\n",
       "      <td>0.000000</td>\n",
       "      <td>0.000000</td>\n",
       "      <td>0.000000</td>\n",
       "      <td>0.000000</td>\n",
       "      <td>0.000000</td>\n",
       "      <td>0.000000</td>\n",
       "      <td>0.000000</td>\n",
       "      <td>5.489796</td>\n",
       "      <td>2.010204</td>\n",
       "      <td>...</td>\n",
       "      <td>36.765306</td>\n",
       "      <td>1260.299320</td>\n",
       "      <td>106.442177</td>\n",
       "      <td>35.000000</td>\n",
       "      <td>39043.462585</td>\n",
       "      <td>0.000000</td>\n",
       "      <td>421.292517</td>\n",
       "      <td>5.438776</td>\n",
       "      <td>0.000000</td>\n",
       "      <td>0.000000</td>\n",
       "    </tr>\n",
       "    <tr>\n",
<<<<<<< Updated upstream
       "      <th>w_6</th>\n",
=======
       "      <th>d_6</th>\n",
>>>>>>> Stashed changes
       "      <td>14.472789</td>\n",
       "      <td>2.619048</td>\n",
       "      <td>0.000000</td>\n",
       "      <td>0.000000</td>\n",
       "      <td>11.884354</td>\n",
       "      <td>0.000000</td>\n",
       "      <td>0.000000</td>\n",
       "      <td>0.367347</td>\n",
       "      <td>22.908163</td>\n",
       "      <td>89.996599</td>\n",
       "      <td>...</td>\n",
       "      <td>0.000000</td>\n",
       "      <td>8.751701</td>\n",
       "      <td>2.687075</td>\n",
       "      <td>0.000000</td>\n",
       "      <td>0.000000</td>\n",
       "      <td>73893.612245</td>\n",
       "      <td>0.000000</td>\n",
       "      <td>1240.727891</td>\n",
       "      <td>740.714286</td>\n",
       "      <td>199.642857</td>\n",
       "    </tr>\n",
       "    <tr>\n",
<<<<<<< Updated upstream
       "      <th>w_60</th>\n",
=======
       "      <th>d_60</th>\n",
>>>>>>> Stashed changes
       "      <td>139.387755</td>\n",
       "      <td>0.000000</td>\n",
       "      <td>0.000000</td>\n",
       "      <td>0.000000</td>\n",
       "      <td>0.000000</td>\n",
       "      <td>0.000000</td>\n",
       "      <td>0.000000</td>\n",
       "      <td>0.000000</td>\n",
       "      <td>5.112245</td>\n",
       "      <td>5.829932</td>\n",
       "      <td>...</td>\n",
       "      <td>8.860544</td>\n",
       "      <td>198.418367</td>\n",
       "      <td>58.823129</td>\n",
       "      <td>1245.132653</td>\n",
       "      <td>393.673469</td>\n",
       "      <td>0.346939</td>\n",
       "      <td>43298.231293</td>\n",
       "      <td>26.428571</td>\n",
       "      <td>0.000000</td>\n",
       "      <td>0.000000</td>\n",
       "    </tr>\n",
       "    <tr>\n",
<<<<<<< Updated upstream
       "      <th>w_7</th>\n",
=======
       "      <th>d_7</th>\n",
>>>>>>> Stashed changes
       "      <td>74.731293</td>\n",
       "      <td>15.860544</td>\n",
       "      <td>0.000000</td>\n",
       "      <td>1.408163</td>\n",
       "      <td>25.482993</td>\n",
       "      <td>1.486395</td>\n",
       "      <td>0.000000</td>\n",
       "      <td>1.585034</td>\n",
       "      <td>34.173469</td>\n",
       "      <td>130.806122</td>\n",
       "      <td>...</td>\n",
       "      <td>0.346939</td>\n",
       "      <td>60.272109</td>\n",
       "      <td>23.367347</td>\n",
       "      <td>1.214286</td>\n",
       "      <td>4.574830</td>\n",
       "      <td>1195.500000</td>\n",
       "      <td>23.544218</td>\n",
       "      <td>168813.448980</td>\n",
       "      <td>2598.445578</td>\n",
       "      <td>212.710884</td>\n",
       "    </tr>\n",
       "    <tr>\n",
<<<<<<< Updated upstream
       "      <th>w_8</th>\n",
=======
       "      <th>d_8</th>\n",
>>>>>>> Stashed changes
       "      <td>4.054422</td>\n",
       "      <td>0.000000</td>\n",
       "      <td>0.000000</td>\n",
       "      <td>0.000000</td>\n",
       "      <td>0.000000</td>\n",
       "      <td>0.000000</td>\n",
       "      <td>0.000000</td>\n",
       "      <td>0.000000</td>\n",
       "      <td>0.000000</td>\n",
       "      <td>31.755102</td>\n",
       "      <td>...</td>\n",
       "      <td>0.000000</td>\n",
       "      <td>1.309524</td>\n",
       "      <td>0.428571</td>\n",
       "      <td>0.000000</td>\n",
       "      <td>0.000000</td>\n",
       "      <td>743.506803</td>\n",
       "      <td>0.000000</td>\n",
       "      <td>1688.853741</td>\n",
       "      <td>50712.615646</td>\n",
       "      <td>528.414966</td>\n",
       "    </tr>\n",
       "    <tr>\n",
<<<<<<< Updated upstream
       "      <th>w_9</th>\n",
=======
       "      <th>d_9</th>\n",
>>>>>>> Stashed changes
       "      <td>3.530612</td>\n",
       "      <td>0.000000</td>\n",
       "      <td>0.000000</td>\n",
       "      <td>0.000000</td>\n",
       "      <td>0.000000</td>\n",
       "      <td>0.000000</td>\n",
       "      <td>0.000000</td>\n",
       "      <td>0.000000</td>\n",
       "      <td>0.000000</td>\n",
       "      <td>33.173469</td>\n",
       "      <td>...</td>\n",
       "      <td>0.000000</td>\n",
       "      <td>0.833333</td>\n",
       "      <td>0.000000</td>\n",
       "      <td>0.000000</td>\n",
       "      <td>0.000000</td>\n",
       "      <td>225.880952</td>\n",
       "      <td>0.000000</td>\n",
       "      <td>236.479592</td>\n",
       "      <td>494.469388</td>\n",
       "      <td>33752.465986</td>\n",
       "    </tr>\n",
       "  </tbody>\n",
       "</table>\n",
       "<p>60 rows × 60 columns</p>\n",
       "</div>"
      ],
      "text/plain": [
<<<<<<< Updated upstream
       "224      0.000000      0.000000      0.000000   \n",
       "w_4               3.996599      0.000000      0.000000      0.000000   \n",
       "w_40            617.789116      0.000000      0.000000      0.000000   \n",
       "w_41            552.704082      0.000000      0.000000      0.000000   \n",
       "w_42            304.408163      0.000000      0.000000      0.000000   \n",
       "w_43            208.017007      0.000000      0.000000      0.000000   \n",
       "w_44            304.411565      0.000000      0.000000      0.000000   \n",
       "w_45           3099.659864      0.000000      0.000000      0.000000   \n",
       "w_46            242.935374      0.000000      0.000000      0.000000   \n",
       "w_47            328.942177      0.000000      0.000000      0.000000   \n",
       "w_48            537.017007      0.000000      0.000000      0.000000   \n",
       "w_49            514.704082      0.000000      0.000000      0.000000   \n",
       "w_5              15.241497      0.452381      0.000000      0.000000   \n",
       "w_50            281.605442      0.000000      0.000000      0.000000   \n",
       "w_51            387.989796      0.000000      0.000000      0.000000   \n",
       "w_52            938.829932      0.000000      0.000000      0.000000   \n",
       "w_53             21.530612      0.000000      0.000000      0.000000   \n",
       "w_54             19.537415      0.000000      0.000000      0.000000   \n",
       "w_55             68.778912      0.000000      0.000000      0.000000   \n",
       "w_56            381.023810      3.877551      0.000000      0.000000   \n",
       "w_57            172.034014     10.517007      0.000000      0.000000   \n",
       "w_58             57.993197      0.000000      0.000000      0.000000   \n",
       "w_59             66.639456      0.000000      0.000000      0.000000   \n",
       "w_6              14.472789      2.619048      0.000000      0.000000   \n",
       "w_60            139.387755      0.000000      0.000000      0.000000   \n",
       "w_7              74.731293     15.860544      0.000000      1.408163   \n",
       "w_8               4.054422      0.000000      0.000000      0.000000   \n",
       "w_9               3.530612      0.000000      0.000000      0.000000   \n",
       "\n",
       "region               w_13          w_14         w_15          w_16  \\\n",
       "home_region                                                          \n",
       "w_1             12.312925      0.000000     0.000000      0.000000   \n",
       "w_10          1055.323129    345.163265    28.823129   1437.486395   \n",
       "w_11           198.741497    464.153061     0.000000      0.000000   \n",
       "w_12           243.530612     16.091837     0.000000      0.000000   \n",
       "w_13         73418.496599    141.639456     7.088435     79.139456   \n",
       "w_14           154.438776  50953.639456   360.544218    507.697279   \n",
       "w_15             9.244898    370.877551  9357.326531     10.670068   \n",
       "w_16            86.340136    556.700680     7.731293  27546.816327   \n",
       "w_17             2.846939      0.000000     0.000000      0.000000   \n",
       "w_18           821.153061     53.197279     1.183673    193.816327   \n",
       "w_19            32.153061      3.996599     0.000000      1.183673   \n",
       "w_2           3175.972789    514.197279   115.037415    416.789116   \n",
       "w_20             2.517007      0.000000     0.000000      0.000000   \n",
       "w_21            21.986395      1.285714     0.000000    106.775510   \n",
       "w_22             3.034014      0.408163     0.000000      0.000000   \n",
       "w_23            41.149660      4.044218     0.000000      0.000000   \n",
       "w_24            11.129252     54.200680   377.707483    293.802721   \n",
       "w_25             0.404762      0.000000     0.000000      0.000000   \n",
       "w_26            77.911565     19.329932     0.000000     12.295918   \n",
       "w_27            17.197279      0.000000     0.000000      0.380952   \n",
       "w_28            51.772109      6.156463     0.000000      7.976190   \n",
       "w_29             0.000000      0.000000     0.000000      0.000000   \n",
       "w_3              0.000000      0.000000     0.000000      0.000000   \n",
       "w_30            47.629252      0.500000     0.000000      0.761905   \n",
       "w_31          1277.064626     43.653061     0.428571     30.210884   \n",
       "w_32             0.000000      0.000000     0.000000      0.000000   \n",
       "w_33             0.000000      0.000000     0.000000      0.000000   \n",
       "w_34             0.000000      0.000000     0.000000      0.000000   \n",
       "w_35             1.445578      0.000000     0.000000      0.000000   \n",
       "w_36             5.564626      0.000000     0.000000      0.000000   \n",
       "w_37             0.000000      0.000000     0.000000      0.000000   \n",
       "w_38             0.000000      0.000000     0.000000      0.000000   \n",
       "w_39             0.000000      0.000000     0.000000      0.000000   \n",
       "w_4              0.000000      0.000000     0.000000      0.000000   \n",
       "w_40             0.000000      0.000000     0.000000      0.000000   \n",
       "w_41             0.000000      0.000000     0.000000      0.000000   \n",
       "w_42             0.000000      0.000000     0.000000      0.000000   \n",
       "w_43             0.000000      0.000000     0.000000      0.000000   \n",
       "w_44             0.000000      0.000000     0.000000      0.000000   \n",
       "w_45             0.000000      0.000000     0.000000      0.000000   \n",
       "w_46             1.414966      0.000000     0.000000      0.000000   \n",
       "w_47             0.000000      0.000000     0.000000      0.000000   \n",
       "w_48             0.000000      0.000000     0.000000      0.000000   \n",
       "w_49             0.000000      0.000000     0.000000      0.000000   \n",
       "w_5              0.000000      0.000000     0.000000      0.000000   \n",
       "w_50             0.000000      0.000000     0.000000      0.000000   \n",
       "w_51             0.000000      0.000000     0.000000      0.000000   \n",
       "w_52             0.000000      0.000000     0.000000      0.000000   \n",
       "w_53             0.000000      0.000000     0.000000      0.000000   \n",
       "w_54             0.000000      0.000000     0.000000      0.000000   \n",
       "w_55             0.000000      0.000000     0.000000      0.000000   \n",
       "w_56            10.489796      0.000000     0.000000      0.000000   \n",
       "w_57            18.231293      0.000000     0.000000      1.023810   \n",
       "w_58             0.000000      0.000000     0.000000      0.000000   \n",
       "w_59             0.000000      0.000000     0.000000      0.000000   \n",
       "w_6             11.884354      0.000000     0.000000      0.367347   \n",
       "w_60             0.000000      0.000000     0.000000      0.000000   \n",
       "w_7             25.482993      1.486395     0.000000      1.585034   \n",
       "w_8              0.000000      0.000000     0.000000      0.000000   \n",
       "w_9              0.000000      0.000000     0.000000      0.000000   \n",
       "\n",
       "region               w_17           w_18  ...          w_55           w_56  \\\n",
       "home_region                               ...                                \n",
       "w_1             44.401361      45.034014  ...     81.452381     495.377551   \n",
       "w_10             2.285714     350.795918  ...      0.000000       9.037415   \n",
       "w_11             0.000000       6.962585  ...      0.000000       0.000000   \n",
       "w_12             0.000000      29.578231  ...      0.000000       0.000000   \n",
       "w_13             8.149660     702.721088  ...      0.000000       7.421769   \n",
       "w_14             0.000000      51.227891  ...      0.000000       1.530612   \n",
       "w_15             0.000000       3.125850  ...      0.000000       0.000000   \n",
       "w_16             0.000000     176.612245  ...      0.000000       0.000000   \n",
       "w_17         32508.108844      36.721088  ...      0.000000      39.285714   \n",
       "w_18            51.982993  103781.571429  ...      4.387755      38.122449   \n",
       "w_19            74.527211     643.489796  ...      0.000000      12.544218   \n",
       "w_2            859.792517   13352.034014  ...    173.870748     778.336735   \n",
       "w_20             0.000000      49.891156  ...      0.000000       0.380952   \n",
       "w_21             2.404762    1531.840136  ...      0.000000       0.523810   \n",
       "w_22             0.000000      82.425170  ...      0.000000       0.000000   \n",
       "w_23           192.554422     432.717687  ...      0.000000       4.578231   \n",
       "w_24             0.000000      68.136054  ...      0.000000       0.000000   \n",
       "w_25           507.217687      32.738095  ...      0.000000       0.000000   \n",
       "w_26           194.812925     144.387755  ...     42.125850      93.234694   \n",
       "w_27             1.238095      47.170068  ...      0.000000      21.166667   \n",
       "w_28           869.421769      88.581633  ...    737.993197     210.435374   \n",
       "w_29             0.000000       6.319728  ...      3.129252       0.000000   \n",
       "w_3            667.146259      28.357143  ...      0.000000      25.642857   \n",
       "w_30             3.693878      60.972789  ...      3.738095      34.319728   \n",
       "w_31            50.772109     719.476190  ...      5.659864      52.829932   \n",
       "w_32             4.370748       2.336735  ...      0.000000      19.374150   \n",
       "w_33            14.952381       9.931973  ...      0.000000      31.799320   \n",
       "w_34             0.727891       0.000000  ...      0.000000      39.020408   \n",
       "w_35           266.500000      19.741497  ...      0.000000      60.877551   \n",
       "w_36            65.465986      35.891156  ...     16.489796     158.200680   \n",
       "w_37             0.000000       0.000000  ...      0.000000      10.578231   \n",
       "w_38             0.380952       0.000000  ...      0.000000      10.122449   \n",
       "w_39             0.000000       0.000000  ...      9.683673       0.428571   \n",
       "w_4              0.000000       8.074830  ...      0.000000      11.938776   \n",
       "w_40             0.000000       0.000000  ...      0.809524       5.591837   \n",
       "w_41             0.000000       5.693878  ...      0.000000      51.241497   \n",
       "w_42             0.000000       0.000000  ...      0.000000       0.000000   \n",
       "w_43             0.000000       0.000000  ...     83.068027      63.503401   \n",
       "w_44             0.000000       0.000000  ...      0.000000       0.000000   \n",
       "w_45             0.000000       0.000000  ...      0.000000      38.282313   \n",
       "w_46            30.731293      24.241497  ...     18.088435      62.574830   \n",
       "w_47             0.000000       0.000000  ...      0.000000       0.000000   \n",
       "w_48             0.000000       0.000000  ...      0.000000      22.833333   \n",
       "w_49             0.000000       0.000000  ...      1.530612     182.374150   \n",
       "w_5              0.000000      11.744898  ...      0.000000      12.408163   \n",
       "w_50             0.000000       0.000000  ...      0.000000       8.666667   \n",
       "w_51             0.000000       0.000000  ...      0.000000       0.000000   \n",
       "w_52             0.000000       0.000000  ...      1.969388      15.197279   \n",
       "w_53           269.462585       3.829932  ...      1.704082     383.911565   \n",
       "w_54             0.000000       0.000000  ...    962.510204      62.496599   \n",
       "w_55             0.000000       5.710884  ...  48937.197279     136.336735   \n",
       "w_56            56.829932      38.156463  ...    132.707483  113317.666667   \n",
       "w_57            27.384354      40.741497  ...   1277.622449    1035.023810   \n",
       "w_58             0.000000       0.000000  ...      0.387755      51.717687   \n",
       "w_59             5.489796       2.010204  ...     36.765306    1260.299320   \n",
       "w_6             22.908163      89.996599  ...      0.000000       8.751701   \n",
       "w_60             5.112245       5.829932  ...      8.860544     198.418367   \n",
       "w_7             34.173469     130.806122  ...      0.346939      60.272109   \n",
       "w_8              0.000000      31.755102  ...      0.000000       1.309524   \n",
       "w_9              0.000000      33.173469  ...      0.000000       0.833333   \n",
       "\n",
       "region               w_57          w_58          w_59           w_6  \\\n",
       "home_region                                                           \n",
       "w_1            223.527211     79.316327     72.806122     28.095238   \n",
       "w_10            13.867347      0.000000      0.000000      8.714286   \n",
       "w_11             0.000000      0.000000      0.000000      0.000000   \n",
       "w_12             0.000000      0.000000      0.000000      0.000000   \n",
       "w_13            12.500000      0.000000      0.000000     18.683673   \n",
       "w_14             0.000000      0.000000      0.000000      0.000000   \n",
       "w_15             0.000000      0.000000      0.000000      0.000000   \n",
       "w_16             0.000000      0.000000      0.000000      0.000000   \n",
       "w_17            14.034014      0.000000      0.000000     21.156463   \n",
       "w_18            32.013605      0.000000      0.346939    109.180272   \n",
       "w_19             4.989796      0.000000      0.000000    512.925170   \n",
       "w_2            599.210884     63.921769    133.574830   1123.040816   \n",
       "w_20             0.000000      0.000000      0.000000      0.428571   \n",
       "w_21             0.000000      0.000000      0.000000    788.578231   \n",
       "w_22             0.000000      0.000000      0.000000     84.908163   \n",
       "w_23             2.537415      0.000000      0.000000     24.938776   \n",
       "w_24             0.000000      0.000000      0.000000      0.000000   \n",
       "w_25             0.000000      0.000000      0.000000    675.306122   \n",
       "w_26           131.292517      0.326531     21.707483     32.527211   \n",
       "w_27            20.462585      0.000000      0.000000      8.734694   \n",
       "w_28           864.275510      7.183673     46.819728     17.384354   \n",
       "w_29             1.380952      0.000000      0.000000      0.000000   \n",
       "w_3              7.370748      0.000000      0.000000    307.799320   \n",
       "w_30            38.255102      0.000000      0.000000      9.921769   \n",
       "w_31            48.142857      0.000000      5.363946     67.568027   \n",
       "w_32             2.431973      0.877551      9.119048      0.809524   \n",
       "w_33             4.918367     25.554422      7.778912      0.785714   \n",
       "w_34             9.755102    272.166667    219.925170      0.000000   \n",
       "w_35            18.261905      0.346939      5.860544      1.976190   \n",
       "w_36            54.255102     80.091837    317.486395     12.884354   \n",
       "w_37             0.000000    632.435374      1.693878      0.000000   \n",
       "w_38             0.326531      0.346939      1.272109      0.000000   \n",
       "w_39             0.000000      0.000000      0.000000      0.000000   \n",
       "w_4              0.000000      0.000000      0.000000     21.772109   \n",
       "w_40             5.918367      0.000000      0.000000      0.000000   \n",
       "w_41            22.666667      0.000000      0.000000      0.000000   \n",
       "w_42             0.000000      0.000000      0.000000      0.000000   \n",
       "w_43           371.251701      0.000000      0.000000      0.000000   \n",
       "w_44             0.000000      0.000000      0.000000      0.000000   \n",
       "w_45            11.945578      0.000000      0.000000      0.476190   \n",
       "w_46            37.017007     42.085034     25.863946      4.102041   \n",
       "w_47             0.000000      0.000000      0.000000      0.000000   \n",
       "w_48             5.336735     61.377551      1.023810      0.000000   \n",
       "w_49            10.908163     69.149660     20.401361      0.000000   \n",
       "w_5              1.795918      1.074830      0.000000     28.000000   \n",
       "w_50             0.775510      0.000000      0.000000      0.000000   \n",
       "w_51             0.000000      0.000000      0.000000      0.000000   \n",
       "w_52             3.078231      1.000000      3.380952      0.000000   \n",
       "w_53           101.414966      0.380952    205.833333      0.000000   \n",
       "w_54           216.384354      0.326531      7.129252      0.387755   \n",
       "w_55          1027.078231      0.367347     30.442177      0.000000   \n",
       "w_56          1112.350340     53.853741   1254.476190     19.755102   \n",
       "w_57         96319.581633     15.431973    108.931973      9.275510   \n",
       "w_58            14.993197  27866.040816     30.738095      0.000000   \n",
       "w_59           106.442177     35.000000  39043.462585      0.000000   \n",
       "w_6              2.687075      0.000000      0.000000  73893.612245   \n",
       "w_60            58.823129   1245.132653    393.673469      0.346939   \n",
       "w_7             23.367347      1.214286      4.574830   1195.500000   \n",
       "w_8              0.428571      0.000000      0.000000    743.506803   \n",
       "w_9              0.000000      0.000000      0.000000    225.880952   \n",
       "\n",
       "region               w_60            w_7           w_8           w_9  \n",
       "home_region                                                           \n",
       "w_1            155.894558      97.258503     10.258503      3.938776  \n",
       "w_10             0.000000      20.044218      0.000000      0.000000  \n",
       "w_11             0.000000       0.000000      0.000000      0.000000  \n",
       "w_12             0.000000       0.452381      0.000000      0.000000  \n",
       "w_13             0.000000      21.659864      0.000000      0.380952  \n",
       "w_14             0.000000       0.326531      0.000000      0.000000  \n",
       "w_15             0.000000       0.000000      0.000000      0.000000  \n",
       "w_16             0.000000       0.500000      0.000000      0.000000  \n",
       "w_17             0.000000      26.207483      0.000000      0.000000  \n",
       "w_18             2.132653     115.173469     32.074830     31.782313  \n",
       "w_19             0.000000     101.258503     18.901361     13.772109  \n",
       "w_2            181.061224    1455.197279    422.472789    398.489796  \n",
       "w_20             0.000000       4.925170      0.000000     22.231293  \n",
       "w_21             0.000000      42.210884      0.840136      0.523810  \n",
       "w_22             0.734694       4.251701      0.000000    136.149660  \n",
       "w_23             0.326531      28.027211      0.000000      0.000000  \n",
       "w_24             0.000000       2.000000      0.000000      0.000000  \n",
       "w_25             0.000000      25.442177      0.000000      0.000000  \n",
       "w_26            13.411565      46.149660      3.632653      1.714286  \n",
       "w_27             0.000000      51.612245      0.547619      0.000000  \n",
       "w_28            33.687075      39.581633      0.785714      0.326531  \n",
       "w_29             0.000000       0.000000      0.000000      0.000000  \n",
       "w_3              0.000000     566.537415     20.829932      3.319728  \n",
       "w_30             0.000000      27.700680      0.000000      0.000000  \n",
       "w_31             5.843537      77.564626     15.646259     17.414966  \n",
       "w_32            12.642857      69.554422      1.020408      0.000000  \n",
       "w_33            27.901361      63.931973      0.772109      0.000000  \n",
       "w_34           463.802721       6.479592      0.000000      0.000000  \n",
       "w_35            13.489796      35.350340      0.326531      0.690476  \n",
       "w_36           212.843537     121.938776      6.843537      0.000000  \n",
       "w_37            39.955782       0.326531      0.000000      0.000000  \n",
       "w_38             1.527211      13.350340      0.000000      0.000000  \n",
       "w_39             0.000000       0.000000      0.000000      0.000000  \n",
       "w_4              0.448980    1607.714286     41.914966      3.540816  \n",
       "w_40             0.000000       0.000000      0.000000      0.000000  \n",
       "w_41             8.479592       3.588435      0.000000      0.000000  \n",
       "w_42             0.000000       0.000000      0.000000      0.000000  \n",
       "w_43             0.000000       0.000000      0.000000      0.000000  \n",
       "w_44             0.000000       0.000000      0.000000      0.000000  \n",
       "w_45             1.166667       1.530612      0.000000      0.000000  \n",
       "w_46            39.996599      62.700680      0.346939      0.000000  \n",
       "w_47             0.000000       0.000000      0.000000      0.000000  \n",
       "w_48            31.540816       0.000000      0.000000      0.000000  \n",
       "w_49           166.863946       0.000000      0.000000      0.000000  \n",
       "w_5              1.727891     304.748299     26.207483      2.772109  \n",
       "w_50             0.000000       0.000000      0.000000      0.000000  \n",
       "w_51             0.000000       0.000000      0.000000      0.000000  \n",
       "w_52            10.455782       0.326531      0.000000      0.000000  \n",
       "w_53            12.687075       3.204082      0.000000      0.000000  \n",
       "w_54             0.346939       0.000000      0.000000      0.000000  \n",
       "w_55             5.527211       1.204082      0.000000      0.000000  \n",
       "w_56           168.897959      63.064626      2.503401      0.404762  \n",
       "w_57            51.353741      33.744898      0.346939      0.000000  \n",
       "w_58          1340.023810       0.993197      0.000000      0.000000  \n",
       "w_59           421.292517       5.438776      0.000000      0.000000  \n",
       "w_6              0.000000    1240.727891    740.714286    199.642857  \n",
       "w_60         43298.231293      26.428571      0.000000      0.000000  \n",
       "w_7             23.544218  168813.448980   2598.445578    212.710884  \n",
       "w_8              0.000000    1688.853741  50712.615646    528.414966  \n",
       "w_9              0.000000     236.479592    494.469388  33752.465986  \n",
=======
       "region                 d_1          d_10          d_11          d_12  \\\n",
       "home_region                                                            \n",
       "d_1          258002.278912      6.326531      0.000000      0.428571   \n",
       "d_10              5.704082  52654.982993     17.850340     32.928571   \n",
       "d_11              0.000000     20.387755  14482.799320    557.088435   \n",
       "d_12              0.000000     32.809524    598.836735  45178.493197   \n",
       "d_13              5.078231   1245.061224    191.122449    173.180272   \n",
       "d_14              0.000000    373.397959    536.421769     12.119048   \n",
       "d_15              0.000000     38.819728      0.000000      0.000000   \n",
       "d_16              0.000000   1487.030612      0.476190      0.996599   \n",
       "d_17             18.517007      0.785714      0.000000      0.000000   \n",
       "d_18             39.459184    355.173469      4.214286     28.119048   \n",
       "d_19             14.000000     17.176871      0.000000      1.605442   \n",
       "d_2             947.047619    965.170068    167.799320    382.241497   \n",
       "d_20              0.380952      0.000000      0.000000      0.000000   \n",
       "d_21              0.870748     20.149660      0.000000      0.000000   \n",
       "d_22              0.000000      0.880952      0.000000      0.000000   \n",
       "d_23              2.265306     15.537415      0.000000      4.676871   \n",
       "d_24              0.000000     34.598639      0.000000      0.000000   \n",
       "d_25              0.000000      0.000000      0.000000      0.000000   \n",
       "d_26             53.527211     39.789116      0.809524     16.377551   \n",
       "d_27              7.098639      4.564626      0.000000      4.772109   \n",
       "d_28             89.816327     32.438776      0.595238      8.384354   \n",
       "d_29              0.500000      0.000000      0.000000      0.367347   \n",
       "d_3              20.431973      0.000000      0.000000      0.000000   \n",
       "d_30             17.227891     13.935374      0.428571    230.571429   \n",
       "d_31             50.275510     72.636054      8.857143    348.030612   \n",
       "d_32             19.394558      0.000000      0.000000      0.000000   \n",
       "d_33             38.802721      0.000000      0.387755      0.000000   \n",
       "d_34             23.278912      0.000000      0.000000      0.000000   \n",
       "d_35             29.418367      0.404762      0.000000      0.000000   \n",
       "d_36            134.482993      4.435374      0.632653      0.000000   \n",
       "d_37             12.391156      0.000000      0.000000      0.000000   \n",
       "d_38              9.540816      0.000000      0.000000      0.000000   \n",
       "d_39            166.561224      0.000000      0.000000      0.000000   \n",
       "d_4               3.996599      0.000000      0.000000      0.000000   \n",
       "d_40            617.789116      0.000000      0.000000      0.000000   \n",
       "d_41            552.704082      0.000000      0.000000      0.000000   \n",
       "d_42            304.408163      0.000000      0.000000      0.000000   \n",
       "d_43            208.017007      0.000000      0.000000      0.000000   \n",
       "d_44            304.411565      0.000000      0.000000      0.000000   \n",
       "d_45           3099.659864      0.000000      0.000000      0.000000   \n",
       "d_46            242.935374      0.000000      0.000000      0.000000   \n",
       "d_47            328.942177      0.000000      0.000000      0.000000   \n",
       "d_48            537.017007      0.000000      0.000000      0.000000   \n",
       "d_49            514.704082      0.000000      0.000000      0.000000   \n",
       "d_5              15.241497      0.452381      0.000000      0.000000   \n",
       "d_50            281.605442      0.000000      0.000000      0.000000   \n",
       "d_51            387.989796      0.000000      0.000000      0.000000   \n",
       "d_52            938.829932      0.000000      0.000000      0.000000   \n",
       "d_53             21.530612      0.000000      0.000000      0.000000   \n",
       "d_54             19.537415      0.000000      0.000000      0.000000   \n",
       "d_55             68.778912      0.000000      0.000000      0.000000   \n",
       "d_56            381.023810      3.877551      0.000000      0.000000   \n",
       "d_57            172.034014     10.517007      0.000000      0.000000   \n",
       "d_58             57.993197      0.000000      0.000000      0.000000   \n",
       "d_59             66.639456      0.000000      0.000000      0.000000   \n",
       "d_6              14.472789      2.619048      0.000000      0.000000   \n",
       "d_60            139.387755      0.000000      0.000000      0.000000   \n",
       "d_7              74.731293     15.860544      0.000000      1.408163   \n",
       "d_8               4.054422      0.000000      0.000000      0.000000   \n",
       "d_9               3.530612      0.000000      0.000000      0.000000   \n",
       "\n",
       "region               d_13          d_14         d_15          d_16  \\\n",
       "home_region                                                          \n",
       "d_1             12.312925      0.000000     0.000000      0.000000   \n",
       "d_10          1055.323129    345.163265    28.823129   1437.486395   \n",
       "d_11           198.741497    464.153061     0.000000      0.000000   \n",
       "d_12           243.530612     16.091837     0.000000      0.000000   \n",
       "d_13         73418.496599    141.639456     7.088435     79.139456   \n",
       "d_14           154.438776  50953.639456   360.544218    507.697279   \n",
       "d_15             9.244898    370.877551  9357.326531     10.670068   \n",
       "d_16            86.340136    556.700680     7.731293  27546.816327   \n",
       "d_17             2.846939      0.000000     0.000000      0.000000   \n",
       "d_18           821.153061     53.197279     1.183673    193.816327   \n",
       "d_19            32.153061      3.996599     0.000000      1.183673   \n",
       "d_2           3175.972789    514.197279   115.037415    416.789116   \n",
       "d_20             2.517007      0.000000     0.000000      0.000000   \n",
       "d_21            21.986395      1.285714     0.000000    106.775510   \n",
       "d_22             3.034014      0.408163     0.000000      0.000000   \n",
       "d_23            41.149660      4.044218     0.000000      0.000000   \n",
       "d_24            11.129252     54.200680   377.707483    293.802721   \n",
       "d_25             0.404762      0.000000     0.000000      0.000000   \n",
       "d_26            77.911565     19.329932     0.000000     12.295918   \n",
       "d_27            17.197279      0.000000     0.000000      0.380952   \n",
       "d_28            51.772109      6.156463     0.000000      7.976190   \n",
       "d_29             0.000000      0.000000     0.000000      0.000000   \n",
       "d_3              0.000000      0.000000     0.000000      0.000000   \n",
       "d_30            47.629252      0.500000     0.000000      0.761905   \n",
       "d_31          1277.064626     43.653061     0.428571     30.210884   \n",
       "d_32             0.000000      0.000000     0.000000      0.000000   \n",
       "d_33             0.000000      0.000000     0.000000      0.000000   \n",
       "d_34             0.000000      0.000000     0.000000      0.000000   \n",
       "d_35             1.445578      0.000000     0.000000      0.000000   \n",
       "d_36             5.564626      0.000000     0.000000      0.000000   \n",
       "d_37             0.000000      0.000000     0.000000      0.000000   \n",
       "d_38             0.000000      0.000000     0.000000      0.000000   \n",
       "d_39             0.000000      0.000000     0.000000      0.000000   \n",
       "d_4              0.000000      0.000000     0.000000      0.000000   \n",
       "d_40             0.000000      0.000000     0.000000      0.000000   \n",
       "d_41             0.000000      0.000000     0.000000      0.000000   \n",
       "d_42             0.000000      0.000000     0.000000      0.000000   \n",
       "d_43             0.000000      0.000000     0.000000      0.000000   \n",
       "d_44             0.000000      0.000000     0.000000      0.000000   \n",
       "d_45             0.000000      0.000000     0.000000      0.000000   \n",
       "d_46             1.414966      0.000000     0.000000      0.000000   \n",
       "d_47             0.000000      0.000000     0.000000      0.000000   \n",
       "d_48             0.000000      0.000000     0.000000      0.000000   \n",
       "d_49             0.000000      0.000000     0.000000      0.000000   \n",
       "d_5              0.000000      0.000000     0.000000      0.000000   \n",
       "d_50             0.000000      0.000000     0.000000      0.000000   \n",
       "d_51             0.000000      0.000000     0.000000      0.000000   \n",
       "d_52             0.000000      0.000000     0.000000      0.000000   \n",
       "d_53             0.000000      0.000000     0.000000      0.000000   \n",
       "d_54             0.000000      0.000000     0.000000      0.000000   \n",
       "d_55             0.000000      0.000000     0.000000      0.000000   \n",
       "d_56            10.489796      0.000000     0.000000      0.000000   \n",
       "d_57            18.231293      0.000000     0.000000      1.023810   \n",
       "d_58             0.000000      0.000000     0.000000      0.000000   \n",
       "d_59             0.000000      0.000000     0.000000      0.000000   \n",
       "d_6             11.884354      0.000000     0.000000      0.367347   \n",
       "d_60             0.000000      0.000000     0.000000      0.000000   \n",
       "d_7             25.482993      1.486395     0.000000      1.585034   \n",
       "d_8              0.000000      0.000000     0.000000      0.000000   \n",
       "d_9              0.000000      0.000000     0.000000      0.000000   \n",
       "\n",
       "region               d_17           d_18  ...          d_55           d_56  \\\n",
       "home_region                               ...                                \n",
       "d_1             44.401361      45.034014  ...     81.452381     495.377551   \n",
       "d_10             2.285714     350.795918  ...      0.000000       9.037415   \n",
       "d_11             0.000000       6.962585  ...      0.000000       0.000000   \n",
       "d_12             0.000000      29.578231  ...      0.000000       0.000000   \n",
       "d_13             8.149660     702.721088  ...      0.000000       7.421769   \n",
       "d_14             0.000000      51.227891  ...      0.000000       1.530612   \n",
       "d_15             0.000000       3.125850  ...      0.000000       0.000000   \n",
       "d_16             0.000000     176.612245  ...      0.000000       0.000000   \n",
       "d_17         32508.108844      36.721088  ...      0.000000      39.285714   \n",
       "d_18            51.982993  103781.571429  ...      4.387755      38.122449   \n",
       "d_19            74.527211     643.489796  ...      0.000000      12.544218   \n",
       "d_2            859.792517   13352.034014  ...    173.870748     778.336735   \n",
       "d_20             0.000000      49.891156  ...      0.000000       0.380952   \n",
       "d_21             2.404762    1531.840136  ...      0.000000       0.523810   \n",
       "d_22             0.000000      82.425170  ...      0.000000       0.000000   \n",
       "d_23           192.554422     432.717687  ...      0.000000       4.578231   \n",
       "d_24             0.000000      68.136054  ...      0.000000       0.000000   \n",
       "d_25           507.217687      32.738095  ...      0.000000       0.000000   \n",
       "d_26           194.812925     144.387755  ...     42.125850      93.234694   \n",
       "d_27             1.238095      47.170068  ...      0.000000      21.166667   \n",
       "d_28           869.421769      88.581633  ...    737.993197     210.435374   \n",
       "d_29             0.000000       6.319728  ...      3.129252       0.000000   \n",
       "d_3            667.146259      28.357143  ...      0.000000      25.642857   \n",
       "d_30             3.693878      60.972789  ...      3.738095      34.319728   \n",
       "d_31            50.772109     719.476190  ...      5.659864      52.829932   \n",
       "d_32             4.370748       2.336735  ...      0.000000      19.374150   \n",
       "d_33            14.952381       9.931973  ...      0.000000      31.799320   \n",
       "d_34             0.727891       0.000000  ...      0.000000      39.020408   \n",
       "d_35           266.500000      19.741497  ...      0.000000      60.877551   \n",
       "d_36            65.465986      35.891156  ...     16.489796     158.200680   \n",
       "d_37             0.000000       0.000000  ...      0.000000      10.578231   \n",
       "d_38             0.380952       0.000000  ...      0.000000      10.122449   \n",
       "d_39             0.000000       0.000000  ...      9.683673       0.428571   \n",
       "d_4              0.000000       8.074830  ...      0.000000      11.938776   \n",
       "d_40             0.000000       0.000000  ...      0.809524       5.591837   \n",
       "d_41             0.000000       5.693878  ...      0.000000      51.241497   \n",
       "d_42             0.000000       0.000000  ...      0.000000       0.000000   \n",
       "d_43             0.000000       0.000000  ...     83.068027      63.503401   \n",
       "d_44             0.000000       0.000000  ...      0.000000       0.000000   \n",
       "d_45             0.000000       0.000000  ...      0.000000      38.282313   \n",
       "d_46            30.731293      24.241497  ...     18.088435      62.574830   \n",
       "d_47             0.000000       0.000000  ...      0.000000       0.000000   \n",
       "d_48             0.000000       0.000000  ...      0.000000      22.833333   \n",
       "d_49             0.000000       0.000000  ...      1.530612     182.374150   \n",
       "d_5              0.000000      11.744898  ...      0.000000      12.408163   \n",
       "d_50             0.000000       0.000000  ...      0.000000       8.666667   \n",
       "d_51             0.000000       0.000000  ...      0.000000       0.000000   \n",
       "d_52             0.000000       0.000000  ...      1.969388      15.197279   \n",
       "d_53           269.462585       3.829932  ...      1.704082     383.911565   \n",
       "d_54             0.000000       0.000000  ...    962.510204      62.496599   \n",
       "d_55             0.000000       5.710884  ...  48937.197279     136.336735   \n",
       "d_56            56.829932      38.156463  ...    132.707483  113317.666667   \n",
       "d_57            27.384354      40.741497  ...   1277.622449    1035.023810   \n",
       "d_58             0.000000       0.000000  ...      0.387755      51.717687   \n",
       "d_59             5.489796       2.010204  ...     36.765306    1260.299320   \n",
       "d_6             22.908163      89.996599  ...      0.000000       8.751701   \n",
       "d_60             5.112245       5.829932  ...      8.860544     198.418367   \n",
       "d_7             34.173469     130.806122  ...      0.346939      60.272109   \n",
       "d_8              0.000000      31.755102  ...      0.000000       1.309524   \n",
       "d_9              0.000000      33.173469  ...      0.000000       0.833333   \n",
       "\n",
       "region               d_57          d_58          d_59           d_6  \\\n",
       "home_region                                                           \n",
       "d_1            223.527211     79.316327     72.806122     28.095238   \n",
       "d_10            13.867347      0.000000      0.000000      8.714286   \n",
       "d_11             0.000000      0.000000      0.000000      0.000000   \n",
       "d_12             0.000000      0.000000      0.000000      0.000000   \n",
       "d_13            12.500000      0.000000      0.000000     18.683673   \n",
       "d_14             0.000000      0.000000      0.000000      0.000000   \n",
       "d_15             0.000000      0.000000      0.000000      0.000000   \n",
       "d_16             0.000000      0.000000      0.000000      0.000000   \n",
       "d_17            14.034014      0.000000      0.000000     21.156463   \n",
       "d_18            32.013605      0.000000      0.346939    109.180272   \n",
       "d_19             4.989796      0.000000      0.000000    512.925170   \n",
       "d_2            599.210884     63.921769    133.574830   1123.040816   \n",
       "d_20             0.000000      0.000000      0.000000      0.428571   \n",
       "d_21             0.000000      0.000000      0.000000    788.578231   \n",
       "d_22             0.000000      0.000000      0.000000     84.908163   \n",
       "d_23             2.537415      0.000000      0.000000     24.938776   \n",
       "d_24             0.000000      0.000000      0.000000      0.000000   \n",
       "d_25             0.000000      0.000000      0.000000    675.306122   \n",
       "d_26           131.292517      0.326531     21.707483     32.527211   \n",
       "d_27            20.462585      0.000000      0.000000      8.734694   \n",
       "d_28           864.275510      7.183673     46.819728     17.384354   \n",
       "d_29             1.380952      0.000000      0.000000      0.000000   \n",
       "d_3              7.370748      0.000000      0.000000    307.799320   \n",
       "d_30            38.255102      0.000000      0.000000      9.921769   \n",
       "d_31            48.142857      0.000000      5.363946     67.568027   \n",
       "d_32             2.431973      0.877551      9.119048      0.809524   \n",
       "d_33             4.918367     25.554422      7.778912      0.785714   \n",
       "d_34             9.755102    272.166667    219.925170      0.000000   \n",
       "d_35            18.261905      0.346939      5.860544      1.976190   \n",
       "d_36            54.255102     80.091837    317.486395     12.884354   \n",
       "d_37             0.000000    632.435374      1.693878      0.000000   \n",
       "d_38             0.326531      0.346939      1.272109      0.000000   \n",
       "d_39             0.000000      0.000000      0.000000      0.000000   \n",
       "d_4              0.000000      0.000000      0.000000     21.772109   \n",
       "d_40             5.918367      0.000000      0.000000      0.000000   \n",
       "d_41            22.666667      0.000000      0.000000      0.000000   \n",
       "d_42             0.000000      0.000000      0.000000      0.000000   \n",
       "d_43           371.251701      0.000000      0.000000      0.000000   \n",
       "d_44             0.000000      0.000000      0.000000      0.000000   \n",
       "d_45            11.945578      0.000000      0.000000      0.476190   \n",
       "d_46            37.017007     42.085034     25.863946      4.102041   \n",
       "d_47             0.000000      0.000000      0.000000      0.000000   \n",
       "d_48             5.336735     61.377551      1.023810      0.000000   \n",
       "d_49            10.908163     69.149660     20.401361      0.000000   \n",
       "d_5              1.795918      1.074830      0.000000     28.000000   \n",
       "d_50             0.775510      0.000000      0.000000      0.000000   \n",
       "d_51             0.000000      0.000000      0.000000      0.000000   \n",
       "d_52             3.078231      1.000000      3.380952      0.000000   \n",
       "d_53           101.414966      0.380952    205.833333      0.000000   \n",
       "d_54           216.384354      0.326531      7.129252      0.387755   \n",
       "d_55          1027.078231      0.367347     30.442177      0.000000   \n",
       "d_56          1112.350340     53.853741   1254.476190     19.755102   \n",
       "d_57         96319.581633     15.431973    108.931973      9.275510   \n",
       "d_58            14.993197  27866.040816     30.738095      0.000000   \n",
       "d_59           106.442177     35.000000  39043.462585      0.000000   \n",
       "d_6              2.687075      0.000000      0.000000  73893.612245   \n",
       "d_60            58.823129   1245.132653    393.673469      0.346939   \n",
       "d_7             23.367347      1.214286      4.574830   1195.500000   \n",
       "d_8              0.428571      0.000000      0.000000    743.506803   \n",
       "d_9              0.000000      0.000000      0.000000    225.880952   \n",
       "\n",
       "region               d_60            d_7           d_8           d_9  \n",
       "home_region                                                           \n",
       "d_1            155.894558      97.258503     10.258503      3.938776  \n",
       "d_10             0.000000      20.044218      0.000000      0.000000  \n",
       "d_11             0.000000       0.000000      0.000000      0.000000  \n",
       "d_12             0.000000       0.452381      0.000000      0.000000  \n",
       "d_13             0.000000      21.659864      0.000000      0.380952  \n",
       "d_14             0.000000       0.326531      0.000000      0.000000  \n",
       "d_15             0.000000       0.000000      0.000000      0.000000  \n",
       "d_16             0.000000       0.500000      0.000000      0.000000  \n",
       "d_17             0.000000      26.207483      0.000000      0.000000  \n",
       "d_18             2.132653     115.173469     32.074830     31.782313  \n",
       "d_19             0.000000     101.258503     18.901361     13.772109  \n",
       "d_2            181.061224    1455.197279    422.472789    398.489796  \n",
       "d_20             0.000000       4.925170      0.000000     22.231293  \n",
       "d_21             0.000000      42.210884      0.840136      0.523810  \n",
       "d_22             0.734694       4.251701      0.000000    136.149660  \n",
       "d_23             0.326531      28.027211      0.000000      0.000000  \n",
       "d_24             0.000000       2.000000      0.000000      0.000000  \n",
       "d_25             0.000000      25.442177      0.000000      0.000000  \n",
       "d_26            13.411565      46.149660      3.632653      1.714286  \n",
       "d_27             0.000000      51.612245      0.547619      0.000000  \n",
       "d_28            33.687075      39.581633      0.785714      0.326531  \n",
       "d_29             0.000000       0.000000      0.000000      0.000000  \n",
       "d_3              0.000000     566.537415     20.829932      3.319728  \n",
       "d_30             0.000000      27.700680      0.000000      0.000000  \n",
       "d_31             5.843537      77.564626     15.646259     17.414966  \n",
       "d_32            12.642857      69.554422      1.020408      0.000000  \n",
       "d_33            27.901361      63.931973      0.772109      0.000000  \n",
       "d_34           463.802721       6.479592      0.000000      0.000000  \n",
       "d_35            13.489796      35.350340      0.326531      0.690476  \n",
       "d_36           212.843537     121.938776      6.843537      0.000000  \n",
       "d_37            39.955782       0.326531      0.000000      0.000000  \n",
       "d_38             1.527211      13.350340      0.000000      0.000000  \n",
       "d_39             0.000000       0.000000      0.000000      0.000000  \n",
       "d_4              0.448980    1607.714286     41.914966      3.540816  \n",
       "d_40             0.000000       0.000000      0.000000      0.000000  \n",
       "d_41             8.479592       3.588435      0.000000      0.000000  \n",
       "d_42             0.000000       0.000000      0.000000      0.000000  \n",
       "d_43             0.000000       0.000000      0.000000      0.000000  \n",
       "d_44             0.000000       0.000000      0.000000      0.000000  \n",
       "d_45             1.166667       1.530612      0.000000      0.000000  \n",
       "d_46            39.996599      62.700680      0.346939      0.000000  \n",
       "d_47             0.000000       0.000000      0.000000      0.000000  \n",
       "d_48            31.540816       0.000000      0.000000      0.000000  \n",
       "d_49           166.863946       0.000000      0.000000      0.000000  \n",
       "d_5              1.727891     304.748299     26.207483      2.772109  \n",
       "d_50             0.000000       0.000000      0.000000      0.000000  \n",
       "d_51             0.000000       0.000000      0.000000      0.000000  \n",
       "d_52            10.455782       0.326531      0.000000      0.000000  \n",
       "d_53            12.687075       3.204082      0.000000      0.000000  \n",
       "d_54             0.346939       0.000000      0.000000      0.000000  \n",
       "d_55             5.527211       1.204082      0.000000      0.000000  \n",
       "d_56           168.897959      63.064626      2.503401      0.404762  \n",
       "d_57            51.353741      33.744898      0.346939      0.000000  \n",
       "d_58          1340.023810       0.993197      0.000000      0.000000  \n",
       "d_59           421.292517       5.438776      0.000000      0.000000  \n",
       "d_6              0.000000    1240.727891    740.714286    199.642857  \n",
       "d_60         43298.231293      26.428571      0.000000      0.000000  \n",
       "d_7             23.544218  168813.448980   2598.445578    212.710884  \n",
       "d_8              0.000000    1688.853741  50712.615646    528.414966  \n",
       "d_9              0.000000     236.479592    494.469388  33752.465986  \n",
>>>>>>> Stashed changes
       "\n",
       "[60 rows x 60 columns]"
      ]
     },
<<<<<<< Updated upstream
     "execution_count": 8,
=======
<<<<<<< Updated upstream:notebooks/mobility/Lockdown Data Mobility Processing New District_dummy.ipynb
     "execution_count": 13,
=======
     "execution_count": 12,
>>>>>>> Stashed changes:notebooks/mobility/Lockdown Data Mobility Processing New District.ipynb
>>>>>>> Stashed changes
     "metadata": {},
     "output_type": "execute_result"
    }
   ],
   "source": [
    "daily_day_src_dst_location_count = pre_lockdown_day_src_dst_location_count.reset_index()\n",
    "\n",
    "daily_day_src_dst_location_count['weekday'] = daily_day_src_dst_location_count['date'].dt.weekday\n",
    "daily_day_src_dst_location_count.rename(columns={'count': 'prob'}, inplace=True)\n",
    "\n",
    "daily_day_src_dst_location_count = daily_day_src_dst_location_count.groupby(['weekday', 'home_region', 'region'], sort=True)['prob'].mean()\n",
    "daily_day_src_dst_location_count = daily_day_src_dst_location_count.unstack('region')\n",
    "\n",
    "daily_day_src_dst_location_count.groupby(level=['home_region']).mean()"
   ]
  },
  {
   "cell_type": "markdown",
   "metadata": {},
   "source": [
    "## Greatest number of outbound movements"
   ]
  },
  {
   "cell_type": "code",
<<<<<<< Updated upstream
   "execution_count": 9,
=======
<<<<<<< Updated upstream:notebooks/mobility/Lockdown Data Mobility Processing New District_dummy.ipynb
   "execution_count": 14,
=======
   "execution_count": 13,
>>>>>>> Stashed changes:notebooks/mobility/Lockdown Data Mobility Processing New District.ipynb
>>>>>>> Stashed changes
   "metadata": {},
   "outputs": [],
   "source": [
    "values = daily_day_src_dst_location_count.groupby(level=['home_region']).mean().values\n",
    "np.fill_diagonal(values, 0)\n",
    "largest_outbound_sorted_index = values.sum(axis=1).argsort()[::-1]"
   ]
  },
  {
   "cell_type": "code",
<<<<<<< Updated upstream
   "execution_count": 10,
=======
<<<<<<< Updated upstream:notebooks/mobility/Lockdown Data Mobility Processing New District_dummy.ipynb
   "execution_count": 15,
=======
   "execution_count": 14,
>>>>>>> Stashed changes:notebooks/mobility/Lockdown Data Mobility Processing New District.ipynb
>>>>>>> Stashed changes
   "metadata": {},
   "outputs": [
    {
     "data": {
      "text/plain": [
<<<<<<< Updated upstream
       "array(['w_2', 'w_31', 'w_18', 'w_1', 'w_36', 'w_7', 'w_26', 'w_23',\n",
       "       'w_28', 'w_19', 'w_13', 'w_56', 'w_57', 'w_21', 'w_6', 'w_10',\n",
       "       'w_34', 'w_30', 'w_45', 'w_3', 'w_17', 'w_60', 'w_35', 'w_8',\n",
       "       'w_55', 'w_16', 'w_33', 'w_59', 'w_4', 'w_32', 'w_27', 'w_25',\n",
       "       'w_38', 'w_58', 'w_22', 'w_14', 'w_53', 'w_5', 'w_37', 'w_24',\n",
       "       'w_52', 'w_46', 'w_54', 'w_12', 'w_49', 'w_20', 'w_9', 'w_11',\n",
       "       'w_41', 'w_48', 'w_47', 'w_44', 'w_40', 'w_29', 'w_51', 'w_15',\n",
       "       'w_43', 'w_50', 'w_42', 'w_39'], dtype='<U4')"
      ]
     },
     "execution_count": 10,
=======
       "array(['d_2', 'd_31', 'd_18', 'd_1', 'd_36', 'd_7', 'd_26', 'd_23',\n",
       "       'd_28', 'd_19', 'd_13', 'd_56', 'd_57', 'd_21', 'd_6', 'd_10',\n",
       "       'd_34', 'd_30', 'd_45', 'd_3', 'd_17', 'd_60', 'd_35', 'd_8',\n",
       "       'd_55', 'd_16', 'd_33', 'd_59', 'd_4', 'd_32', 'd_27', 'd_25',\n",
       "       'd_38', 'd_58', 'd_22', 'd_14', 'd_53', 'd_5', 'd_37', 'd_24',\n",
       "       'd_52', 'd_46', 'd_54', 'd_12', 'd_49', 'd_20', 'd_9', 'd_11',\n",
       "       'd_41', 'd_48', 'd_47', 'd_44', 'd_40', 'd_29', 'd_51', 'd_15',\n",
       "       'd_43', 'd_50', 'd_42', 'd_39'], dtype='<U4')"
      ]
     },
<<<<<<< Updated upstream:notebooks/mobility/Lockdown Data Mobility Processing New District_dummy.ipynb
     "execution_count": 15,
=======
     "execution_count": 14,
>>>>>>> Stashed changes:notebooks/mobility/Lockdown Data Mobility Processing New District.ipynb
>>>>>>> Stashed changes
     "metadata": {},
     "output_type": "execute_result"
    }
   ],
   "source": [
    "outbound_districts = np.array(region)[largest_outbound_sorted_index]\n",
    "outbound_districts"
   ]
  },
  {
   "cell_type": "markdown",
   "metadata": {},
   "source": [
    "## Greatest number of inbound movements"
   ]
  },
  {
   "cell_type": "code",
<<<<<<< Updated upstream
   "execution_count": 11,
=======
<<<<<<< Updated upstream:notebooks/mobility/Lockdown Data Mobility Processing New District_dummy.ipynb
   "execution_count": 16,
=======
   "execution_count": 15,
>>>>>>> Stashed changes:notebooks/mobility/Lockdown Data Mobility Processing New District.ipynb
>>>>>>> Stashed changes
   "metadata": {},
   "outputs": [],
   "source": [
    "largest_inbound_sorted_index = values.sum(axis=0).argsort()[::-1]"
   ]
  },
  {
   "cell_type": "code",
<<<<<<< Updated upstream
   "execution_count": 12,
=======
<<<<<<< Updated upstream:notebooks/mobility/Lockdown Data Mobility Processing New District_dummy.ipynb
   "execution_count": 17,
=======
   "execution_count": 16,
>>>>>>> Stashed changes:notebooks/mobility/Lockdown Data Mobility Processing New District.ipynb
>>>>>>> Stashed changes
   "metadata": {},
   "outputs": [
    {
     "data": {
      "text/plain": [
<<<<<<< Updated upstream
       "array(['w_2', 'w_31', 'w_18', 'w_1', 'w_36', 'w_23', 'w_26', 'w_7',\n",
       "       'w_13', 'w_19', 'w_28', 'w_21', 'w_6', 'w_56', 'w_57', 'w_45',\n",
       "       'w_10', 'w_34', 'w_8', 'w_30', 'w_17', 'w_35', 'w_3', 'w_55',\n",
       "       'w_60', 'w_46', 'w_27', 'w_16', 'w_4', 'w_32', 'w_59', 'w_38',\n",
       "       'w_25', 'w_58', 'w_33', 'w_22', 'w_14', 'w_53', 'w_24', 'w_5',\n",
       "       'w_54', 'w_52', 'w_37', 'w_49', 'w_20', 'w_12', 'w_9', 'w_11',\n",
       "       'w_48', 'w_44', 'w_41', 'w_47', 'w_50', 'w_29', 'w_15', 'w_40',\n",
       "       'w_43', 'w_51', 'w_42', 'w_39'], dtype='<U4')"
      ]
     },
     "execution_count": 12,
=======
       "array(['d_2', 'd_31', 'd_18', 'd_1', 'd_36', 'd_23', 'd_26', 'd_7',\n",
       "       'd_13', 'd_19', 'd_28', 'd_21', 'd_6', 'd_56', 'd_57', 'd_45',\n",
       "       'd_10', 'd_34', 'd_8', 'd_30', 'd_17', 'd_35', 'd_3', 'd_55',\n",
       "       'd_60', 'd_46', 'd_27', 'd_16', 'd_4', 'd_32', 'd_59', 'd_38',\n",
       "       'd_25', 'd_58', 'd_33', 'd_22', 'd_14', 'd_53', 'd_24', 'd_5',\n",
       "       'd_54', 'd_52', 'd_37', 'd_49', 'd_20', 'd_12', 'd_9', 'd_11',\n",
       "       'd_48', 'd_44', 'd_41', 'd_47', 'd_50', 'd_29', 'd_15', 'd_40',\n",
       "       'd_43', 'd_51', 'd_42', 'd_39'], dtype='<U4')"
      ]
     },
<<<<<<< Updated upstream:notebooks/mobility/Lockdown Data Mobility Processing New District_dummy.ipynb
     "execution_count": 17,
=======
     "execution_count": 16,
>>>>>>> Stashed changes:notebooks/mobility/Lockdown Data Mobility Processing New District.ipynb
>>>>>>> Stashed changes
     "metadata": {},
     "output_type": "execute_result"
    }
   ],
   "source": [
    "inbound_districts = np.array(region)[largest_inbound_sorted_index]\n",
    "inbound_districts"
   ]
  },
  {
   "cell_type": "markdown",
   "metadata": {},
   "source": [
    "# Combined inbound and outbound"
   ]
  },
  {
   "cell_type": "code",
<<<<<<< Updated upstream
   "execution_count": 13,
=======
<<<<<<< Updated upstream:notebooks/mobility/Lockdown Data Mobility Processing New District_dummy.ipynb
   "execution_count": 18,
=======
   "execution_count": 17,
>>>>>>> Stashed changes:notebooks/mobility/Lockdown Data Mobility Processing New District.ipynb
>>>>>>> Stashed changes
   "metadata": {},
   "outputs": [
    {
     "data": {
      "text/html": [
       "<div>\n",
       "<style scoped>\n",
       "    .dataframe tbody tr th:only-of-type {\n",
       "        vertical-align: middle;\n",
       "    }\n",
       "\n",
       "    .dataframe tbody tr th {\n",
       "        vertical-align: top;\n",
       "    }\n",
       "\n",
       "    .dataframe thead th {\n",
       "        text-align: right;\n",
       "    }\n",
       "</style>\n",
       "<table border=\"1\" class=\"dataframe\">\n",
       "  <thead>\n",
       "    <tr style=\"text-align: right;\">\n",
       "      <th></th>\n",
       "      <th>index</th>\n",
       "      <th>outbound</th>\n",
       "      <th>inbound</th>\n",
       "    </tr>\n",
       "  </thead>\n",
       "  <tbody>\n",
       "    <tr>\n",
       "      <th>0</th>\n",
       "      <td>0</td>\n",
<<<<<<< Updated upstream
       "      <td>w_2</td>\n",
       "      <td>w_2</td>\n",
=======
       "      <td>d_2</td>\n",
       "      <td>d_2</td>\n",
>>>>>>> Stashed changes
       "    </tr>\n",
       "    <tr>\n",
       "      <th>1</th>\n",
       "      <td>1</td>\n",
<<<<<<< Updated upstream
       "      <td>w_31</td>\n",
       "      <td>w_31</td>\n",
=======
       "      <td>d_31</td>\n",
       "      <td>d_31</td>\n",
>>>>>>> Stashed changes
       "    </tr>\n",
       "    <tr>\n",
       "      <th>2</th>\n",
       "      <td>2</td>\n",
<<<<<<< Updated upstream
       "      <td>w_18</td>\n",
       "      <td>w_18</td>\n",
=======
       "      <td>d_18</td>\n",
       "      <td>d_18</td>\n",
>>>>>>> Stashed changes
       "    </tr>\n",
       "    <tr>\n",
       "      <th>3</th>\n",
       "      <td>3</td>\n",
<<<<<<< Updated upstream
       "      <td>w_1</td>\n",
       "      <td>w_1</td>\n",
=======
       "      <td>d_1</td>\n",
       "      <td>d_1</td>\n",
>>>>>>> Stashed changes
       "    </tr>\n",
       "    <tr>\n",
       "      <th>4</th>\n",
       "      <td>4</td>\n",
<<<<<<< Updated upstream
       "      <td>w_36</td>\n",
       "      <td>w_36</td>\n",
=======
       "      <td>d_36</td>\n",
       "      <td>d_36</td>\n",
>>>>>>> Stashed changes
       "    </tr>\n",
       "  </tbody>\n",
       "</table>\n",
       "</div>"
      ],
      "text/plain": [
       "   index outbound inbound\n",
<<<<<<< Updated upstream
       "0      0      w_2     w_2\n",
       "1      1     w_31    w_31\n",
       "2      2     w_18    w_18\n",
       "3      3      w_1     w_1\n",
       "4      4     w_36    w_36"
      ]
     },
     "execution_count": 13,
=======
       "0      0      d_2     d_2\n",
       "1      1     d_31    d_31\n",
       "2      2     d_18    d_18\n",
       "3      3      d_1     d_1\n",
       "4      4     d_36    d_36"
      ]
     },
<<<<<<< Updated upstream:notebooks/mobility/Lockdown Data Mobility Processing New District_dummy.ipynb
     "execution_count": 18,
=======
     "execution_count": 17,
>>>>>>> Stashed changes:notebooks/mobility/Lockdown Data Mobility Processing New District.ipynb
>>>>>>> Stashed changes
     "metadata": {},
     "output_type": "execute_result"
    }
   ],
   "source": [
    "inbound_outbound_df = pd.DataFrame({'outbound': outbound_districts, 'inbound': inbound_districts}).reset_index()\n",
    "inbound_outbound_df.head()"
   ]
  },
  {
   "cell_type": "code",
<<<<<<< Updated upstream
   "execution_count": 14,
=======
<<<<<<< Updated upstream:notebooks/mobility/Lockdown Data Mobility Processing New District_dummy.ipynb
   "execution_count": 19,
=======
   "execution_count": 18,
>>>>>>> Stashed changes:notebooks/mobility/Lockdown Data Mobility Processing New District.ipynb
>>>>>>> Stashed changes
   "metadata": {},
   "outputs": [
    {
     "data": {
      "text/plain": [
<<<<<<< Updated upstream
       "w_2     0.0\n",
       "w_31    1.0\n",
       "w_18    2.0\n",
       "w_1     3.0\n",
       "w_36    4.0\n",
       "w_7     6.0\n",
       "w_26    6.0\n",
       "w_23    6.0\n",
       "w_28    9.0\n",
       "w_13    9.0\n",
       "Name: index, dtype: float64"
      ]
     },
     "execution_count": 14,
=======
       "d_2     0.0\n",
       "d_31    1.0\n",
       "d_18    2.0\n",
       "d_1     3.0\n",
       "d_36    4.0\n",
       "d_7     6.0\n",
       "d_26    6.0\n",
       "d_23    6.0\n",
       "d_28    9.0\n",
       "d_13    9.0\n",
       "Name: index, dtype: float64"
      ]
     },
<<<<<<< Updated upstream:notebooks/mobility/Lockdown Data Mobility Processing New District_dummy.ipynb
     "execution_count": 19,
=======
     "execution_count": 18,
>>>>>>> Stashed changes:notebooks/mobility/Lockdown Data Mobility Processing New District.ipynb
>>>>>>> Stashed changes
     "metadata": {},
     "output_type": "execute_result"
    }
   ],
   "source": [
    "top_dist = ((inbound_outbound_df.set_index('outbound')['index'] + inbound_outbound_df.set_index('inbound')['index']) / 2).sort_values().head(10)\n",
    "top_dist"
   ]
  },
  {
   "cell_type": "code",
<<<<<<< Updated upstream
   "execution_count": 15,
=======
<<<<<<< Updated upstream:notebooks/mobility/Lockdown Data Mobility Processing New District_dummy.ipynb
   "execution_count": 20,
=======
   "execution_count": 19,
>>>>>>> Stashed changes:notebooks/mobility/Lockdown Data Mobility Processing New District.ipynb
>>>>>>> Stashed changes
   "metadata": {},
   "outputs": [
    {
     "data": {
      "text/plain": [
<<<<<<< Updated upstream
=======
<<<<<<< Updated upstream:notebooks/mobility/Lockdown Data Mobility Processing New District_dummy.ipynb
>>>>>>> Stashed changes
       "Index(['w_2', 'w_31', 'w_18', 'w_1', 'w_36', 'w_7', 'w_26', 'w_23', 'w_28',\n",
       "       'w_13'],\n",
       "      dtype='object')"
      ]
     },
<<<<<<< Updated upstream
     "execution_count": 15,
=======
     "execution_count": 20,
=======
       "Index(['d_2', 'd_31', 'd_18', 'd_1', 'd_36', 'd_7', 'd_26', 'd_23', 'd_28',\n",
       "       'd_13'],\n",
       "      dtype='object')"
      ]
     },
     "execution_count": 19,
>>>>>>> Stashed changes:notebooks/mobility/Lockdown Data Mobility Processing New District.ipynb
>>>>>>> Stashed changes
     "metadata": {},
     "output_type": "execute_result"
    }
   ],
   "source": [
    "top_dist.index"
   ]
  },
  {
   "cell_type": "code",
<<<<<<< Updated upstream
   "execution_count": 16,
=======
<<<<<<< Updated upstream:notebooks/mobility/Lockdown Data Mobility Processing New District_dummy.ipynb
   "execution_count": 21,
>>>>>>> Stashed changes
   "metadata": {},
   "outputs": [],
   "source": [
    "import geopandas as gpd"
   ]
  },
  {
   "cell_type": "code",
<<<<<<< Updated upstream
   "execution_count": 17,
   "metadata": {},
   "outputs": [],
   "source": [
    "sh = gpd.read_file(\n",
    "    get_data_dir('raw', 'shapefiles', 'new_districts', 'ZWE_adm2.shp'))"
=======
=======
>>>>>>> Stashed changes:notebooks/mobility/Lockdown Data Mobility Processing New District.ipynb
   "execution_count": 22,
   "metadata": {},
   "outputs": [],
   "source": [
    "sh = gpd.read_file('/Users/sophieayling/Documents/GitHub/c19abm_fork/data/raw/shapefiles/new_districts/ZWE_adm2.shp')"
>>>>>>> Stashed changes
   ]
  },
  {
   "cell_type": "code",
<<<<<<< Updated upstream
   "execution_count": 18,
   "metadata": {},
   "outputs": [],
   "source": [
    "inbound_outbound_df['inbound_disttrict'] = inbound_outbound_df['inbound'].str.lstrip('w_').astype(int)\n",
    "inbound_outbound_df['outbound_disttrict'] = inbound_outbound_df['outbound'].str.lstrip('w_').astype(int)"
=======
   "execution_count": 23,
   "metadata": {},
   "outputs": [],
   "source": [
<<<<<<< Updated upstream:notebooks/mobility/Lockdown Data Mobility Processing New District_dummy.ipynb
    "inbound_outbound_df['inbound_district'] = inbound_outbound_df['inbound'].str.lstrip('w_').astype(int)\n",
    "inbound_outbound_df['outbound_district'] = inbound_outbound_df['outbound'].str.lstrip('w_').astype(int)"
=======
    "inbound_outbound_df['inbound_disttrict'] = inbound_outbound_df['inbound'].str.lstrip('d_').astype(int)\n",
    "inbound_outbound_df['outbound_disttrict'] = inbound_outbound_df['outbound'].str.lstrip('d_').astype(int)"
>>>>>>> Stashed changes:notebooks/mobility/Lockdown Data Mobility Processing New District.ipynb
>>>>>>> Stashed changes
   ]
  },
  {
   "cell_type": "code",
<<<<<<< Updated upstream
   "execution_count": 19,
   "metadata": {},
   "outputs": [],
   "source": [
    "inbound_outbound_df['inbound_district'] = inbound_outbound_df['inbound_disttrict'].map(sh.set_index('ID_2')['NAME_2'])"
=======
   "execution_count": 25,
   "metadata": {},
   "outputs": [],
   "source": [
    "inbound_outbound_df['inbound_district'] = inbound_outbound_df['inbound_district'].map(sh.set_index('ID_2')['NAME_2'])"
>>>>>>> Stashed changes
   ]
  },
  {
   "cell_type": "code",
<<<<<<< Updated upstream
   "execution_count": 20,
   "metadata": {},
   "outputs": [],
   "source": [
    "inbound_outbound_df['outbound_district'] = inbound_outbound_df['outbound_disttrict'].map(sh.set_index('ID_2')['NAME_2'])"
=======
<<<<<<< Updated upstream:notebooks/mobility/Lockdown Data Mobility Processing New District_dummy.ipynb
   "execution_count": 26,
=======
   "execution_count": 25,
>>>>>>> Stashed changes:notebooks/mobility/Lockdown Data Mobility Processing New District.ipynb
   "metadata": {},
   "outputs": [],
   "source": [
    "inbound_outbound_df['outbound_district'] = inbound_outbound_df['outbound_district'].map(sh.set_index('ID_2')['NAME_2'])"
>>>>>>> Stashed changes
   ]
  },
  {
   "cell_type": "code",
<<<<<<< Updated upstream
   "execution_count": 22,
   "metadata": {},
   "outputs": [],
   "source": [
    "inbound_outbound_df[['inbound_district', 'outbound_district']].to_excel(\n",
    "    get_data_dir('preprocessed', 'mobility', 'Most mobile districts.xlsx'))"
   ]
  },
  {
   "cell_type": "code",
   "execution_count": null,
   "metadata": {},
   "outputs": [],
   "source": []
  },
  {
=======
<<<<<<< Updated upstream:notebooks/mobility/Lockdown Data Mobility Processing New District_dummy.ipynb
   "execution_count": 29,
=======
   "execution_count": 26,
>>>>>>> Stashed changes:notebooks/mobility/Lockdown Data Mobility Processing New District.ipynb
   "metadata": {},
   "outputs": [],
   "source": [
    "inbound_outbound_df[['inbound_district', 'outbound_district']].to_excel('/Users/sophieayling/Documents/GitHub/c19abm_fork/data/preprocessed/mobility/Most_mobile_districts_dummy.xlsx')"
   ]
  },
  {
>>>>>>> Stashed changes
   "cell_type": "markdown",
   "metadata": {},
   "source": [
    "# Find seed districts"
   ]
  },
  {
   "cell_type": "code",
<<<<<<< Updated upstream
   "execution_count": 23,
   "metadata": {},
   "outputs": [],
   "source": [
    "old_new_df = pd.read_csv(\n",
    "    get_data_dir('raw', 'district_relation.csv'))"
=======
<<<<<<< Updated upstream:notebooks/mobility/Lockdown Data Mobility Processing New District_dummy.ipynb
   "execution_count": 30,
=======
   "execution_count": 27,
>>>>>>> Stashed changes:notebooks/mobility/Lockdown Data Mobility Processing New District.ipynb
   "metadata": {},
   "outputs": [],
   "source": [
    "old_new_df = pd.read_csv('/Users/sophieayling/Documents/GitHub/c19abm_fork/data/raw/district_relation.csv')"
>>>>>>> Stashed changes
   ]
  },
  {
   "cell_type": "code",
<<<<<<< Updated upstream
   "execution_count": 24,
   "metadata": {},
   "outputs": [],
   "source": [
    "old_new_df['new_dist_id'] = old_new_df['NEW_DIST_ID_2'].map(lambda x: f'w_{x}')"
=======
<<<<<<< Updated upstream:notebooks/mobility/Lockdown Data Mobility Processing New District_dummy.ipynb
   "execution_count": 31,
=======
   "execution_count": 28,
>>>>>>> Stashed changes:notebooks/mobility/Lockdown Data Mobility Processing New District.ipynb
   "metadata": {},
   "outputs": [],
   "source": [
    "old_new_df['new_dist_id'] = old_new_df['NEW_DIST_ID_2'].map(lambda x: f'd_{x}')"
>>>>>>> Stashed changes
   ]
  },
  {
   "cell_type": "code",
<<<<<<< Updated upstream
   "execution_count": 25,
=======
<<<<<<< Updated upstream:notebooks/mobility/Lockdown Data Mobility Processing New District_dummy.ipynb
   "execution_count": 32,
=======
   "execution_count": 29,
>>>>>>> Stashed changes:notebooks/mobility/Lockdown Data Mobility Processing New District.ipynb
>>>>>>> Stashed changes
   "metadata": {},
   "outputs": [
    {
     "data": {
      "text/html": [
       "<div>\n",
       "<style scoped>\n",
       "    .dataframe tbody tr th:only-of-type {\n",
       "        vertical-align: middle;\n",
       "    }\n",
       "\n",
       "    .dataframe tbody tr th {\n",
       "        vertical-align: top;\n",
       "    }\n",
       "\n",
       "    .dataframe thead th {\n",
       "        text-align: right;\n",
       "    }\n",
       "</style>\n",
       "<table border=\"1\" class=\"dataframe\">\n",
       "  <thead>\n",
       "    <tr style=\"text-align: right;\">\n",
       "      <th></th>\n",
       "      <th>Unnamed: 0</th>\n",
       "      <th>CNTRY_NAME</th>\n",
       "      <th>ADMIN_NAME</th>\n",
       "      <th>CNTRY_CODE</th>\n",
       "      <th>IPUM2012</th>\n",
       "      <th>DIST2012</th>\n",
       "      <th>PARENT</th>\n",
       "      <th>NEW_DIST_ID_2</th>\n",
       "      <th>new_dist_id</th>\n",
       "    </tr>\n",
       "  </thead>\n",
       "  <tbody>\n",
       "    <tr>\n",
       "      <th>0</th>\n",
       "      <td>1</td>\n",
       "      <td>Zimbabwe</td>\n",
       "      <td>Bulawayo Urban</td>\n",
       "      <td>716</td>\n",
       "      <td>21</td>\n",
       "      <td>21</td>\n",
       "      <td>0</td>\n",
       "      <td>1</td>\n",
<<<<<<< Updated upstream
       "      <td>w_1</td>\n",
=======
       "      <td>d_1</td>\n",
>>>>>>> Stashed changes
       "    </tr>\n",
       "  </tbody>\n",
       "</table>\n",
       "</div>"
      ],
      "text/plain": [
       "   Unnamed: 0 CNTRY_NAME      ADMIN_NAME  CNTRY_CODE  IPUM2012  DIST2012  \\\n",
       "0           1   Zimbabwe  Bulawayo Urban         716        21        21   \n",
       "\n",
       "   PARENT  NEW_DIST_ID_2 new_dist_id  \n",
<<<<<<< Updated upstream
       "0       0              1         w_1  "
      ]
     },
     "execution_count": 25,
=======
       "0       0              1         d_1  "
      ]
     },
<<<<<<< Updated upstream:notebooks/mobility/Lockdown Data Mobility Processing New District_dummy.ipynb
     "execution_count": 32,
=======
     "execution_count": 29,
>>>>>>> Stashed changes:notebooks/mobility/Lockdown Data Mobility Processing New District.ipynb
>>>>>>> Stashed changes
     "metadata": {},
     "output_type": "execute_result"
    }
   ],
   "source": [
    "old_new_df[old_new_df['ADMIN_NAME'] == 'Bulawayo Urban']"
   ]
  },
  {
   "cell_type": "code",
<<<<<<< Updated upstream
   "execution_count": 26,
=======
<<<<<<< Updated upstream:notebooks/mobility/Lockdown Data Mobility Processing New District_dummy.ipynb
   "execution_count": 33,
=======
   "execution_count": 30,
>>>>>>> Stashed changes:notebooks/mobility/Lockdown Data Mobility Processing New District.ipynb
>>>>>>> Stashed changes
   "metadata": {},
   "outputs": [
    {
     "data": {
      "text/html": [
       "<div>\n",
       "<style scoped>\n",
       "    .dataframe tbody tr th:only-of-type {\n",
       "        vertical-align: middle;\n",
       "    }\n",
       "\n",
       "    .dataframe tbody tr th {\n",
       "        vertical-align: top;\n",
       "    }\n",
       "\n",
       "    .dataframe thead th {\n",
       "        text-align: right;\n",
       "    }\n",
       "</style>\n",
       "<table border=\"1\" class=\"dataframe\">\n",
       "  <thead>\n",
       "    <tr style=\"text-align: right;\">\n",
       "      <th></th>\n",
       "      <th>Unnamed: 0</th>\n",
       "      <th>CNTRY_NAME</th>\n",
       "      <th>ADMIN_NAME</th>\n",
       "      <th>CNTRY_CODE</th>\n",
       "      <th>IPUM2012</th>\n",
       "      <th>DIST2012</th>\n",
       "      <th>PARENT</th>\n",
       "      <th>NEW_DIST_ID_2</th>\n",
       "      <th>new_dist_id</th>\n",
       "    </tr>\n",
       "  </thead>\n",
       "  <tbody>\n",
       "    <tr>\n",
       "      <th>81</th>\n",
       "      <td>82</td>\n",
       "      <td>Zimbabwe</td>\n",
       "      <td>Harare Urban</td>\n",
       "      <td>716</td>\n",
       "      <td>9021</td>\n",
       "      <td>921</td>\n",
       "      <td>9</td>\n",
       "      <td>2</td>\n",
<<<<<<< Updated upstream
       "      <td>w_2</td>\n",
=======
       "      <td>d_2</td>\n",
>>>>>>> Stashed changes
       "    </tr>\n",
       "  </tbody>\n",
       "</table>\n",
       "</div>"
      ],
      "text/plain": [
       "    Unnamed: 0 CNTRY_NAME    ADMIN_NAME  CNTRY_CODE  IPUM2012  DIST2012  \\\n",
       "81          82   Zimbabwe  Harare Urban         716      9021       921   \n",
       "\n",
       "    PARENT  NEW_DIST_ID_2 new_dist_id  \n",
<<<<<<< Updated upstream
       "81       9              2         w_2  "
      ]
     },
     "execution_count": 26,
=======
       "81       9              2         d_2  "
      ]
     },
<<<<<<< Updated upstream:notebooks/mobility/Lockdown Data Mobility Processing New District_dummy.ipynb
     "execution_count": 33,
=======
     "execution_count": 30,
>>>>>>> Stashed changes:notebooks/mobility/Lockdown Data Mobility Processing New District.ipynb
>>>>>>> Stashed changes
     "metadata": {},
     "output_type": "execute_result"
    }
   ],
   "source": [
    "old_new_df[old_new_df['ADMIN_NAME'] == 'Harare Urban']"
   ]
  },
  {
   "cell_type": "code",
<<<<<<< Updated upstream
   "execution_count": 27,
=======
<<<<<<< Updated upstream:notebooks/mobility/Lockdown Data Mobility Processing New District_dummy.ipynb
   "execution_count": 34,
=======
   "execution_count": 31,
>>>>>>> Stashed changes:notebooks/mobility/Lockdown Data Mobility Processing New District.ipynb
>>>>>>> Stashed changes
   "metadata": {},
   "outputs": [
    {
     "data": {
      "text/html": [
       "<div>\n",
       "<style scoped>\n",
       "    .dataframe tbody tr th:only-of-type {\n",
       "        vertical-align: middle;\n",
       "    }\n",
       "\n",
       "    .dataframe tbody tr th {\n",
       "        vertical-align: top;\n",
       "    }\n",
       "\n",
       "    .dataframe thead th {\n",
       "        text-align: right;\n",
       "    }\n",
       "</style>\n",
       "<table border=\"1\" class=\"dataframe\">\n",
       "  <thead>\n",
       "    <tr style=\"text-align: right;\">\n",
       "      <th></th>\n",
       "      <th>Unnamed: 0</th>\n",
       "      <th>CNTRY_NAME</th>\n",
       "      <th>ADMIN_NAME</th>\n",
       "      <th>CNTRY_CODE</th>\n",
       "      <th>IPUM2012</th>\n",
       "      <th>DIST2012</th>\n",
       "      <th>PARENT</th>\n",
       "      <th>NEW_DIST_ID_2</th>\n",
       "      <th>new_dist_id</th>\n",
       "    </tr>\n",
       "  </thead>\n",
       "  <tbody>\n",
       "    <tr>\n",
       "      <th>63</th>\n",
       "      <td>64</td>\n",
       "      <td>Zimbabwe</td>\n",
       "      <td>Goromonzi</td>\n",
       "      <td>716</td>\n",
       "      <td>3002</td>\n",
       "      <td>302</td>\n",
       "      <td>3</td>\n",
       "      <td>18</td>\n",
<<<<<<< Updated upstream
       "      <td>w_18</td>\n",
=======
       "      <td>d_18</td>\n",
>>>>>>> Stashed changes
       "    </tr>\n",
       "  </tbody>\n",
       "</table>\n",
       "</div>"
      ],
      "text/plain": [
       "    Unnamed: 0 CNTRY_NAME ADMIN_NAME  CNTRY_CODE  IPUM2012  DIST2012  PARENT  \\\n",
       "63          64   Zimbabwe  Goromonzi         716      3002       302       3   \n",
       "\n",
       "    NEW_DIST_ID_2 new_dist_id  \n",
<<<<<<< Updated upstream
       "63             18        w_18  "
      ]
     },
     "execution_count": 27,
=======
       "63             18        d_18  "
      ]
     },
<<<<<<< Updated upstream:notebooks/mobility/Lockdown Data Mobility Processing New District_dummy.ipynb
     "execution_count": 34,
=======
     "execution_count": 31,
>>>>>>> Stashed changes:notebooks/mobility/Lockdown Data Mobility Processing New District.ipynb
>>>>>>> Stashed changes
     "metadata": {},
     "output_type": "execute_result"
    }
   ],
   "source": [
    "old_new_df[old_new_df['ADMIN_NAME'] == 'Goromonzi']"
   ]
  },
  {
   "cell_type": "code",
<<<<<<< Updated upstream
   "execution_count": 28,
=======
<<<<<<< Updated upstream:notebooks/mobility/Lockdown Data Mobility Processing New District_dummy.ipynb
   "execution_count": 35,
=======
   "execution_count": 32,
>>>>>>> Stashed changes:notebooks/mobility/Lockdown Data Mobility Processing New District.ipynb
>>>>>>> Stashed changes
   "metadata": {},
   "outputs": [
    {
     "data": {
      "text/html": [
       "<div>\n",
       "<style scoped>\n",
       "    .dataframe tbody tr th:only-of-type {\n",
       "        vertical-align: middle;\n",
       "    }\n",
       "\n",
       "    .dataframe tbody tr th {\n",
       "        vertical-align: top;\n",
       "    }\n",
       "\n",
       "    .dataframe thead th {\n",
       "        text-align: right;\n",
       "    }\n",
       "</style>\n",
       "<table border=\"1\" class=\"dataframe\">\n",
       "  <thead>\n",
       "    <tr style=\"text-align: right;\">\n",
       "      <th></th>\n",
       "      <th>index</th>\n",
       "      <th>Unnamed: 0</th>\n",
       "      <th>CNTRY_NAME</th>\n",
       "      <th>ADMIN_NAME</th>\n",
       "      <th>CNTRY_CODE</th>\n",
       "      <th>IPUM2012</th>\n",
       "      <th>DIST2012</th>\n",
       "      <th>PARENT</th>\n",
       "      <th>NEW_DIST_ID_2</th>\n",
       "      <th>new_dist_id</th>\n",
       "    </tr>\n",
       "  </thead>\n",
       "  <tbody>\n",
       "    <tr>\n",
       "      <th>0</th>\n",
       "      <td>0</td>\n",
       "      <td>1</td>\n",
       "      <td>Zimbabwe</td>\n",
       "      <td>Bulawayo Urban</td>\n",
       "      <td>716</td>\n",
       "      <td>21</td>\n",
       "      <td>21</td>\n",
       "      <td>0</td>\n",
       "      <td>1</td>\n",
<<<<<<< Updated upstream
       "      <td>w_1</td>\n",
=======
       "      <td>d_1</td>\n",
>>>>>>> Stashed changes
       "    </tr>\n",
       "    <tr>\n",
       "      <th>1</th>\n",
       "      <td>8</td>\n",
       "      <td>9</td>\n",
       "      <td>Zimbabwe</td>\n",
       "      <td>Bindura Rural</td>\n",
       "      <td>716</td>\n",
       "      <td>2001</td>\n",
       "      <td>201</td>\n",
       "      <td>2</td>\n",
       "      <td>10</td>\n",
<<<<<<< Updated upstream
       "      <td>w_10</td>\n",
=======
       "      <td>d_10</td>\n",
>>>>>>> Stashed changes
       "    </tr>\n",
       "    <tr>\n",
       "      <th>2</th>\n",
       "      <td>9</td>\n",
       "      <td>10</td>\n",
       "      <td>Zimbabwe</td>\n",
       "      <td>Muzarabani</td>\n",
       "      <td>716</td>\n",
       "      <td>2002</td>\n",
       "      <td>202</td>\n",
       "      <td>2</td>\n",
       "      <td>11</td>\n",
<<<<<<< Updated upstream
       "      <td>w_11</td>\n",
=======
       "      <td>d_11</td>\n",
>>>>>>> Stashed changes
       "    </tr>\n",
       "    <tr>\n",
       "      <th>3</th>\n",
       "      <td>59</td>\n",
       "      <td>60</td>\n",
       "      <td>Zimbabwe</td>\n",
       "      <td>Guruve</td>\n",
       "      <td>716</td>\n",
       "      <td>2003</td>\n",
       "      <td>203</td>\n",
       "      <td>2</td>\n",
       "      <td>12</td>\n",
<<<<<<< Updated upstream
       "      <td>w_12</td>\n",
=======
       "      <td>d_12</td>\n",
>>>>>>> Stashed changes
       "    </tr>\n",
       "    <tr>\n",
       "      <th>4</th>\n",
       "      <td>10</td>\n",
       "      <td>11</td>\n",
       "      <td>Zimbabwe</td>\n",
       "      <td>Mazowe, Mvurwi</td>\n",
       "      <td>716</td>\n",
       "      <td>2004</td>\n",
       "      <td>204</td>\n",
       "      <td>2</td>\n",
       "      <td>13</td>\n",
<<<<<<< Updated upstream
       "      <td>w_13</td>\n",
=======
       "      <td>d_13</td>\n",
>>>>>>> Stashed changes
       "    </tr>\n",
       "    <tr>\n",
       "      <th>5</th>\n",
       "      <td>11</td>\n",
       "      <td>12</td>\n",
       "      <td>Zimbabwe</td>\n",
       "      <td>Mt Darwin</td>\n",
       "      <td>716</td>\n",
       "      <td>2005</td>\n",
       "      <td>205</td>\n",
       "      <td>2</td>\n",
       "      <td>14</td>\n",
<<<<<<< Updated upstream
       "      <td>w_14</td>\n",
=======
       "      <td>d_14</td>\n",
>>>>>>> Stashed changes
       "    </tr>\n",
       "    <tr>\n",
       "      <th>6</th>\n",
       "      <td>12</td>\n",
       "      <td>13</td>\n",
       "      <td>Zimbabwe</td>\n",
       "      <td>Rushinga</td>\n",
       "      <td>716</td>\n",
       "      <td>2006</td>\n",
       "      <td>206</td>\n",
       "      <td>2</td>\n",
       "      <td>15</td>\n",
<<<<<<< Updated upstream
       "      <td>w_15</td>\n",
=======
       "      <td>d_15</td>\n",
>>>>>>> Stashed changes
       "    </tr>\n",
       "    <tr>\n",
       "      <th>7</th>\n",
       "      <td>13</td>\n",
       "      <td>14</td>\n",
       "      <td>Zimbabwe</td>\n",
       "      <td>Shamva</td>\n",
       "      <td>716</td>\n",
       "      <td>2007</td>\n",
       "      <td>207</td>\n",
       "      <td>2</td>\n",
       "      <td>16</td>\n",
<<<<<<< Updated upstream
       "      <td>w_16</td>\n",
=======
       "      <td>d_16</td>\n",
>>>>>>> Stashed changes
       "    </tr>\n",
       "    <tr>\n",
       "      <th>8</th>\n",
       "      <td>54</td>\n",
       "      <td>55</td>\n",
       "      <td>Zimbabwe</td>\n",
       "      <td>Chikomba</td>\n",
       "      <td>716</td>\n",
       "      <td>3001</td>\n",
       "      <td>301</td>\n",
       "      <td>3</td>\n",
       "      <td>17</td>\n",
<<<<<<< Updated upstream
       "      <td>w_17</td>\n",
=======
       "      <td>d_17</td>\n",
>>>>>>> Stashed changes
       "    </tr>\n",
       "    <tr>\n",
       "      <th>9</th>\n",
       "      <td>62</td>\n",
       "      <td>63</td>\n",
       "      <td>Zimbabwe</td>\n",
       "      <td>Ruwa</td>\n",
       "      <td>716</td>\n",
       "      <td>3023</td>\n",
       "      <td>323</td>\n",
       "      <td>3</td>\n",
       "      <td>18</td>\n",
<<<<<<< Updated upstream
       "      <td>w_18</td>\n",
=======
       "      <td>d_18</td>\n",
>>>>>>> Stashed changes
       "    </tr>\n",
       "    <tr>\n",
       "      <th>10</th>\n",
       "      <td>64</td>\n",
       "      <td>65</td>\n",
       "      <td>Zimbabwe</td>\n",
       "      <td>Marondera Urban</td>\n",
       "      <td>716</td>\n",
       "      <td>3021</td>\n",
       "      <td>321</td>\n",
       "      <td>3</td>\n",
       "      <td>19</td>\n",
<<<<<<< Updated upstream
       "      <td>w_19</td>\n",
=======
       "      <td>d_19</td>\n",
>>>>>>> Stashed changes
       "    </tr>\n",
       "    <tr>\n",
       "      <th>11</th>\n",
       "      <td>55</td>\n",
       "      <td>56</td>\n",
       "      <td>Zimbabwe</td>\n",
       "      <td>Chitungwiza</td>\n",
       "      <td>716</td>\n",
       "      <td>9022</td>\n",
       "      <td>922</td>\n",
       "      <td>9</td>\n",
       "      <td>2</td>\n",
<<<<<<< Updated upstream
       "      <td>w_2</td>\n",
=======
       "      <td>d_2</td>\n",
>>>>>>> Stashed changes
       "    </tr>\n",
       "    <tr>\n",
       "      <th>12</th>\n",
       "      <td>49</td>\n",
       "      <td>50</td>\n",
       "      <td>Zimbabwe</td>\n",
       "      <td>Mudzi</td>\n",
       "      <td>716</td>\n",
       "      <td>3005</td>\n",
       "      <td>305</td>\n",
       "      <td>3</td>\n",
       "      <td>20</td>\n",
<<<<<<< Updated upstream
       "      <td>w_20</td>\n",
=======
       "      <td>d_20</td>\n",
>>>>>>> Stashed changes
       "    </tr>\n",
       "    <tr>\n",
       "      <th>13</th>\n",
       "      <td>50</td>\n",
       "      <td>51</td>\n",
       "      <td>Zimbabwe</td>\n",
       "      <td>Murehwa</td>\n",
       "      <td>716</td>\n",
       "      <td>3006</td>\n",
       "      <td>306</td>\n",
       "      <td>3</td>\n",
       "      <td>21</td>\n",
<<<<<<< Updated upstream
       "      <td>w_21</td>\n",
=======
       "      <td>d_21</td>\n",
>>>>>>> Stashed changes
       "    </tr>\n",
       "    <tr>\n",
       "      <th>14</th>\n",
       "      <td>51</td>\n",
       "      <td>52</td>\n",
       "      <td>Zimbabwe</td>\n",
       "      <td>Mutoko</td>\n",
       "      <td>716</td>\n",
       "      <td>3007</td>\n",
       "      <td>307</td>\n",
       "      <td>3</td>\n",
       "      <td>22</td>\n",
<<<<<<< Updated upstream
       "      <td>w_22</td>\n",
=======
       "      <td>d_22</td>\n",
>>>>>>> Stashed changes
       "    </tr>\n",
       "    <tr>\n",
       "      <th>15</th>\n",
       "      <td>52</td>\n",
       "      <td>53</td>\n",
       "      <td>Zimbabwe</td>\n",
       "      <td>Seke</td>\n",
       "      <td>716</td>\n",
       "      <td>3008</td>\n",
       "      <td>308</td>\n",
       "      <td>3</td>\n",
       "      <td>23</td>\n",
<<<<<<< Updated upstream
       "      <td>w_23</td>\n",
=======
       "      <td>d_23</td>\n",
>>>>>>> Stashed changes
       "    </tr>\n",
       "    <tr>\n",
       "      <th>16</th>\n",
       "      <td>53</td>\n",
       "      <td>54</td>\n",
       "      <td>Zimbabwe</td>\n",
       "      <td>Uzumba Maramba Pfungwe</td>\n",
       "      <td>716</td>\n",
       "      <td>3009</td>\n",
       "      <td>309</td>\n",
       "      <td>3</td>\n",
       "      <td>24</td>\n",
<<<<<<< Updated upstream
       "      <td>w_24</td>\n",
=======
       "      <td>d_24</td>\n",
>>>>>>> Stashed changes
       "    </tr>\n",
       "    <tr>\n",
       "      <th>17</th>\n",
       "      <td>47</td>\n",
       "      <td>48</td>\n",
       "      <td>Zimbabwe</td>\n",
       "      <td>Hwedza</td>\n",
       "      <td>716</td>\n",
       "      <td>3003</td>\n",
       "      <td>303</td>\n",
       "      <td>3</td>\n",
       "      <td>25</td>\n",
<<<<<<< Updated upstream
       "      <td>w_25</td>\n",
=======
       "      <td>d_25</td>\n",
>>>>>>> Stashed changes
       "    </tr>\n",
       "    <tr>\n",
       "      <th>18</th>\n",
       "      <td>14</td>\n",
       "      <td>15</td>\n",
       "      <td>Zimbabwe</td>\n",
       "      <td>Chegutu</td>\n",
       "      <td>716</td>\n",
       "      <td>4001</td>\n",
       "      <td>401</td>\n",
       "      <td>4</td>\n",
       "      <td>26</td>\n",
<<<<<<< Updated upstream
       "      <td>w_26</td>\n",
=======
       "      <td>d_26</td>\n",
>>>>>>> Stashed changes
       "    </tr>\n",
       "    <tr>\n",
       "      <th>19</th>\n",
       "      <td>15</td>\n",
       "      <td>16</td>\n",
       "      <td>Zimbabwe</td>\n",
       "      <td>Hurungwe, Karoi</td>\n",
       "      <td>716</td>\n",
       "      <td>4002</td>\n",
       "      <td>402</td>\n",
       "      <td>4</td>\n",
       "      <td>27</td>\n",
<<<<<<< Updated upstream
       "      <td>w_27</td>\n",
=======
       "      <td>d_27</td>\n",
>>>>>>> Stashed changes
       "    </tr>\n",
       "    <tr>\n",
       "      <th>20</th>\n",
       "      <td>85</td>\n",
       "      <td>86</td>\n",
       "      <td>Zimbabwe</td>\n",
       "      <td>Mhondoro-Ngezi</td>\n",
       "      <td>716</td>\n",
       "      <td>4003</td>\n",
       "      <td>403</td>\n",
       "      <td>4</td>\n",
       "      <td>28</td>\n",
<<<<<<< Updated upstream
       "      <td>w_28</td>\n",
=======
       "      <td>d_28</td>\n",
>>>>>>> Stashed changes
       "    </tr>\n",
       "    <tr>\n",
       "      <th>21</th>\n",
       "      <td>65</td>\n",
       "      <td>66</td>\n",
       "      <td>Zimbabwe</td>\n",
       "      <td>Kariba Urban</td>\n",
       "      <td>716</td>\n",
       "      <td>4024</td>\n",
       "      <td>424</td>\n",
       "      <td>4</td>\n",
       "      <td>29</td>\n",
<<<<<<< Updated upstream
       "      <td>w_29</td>\n",
=======
       "      <td>d_29</td>\n",
>>>>>>> Stashed changes
       "    </tr>\n",
       "    <tr>\n",
       "      <th>22</th>\n",
       "      <td>1</td>\n",
       "      <td>2</td>\n",
       "      <td>Zimbabwe</td>\n",
       "      <td>Buhera</td>\n",
       "      <td>716</td>\n",
       "      <td>1001</td>\n",
       "      <td>101</td>\n",
       "      <td>1</td>\n",
       "      <td>3</td>\n",
<<<<<<< Updated upstream
       "      <td>w_3</td>\n",
=======
       "      <td>d_3</td>\n",
>>>>>>> Stashed changes
       "    </tr>\n",
       "    <tr>\n",
       "      <th>23</th>\n",
       "      <td>66</td>\n",
       "      <td>67</td>\n",
       "      <td>Zimbabwe</td>\n",
       "      <td>Chinhoyi</td>\n",
       "      <td>716</td>\n",
       "      <td>4021</td>\n",
       "      <td>421</td>\n",
       "      <td>4</td>\n",
       "      <td>30</td>\n",
<<<<<<< Updated upstream
       "      <td>w_30</td>\n",
=======
       "      <td>d_30</td>\n",
>>>>>>> Stashed changes
       "    </tr>\n",
       "    <tr>\n",
       "      <th>24</th>\n",
       "      <td>19</td>\n",
       "      <td>20</td>\n",
       "      <td>Zimbabwe</td>\n",
       "      <td>Zvimba</td>\n",
       "      <td>716</td>\n",
       "      <td>4006</td>\n",
       "      <td>406</td>\n",
       "      <td>4</td>\n",
       "      <td>31</td>\n",
<<<<<<< Updated upstream
       "      <td>w_31</td>\n",
=======
       "      <td>d_31</td>\n",
>>>>>>> Stashed changes
       "    </tr>\n",
       "    <tr>\n",
       "      <th>25</th>\n",
       "      <td>20</td>\n",
       "      <td>21</td>\n",
       "      <td>Zimbabwe</td>\n",
       "      <td>Bikita</td>\n",
       "      <td>716</td>\n",
       "      <td>8001</td>\n",
       "      <td>801</td>\n",
       "      <td>8</td>\n",
       "      <td>32</td>\n",
<<<<<<< Updated upstream
       "      <td>w_32</td>\n",
=======
       "      <td>d_32</td>\n",
>>>>>>> Stashed changes
       "    </tr>\n",
       "    <tr>\n",
       "      <th>26</th>\n",
       "      <td>79</td>\n",
       "      <td>80</td>\n",
       "      <td>Zimbabwe</td>\n",
       "      <td>Chiredzi Town</td>\n",
       "      <td>716</td>\n",
       "      <td>8022</td>\n",
       "      <td>822</td>\n",
       "      <td>8</td>\n",
       "      <td>33</td>\n",
<<<<<<< Updated upstream
       "      <td>w_33</td>\n",
=======
       "      <td>d_33</td>\n",
>>>>>>> Stashed changes
       "    </tr>\n",
       "    <tr>\n",
       "      <th>27</th>\n",
       "      <td>22</td>\n",
       "      <td>23</td>\n",
       "      <td>Zimbabwe</td>\n",
       "      <td>Chivi</td>\n",
       "      <td>716</td>\n",
       "      <td>8003</td>\n",
       "      <td>803</td>\n",
       "      <td>8</td>\n",
       "      <td>34</td>\n",
<<<<<<< Updated upstream
       "      <td>w_34</td>\n",
=======
       "      <td>d_34</td>\n",
>>>>>>> Stashed changes
       "    </tr>\n",
       "    <tr>\n",
       "      <th>28</th>\n",
       "      <td>23</td>\n",
       "      <td>24</td>\n",
       "      <td>Zimbabwe</td>\n",
       "      <td>Gutu</td>\n",
       "      <td>716</td>\n",
       "      <td>8004</td>\n",
       "      <td>804</td>\n",
       "      <td>8</td>\n",
       "      <td>35</td>\n",
<<<<<<< Updated upstream
       "      <td>w_35</td>\n",
=======
       "      <td>d_35</td>\n",
>>>>>>> Stashed changes
       "    </tr>\n",
       "    <tr>\n",
       "      <th>29</th>\n",
       "      <td>24</td>\n",
       "      <td>25</td>\n",
       "      <td>Zimbabwe</td>\n",
       "      <td>Masvingo Rural</td>\n",
       "      <td>716</td>\n",
       "      <td>8005</td>\n",
       "      <td>805</td>\n",
       "      <td>8</td>\n",
       "      <td>36</td>\n",
<<<<<<< Updated upstream
       "      <td>w_36</td>\n",
=======
       "      <td>d_36</td>\n",
>>>>>>> Stashed changes
       "    </tr>\n",
       "    <tr>\n",
       "      <th>30</th>\n",
       "      <td>25</td>\n",
       "      <td>26</td>\n",
       "      <td>Zimbabwe</td>\n",
       "      <td>Mwenezi</td>\n",
       "      <td>716</td>\n",
       "      <td>8006</td>\n",
       "      <td>806</td>\n",
       "      <td>8</td>\n",
       "      <td>37</td>\n",
<<<<<<< Updated upstream
       "      <td>w_37</td>\n",
=======
       "      <td>d_37</td>\n",
>>>>>>> Stashed changes
       "    </tr>\n",
       "    <tr>\n",
       "      <th>31</th>\n",
       "      <td>26</td>\n",
       "      <td>27</td>\n",
       "      <td>Zimbabwe</td>\n",
       "      <td>Zaka</td>\n",
       "      <td>716</td>\n",
       "      <td>8007</td>\n",
       "      <td>807</td>\n",
       "      <td>8</td>\n",
       "      <td>38</td>\n",
<<<<<<< Updated upstream
       "      <td>w_38</td>\n",
=======
       "      <td>d_38</td>\n",
>>>>>>> Stashed changes
       "    </tr>\n",
       "    <tr>\n",
       "      <th>32</th>\n",
       "      <td>40</td>\n",
       "      <td>41</td>\n",
       "      <td>Zimbabwe</td>\n",
       "      <td>Binga</td>\n",
       "      <td>716</td>\n",
       "      <td>5001</td>\n",
       "      <td>501</td>\n",
       "      <td>5</td>\n",
       "      <td>39</td>\n",
<<<<<<< Updated upstream
       "      <td>w_39</td>\n",
=======
       "      <td>d_39</td>\n",
>>>>>>> Stashed changes
       "    </tr>\n",
       "    <tr>\n",
       "      <th>33</th>\n",
       "      <td>2</td>\n",
       "      <td>3</td>\n",
       "      <td>Zimbabwe</td>\n",
       "      <td>Chimanimani</td>\n",
       "      <td>716</td>\n",
       "      <td>1002</td>\n",
       "      <td>102</td>\n",
       "      <td>1</td>\n",
       "      <td>4</td>\n",
<<<<<<< Updated upstream
       "      <td>w_4</td>\n",
=======
       "      <td>d_4</td>\n",
>>>>>>> Stashed changes
       "    </tr>\n",
       "    <tr>\n",
       "      <th>34</th>\n",
       "      <td>41</td>\n",
       "      <td>42</td>\n",
       "      <td>Zimbabwe</td>\n",
       "      <td>BUBI</td>\n",
       "      <td>716</td>\n",
       "      <td>5002</td>\n",
       "      <td>502</td>\n",
       "      <td>5</td>\n",
       "      <td>40</td>\n",
<<<<<<< Updated upstream
       "      <td>w_40</td>\n",
=======
       "      <td>d_40</td>\n",
>>>>>>> Stashed changes
       "    </tr>\n",
       "    <tr>\n",
       "      <th>35</th>\n",
       "      <td>70</td>\n",
       "      <td>71</td>\n",
       "      <td>Zimbabwe</td>\n",
       "      <td>Victoria Falls</td>\n",
       "      <td>716</td>\n",
       "      <td>5022</td>\n",
       "      <td>522</td>\n",
       "      <td>5</td>\n",
       "      <td>41</td>\n",
<<<<<<< Updated upstream
       "      <td>w_41</td>\n",
=======
       "      <td>d_41</td>\n",
>>>>>>> Stashed changes
       "    </tr>\n",
       "    <tr>\n",
       "      <th>36</th>\n",
       "      <td>42</td>\n",
       "      <td>43</td>\n",
       "      <td>Zimbabwe</td>\n",
       "      <td>Lupane</td>\n",
       "      <td>716</td>\n",
       "      <td>5004</td>\n",
       "      <td>504</td>\n",
       "      <td>5</td>\n",
       "      <td>42</td>\n",
<<<<<<< Updated upstream
       "      <td>w_42</td>\n",
=======
       "      <td>d_42</td>\n",
>>>>>>> Stashed changes
       "    </tr>\n",
       "    <tr>\n",
       "      <th>37</th>\n",
       "      <td>43</td>\n",
       "      <td>44</td>\n",
       "      <td>Zimbabwe</td>\n",
       "      <td>Nkayi</td>\n",
       "      <td>716</td>\n",
       "      <td>5005</td>\n",
       "      <td>505</td>\n",
       "      <td>5</td>\n",
       "      <td>43</td>\n",
<<<<<<< Updated upstream
       "      <td>w_43</td>\n",
=======
       "      <td>d_43</td>\n",
>>>>>>> Stashed changes
       "    </tr>\n",
       "    <tr>\n",
       "      <th>38</th>\n",
       "      <td>44</td>\n",
       "      <td>45</td>\n",
       "      <td>Zimbabwe</td>\n",
       "      <td>Tsholotsho</td>\n",
       "      <td>716</td>\n",
       "      <td>5006</td>\n",
       "      <td>506</td>\n",
       "      <td>5</td>\n",
       "      <td>44</td>\n",
<<<<<<< Updated upstream
       "      <td>w_44</td>\n",
=======
       "      <td>d_44</td>\n",
>>>>>>> Stashed changes
       "    </tr>\n",
       "    <tr>\n",
       "      <th>39</th>\n",
       "      <td>45</td>\n",
       "      <td>46</td>\n",
       "      <td>Zimbabwe</td>\n",
       "      <td>Umguza</td>\n",
       "      <td>716</td>\n",
       "      <td>5007</td>\n",
       "      <td>507</td>\n",
       "      <td>5</td>\n",
       "      <td>45</td>\n",
<<<<<<< Updated upstream
       "      <td>w_45</td>\n",
=======
       "      <td>d_45</td>\n",
>>>>>>> Stashed changes
       "    </tr>\n",
       "    <tr>\n",
       "      <th>40</th>\n",
       "      <td>27</td>\n",
       "      <td>28</td>\n",
       "      <td>Zimbabwe</td>\n",
       "      <td>Beitbridge Rural</td>\n",
       "      <td>716</td>\n",
       "      <td>6001</td>\n",
       "      <td>601</td>\n",
       "      <td>6</td>\n",
       "      <td>46</td>\n",
<<<<<<< Updated upstream
       "      <td>w_46</td>\n",
=======
       "      <td>d_46</td>\n",
>>>>>>> Stashed changes
       "    </tr>\n",
       "    <tr>\n",
       "      <th>41</th>\n",
       "      <td>57</td>\n",
       "      <td>58</td>\n",
       "      <td>Zimbabwe</td>\n",
       "      <td>Bulilima</td>\n",
       "      <td>716</td>\n",
       "      <td>6002</td>\n",
       "      <td>602</td>\n",
       "      <td>6</td>\n",
       "      <td>47</td>\n",
<<<<<<< Updated upstream
       "      <td>w_47</td>\n",
=======
       "      <td>d_47</td>\n",
>>>>>>> Stashed changes
       "    </tr>\n",
       "    <tr>\n",
       "      <th>42</th>\n",
       "      <td>28</td>\n",
       "      <td>29</td>\n",
       "      <td>Zimbabwe</td>\n",
       "      <td>Gwanda Rural</td>\n",
       "      <td>716</td>\n",
       "      <td>6004</td>\n",
       "      <td>604</td>\n",
       "      <td>6</td>\n",
       "      <td>48</td>\n",
<<<<<<< Updated upstream
       "      <td>w_48</td>\n",
=======
       "      <td>d_48</td>\n",
>>>>>>> Stashed changes
       "    </tr>\n",
       "    <tr>\n",
       "      <th>43</th>\n",
       "      <td>29</td>\n",
       "      <td>30</td>\n",
       "      <td>Zimbabwe</td>\n",
       "      <td>Insiza</td>\n",
       "      <td>716</td>\n",
       "      <td>6005</td>\n",
       "      <td>605</td>\n",
       "      <td>6</td>\n",
       "      <td>49</td>\n",
<<<<<<< Updated upstream
       "      <td>w_49</td>\n",
=======
       "      <td>d_49</td>\n",
>>>>>>> Stashed changes
       "    </tr>\n",
       "    <tr>\n",
       "      <th>44</th>\n",
       "      <td>83</td>\n",
       "      <td>84</td>\n",
       "      <td>Zimbabwe</td>\n",
       "      <td>Chipinge Urban</td>\n",
       "      <td>716</td>\n",
       "      <td>1023</td>\n",
       "      <td>123</td>\n",
       "      <td>1</td>\n",
       "      <td>5</td>\n",
<<<<<<< Updated upstream
       "      <td>w_5</td>\n",
=======
       "      <td>d_5</td>\n",
>>>>>>> Stashed changes
       "    </tr>\n",
       "    <tr>\n",
       "      <th>45</th>\n",
       "      <td>58</td>\n",
       "      <td>59</td>\n",
       "      <td>Zimbabwe</td>\n",
       "      <td>Mangwe Rural, Mangwe Urban (Plumtree)</td>\n",
       "      <td>716</td>\n",
       "      <td>6003</td>\n",
       "      <td>603</td>\n",
       "      <td>6</td>\n",
       "      <td>50</td>\n",
<<<<<<< Updated upstream
       "      <td>w_50</td>\n",
=======
       "      <td>d_50</td>\n",
>>>>>>> Stashed changes
       "    </tr>\n",
       "    <tr>\n",
       "      <th>46</th>\n",
       "      <td>30</td>\n",
       "      <td>31</td>\n",
       "      <td>Zimbabwe</td>\n",
       "      <td>Matobo</td>\n",
       "      <td>716</td>\n",
       "      <td>6006</td>\n",
       "      <td>606</td>\n",
       "      <td>6</td>\n",
       "      <td>51</td>\n",
<<<<<<< Updated upstream
       "      <td>w_51</td>\n",
=======
       "      <td>d_51</td>\n",
>>>>>>> Stashed changes
       "    </tr>\n",
       "    <tr>\n",
       "      <th>47</th>\n",
       "      <td>31</td>\n",
       "      <td>32</td>\n",
       "      <td>Zimbabwe</td>\n",
       "      <td>Umzingwane</td>\n",
       "      <td>716</td>\n",
       "      <td>6007</td>\n",
       "      <td>607</td>\n",
       "      <td>6</td>\n",
       "      <td>52</td>\n",
<<<<<<< Updated upstream
       "      <td>w_52</td>\n",
=======
       "      <td>d_52</td>\n",
>>>>>>> Stashed changes
       "    </tr>\n",
       "    <tr>\n",
       "      <th>48</th>\n",
       "      <td>32</td>\n",
       "      <td>33</td>\n",
       "      <td>Zimbabwe</td>\n",
       "      <td>Chirumanzu</td>\n",
       "      <td>716</td>\n",
       "      <td>7001</td>\n",
       "      <td>701</td>\n",
       "      <td>7</td>\n",
       "      <td>53</td>\n",
<<<<<<< Updated upstream
       "      <td>w_53</td>\n",
=======
       "      <td>d_53</td>\n",
>>>>>>> Stashed changes
       "    </tr>\n",
       "    <tr>\n",
       "      <th>49</th>\n",
       "      <td>38</td>\n",
       "      <td>39</td>\n",
       "      <td>Zimbabwe</td>\n",
       "      <td>Gokwe North</td>\n",
       "      <td>716</td>\n",
       "      <td>7002</td>\n",
       "      <td>702</td>\n",
       "      <td>7</td>\n",
       "      <td>54</td>\n",
<<<<<<< Updated upstream
       "      <td>w_54</td>\n",
=======
       "      <td>d_54</td>\n",
>>>>>>> Stashed changes
       "    </tr>\n",
       "  </tbody>\n",
       "</table>\n",
       "</div>"
      ],
      "text/plain": [
       "    index  Unnamed: 0 CNTRY_NAME                             ADMIN_NAME  \\\n",
       "0       0           1   Zimbabwe                         Bulawayo Urban   \n",
       "1       8           9   Zimbabwe                          Bindura Rural   \n",
       "2       9          10   Zimbabwe                             Muzarabani   \n",
       "3      59          60   Zimbabwe                                 Guruve   \n",
       "4      10          11   Zimbabwe                         Mazowe, Mvurwi   \n",
       "5      11          12   Zimbabwe                              Mt Darwin   \n",
       "6      12          13   Zimbabwe                               Rushinga   \n",
       "7      13          14   Zimbabwe                                 Shamva   \n",
       "8      54          55   Zimbabwe                               Chikomba   \n",
       "9      62          63   Zimbabwe                                   Ruwa   \n",
       "10     64          65   Zimbabwe                        Marondera Urban   \n",
       "11     55          56   Zimbabwe                            Chitungwiza   \n",
       "12     49          50   Zimbabwe                                  Mudzi   \n",
       "13     50          51   Zimbabwe                                Murehwa   \n",
       "14     51          52   Zimbabwe                                 Mutoko   \n",
       "15     52          53   Zimbabwe                                   Seke   \n",
       "16     53          54   Zimbabwe                 Uzumba Maramba Pfungwe   \n",
       "17     47          48   Zimbabwe                                 Hwedza   \n",
       "18     14          15   Zimbabwe                                Chegutu   \n",
       "19     15          16   Zimbabwe                        Hurungwe, Karoi   \n",
       "20     85          86   Zimbabwe                         Mhondoro-Ngezi   \n",
       "21     65          66   Zimbabwe                           Kariba Urban   \n",
       "22      1           2   Zimbabwe                                 Buhera   \n",
       "23     66          67   Zimbabwe                               Chinhoyi   \n",
       "24     19          20   Zimbabwe                                 Zvimba   \n",
       "25     20          21   Zimbabwe                                 Bikita   \n",
       "26     79          80   Zimbabwe                          Chiredzi Town   \n",
       "27     22          23   Zimbabwe                                  Chivi   \n",
       "28     23          24   Zimbabwe                                   Gutu   \n",
       "29     24          25   Zimbabwe                         Masvingo Rural   \n",
       "30     25          26   Zimbabwe                                Mwenezi   \n",
       "31     26          27   Zimbabwe                                   Zaka   \n",
       "32     40          41   Zimbabwe                                  Binga   \n",
       "33      2           3   Zimbabwe                            Chimanimani   \n",
       "34     41          42   Zimbabwe                                   BUBI   \n",
       "35     70          71   Zimbabwe                         Victoria Falls   \n",
       "36     42          43   Zimbabwe                                 Lupane   \n",
       "37     43          44   Zimbabwe                                  Nkayi   \n",
       "38     44          45   Zimbabwe                             Tsholotsho   \n",
       "39     45          46   Zimbabwe                                 Umguza   \n",
       "40     27          28   Zimbabwe                       Beitbridge Rural   \n",
       "41     57          58   Zimbabwe                               Bulilima   \n",
       "42     28          29   Zimbabwe                           Gwanda Rural   \n",
       "43     29          30   Zimbabwe                                 Insiza   \n",
       "44     83          84   Zimbabwe                         Chipinge Urban   \n",
       "45     58          59   Zimbabwe  Mangwe Rural, Mangwe Urban (Plumtree)   \n",
       "46     30          31   Zimbabwe                                 Matobo   \n",
       "47     31          32   Zimbabwe                             Umzingwane   \n",
       "48     32          33   Zimbabwe                             Chirumanzu   \n",
       "49     38          39   Zimbabwe                            Gokwe North   \n",
       "\n",
       "    CNTRY_CODE  IPUM2012  DIST2012  PARENT  NEW_DIST_ID_2 new_dist_id  \n",
<<<<<<< Updated upstream
       "0          716        21        21       0              1         w_1  \n",
       "1          716      2001       201       2             10        w_10  \n",
       "2          716      2002       202       2             11        w_11  \n",
       "3          716      2003       203       2             12        w_12  \n",
       "4          716      2004       204       2             13        w_13  \n",
       "5          716      2005       205       2             14        w_14  \n",
       "6          716      2006       206       2             15        w_15  \n",
       "7          716      2007       207       2             16        w_16  \n",
       "8          716      3001       301       3             17        w_17  \n",
       "9          716      3023       323       3             18        w_18  \n",
       "10         716      3021       321       3             19        w_19  \n",
       "11         716      9022       922       9              2         w_2  \n",
       "12         716      3005       305       3             20        w_20  \n",
       "13         716      3006       306       3             21        w_21  \n",
       "14         716      3007       307       3             22        w_22  \n",
       "15         716      3008       308       3             23        w_23  \n",
       "16         716      3009       309       3             24        w_24  \n",
       "17         716      3003       303       3             25        w_25  \n",
       "18         716      4001       401       4             26        w_26  \n",
       "19         716      4002       402       4             27        w_27  \n",
       "20         716      4003       403       4             28        w_28  \n",
       "21         716      4024       424       4             29        w_29  \n",
       "22         716      1001       101       1              3         w_3  \n",
       "23         716      4021       421       4             30        w_30  \n",
       "24         716      4006       406       4             31        w_31  \n",
       "25         716      8001       801       8             32        w_32  \n",
       "26         716      8022       822       8             33        w_33  \n",
       "27         716      8003       803       8             34        w_34  \n",
       "28         716      8004       804       8             35        w_35  \n",
       "29         716      8005       805       8             36        w_36  \n",
       "30         716      8006       806       8             37        w_37  \n",
       "31         716      8007       807       8             38        w_38  \n",
       "32         716      5001       501       5             39        w_39  \n",
       "33         716      1002       102       1              4         w_4  \n",
       "34         716      5002       502       5             40        w_40  \n",
       "35         716      5022       522       5             41        w_41  \n",
       "36         716      5004       504       5             42        w_42  \n",
       "37         716      5005       505       5             43        w_43  \n",
       "38         716      5006       506       5             44        w_44  \n",
       "39         716      5007       507       5             45        w_45  \n",
       "40         716      6001       601       6             46        w_46  \n",
       "41         716      6002       602       6             47        w_47  \n",
       "42         716      6004       604       6             48        w_48  \n",
       "43         716      6005       605       6             49        w_49  \n",
       "44         716      1023       123       1              5         w_5  \n",
       "45         716      6003       603       6             50        w_50  \n",
       "46         716      6006       606       6             51        w_51  \n",
       "47         716      6007       607       6             52        w_52  \n",
       "48         716      7001       701       7             53        w_53  \n",
       "49         716      7002       702       7             54        w_54  "
      ]
     },
     "execution_count": 28,
=======
       "0          716        21        21       0              1         d_1  \n",
       "1          716      2001       201       2             10        d_10  \n",
       "2          716      2002       202       2             11        d_11  \n",
       "3          716      2003       203       2             12        d_12  \n",
       "4          716      2004       204       2             13        d_13  \n",
       "5          716      2005       205       2             14        d_14  \n",
       "6          716      2006       206       2             15        d_15  \n",
       "7          716      2007       207       2             16        d_16  \n",
       "8          716      3001       301       3             17        d_17  \n",
       "9          716      3023       323       3             18        d_18  \n",
       "10         716      3021       321       3             19        d_19  \n",
       "11         716      9022       922       9              2         d_2  \n",
       "12         716      3005       305       3             20        d_20  \n",
       "13         716      3006       306       3             21        d_21  \n",
       "14         716      3007       307       3             22        d_22  \n",
       "15         716      3008       308       3             23        d_23  \n",
       "16         716      3009       309       3             24        d_24  \n",
       "17         716      3003       303       3             25        d_25  \n",
       "18         716      4001       401       4             26        d_26  \n",
       "19         716      4002       402       4             27        d_27  \n",
       "20         716      4003       403       4             28        d_28  \n",
       "21         716      4024       424       4             29        d_29  \n",
       "22         716      1001       101       1              3         d_3  \n",
       "23         716      4021       421       4             30        d_30  \n",
       "24         716      4006       406       4             31        d_31  \n",
       "25         716      8001       801       8             32        d_32  \n",
       "26         716      8022       822       8             33        d_33  \n",
       "27         716      8003       803       8             34        d_34  \n",
       "28         716      8004       804       8             35        d_35  \n",
       "29         716      8005       805       8             36        d_36  \n",
       "30         716      8006       806       8             37        d_37  \n",
       "31         716      8007       807       8             38        d_38  \n",
       "32         716      5001       501       5             39        d_39  \n",
       "33         716      1002       102       1              4         d_4  \n",
       "34         716      5002       502       5             40        d_40  \n",
       "35         716      5022       522       5             41        d_41  \n",
       "36         716      5004       504       5             42        d_42  \n",
       "37         716      5005       505       5             43        d_43  \n",
       "38         716      5006       506       5             44        d_44  \n",
       "39         716      5007       507       5             45        d_45  \n",
       "40         716      6001       601       6             46        d_46  \n",
       "41         716      6002       602       6             47        d_47  \n",
       "42         716      6004       604       6             48        d_48  \n",
       "43         716      6005       605       6             49        d_49  \n",
       "44         716      1023       123       1              5         d_5  \n",
       "45         716      6003       603       6             50        d_50  \n",
       "46         716      6006       606       6             51        d_51  \n",
       "47         716      6007       607       6             52        d_52  \n",
       "48         716      7001       701       7             53        d_53  \n",
       "49         716      7002       702       7             54        d_54  "
      ]
     },
<<<<<<< Updated upstream:notebooks/mobility/Lockdown Data Mobility Processing New District_dummy.ipynb
     "execution_count": 35,
=======
     "execution_count": 32,
>>>>>>> Stashed changes:notebooks/mobility/Lockdown Data Mobility Processing New District.ipynb
>>>>>>> Stashed changes
     "metadata": {},
     "output_type": "execute_result"
    }
   ],
   "source": [
    "old_new_df.sort_values('new_dist_id').drop_duplicates('new_dist_id').reset_index().head(50)"
   ]
  },
  {
   "cell_type": "markdown",
   "metadata": {},
   "source": [
    "# Scratch"
   ]
  },
  {
   "cell_type": "code",
<<<<<<< Updated upstream
   "execution_count": 29,
=======
<<<<<<< Updated upstream:notebooks/mobility/Lockdown Data Mobility Processing New District_dummy.ipynb
   "execution_count": 36,
=======
   "execution_count": 33,
>>>>>>> Stashed changes:notebooks/mobility/Lockdown Data Mobility Processing New District.ipynb
>>>>>>> Stashed changes
   "metadata": {},
   "outputs": [],
   "source": [
    "# Analyze pre- and post-lockdown subscriber counts"
   ]
  },
  {
   "cell_type": "code",
<<<<<<< Updated upstream
   "execution_count": 30,
=======
<<<<<<< Updated upstream:notebooks/mobility/Lockdown Data Mobility Processing New District_dummy.ipynb
   "execution_count": 37,
=======
   "execution_count": 34,
>>>>>>> Stashed changes:notebooks/mobility/Lockdown Data Mobility Processing New District.ipynb
>>>>>>> Stashed changes
   "metadata": {},
   "outputs": [],
   "source": [
    "post_lockdown_subs = post_lockdown_calibrated_home_subscribers_mobility_df.groupby(['date', 'home_region'])['count'].sum().reset_index().groupby('home_region')['count'].mean()\n",
    "pre_lockdown_subs = pre_lockdown_calibrated_home_subscribers_mobility_df.groupby(['date', 'home_region'])['count'].sum().reset_index().groupby('home_region')['count'].mean()\n",
    "\n",
    "sub_diff = (\n",
    "    (post_lockdown_subs - pre_lockdown_subs) / pre_lockdown_subs\n",
    ")"
   ]
  },
  {
   "cell_type": "code",
<<<<<<< Updated upstream
   "execution_count": 31,
=======
<<<<<<< Updated upstream:notebooks/mobility/Lockdown Data Mobility Processing New District_dummy.ipynb
   "execution_count": 38,
=======
   "execution_count": 35,
>>>>>>> Stashed changes:notebooks/mobility/Lockdown Data Mobility Processing New District.ipynb
>>>>>>> Stashed changes
   "metadata": {},
   "outputs": [
    {
     "data": {
      "text/plain": [
       "count    60.000000\n",
       "mean      0.002664\n",
       "std       0.069888\n",
       "min      -0.196475\n",
       "25%      -0.038342\n",
       "50%       0.026602\n",
       "75%       0.053646\n",
       "max       0.099094\n",
       "Name: count, dtype: float64"
      ]
     },
<<<<<<< Updated upstream
     "execution_count": 31,
=======
<<<<<<< Updated upstream:notebooks/mobility/Lockdown Data Mobility Processing New District_dummy.ipynb
     "execution_count": 38,
=======
     "execution_count": 35,
>>>>>>> Stashed changes:notebooks/mobility/Lockdown Data Mobility Processing New District.ipynb
>>>>>>> Stashed changes
     "metadata": {},
     "output_type": "execute_result"
    }
   ],
   "source": [
    "sub_diff.describe()"
   ]
  },
  {
   "cell_type": "code",
<<<<<<< Updated upstream
   "execution_count": 32,
=======
<<<<<<< Updated upstream:notebooks/mobility/Lockdown Data Mobility Processing New District_dummy.ipynb
   "execution_count": 39,
=======
   "execution_count": 36,
>>>>>>> Stashed changes:notebooks/mobility/Lockdown Data Mobility Processing New District.ipynb
>>>>>>> Stashed changes
   "metadata": {},
   "outputs": [
    {
     "data": {
      "text/plain": [
       "-0.05870281231527186"
      ]
     },
<<<<<<< Updated upstream
     "execution_count": 32,
=======
<<<<<<< Updated upstream:notebooks/mobility/Lockdown Data Mobility Processing New District_dummy.ipynb
     "execution_count": 39,
=======
     "execution_count": 36,
>>>>>>> Stashed changes:notebooks/mobility/Lockdown Data Mobility Processing New District.ipynb
>>>>>>> Stashed changes
     "metadata": {},
     "output_type": "execute_result"
    }
   ],
   "source": [
    "post_lockdown_subs.sum() / pre_lockdown_subs.sum() - 1"
   ]
  },
  {
   "cell_type": "code",
<<<<<<< Updated upstream
   "execution_count": 45,
=======
<<<<<<< Updated upstream:notebooks/mobility/Lockdown Data Mobility Processing New District_dummy.ipynb
   "execution_count": 40,
=======
   "execution_count": 37,
>>>>>>> Stashed changes:notebooks/mobility/Lockdown Data Mobility Processing New District.ipynb
>>>>>>> Stashed changes
   "metadata": {},
   "outputs": [
    {
     "data": {
<<<<<<< Updated upstream
      "image/png": "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\n",
=======
      "image/png": "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\n",
>>>>>>> Stashed changes
      "text/plain": [
       "<Figure size 432x288 with 1 Axes>"
      ]
     },
     "metadata": {
      "needs_background": "light"
     },
     "output_type": "display_data"
    }
   ],
   "source": [
    "ax = post_lockdown_calibrated_home_subscribers_mobility_df.groupby(['date', 'home_region'])['count'].sum().reset_index().groupby('home_region')['count'].mean().plot(kind='bar')"
   ]
  },
  {
   "cell_type": "code",
<<<<<<< Updated upstream
   "execution_count": 46,
=======
<<<<<<< Updated upstream:notebooks/mobility/Lockdown Data Mobility Processing New District_dummy.ipynb
   "execution_count": 41,
=======
   "execution_count": 38,
>>>>>>> Stashed changes:notebooks/mobility/Lockdown Data Mobility Processing New District.ipynb
>>>>>>> Stashed changes
   "metadata": {},
   "outputs": [
    {
     "data": {
      "text/plain": [
<<<<<<< Updated upstream
       "<matplotlib.axes._subplots.AxesSubplot at 0x7f9e27b21350>"
      ]
     },
     "execution_count": 46,
=======
<<<<<<< Updated upstream:notebooks/mobility/Lockdown Data Mobility Processing New District_dummy.ipynb
       "<matplotlib.axes._subplots.AxesSubplot at 0x1283a8a60>"
      ]
     },
     "execution_count": 41,
=======
       "<matplotlib.axes._subplots.AxesSubplot at 0x121788b80>"
      ]
     },
     "execution_count": 38,
>>>>>>> Stashed changes:notebooks/mobility/Lockdown Data Mobility Processing New District.ipynb
>>>>>>> Stashed changes
     "metadata": {},
     "output_type": "execute_result"
    },
    {
     "data": {
<<<<<<< Updated upstream
      "image/png": "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\n",
=======
      "image/png": "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\n",
>>>>>>> Stashed changes
      "text/plain": [
       "<Figure size 432x288 with 1 Axes>"
      ]
     },
     "metadata": {
      "needs_background": "light"
     },
     "output_type": "display_data"
    }
   ],
   "source": [
    "pre_lockdown_calibrated_home_subscribers_mobility_df.groupby(['date', 'home_region'])['count'].sum().reset_index().groupby('home_region')['count'].mean().plot(kind='bar')"
   ]
  },
  {
   "cell_type": "code",
<<<<<<< Updated upstream
   "execution_count": 39,
=======
<<<<<<< Updated upstream:notebooks/mobility/Lockdown Data Mobility Processing New District_dummy.ipynb
   "execution_count": 42,
=======
   "execution_count": 39,
>>>>>>> Stashed changes:notebooks/mobility/Lockdown Data Mobility Processing New District.ipynb
>>>>>>> Stashed changes
   "metadata": {},
   "outputs": [
    {
     "data": {
      "text/plain": [
       "weekday  home_region  region\n",
<<<<<<< Updated upstream
       "0        w_1          w_1       259622.571429\n",
       "                      w_10          11.285714\n",
       "                      w_11           0.000000\n",
       "                      w_12           0.000000\n",
       "                      w_13          12.714286\n",
       "                                    ...      \n",
       "6        w_9          w_6          248.500000\n",
       "                      w_60           0.000000\n",
       "                      w_7          277.000000\n",
       "                      w_8          565.166667\n",
       "                      w_9        33314.000000\n",
       "Name: count, Length: 25200, dtype: float64"
      ]
     },
     "execution_count": 39,
=======
       "0        d_1          d_1       259622.571429\n",
       "                      d_10          11.285714\n",
       "                      d_11           0.000000\n",
       "                      d_12           0.000000\n",
       "                      d_13          12.714286\n",
       "                                    ...      \n",
       "6        d_9          d_6          248.500000\n",
       "                      d_60           0.000000\n",
       "                      d_7          277.000000\n",
       "                      d_8          565.166667\n",
       "                      d_9        33314.000000\n",
       "Name: count, Length: 25200, dtype: float64"
      ]
     },
<<<<<<< Updated upstream:notebooks/mobility/Lockdown Data Mobility Processing New District_dummy.ipynb
     "execution_count": 42,
=======
     "execution_count": 39,
>>>>>>> Stashed changes:notebooks/mobility/Lockdown Data Mobility Processing New District.ipynb
>>>>>>> Stashed changes
     "metadata": {},
     "output_type": "execute_result"
    }
   ],
   "source": [
    "pre_lockdown_calibrated_home_subscribers_mobility_df.groupby(['weekday', 'home_region', 'region'])['count'].mean()"
   ]
  },
  {
   "cell_type": "code",
<<<<<<< Updated upstream
   "execution_count": 40,
=======
<<<<<<< Updated upstream:notebooks/mobility/Lockdown Data Mobility Processing New District_dummy.ipynb
   "execution_count": 43,
=======
   "execution_count": 40,
>>>>>>> Stashed changes:notebooks/mobility/Lockdown Data Mobility Processing New District.ipynb
>>>>>>> Stashed changes
   "metadata": {},
   "outputs": [
    {
     "data": {
      "text/plain": [
       "weekday  home_region  region\n",
<<<<<<< Updated upstream
       "0        w_1          w_1       218722.00\n",
       "                      w_10           0.00\n",
       "                      w_11           0.00\n",
       "                      w_12           0.00\n",
       "                      w_13           0.00\n",
       "                                  ...    \n",
       "6        w_9          w_6          148.00\n",
       "                      w_60           0.00\n",
       "                      w_7           64.50\n",
       "                      w_8          394.00\n",
       "                      w_9        35702.25\n",
       "Name: count, Length: 25200, dtype: float64"
      ]
     },
     "execution_count": 40,
=======
       "0        d_1          d_1       218722.00\n",
       "                      d_10           0.00\n",
       "                      d_11           0.00\n",
       "                      d_12           0.00\n",
       "                      d_13           0.00\n",
       "                                  ...    \n",
       "6        d_9          d_6          148.00\n",
       "                      d_60           0.00\n",
       "                      d_7           64.50\n",
       "                      d_8          394.00\n",
       "                      d_9        35702.25\n",
       "Name: count, Length: 25200, dtype: float64"
      ]
     },
<<<<<<< Updated upstream:notebooks/mobility/Lockdown Data Mobility Processing New District_dummy.ipynb
     "execution_count": 43,
=======
     "execution_count": 40,
>>>>>>> Stashed changes:notebooks/mobility/Lockdown Data Mobility Processing New District.ipynb
>>>>>>> Stashed changes
     "metadata": {},
     "output_type": "execute_result"
    }
   ],
   "source": [
    "post_lockdown_calibrated_home_subscribers_mobility_df.groupby(['weekday', 'home_region', 'region'])['count'].mean()"
   ]
  },
  {
   "cell_type": "code",
<<<<<<< Updated upstream
   "execution_count": 86,
=======
<<<<<<< Updated upstream:notebooks/mobility/Lockdown Data Mobility Processing New District_dummy.ipynb
   "execution_count": 44,
=======
   "execution_count": 41,
>>>>>>> Stashed changes:notebooks/mobility/Lockdown Data Mobility Processing New District.ipynb
>>>>>>> Stashed changes
   "metadata": {},
   "outputs": [
    {
     "data": {
      "text/html": [
       "<div>\n",
       "<style scoped>\n",
       "    .dataframe tbody tr th:only-of-type {\n",
       "        vertical-align: middle;\n",
       "    }\n",
       "\n",
       "    .dataframe tbody tr th {\n",
       "        vertical-align: top;\n",
       "    }\n",
       "\n",
       "    .dataframe thead th {\n",
       "        text-align: right;\n",
       "    }\n",
       "</style>\n",
       "<table border=\"1\" class=\"dataframe\">\n",
       "  <thead>\n",
       "    <tr style=\"text-align: right;\">\n",
       "      <th></th>\n",
       "      <th>day</th>\n",
       "      <th>home_region</th>\n",
       "      <th>region</th>\n",
       "      <th>date2</th>\n",
       "      <th>count</th>\n",
       "      <th>date</th>\n",
       "      <th>weekday</th>\n",
       "    </tr>\n",
       "  </thead>\n",
       "  <tbody>\n",
       "    <tr>\n",
<<<<<<< Updated upstream
       "      <td>0</td>\n",
       "      <td>2020-02-03</td>\n",
       "      <td>w_1</td>\n",
       "      <td>w_1</td>\n",
=======
       "      <th>0</th>\n",
       "      <td>2020-02-03</td>\n",
       "      <td>d_1</td>\n",
       "      <td>d_1</td>\n",
>>>>>>> Stashed changes
       "      <td>03feb2020</td>\n",
       "      <td>263449.0</td>\n",
       "      <td>2020-02-03</td>\n",
       "      <td>0</td>\n",
       "    </tr>\n",
       "    <tr>\n",
<<<<<<< Updated upstream
       "      <td>1</td>\n",
       "      <td>2020-02-03</td>\n",
       "      <td>w_1</td>\n",
       "      <td>w_10</td>\n",
=======
       "      <th>1</th>\n",
       "      <td>2020-02-03</td>\n",
       "      <td>d_1</td>\n",
       "      <td>d_10</td>\n",
>>>>>>> Stashed changes
       "      <td>03feb2020</td>\n",
       "      <td>17.0</td>\n",
       "      <td>2020-02-03</td>\n",
       "      <td>0</td>\n",
       "    </tr>\n",
       "    <tr>\n",
<<<<<<< Updated upstream
       "      <td>2</td>\n",
       "      <td>2020-02-03</td>\n",
       "      <td>w_1</td>\n",
       "      <td>w_11</td>\n",
=======
       "      <th>2</th>\n",
       "      <td>2020-02-03</td>\n",
       "      <td>d_1</td>\n",
       "      <td>d_11</td>\n",
>>>>>>> Stashed changes
       "      <td>0</td>\n",
       "      <td>0.0</td>\n",
       "      <td>2020-02-03</td>\n",
       "      <td>0</td>\n",
       "    </tr>\n",
       "    <tr>\n",
<<<<<<< Updated upstream
       "      <td>3</td>\n",
       "      <td>2020-02-03</td>\n",
       "      <td>w_1</td>\n",
       "      <td>w_12</td>\n",
=======
       "      <th>3</th>\n",
       "      <td>2020-02-03</td>\n",
       "      <td>d_1</td>\n",
       "      <td>d_12</td>\n",
>>>>>>> Stashed changes
       "      <td>0</td>\n",
       "      <td>0.0</td>\n",
       "      <td>2020-02-03</td>\n",
       "      <td>0</td>\n",
       "    </tr>\n",
       "    <tr>\n",
<<<<<<< Updated upstream
       "      <td>4</td>\n",
       "      <td>2020-02-03</td>\n",
       "      <td>w_1</td>\n",
       "      <td>w_13</td>\n",
=======
       "      <th>4</th>\n",
       "      <td>2020-02-03</td>\n",
       "      <td>d_1</td>\n",
       "      <td>d_13</td>\n",
>>>>>>> Stashed changes
       "      <td>03feb2020</td>\n",
       "      <td>18.0</td>\n",
       "      <td>2020-02-03</td>\n",
       "      <td>0</td>\n",
       "    </tr>\n",
       "    <tr>\n",
<<<<<<< Updated upstream
       "      <td>...</td>\n",
=======
       "      <th>...</th>\n",
>>>>>>> Stashed changes
       "      <td>...</td>\n",
       "      <td>...</td>\n",
       "      <td>...</td>\n",
       "      <td>...</td>\n",
       "      <td>...</td>\n",
       "      <td>...</td>\n",
       "      <td>...</td>\n",
       "    </tr>\n",
       "    <tr>\n",
<<<<<<< Updated upstream
       "      <td>169195</td>\n",
       "      <td>2020-03-20</td>\n",
       "      <td>w_9</td>\n",
       "      <td>w_6</td>\n",
=======
       "      <th>169195</th>\n",
       "      <td>2020-03-20</td>\n",
       "      <td>d_9</td>\n",
       "      <td>d_6</td>\n",
>>>>>>> Stashed changes
       "      <td>20mar2020</td>\n",
       "      <td>210.0</td>\n",
       "      <td>2020-03-20</td>\n",
       "      <td>4</td>\n",
       "    </tr>\n",
       "    <tr>\n",
<<<<<<< Updated upstream
       "      <td>169196</td>\n",
       "      <td>2020-03-20</td>\n",
       "      <td>w_9</td>\n",
       "      <td>w_60</td>\n",
=======
       "      <th>169196</th>\n",
       "      <td>2020-03-20</td>\n",
       "      <td>d_9</td>\n",
       "      <td>d_60</td>\n",
>>>>>>> Stashed changes
       "      <td>0</td>\n",
       "      <td>0.0</td>\n",
       "      <td>2020-03-20</td>\n",
       "      <td>4</td>\n",
       "    </tr>\n",
       "    <tr>\n",
<<<<<<< Updated upstream
       "      <td>169197</td>\n",
       "      <td>2020-03-20</td>\n",
       "      <td>w_9</td>\n",
       "      <td>w_7</td>\n",
=======
       "      <th>169197</th>\n",
       "      <td>2020-03-20</td>\n",
       "      <td>d_9</td>\n",
       "      <td>d_7</td>\n",
>>>>>>> Stashed changes
       "      <td>20mar2020</td>\n",
       "      <td>248.0</td>\n",
       "      <td>2020-03-20</td>\n",
       "      <td>4</td>\n",
       "    </tr>\n",
       "    <tr>\n",
<<<<<<< Updated upstream
       "      <td>169198</td>\n",
       "      <td>2020-03-20</td>\n",
       "      <td>w_9</td>\n",
       "      <td>w_8</td>\n",
=======
       "      <th>169198</th>\n",
       "      <td>2020-03-20</td>\n",
       "      <td>d_9</td>\n",
       "      <td>d_8</td>\n",
>>>>>>> Stashed changes
       "      <td>20mar2020</td>\n",
       "      <td>561.0</td>\n",
       "      <td>2020-03-20</td>\n",
       "      <td>4</td>\n",
       "    </tr>\n",
       "    <tr>\n",
<<<<<<< Updated upstream
       "      <td>169199</td>\n",
       "      <td>2020-03-20</td>\n",
       "      <td>w_9</td>\n",
       "      <td>w_9</td>\n",
=======
       "      <th>169199</th>\n",
       "      <td>2020-03-20</td>\n",
       "      <td>d_9</td>\n",
       "      <td>d_9</td>\n",
>>>>>>> Stashed changes
       "      <td>20mar2020</td>\n",
       "      <td>35631.0</td>\n",
       "      <td>2020-03-20</td>\n",
       "      <td>4</td>\n",
       "    </tr>\n",
       "  </tbody>\n",
       "</table>\n",
       "<p>169200 rows × 7 columns</p>\n",
       "</div>"
      ],
      "text/plain": [
       "              day home_region region      date2     count       date  weekday\n",
<<<<<<< Updated upstream
       "0      2020-02-03         w_1    w_1  03feb2020  263449.0 2020-02-03        0\n",
       "1      2020-02-03         w_1   w_10  03feb2020      17.0 2020-02-03        0\n",
       "2      2020-02-03         w_1   w_11          0       0.0 2020-02-03        0\n",
       "3      2020-02-03         w_1   w_12          0       0.0 2020-02-03        0\n",
       "4      2020-02-03         w_1   w_13  03feb2020      18.0 2020-02-03        0\n",
       "...           ...         ...    ...        ...       ...        ...      ...\n",
       "169195 2020-03-20         w_9    w_6  20mar2020     210.0 2020-03-20        4\n",
       "169196 2020-03-20         w_9   w_60          0       0.0 2020-03-20        4\n",
       "169197 2020-03-20         w_9    w_7  20mar2020     248.0 2020-03-20        4\n",
       "169198 2020-03-20         w_9    w_8  20mar2020     561.0 2020-03-20        4\n",
       "169199 2020-03-20         w_9    w_9  20mar2020   35631.0 2020-03-20        4\n",
=======
       "0      2020-02-03         d_1    d_1  03feb2020  263449.0 2020-02-03        0\n",
       "1      2020-02-03         d_1   d_10  03feb2020      17.0 2020-02-03        0\n",
       "2      2020-02-03         d_1   d_11          0       0.0 2020-02-03        0\n",
       "3      2020-02-03         d_1   d_12          0       0.0 2020-02-03        0\n",
       "4      2020-02-03         d_1   d_13  03feb2020      18.0 2020-02-03        0\n",
       "...           ...         ...    ...        ...       ...        ...      ...\n",
       "169195 2020-03-20         d_9    d_6  20mar2020     210.0 2020-03-20        4\n",
       "169196 2020-03-20         d_9   d_60          0       0.0 2020-03-20        4\n",
       "169197 2020-03-20         d_9    d_7  20mar2020     248.0 2020-03-20        4\n",
       "169198 2020-03-20         d_9    d_8  20mar2020     561.0 2020-03-20        4\n",
       "169199 2020-03-20         d_9    d_9  20mar2020   35631.0 2020-03-20        4\n",
>>>>>>> Stashed changes
       "\n",
       "[169200 rows x 7 columns]"
      ]
     },
<<<<<<< Updated upstream
     "execution_count": 86,
=======
<<<<<<< Updated upstream:notebooks/mobility/Lockdown Data Mobility Processing New District_dummy.ipynb
     "execution_count": 44,
=======
     "execution_count": 41,
>>>>>>> Stashed changes:notebooks/mobility/Lockdown Data Mobility Processing New District.ipynb
>>>>>>> Stashed changes
     "metadata": {},
     "output_type": "execute_result"
    }
   ],
   "source": [
    "pre_lockdown_calibrated_home_subscribers_mobility_df"
   ]
  },
  {
   "cell_type": "code",
<<<<<<< Updated upstream
   "execution_count": 85,
=======
<<<<<<< Updated upstream:notebooks/mobility/Lockdown Data Mobility Processing New District_dummy.ipynb
   "execution_count": 45,
=======
   "execution_count": 42,
>>>>>>> Stashed changes:notebooks/mobility/Lockdown Data Mobility Processing New District.ipynb
>>>>>>> Stashed changes
   "metadata": {},
   "outputs": [
    {
     "data": {
      "text/html": [
       "<div>\n",
       "<style scoped>\n",
       "    .dataframe tbody tr th:only-of-type {\n",
       "        vertical-align: middle;\n",
       "    }\n",
       "\n",
       "    .dataframe tbody tr th {\n",
       "        vertical-align: top;\n",
       "    }\n",
       "\n",
       "    .dataframe thead th {\n",
       "        text-align: right;\n",
       "    }\n",
       "</style>\n",
       "<table border=\"1\" class=\"dataframe\">\n",
       "  <thead>\n",
       "    <tr style=\"text-align: right;\">\n",
       "      <th></th>\n",
       "      <th>day</th>\n",
       "      <th>home_region</th>\n",
       "      <th>region</th>\n",
       "      <th>date2</th>\n",
       "      <th>count</th>\n",
       "      <th>date</th>\n",
       "      <th>weekday</th>\n",
       "    </tr>\n",
       "  </thead>\n",
       "  <tbody>\n",
       "    <tr>\n",
<<<<<<< Updated upstream
       "      <td>208800</td>\n",
       "      <td>2020-04-01</td>\n",
       "      <td>w_1</td>\n",
       "      <td>w_1</td>\n",
=======
       "      <th>208800</th>\n",
       "      <td>2020-04-01</td>\n",
       "      <td>d_1</td>\n",
       "      <td>d_1</td>\n",
>>>>>>> Stashed changes
       "      <td>01apr2020</td>\n",
       "      <td>232683.0</td>\n",
       "      <td>2020-04-01</td>\n",
       "      <td>2</td>\n",
       "    </tr>\n",
       "    <tr>\n",
<<<<<<< Updated upstream
       "      <td>208801</td>\n",
       "      <td>2020-04-01</td>\n",
       "      <td>w_1</td>\n",
       "      <td>w_10</td>\n",
=======
       "      <th>208801</th>\n",
       "      <td>2020-04-01</td>\n",
       "      <td>d_1</td>\n",
       "      <td>d_10</td>\n",
>>>>>>> Stashed changes
       "      <td>0</td>\n",
       "      <td>0.0</td>\n",
       "      <td>2020-04-01</td>\n",
       "      <td>2</td>\n",
       "    </tr>\n",
       "    <tr>\n",
<<<<<<< Updated upstream
       "      <td>208802</td>\n",
       "      <td>2020-04-01</td>\n",
       "      <td>w_1</td>\n",
       "      <td>w_11</td>\n",
=======
       "      <th>208802</th>\n",
       "      <td>2020-04-01</td>\n",
       "      <td>d_1</td>\n",
       "      <td>d_11</td>\n",
>>>>>>> Stashed changes
       "      <td>0</td>\n",
       "      <td>0.0</td>\n",
       "      <td>2020-04-01</td>\n",
       "      <td>2</td>\n",
       "    </tr>\n",
       "    <tr>\n",
<<<<<<< Updated upstream
       "      <td>208803</td>\n",
       "      <td>2020-04-01</td>\n",
       "      <td>w_1</td>\n",
       "      <td>w_12</td>\n",
=======
       "      <th>208803</th>\n",
       "      <td>2020-04-01</td>\n",
       "      <td>d_1</td>\n",
       "      <td>d_12</td>\n",
>>>>>>> Stashed changes
       "      <td>0</td>\n",
       "      <td>0.0</td>\n",
       "      <td>2020-04-01</td>\n",
       "      <td>2</td>\n",
       "    </tr>\n",
       "    <tr>\n",
<<<<<<< Updated upstream
       "      <td>208804</td>\n",
       "      <td>2020-04-01</td>\n",
       "      <td>w_1</td>\n",
       "      <td>w_13</td>\n",
=======
       "      <th>208804</th>\n",
       "      <td>2020-04-01</td>\n",
       "      <td>d_1</td>\n",
       "      <td>d_13</td>\n",
>>>>>>> Stashed changes
       "      <td>0</td>\n",
       "      <td>0.0</td>\n",
       "      <td>2020-04-01</td>\n",
       "      <td>2</td>\n",
       "    </tr>\n",
       "    <tr>\n",
<<<<<<< Updated upstream
       "      <td>...</td>\n",
=======
       "      <th>...</th>\n",
>>>>>>> Stashed changes
       "      <td>...</td>\n",
       "      <td>...</td>\n",
       "      <td>...</td>\n",
       "      <td>...</td>\n",
       "      <td>...</td>\n",
       "      <td>...</td>\n",
       "      <td>...</td>\n",
       "    </tr>\n",
       "    <tr>\n",
<<<<<<< Updated upstream
       "      <td>313195</td>\n",
       "      <td>2020-04-29</td>\n",
       "      <td>w_9</td>\n",
       "      <td>w_6</td>\n",
=======
       "      <th>313195</th>\n",
       "      <td>2020-04-29</td>\n",
       "      <td>d_9</td>\n",
       "      <td>d_6</td>\n",
>>>>>>> Stashed changes
       "      <td>29apr2020</td>\n",
       "      <td>90.0</td>\n",
       "      <td>2020-04-29</td>\n",
       "      <td>2</td>\n",
       "    </tr>\n",
       "    <tr>\n",
<<<<<<< Updated upstream
       "      <td>313196</td>\n",
       "      <td>2020-04-29</td>\n",
       "      <td>w_9</td>\n",
       "      <td>w_60</td>\n",
=======
       "      <th>313196</th>\n",
       "      <td>2020-04-29</td>\n",
       "      <td>d_9</td>\n",
       "      <td>d_60</td>\n",
>>>>>>> Stashed changes
       "      <td>0</td>\n",
       "      <td>0.0</td>\n",
       "      <td>2020-04-29</td>\n",
       "      <td>2</td>\n",
       "    </tr>\n",
       "    <tr>\n",
<<<<<<< Updated upstream
       "      <td>313197</td>\n",
       "      <td>2020-04-29</td>\n",
       "      <td>w_9</td>\n",
       "      <td>w_7</td>\n",
=======
       "      <th>313197</th>\n",
       "      <td>2020-04-29</td>\n",
       "      <td>d_9</td>\n",
       "      <td>d_7</td>\n",
>>>>>>> Stashed changes
       "      <td>29apr2020</td>\n",
       "      <td>43.0</td>\n",
       "      <td>2020-04-29</td>\n",
       "      <td>2</td>\n",
       "    </tr>\n",
       "    <tr>\n",
<<<<<<< Updated upstream
       "      <td>313198</td>\n",
       "      <td>2020-04-29</td>\n",
       "      <td>w_9</td>\n",
       "      <td>w_8</td>\n",
=======
       "      <th>313198</th>\n",
       "      <td>2020-04-29</td>\n",
       "      <td>d_9</td>\n",
       "      <td>d_8</td>\n",
>>>>>>> Stashed changes
       "      <td>29apr2020</td>\n",
       "      <td>333.0</td>\n",
       "      <td>2020-04-29</td>\n",
       "      <td>2</td>\n",
       "    </tr>\n",
       "    <tr>\n",
<<<<<<< Updated upstream
       "      <td>313199</td>\n",
       "      <td>2020-04-29</td>\n",
       "      <td>w_9</td>\n",
       "      <td>w_9</td>\n",
=======
       "      <th>313199</th>\n",
       "      <td>2020-04-29</td>\n",
       "      <td>d_9</td>\n",
       "      <td>d_9</td>\n",
>>>>>>> Stashed changes
       "      <td>29apr2020</td>\n",
       "      <td>36723.0</td>\n",
       "      <td>2020-04-29</td>\n",
       "      <td>2</td>\n",
       "    </tr>\n",
       "  </tbody>\n",
       "</table>\n",
       "<p>104400 rows × 7 columns</p>\n",
       "</div>"
      ],
      "text/plain": [
       "              day home_region region      date2     count       date  weekday\n",
<<<<<<< Updated upstream
       "208800 2020-04-01         w_1    w_1  01apr2020  232683.0 2020-04-01        2\n",
       "208801 2020-04-01         w_1   w_10          0       0.0 2020-04-01        2\n",
       "208802 2020-04-01         w_1   w_11          0       0.0 2020-04-01        2\n",
       "208803 2020-04-01         w_1   w_12          0       0.0 2020-04-01        2\n",
       "208804 2020-04-01         w_1   w_13          0       0.0 2020-04-01        2\n",
       "...           ...         ...    ...        ...       ...        ...      ...\n",
       "313195 2020-04-29         w_9    w_6  29apr2020      90.0 2020-04-29        2\n",
       "313196 2020-04-29         w_9   w_60          0       0.0 2020-04-29        2\n",
       "313197 2020-04-29         w_9    w_7  29apr2020      43.0 2020-04-29        2\n",
       "313198 2020-04-29         w_9    w_8  29apr2020     333.0 2020-04-29        2\n",
       "313199 2020-04-29         w_9    w_9  29apr2020   36723.0 2020-04-29        2\n",
=======
       "208800 2020-04-01         d_1    d_1  01apr2020  232683.0 2020-04-01        2\n",
       "208801 2020-04-01         d_1   d_10          0       0.0 2020-04-01        2\n",
       "208802 2020-04-01         d_1   d_11          0       0.0 2020-04-01        2\n",
       "208803 2020-04-01         d_1   d_12          0       0.0 2020-04-01        2\n",
       "208804 2020-04-01         d_1   d_13          0       0.0 2020-04-01        2\n",
       "...           ...         ...    ...        ...       ...        ...      ...\n",
       "313195 2020-04-29         d_9    d_6  29apr2020      90.0 2020-04-29        2\n",
       "313196 2020-04-29         d_9   d_60          0       0.0 2020-04-29        2\n",
       "313197 2020-04-29         d_9    d_7  29apr2020      43.0 2020-04-29        2\n",
       "313198 2020-04-29         d_9    d_8  29apr2020     333.0 2020-04-29        2\n",
       "313199 2020-04-29         d_9    d_9  29apr2020   36723.0 2020-04-29        2\n",
>>>>>>> Stashed changes
       "\n",
       "[104400 rows x 7 columns]"
      ]
     },
<<<<<<< Updated upstream
     "execution_count": 85,
=======
<<<<<<< Updated upstream:notebooks/mobility/Lockdown Data Mobility Processing New District_dummy.ipynb
     "execution_count": 45,
=======
     "execution_count": 42,
>>>>>>> Stashed changes:notebooks/mobility/Lockdown Data Mobility Processing New District.ipynb
>>>>>>> Stashed changes
     "metadata": {},
     "output_type": "execute_result"
    }
   ],
   "source": [
    "post_lockdown_calibrated_home_subscribers_mobility_df"
   ]
  },
  {
   "cell_type": "code",
<<<<<<< Updated upstream
   "execution_count": 87,
=======
<<<<<<< Updated upstream:notebooks/mobility/Lockdown Data Mobility Processing New District_dummy.ipynb
   "execution_count": 46,
=======
   "execution_count": 43,
>>>>>>> Stashed changes:notebooks/mobility/Lockdown Data Mobility Processing New District.ipynb
>>>>>>> Stashed changes
   "metadata": {},
   "outputs": [
    {
     "data": {
      "text/html": [
       "<div>\n",
       "<style scoped>\n",
       "    .dataframe tbody tr th:only-of-type {\n",
       "        vertical-align: middle;\n",
       "    }\n",
       "\n",
       "    .dataframe tbody tr th {\n",
       "        vertical-align: top;\n",
       "    }\n",
       "\n",
       "    .dataframe thead th {\n",
       "        text-align: right;\n",
       "    }\n",
       "</style>\n",
       "<table border=\"1\" class=\"dataframe\">\n",
       "  <thead>\n",
       "    <tr style=\"text-align: right;\">\n",
       "      <th></th>\n",
       "      <th>region</th>\n",
<<<<<<< Updated upstream
       "      <th>w_1</th>\n",
       "      <th>w_10</th>\n",
       "      <th>w_11</th>\n",
       "      <th>w_12</th>\n",
       "      <th>w_13</th>\n",
       "      <th>w_14</th>\n",
       "      <th>w_15</th>\n",
       "      <th>w_16</th>\n",
       "      <th>w_17</th>\n",
       "      <th>w_18</th>\n",
       "      <th>...</th>\n",
       "      <th>w_55</th>\n",
       "      <th>w_56</th>\n",
       "      <th>w_57</th>\n",
       "      <th>w_58</th>\n",
       "      <th>w_59</th>\n",
       "      <th>w_6</th>\n",
       "      <th>w_60</th>\n",
       "      <th>w_7</th>\n",
       "      <th>w_8</th>\n",
       "      <th>w_9</th>\n",
=======
       "      <th>d_1</th>\n",
       "      <th>d_10</th>\n",
       "      <th>d_11</th>\n",
       "      <th>d_12</th>\n",
       "      <th>d_13</th>\n",
       "      <th>d_14</th>\n",
       "      <th>d_15</th>\n",
       "      <th>d_16</th>\n",
       "      <th>d_17</th>\n",
       "      <th>d_18</th>\n",
       "      <th>...</th>\n",
       "      <th>d_55</th>\n",
       "      <th>d_56</th>\n",
       "      <th>d_57</th>\n",
       "      <th>d_58</th>\n",
       "      <th>d_59</th>\n",
       "      <th>d_6</th>\n",
       "      <th>d_60</th>\n",
       "      <th>d_7</th>\n",
       "      <th>d_8</th>\n",
       "      <th>d_9</th>\n",
>>>>>>> Stashed changes
       "    </tr>\n",
       "    <tr>\n",
       "      <th>weekday</th>\n",
       "      <th>home_region</th>\n",
       "      <th></th>\n",
       "      <th></th>\n",
       "      <th></th>\n",
       "      <th></th>\n",
       "      <th></th>\n",
       "      <th></th>\n",
       "      <th></th>\n",
       "      <th></th>\n",
       "      <th></th>\n",
       "      <th></th>\n",
       "      <th></th>\n",
       "      <th></th>\n",
       "      <th></th>\n",
       "      <th></th>\n",
       "      <th></th>\n",
       "      <th></th>\n",
       "      <th></th>\n",
       "      <th></th>\n",
       "      <th></th>\n",
       "      <th></th>\n",
       "      <th></th>\n",
       "    </tr>\n",
       "  </thead>\n",
       "  <tbody>\n",
       "    <tr>\n",
<<<<<<< Updated upstream
       "      <td rowspan=\"5\" valign=\"top\">0</td>\n",
       "      <td>w_1</td>\n",
=======
       "      <th rowspan=\"5\" valign=\"top\">0</th>\n",
       "      <th>d_1</th>\n",
>>>>>>> Stashed changes
       "      <td>0.952601</td>\n",
       "      <td>0.952643</td>\n",
       "      <td>0.952643</td>\n",
       "      <td>0.952643</td>\n",
       "      <td>0.952690</td>\n",
       "      <td>0.952690</td>\n",
       "      <td>0.952690</td>\n",
       "      <td>0.952690</td>\n",
       "      <td>0.952846</td>\n",
       "      <td>0.953035</td>\n",
       "      <td>...</td>\n",
       "      <td>0.995582</td>\n",
       "      <td>0.997295</td>\n",
       "      <td>0.998182</td>\n",
       "      <td>0.998490</td>\n",
       "      <td>0.998797</td>\n",
       "      <td>0.998930</td>\n",
       "      <td>0.999516</td>\n",
       "      <td>0.999945</td>\n",
       "      <td>1.000000</td>\n",
       "      <td>1.0</td>\n",
       "    </tr>\n",
       "    <tr>\n",
<<<<<<< Updated upstream
       "      <td>w_10</td>\n",
=======
       "      <th>d_10</th>\n",
>>>>>>> Stashed changes
       "      <td>0.000111</td>\n",
       "      <td>0.912164</td>\n",
       "      <td>0.912616</td>\n",
       "      <td>0.913231</td>\n",
       "      <td>0.935119</td>\n",
       "      <td>0.942043</td>\n",
       "      <td>0.942656</td>\n",
       "      <td>0.965920</td>\n",
       "      <td>0.965920</td>\n",
       "      <td>0.972148</td>\n",
       "      <td>...</td>\n",
       "      <td>0.998710</td>\n",
       "      <td>0.998997</td>\n",
       "      <td>0.999262</td>\n",
       "      <td>0.999262</td>\n",
       "      <td>0.999262</td>\n",
       "      <td>0.999466</td>\n",
       "      <td>0.999466</td>\n",
       "      <td>1.000000</td>\n",
       "      <td>1.000000</td>\n",
       "      <td>1.0</td>\n",
       "    </tr>\n",
       "    <tr>\n",
<<<<<<< Updated upstream
       "      <td>w_11</td>\n",
=======
       "      <th>d_11</th>\n",
>>>>>>> Stashed changes
       "      <td>0.000000</td>\n",
       "      <td>0.001716</td>\n",
       "      <td>0.900063</td>\n",
       "      <td>0.936411</td>\n",
       "      <td>0.950390</td>\n",
       "      <td>0.983489</td>\n",
       "      <td>0.983489</td>\n",
       "      <td>0.983489</td>\n",
       "      <td>0.983489</td>\n",
       "      <td>0.984168</td>\n",
       "      <td>...</td>\n",
       "      <td>1.000000</td>\n",
       "      <td>1.000000</td>\n",
       "      <td>1.000000</td>\n",
       "      <td>1.000000</td>\n",
       "      <td>1.000000</td>\n",
       "      <td>1.000000</td>\n",
       "      <td>1.000000</td>\n",
       "      <td>1.000000</td>\n",
       "      <td>1.000000</td>\n",
       "      <td>1.0</td>\n",
       "    </tr>\n",
       "    <tr>\n",
<<<<<<< Updated upstream
       "      <td>w_12</td>\n",
=======
       "      <th>d_12</th>\n",
>>>>>>> Stashed changes
       "      <td>0.000000</td>\n",
       "      <td>0.000889</td>\n",
       "      <td>0.014743</td>\n",
       "      <td>0.963280</td>\n",
       "      <td>0.969570</td>\n",
       "      <td>0.970181</td>\n",
       "      <td>0.970181</td>\n",
       "      <td>0.970181</td>\n",
       "      <td>0.970181</td>\n",
       "      <td>0.971053</td>\n",
       "      <td>...</td>\n",
       "      <td>1.000000</td>\n",
       "      <td>1.000000</td>\n",
       "      <td>1.000000</td>\n",
       "      <td>1.000000</td>\n",
       "      <td>1.000000</td>\n",
       "      <td>1.000000</td>\n",
       "      <td>1.000000</td>\n",
       "      <td>1.000000</td>\n",
       "      <td>1.000000</td>\n",
       "      <td>1.0</td>\n",
       "    </tr>\n",
       "    <tr>\n",
<<<<<<< Updated upstream
       "      <td>w_13</td>\n",
=======
       "      <th>d_13</th>\n",
>>>>>>> Stashed changes
       "      <td>0.000185</td>\n",
       "      <td>0.016048</td>\n",
       "      <td>0.018727</td>\n",
       "      <td>0.021197</td>\n",
       "      <td>0.931744</td>\n",
       "      <td>0.933867</td>\n",
       "      <td>0.933925</td>\n",
       "      <td>0.935037</td>\n",
       "      <td>0.935099</td>\n",
       "      <td>0.944762</td>\n",
       "      <td>...</td>\n",
       "      <td>0.998916</td>\n",
       "      <td>0.999060</td>\n",
       "      <td>0.999332</td>\n",
       "      <td>0.999332</td>\n",
       "      <td>0.999332</td>\n",
       "      <td>0.999599</td>\n",
       "      <td>0.999599</td>\n",
       "      <td>1.000000</td>\n",
       "      <td>1.000000</td>\n",
       "      <td>1.0</td>\n",
       "    </tr>\n",
       "    <tr>\n",
<<<<<<< Updated upstream
       "      <td>...</td>\n",
       "      <td>...</td>\n",
=======
       "      <th>...</th>\n",
       "      <th>...</th>\n",
>>>>>>> Stashed changes
       "      <td>...</td>\n",
       "      <td>...</td>\n",
       "      <td>...</td>\n",
       "      <td>...</td>\n",
       "      <td>...</td>\n",
       "      <td>...</td>\n",
       "      <td>...</td>\n",
       "      <td>...</td>\n",
       "      <td>...</td>\n",
       "      <td>...</td>\n",
       "      <td>...</td>\n",
       "      <td>...</td>\n",
       "      <td>...</td>\n",
       "      <td>...</td>\n",
       "      <td>...</td>\n",
       "      <td>...</td>\n",
       "      <td>...</td>\n",
       "      <td>...</td>\n",
       "      <td>...</td>\n",
       "      <td>...</td>\n",
       "      <td>...</td>\n",
       "    </tr>\n",
       "    <tr>\n",
<<<<<<< Updated upstream
       "      <td rowspan=\"5\" valign=\"top\">6</td>\n",
       "      <td>w_6</td>\n",
=======
       "      <th rowspan=\"5\" valign=\"top\">6</th>\n",
       "      <th>d_6</th>\n",
>>>>>>> Stashed changes
       "      <td>0.000424</td>\n",
       "      <td>0.000553</td>\n",
       "      <td>0.000553</td>\n",
       "      <td>0.000553</td>\n",
       "      <td>0.000749</td>\n",
       "      <td>0.000749</td>\n",
       "      <td>0.000749</td>\n",
       "      <td>0.000749</td>\n",
       "      <td>0.001100</td>\n",
       "      <td>0.002620</td>\n",
       "      <td>...</td>\n",
       "      <td>0.044532</td>\n",
       "      <td>0.044945</td>\n",
       "      <td>0.045029</td>\n",
       "      <td>0.045029</td>\n",
       "      <td>0.045029</td>\n",
       "      <td>0.972009</td>\n",
       "      <td>0.972009</td>\n",
       "      <td>0.987383</td>\n",
       "      <td>0.997199</td>\n",
       "      <td>1.0</td>\n",
       "    </tr>\n",
       "    <tr>\n",
<<<<<<< Updated upstream
       "      <td>w_60</td>\n",
=======
       "      <th>d_60</th>\n",
>>>>>>> Stashed changes
       "      <td>0.003827</td>\n",
       "      <td>0.003827</td>\n",
       "      <td>0.003827</td>\n",
       "      <td>0.003827</td>\n",
       "      <td>0.003827</td>\n",
       "      <td>0.003827</td>\n",
       "      <td>0.003827</td>\n",
       "      <td>0.003827</td>\n",
       "      <td>0.004020</td>\n",
       "      <td>0.004163</td>\n",
       "      <td>...</td>\n",
       "      <td>0.040840</td>\n",
       "      <td>0.046243</td>\n",
       "      <td>0.047831</td>\n",
       "      <td>0.076204</td>\n",
       "      <td>0.084937</td>\n",
       "      <td>0.084937</td>\n",
       "      <td>0.999292</td>\n",
       "      <td>1.000000</td>\n",
       "      <td>1.000000</td>\n",
       "      <td>1.0</td>\n",
       "    </tr>\n",
       "    <tr>\n",
<<<<<<< Updated upstream
       "      <td>w_7</td>\n",
=======
       "      <th>d_7</th>\n",
>>>>>>> Stashed changes
       "      <td>0.000604</td>\n",
       "      <td>0.000808</td>\n",
       "      <td>0.000808</td>\n",
       "      <td>0.000808</td>\n",
       "      <td>0.000980</td>\n",
       "      <td>0.000995</td>\n",
       "      <td>0.000995</td>\n",
       "      <td>0.001045</td>\n",
       "      <td>0.001288</td>\n",
       "      <td>0.002296</td>\n",
       "      <td>...</td>\n",
       "      <td>0.034407</td>\n",
       "      <td>0.034994</td>\n",
       "      <td>0.035176</td>\n",
       "      <td>0.035196</td>\n",
       "      <td>0.035245</td>\n",
       "      <td>0.043500</td>\n",
       "      <td>0.043735</td>\n",
       "      <td>0.981834</td>\n",
       "      <td>0.998665</td>\n",
       "      <td>1.0</td>\n",
       "    </tr>\n",
       "    <tr>\n",
<<<<<<< Updated upstream
       "      <td>w_8</td>\n",
=======
       "      <th>d_8</th>\n",
>>>>>>> Stashed changes
       "      <td>0.000195</td>\n",
       "      <td>0.000195</td>\n",
       "      <td>0.000195</td>\n",
       "      <td>0.000195</td>\n",
       "      <td>0.000195</td>\n",
       "      <td>0.000195</td>\n",
       "      <td>0.000195</td>\n",
       "      <td>0.000195</td>\n",
       "      <td>0.000195</td>\n",
       "      <td>0.001165</td>\n",
       "      <td>...</td>\n",
       "      <td>0.012964</td>\n",
       "      <td>0.013082</td>\n",
       "      <td>0.013082</td>\n",
       "      <td>0.013082</td>\n",
       "      <td>0.013082</td>\n",
       "      <td>0.029248</td>\n",
       "      <td>0.029248</td>\n",
       "      <td>0.060809</td>\n",
       "      <td>0.990583</td>\n",
       "      <td>1.0</td>\n",
       "    </tr>\n",
       "    <tr>\n",
<<<<<<< Updated upstream
       "      <td>w_9</td>\n",
=======
       "      <th>d_9</th>\n",
>>>>>>> Stashed changes
       "      <td>0.000471</td>\n",
       "      <td>0.000471</td>\n",
       "      <td>0.000471</td>\n",
       "      <td>0.000471</td>\n",
       "      <td>0.000471</td>\n",
       "      <td>0.000471</td>\n",
       "      <td>0.000471</td>\n",
       "      <td>0.000471</td>\n",
       "      <td>0.000471</td>\n",
       "      <td>0.001928</td>\n",
       "      <td>...</td>\n",
       "      <td>0.019381</td>\n",
       "      <td>0.019548</td>\n",
       "      <td>0.019548</td>\n",
       "      <td>0.019548</td>\n",
       "      <td>0.019548</td>\n",
       "      <td>0.026639</td>\n",
       "      <td>0.026639</td>\n",
       "      <td>0.034537</td>\n",
       "      <td>0.050461</td>\n",
       "      <td>1.0</td>\n",
       "    </tr>\n",
       "  </tbody>\n",
       "</table>\n",
       "<p>420 rows × 60 columns</p>\n",
       "</div>"
      ],
      "text/plain": [
<<<<<<< Updated upstream
       "region                    w_1      w_10      w_11      w_12      w_13  \\\n",
       "weekday home_region                                                     \n",
       "0       w_1          0.952601  0.952643  0.952643  0.952643  0.952690   \n",
       "        w_10         0.000111  0.912164  0.912616  0.913231  0.935119   \n",
       "        w_11         0.000000  0.001716  0.900063  0.936411  0.950390   \n",
       "        w_12         0.000000  0.000889  0.014743  0.963280  0.969570   \n",
       "        w_13         0.000185  0.016048  0.018727  0.021197  0.931744   \n",
       "...                       ...       ...       ...       ...       ...   \n",
       "6       w_6          0.000424  0.000553  0.000553  0.000553  0.000749   \n",
       "        w_60         0.003827  0.003827  0.003827  0.003827  0.003827   \n",
       "        w_7          0.000604  0.000808  0.000808  0.000808  0.000980   \n",
       "        w_8          0.000195  0.000195  0.000195  0.000195  0.000195   \n",
       "        w_9          0.000471  0.000471  0.000471  0.000471  0.000471   \n",
       "\n",
       "region                   w_14      w_15      w_16      w_17      w_18  ...  \\\n",
       "weekday home_region                                                    ...   \n",
       "0       w_1          0.952690  0.952690  0.952690  0.952846  0.953035  ...   \n",
       "        w_10         0.942043  0.942656  0.965920  0.965920  0.972148  ...   \n",
       "        w_11         0.983489  0.983489  0.983489  0.983489  0.984168  ...   \n",
       "        w_12         0.970181  0.970181  0.970181  0.970181  0.971053  ...   \n",
       "        w_13         0.933867  0.933925  0.935037  0.935099  0.944762  ...   \n",
       "...                       ...       ...       ...       ...       ...  ...   \n",
       "6       w_6          0.000749  0.000749  0.000749  0.001100  0.002620  ...   \n",
       "        w_60         0.003827  0.003827  0.003827  0.004020  0.004163  ...   \n",
       "        w_7          0.000995  0.000995  0.001045  0.001288  0.002296  ...   \n",
       "        w_8          0.000195  0.000195  0.000195  0.000195  0.001165  ...   \n",
       "        w_9          0.000471  0.000471  0.000471  0.000471  0.001928  ...   \n",
       "\n",
       "region                   w_55      w_56      w_57      w_58      w_59  \\\n",
       "weekday home_region                                                     \n",
       "0       w_1          0.995582  0.997295  0.998182  0.998490  0.998797   \n",
       "        w_10         0.998710  0.998997  0.999262  0.999262  0.999262   \n",
       "        w_11         1.000000  1.000000  1.000000  1.000000  1.000000   \n",
       "        w_12         1.000000  1.000000  1.000000  1.000000  1.000000   \n",
       "        w_13         0.998916  0.999060  0.999332  0.999332  0.999332   \n",
       "...                       ...       ...       ...       ...       ...   \n",
       "6       w_6          0.044532  0.044945  0.045029  0.045029  0.045029   \n",
       "        w_60         0.040840  0.046243  0.047831  0.076204  0.084937   \n",
       "        w_7          0.034407  0.034994  0.035176  0.035196  0.035245   \n",
       "        w_8          0.012964  0.013082  0.013082  0.013082  0.013082   \n",
       "        w_9          0.019381  0.019548  0.019548  0.019548  0.019548   \n",
       "\n",
       "region                    w_6      w_60       w_7       w_8  w_9  \n",
       "weekday home_region                                               \n",
       "0       w_1          0.998930  0.999516  0.999945  1.000000  1.0  \n",
       "        w_10         0.999466  0.999466  1.000000  1.000000  1.0  \n",
       "        w_11         1.000000  1.000000  1.000000  1.000000  1.0  \n",
       "        w_12         1.000000  1.000000  1.000000  1.000000  1.0  \n",
       "        w_13         0.999599  0.999599  1.000000  1.000000  1.0  \n",
       "...                       ...       ...       ...       ...  ...  \n",
       "6       w_6          0.972009  0.972009  0.987383  0.997199  1.0  \n",
       "        w_60         0.084937  0.999292  1.000000  1.000000  1.0  \n",
       "        w_7          0.043500  0.043735  0.981834  0.998665  1.0  \n",
       "        w_8          0.029248  0.029248  0.060809  0.990583  1.0  \n",
       "        w_9          0.026639  0.026639  0.034537  0.050461  1.0  \n",
=======
       "region                    d_1      d_10      d_11      d_12      d_13  \\\n",
       "weekday home_region                                                     \n",
       "0       d_1          0.952601  0.952643  0.952643  0.952643  0.952690   \n",
       "        d_10         0.000111  0.912164  0.912616  0.913231  0.935119   \n",
       "        d_11         0.000000  0.001716  0.900063  0.936411  0.950390   \n",
       "        d_12         0.000000  0.000889  0.014743  0.963280  0.969570   \n",
       "        d_13         0.000185  0.016048  0.018727  0.021197  0.931744   \n",
       "...                       ...       ...       ...       ...       ...   \n",
       "6       d_6          0.000424  0.000553  0.000553  0.000553  0.000749   \n",
       "        d_60         0.003827  0.003827  0.003827  0.003827  0.003827   \n",
       "        d_7          0.000604  0.000808  0.000808  0.000808  0.000980   \n",
       "        d_8          0.000195  0.000195  0.000195  0.000195  0.000195   \n",
       "        d_9          0.000471  0.000471  0.000471  0.000471  0.000471   \n",
       "\n",
       "region                   d_14      d_15      d_16      d_17      d_18  ...  \\\n",
       "weekday home_region                                                    ...   \n",
       "0       d_1          0.952690  0.952690  0.952690  0.952846  0.953035  ...   \n",
       "        d_10         0.942043  0.942656  0.965920  0.965920  0.972148  ...   \n",
       "        d_11         0.983489  0.983489  0.983489  0.983489  0.984168  ...   \n",
       "        d_12         0.970181  0.970181  0.970181  0.970181  0.971053  ...   \n",
       "        d_13         0.933867  0.933925  0.935037  0.935099  0.944762  ...   \n",
       "...                       ...       ...       ...       ...       ...  ...   \n",
       "6       d_6          0.000749  0.000749  0.000749  0.001100  0.002620  ...   \n",
       "        d_60         0.003827  0.003827  0.003827  0.004020  0.004163  ...   \n",
       "        d_7          0.000995  0.000995  0.001045  0.001288  0.002296  ...   \n",
       "        d_8          0.000195  0.000195  0.000195  0.000195  0.001165  ...   \n",
       "        d_9          0.000471  0.000471  0.000471  0.000471  0.001928  ...   \n",
       "\n",
       "region                   d_55      d_56      d_57      d_58      d_59  \\\n",
       "weekday home_region                                                     \n",
       "0       d_1          0.995582  0.997295  0.998182  0.998490  0.998797   \n",
       "        d_10         0.998710  0.998997  0.999262  0.999262  0.999262   \n",
       "        d_11         1.000000  1.000000  1.000000  1.000000  1.000000   \n",
       "        d_12         1.000000  1.000000  1.000000  1.000000  1.000000   \n",
       "        d_13         0.998916  0.999060  0.999332  0.999332  0.999332   \n",
       "...                       ...       ...       ...       ...       ...   \n",
       "6       d_6          0.044532  0.044945  0.045029  0.045029  0.045029   \n",
       "        d_60         0.040840  0.046243  0.047831  0.076204  0.084937   \n",
       "        d_7          0.034407  0.034994  0.035176  0.035196  0.035245   \n",
       "        d_8          0.012964  0.013082  0.013082  0.013082  0.013082   \n",
       "        d_9          0.019381  0.019548  0.019548  0.019548  0.019548   \n",
       "\n",
       "region                    d_6      d_60       d_7       d_8  d_9  \n",
       "weekday home_region                                               \n",
       "0       d_1          0.998930  0.999516  0.999945  1.000000  1.0  \n",
       "        d_10         0.999466  0.999466  1.000000  1.000000  1.0  \n",
       "        d_11         1.000000  1.000000  1.000000  1.000000  1.0  \n",
       "        d_12         1.000000  1.000000  1.000000  1.000000  1.0  \n",
       "        d_13         0.999599  0.999599  1.000000  1.000000  1.0  \n",
       "...                       ...       ...       ...       ...  ...  \n",
       "6       d_6          0.972009  0.972009  0.987383  0.997199  1.0  \n",
       "        d_60         0.084937  0.999292  1.000000  1.000000  1.0  \n",
       "        d_7          0.043500  0.043735  0.981834  0.998665  1.0  \n",
       "        d_8          0.029248  0.029248  0.060809  0.990583  1.0  \n",
       "        d_9          0.026639  0.026639  0.034537  0.050461  1.0  \n",
>>>>>>> Stashed changes
       "\n",
       "[420 rows x 60 columns]"
      ]
     },
<<<<<<< Updated upstream
     "execution_count": 87,
=======
<<<<<<< Updated upstream:notebooks/mobility/Lockdown Data Mobility Processing New District_dummy.ipynb
     "execution_count": 46,
=======
     "execution_count": 43,
>>>>>>> Stashed changes:notebooks/mobility/Lockdown Data Mobility Processing New District.ipynb
>>>>>>> Stashed changes
     "metadata": {},
     "output_type": "execute_result"
    }
   ],
   "source": [
    "pre_lockdown_daily_region_transition_probability"
   ]
  },
  {
   "cell_type": "code",
<<<<<<< Updated upstream
   "execution_count": 98,
=======
<<<<<<< Updated upstream:notebooks/mobility/Lockdown Data Mobility Processing New District_dummy.ipynb
   "execution_count": 47,
=======
   "execution_count": 44,
>>>>>>> Stashed changes:notebooks/mobility/Lockdown Data Mobility Processing New District.ipynb
>>>>>>> Stashed changes
   "metadata": {},
   "outputs": [
    {
     "data": {
      "text/plain": [
       "array([0.95384743, 0.9175776 , 0.90561874, 0.96713908, 0.93757666,\n",
       "       0.96957809, 0.95372824, 0.96138031, 0.89315545, 0.83906965,\n",
       "       0.91319829, 0.95812863, 0.93044896, 0.95859965, 0.98637798,\n",
       "       0.97182457, 0.99867426, 0.96567518, 0.95639563, 0.96815308,\n",
       "       0.9729292 , 0.99185798, 0.94562326, 0.97850835, 0.99651129,\n",
       "       0.94527324, 0.96538904, 0.88678946, 0.95740796, 0.9730564 ,\n",
       "       0.97370615, 0.99792811, 0.98181177, 0.93761492, 0.97023864,\n",
       "       0.99389132, 0.98978179, 0.96543724, 0.95033937, 0.97503572,\n",
       "       0.98401418, 0.97437268, 0.98345431, 0.94365953, 0.99512389,\n",
       "       0.98689602, 0.99921629, 0.99835115, 0.96997531, 0.96275057,\n",
       "       0.97530087, 0.97645239, 0.99759866, 0.95189301, 0.98954831,\n",
       "       0.97107254, 0.99918607, 0.98310624, 0.98978915, 1.        ])"
      ]
     },
<<<<<<< Updated upstream
     "execution_count": 98,
=======
<<<<<<< Updated upstream:notebooks/mobility/Lockdown Data Mobility Processing New District_dummy.ipynb
     "execution_count": 47,
=======
     "execution_count": 44,
>>>>>>> Stashed changes:notebooks/mobility/Lockdown Data Mobility Processing New District.ipynb
>>>>>>> Stashed changes
     "metadata": {},
     "output_type": "execute_result"
    }
   ],
   "source": [
    "(np.diag(pre_lockdown_daily_region_transition_probability.loc[0]) + np.diag(pre_lockdown_daily_region_transition_probability.loc[1])) / 2"
   ]
  },
  {
   "cell_type": "code",
<<<<<<< Updated upstream
=======
<<<<<<< Updated upstream:notebooks/mobility/Lockdown Data Mobility Processing New District_dummy.ipynb
>>>>>>> Stashed changes
   "execution_count": null,
   "metadata": {},
   "outputs": [],
   "source": []
  },
  {
   "cell_type": "code",
<<<<<<< Updated upstream
   "execution_count": 93,
=======
   "execution_count": 48,
=======
   "execution_count": 45,
>>>>>>> Stashed changes:notebooks/mobility/Lockdown Data Mobility Processing New District.ipynb
>>>>>>> Stashed changes
   "metadata": {},
   "outputs": [
    {
     "data": {
      "text/plain": [
       "array([0.95260146, 0.91216435, 0.90006275, 0.96327955, 0.93174366,\n",
       "       0.96779743, 0.94813166, 0.95995971, 0.89259106, 0.83432499,\n",
       "       0.9066875 , 0.95575969, 0.92142953, 0.95433775, 0.98541907,\n",
       "       0.97140032, 0.99824495, 0.96776732, 0.95547789, 0.96465198,\n",
       "       0.97122781, 0.99069945, 0.94189666, 0.97717223, 0.99577464,\n",
       "       0.94222335, 0.96158013, 0.89294494, 0.95856635, 0.97056054,\n",
       "       0.97537049, 0.99768907, 0.98047197, 0.93999492, 0.96735876,\n",
       "       0.99266064, 0.98853611, 0.96548562, 0.9488375 , 0.97117727,\n",
       "       0.98129387, 0.97307624, 0.98219521, 0.938897  , 0.99440798,\n",
       "       0.98589046, 0.99894065, 0.99789422, 0.96896401, 0.95924681,\n",
       "       0.97186422, 0.97500445, 0.99738466, 0.9555304 , 0.98899619,\n",
       "       0.96984592, 0.99912642, 0.98198858, 0.98844565, 1.        ])"
      ]
     },
<<<<<<< Updated upstream
     "execution_count": 93,
=======
<<<<<<< Updated upstream:notebooks/mobility/Lockdown Data Mobility Processing New District_dummy.ipynb
     "execution_count": 48,
=======
     "execution_count": 45,
>>>>>>> Stashed changes:notebooks/mobility/Lockdown Data Mobility Processing New District.ipynb
>>>>>>> Stashed changes
     "metadata": {},
     "output_type": "execute_result"
    }
   ],
   "source": [
    "np.diag(pre_lockdown_daily_region_transition_probability)"
   ]
  },
  {
   "cell_type": "code",
<<<<<<< Updated upstream
   "execution_count": 92,
=======
<<<<<<< Updated upstream:notebooks/mobility/Lockdown Data Mobility Processing New District_dummy.ipynb
   "execution_count": 49,
=======
   "execution_count": 46,
>>>>>>> Stashed changes:notebooks/mobility/Lockdown Data Mobility Processing New District.ipynb
>>>>>>> Stashed changes
   "metadata": {},
   "outputs": [
    {
     "data": {
      "text/plain": [
       "array([0.97886775, 0.95249028, 0.94121232, 0.98524211, 0.96706381,\n",
       "       0.9831196 , 0.96136441, 0.97230212, 0.9284363 , 0.91333768,\n",
       "       0.93593655, 0.97421563, 0.9506026 , 0.96865521, 0.9885466 ,\n",
       "       0.97849578, 1.        , 0.96822518, 0.96685794, 0.98001873,\n",
       "       0.98370817, 0.99543281, 0.96138   , 0.98458314, 0.99928889,\n",
       "       0.95778937, 0.97364145, 0.92257047, 0.97144513, 0.98038857,\n",
       "       0.97834923, 1.        , 0.98929007, 0.95618854, 0.97797933,\n",
       "       0.9987635 , 0.99298429, 0.97361365, 0.95087876, 0.98045171,\n",
       "       0.99357762, 0.98234279, 0.98576736, 0.9539339 , 0.99829378,\n",
       "       0.9865713 , 1.        , 1.        , 0.98185915, 0.9746045 ,\n",
       "       0.98377662, 0.98537201, 0.99943221, 0.96449478, 0.9922637 ,\n",
       "       0.98278878, 1.        , 0.99024947, 0.99275901, 1.        ])"
      ]
     },
<<<<<<< Updated upstream
     "execution_count": 92,
=======
<<<<<<< Updated upstream:notebooks/mobility/Lockdown Data Mobility Processing New District_dummy.ipynb
     "execution_count": 49,
=======
     "execution_count": 46,
>>>>>>> Stashed changes:notebooks/mobility/Lockdown Data Mobility Processing New District.ipynb
>>>>>>> Stashed changes
     "metadata": {},
     "output_type": "execute_result"
    }
   ],
   "source": [
    "np.diag(post_lockdown_daily_region_transition_probability)"
   ]
  },
  {
   "cell_type": "code",
<<<<<<< Updated upstream
   "execution_count": 117,
=======
<<<<<<< Updated upstream:notebooks/mobility/Lockdown Data Mobility Processing New District_dummy.ipynb
   "execution_count": 50,
=======
   "execution_count": 47,
>>>>>>> Stashed changes:notebooks/mobility/Lockdown Data Mobility Processing New District.ipynb
>>>>>>> Stashed changes
   "metadata": {},
   "outputs": [
    {
     "data": {
      "text/plain": [
       "array([[9.78867750e-01, 0.00000000e+00, 0.00000000e+00, ...,\n",
       "        6.37248641e-05, 0.00000000e+00, 0.00000000e+00],\n",
       "       [0.00000000e+00, 9.52490279e-01, 7.17334385e-05, ...,\n",
       "        7.62167785e-05, 0.00000000e+00, 0.00000000e+00],\n",
       "       [0.00000000e+00, 7.18326894e-04, 9.40493992e-01, ...,\n",
       "        0.00000000e+00, 0.00000000e+00, 0.00000000e+00],\n",
       "       ...,\n",
       "       [1.00148466e-04, 3.29321598e-05, 0.00000000e+00, ...,\n",
       "        9.67739032e-01, 9.27717769e-03, 4.73351519e-04],\n",
       "       [0.00000000e+00, 0.00000000e+00, 0.00000000e+00, ...,\n",
       "        1.67397004e-02, 9.60775697e-01, 7.24099359e-03],\n",
       "       [0.00000000e+00, 0.00000000e+00, 0.00000000e+00, ...,\n",
       "        2.05056738e-03, 9.67849686e-03, 9.78527184e-01]])"
      ]
     },
<<<<<<< Updated upstream
     "execution_count": 117,
=======
<<<<<<< Updated upstream:notebooks/mobility/Lockdown Data Mobility Processing New District_dummy.ipynb
     "execution_count": 50,
=======
     "execution_count": 47,
>>>>>>> Stashed changes:notebooks/mobility/Lockdown Data Mobility Processing New District.ipynb
>>>>>>> Stashed changes
     "metadata": {},
     "output_type": "execute_result"
    }
   ],
   "source": [
    "np.diff(post_lockdown_daily_region_transition_probability, prepend=0).reshape(7, 60, 60)[0]"
   ]
  },
  {
   "cell_type": "code",
<<<<<<< Updated upstream
   "execution_count": 118,
=======
<<<<<<< Updated upstream:notebooks/mobility/Lockdown Data Mobility Processing New District_dummy.ipynb
   "execution_count": 51,
=======
   "execution_count": 48,
>>>>>>> Stashed changes:notebooks/mobility/Lockdown Data Mobility Processing New District.ipynb
>>>>>>> Stashed changes
   "metadata": {},
   "outputs": [
    {
     "data": {
      "text/plain": [
       "array([[9.81543330e-01, 0.00000000e+00, 0.00000000e+00, ...,\n",
       "        2.09654710e-05, 0.00000000e+00, 0.00000000e+00],\n",
       "       [0.00000000e+00, 9.55595439e-01, 8.54209002e-05, ...,\n",
       "        7.64292265e-05, 0.00000000e+00, 0.00000000e+00],\n",
       "       [0.00000000e+00, 0.00000000e+00, 9.23432792e-01, ...,\n",
       "        0.00000000e+00, 0.00000000e+00, 0.00000000e+00],\n",
       "       ...,\n",
       "       [6.49369038e-05, 3.26221700e-05, 0.00000000e+00, ...,\n",
       "        9.72253210e-01, 8.19391813e-03, 4.37832881e-04],\n",
       "       [0.00000000e+00, 0.00000000e+00, 0.00000000e+00, ...,\n",
       "        1.52664123e-02, 9.64911160e-01, 7.93417541e-03],\n",
       "       [0.00000000e+00, 0.00000000e+00, 0.00000000e+00, ...,\n",
       "        1.54781354e-03, 8.68112350e-03, 9.82220719e-01]])"
      ]
     },
<<<<<<< Updated upstream
     "execution_count": 118,
=======
<<<<<<< Updated upstream:notebooks/mobility/Lockdown Data Mobility Processing New District_dummy.ipynb
     "execution_count": 51,
=======
     "execution_count": 48,
>>>>>>> Stashed changes:notebooks/mobility/Lockdown Data Mobility Processing New District.ipynb
>>>>>>> Stashed changes
     "metadata": {},
     "output_type": "execute_result"
    }
   ],
   "source": [
    "np.diff(post_lockdown_daily_region_transition_probability, prepend=0).reshape(7, 60, 60)[1]"
   ]
  },
  {
   "cell_type": "code",
<<<<<<< Updated upstream
   "execution_count": 126,
=======
<<<<<<< Updated upstream:notebooks/mobility/Lockdown Data Mobility Processing New District_dummy.ipynb
   "execution_count": 52,
=======
   "execution_count": 49,
>>>>>>> Stashed changes:notebooks/mobility/Lockdown Data Mobility Processing New District.ipynb
>>>>>>> Stashed changes
   "metadata": {},
   "outputs": [
    {
     "data": {
      "text/plain": [
       "array([1.02621735, 1.03771199, 1.02622983, 1.01854773, 1.03891184,\n",
       "       1.02087227, 1.02290393, 1.03735869, 1.03585097, 1.08965962,\n",
       "       1.03324967, 1.03013781, 1.02445384, 1.0406608 , 1.02660076,\n",
       "       1.06700174, 1.02348402, 1.02906007, 1.04313194, 1.01603901,\n",
       "       1.03766049, 1.01802766, 1.02330465, 1.02446711, 1.07773556,\n",
       "       1.02433409, 1.01649551, 1.04366835, 1.0274174 , 1.02400112,\n",
       "       1.02118928, 1.0244449 , 1.01473734, 1.02357977, 1.0379566 ,\n",
       "       1.0168393 , 1.02684391, 1.02309424, 1.02607631, 1.0813054 ,\n",
       "       1.03398159, 1.02376036, 1.0196291 , 1.03695839, 1.01359001,\n",
       "       1.02702276, 1.01924516, 1.05190263, 1.04417487, 1.02213118,\n",
       "       1.02117115, 1.03110093, 1.02672291, 1.02784615, 1.03744043,\n",
       "       1.02196007, 1.03095007, 1.02338173, 1.03011789, 1.02479599])"
      ]
     },
<<<<<<< Updated upstream
     "execution_count": 126,
=======
<<<<<<< Updated upstream:notebooks/mobility/Lockdown Data Mobility Processing New District_dummy.ipynb
     "execution_count": 52,
=======
     "execution_count": 49,
>>>>>>> Stashed changes:notebooks/mobility/Lockdown Data Mobility Processing New District.ipynb
>>>>>>> Stashed changes
     "metadata": {},
     "output_type": "execute_result"
    }
   ],
   "source": [
    "np.diag(np.diff(post_lockdown_daily_region_transition_probability, prepend=0).reshape(7, 60, 60).mean(axis=0)) / np.diag(np.diff(pre_lockdown_daily_region_transition_probability, prepend=0).reshape(7, 60, 60).mean(axis=0))"
   ]
  },
  {
   "cell_type": "code",
<<<<<<< Updated upstream
   "execution_count": 127,
=======
<<<<<<< Updated upstream:notebooks/mobility/Lockdown Data Mobility Processing New District_dummy.ipynb
   "execution_count": 53,
=======
   "execution_count": 50,
>>>>>>> Stashed changes:notebooks/mobility/Lockdown Data Mobility Processing New District.ipynb
>>>>>>> Stashed changes
   "metadata": {},
   "outputs": [
    {
     "data": {
      "text/plain": [
       "array([0.9795566 , 0.95324053, 0.93274562, 0.97504914, 0.9558135 ,\n",
       "       0.97073389, 0.93265699, 0.92580276, 0.93037543, 0.90830597,\n",
       "       0.93297047, 0.96199297, 0.94349419, 0.91649658, 0.95136453,\n",
       "       0.88389884, 0.92694036, 0.91149546, 0.95017521, 0.97536909,\n",
       "       0.96031853, 0.97309358, 0.94423484, 0.96651306, 0.88679082,\n",
       "       0.95793441, 0.97257978, 0.92341969, 0.94890002, 0.94960994,\n",
       "       0.94699835, 0.94197449, 0.98896858, 0.95349369, 0.96840405,\n",
       "       0.9944525 , 0.97979456, 0.96728479, 0.94604352, 0.88469766,\n",
       "       0.98613362, 0.94294946, 0.97904767, 0.94015384, 0.98396223,\n",
       "       0.96636682, 0.96892287, 0.92295539, 0.94139775, 0.96363379,\n",
       "       0.95544882, 0.97987252, 0.96874365, 0.9350208 , 0.9600987 ,\n",
       "       0.95301972, 0.95126326, 0.97020371, 0.96422273, 0.98029979])"
      ]
     },
<<<<<<< Updated upstream
     "execution_count": 127,
=======
<<<<<<< Updated upstream:notebooks/mobility/Lockdown Data Mobility Processing New District_dummy.ipynb
     "execution_count": 53,
=======
     "execution_count": 50,
>>>>>>> Stashed changes:notebooks/mobility/Lockdown Data Mobility Processing New District.ipynb
>>>>>>> Stashed changes
     "metadata": {},
     "output_type": "execute_result"
    }
   ],
   "source": [
    "np.diag(np.diff(post_lockdown_daily_region_transition_probability, prepend=0).reshape(7, 60, 60).mean(axis=0))"
   ]
  },
  {
   "cell_type": "code",
<<<<<<< Updated upstream
   "execution_count": 125,
=======
<<<<<<< Updated upstream:notebooks/mobility/Lockdown Data Mobility Processing New District_dummy.ipynb
   "execution_count": 54,
=======
   "execution_count": 51,
>>>>>>> Stashed changes:notebooks/mobility/Lockdown Data Mobility Processing New District.ipynb
>>>>>>> Stashed changes
   "metadata": {},
   "outputs": [
    {
     "data": {
      "text/plain": [
       "array([0.95453132, 0.91859836, 0.90890519, 0.95729352, 0.92001405,\n",
       "       0.95088672, 0.91177379, 0.89246156, 0.89817498, 0.83356854,\n",
       "       0.90294775, 0.93384881, 0.92097288, 0.88068713, 0.92671325,\n",
       "       0.82839494, 0.90567155, 0.88575535, 0.91088689, 0.95997209,\n",
       "       0.92546506, 0.95586162, 0.92273092, 0.94343005, 0.82282784,\n",
       "       0.93517771, 0.95679693, 0.8847827 , 0.92357791, 0.92735244,\n",
       "       0.9273485 , 0.91949747, 0.97460548, 0.93152847, 0.93299089,\n",
       "       0.97798393, 0.95418063, 0.94545033, 0.92200114, 0.81817557,\n",
       "       0.95372455, 0.92106463, 0.96019981, 0.90664568, 0.97076947,\n",
       "       0.94094003, 0.95062789, 0.87741523, 0.90157097, 0.9427692 ,\n",
       "       0.93564024, 0.95031678, 0.94352979, 0.90968945, 0.92544947,\n",
       "       0.93254105, 0.92270546, 0.94803696, 0.93603144, 0.95658043])"
      ]
     },
<<<<<<< Updated upstream
     "execution_count": 125,
=======
<<<<<<< Updated upstream:notebooks/mobility/Lockdown Data Mobility Processing New District_dummy.ipynb
     "execution_count": 54,
=======
     "execution_count": 51,
>>>>>>> Stashed changes:notebooks/mobility/Lockdown Data Mobility Processing New District.ipynb
>>>>>>> Stashed changes
     "metadata": {},
     "output_type": "execute_result"
    }
   ],
   "source": [
    "np.diag(np.diff(pre_lockdown_daily_region_transition_probability, prepend=0).reshape(7, 60, 60).mean(axis=0))"
   ]
<<<<<<< Updated upstream
  },
  {
   "cell_type": "code",
   "execution_count": null,
   "metadata": {},
   "outputs": [],
   "source": []
=======
>>>>>>> Stashed changes
  }
 ],
 "metadata": {
  "kernelspec": {
   "display_name": "Python 3",
   "language": "python",
   "name": "python3"
  },
  "language_info": {
   "codemirror_mode": {
    "name": "ipython",
    "version": 3
   },
   "file_extension": ".py",
   "mimetype": "text/x-python",
   "name": "python",
   "nbconvert_exporter": "python",
   "pygments_lexer": "ipython3",
<<<<<<< Updated upstream
   "version": "3.8.3"
=======
   "version": "3.7.7"
>>>>>>> Stashed changes
  }
 },
 "nbformat": 4,
 "nbformat_minor": 4
}
