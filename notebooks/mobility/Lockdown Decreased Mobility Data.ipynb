{
 "cells": [
  {
   "cell_type": "markdown",
   "metadata": {},
   "source": [
    "# Distance traveled data as proxy for reduction in intra-district mobility"
   ]
  },
  {
   "cell_type": "code",
   "execution_count": 3,
   "metadata": {},
   "outputs": [],
   "source": [
    "import pandas as pd\n",
    "from covid19_abm import dir_manager\n"
   ]
  },
  {
   "cell_type": "code",
   "execution_count": 4,
   "metadata": {},
   "outputs": [
    {
     "data": {
      "text/plain": [
       "'/Users/sophieayling/Documents/GitHub/covid19-agent-based-model/notebooks/mobility'"
      ]
     },
     "execution_count": 4,
     "metadata": {},
     "output_type": "execute_result"
    }
   ],
   "source": [
    "pwd"
   ]
  },
  {
   "cell_type": "code",
   "execution_count": 5,
   "metadata": {},
   "outputs": [],
   "source": [
    "df = pd.read_csv(\"../../data/mobility_private/percent_change_district_avgdistance.csv\")"
   ]
  },
  {
   "cell_type": "code",
   "execution_count": 6,
   "metadata": {},
   "outputs": [
    {
     "data": {
      "text/html": [
       "<div>\n",
       "<style scoped>\n",
       "    .dataframe tbody tr th:only-of-type {\n",
       "        vertical-align: middle;\n",
       "    }\n",
       "\n",
       "    .dataframe tbody tr th {\n",
       "        vertical-align: top;\n",
       "    }\n",
       "\n",
       "    .dataframe thead th {\n",
       "        text-align: right;\n",
       "    }\n",
       "</style>\n",
       "<table border=\"1\" class=\"dataframe\">\n",
       "  <thead>\n",
       "    <tr style=\"text-align: right;\">\n",
       "      <th></th>\n",
       "      <th>home_region</th>\n",
       "      <th>avg_distance_febmar</th>\n",
       "      <th>avg_distance_march</th>\n",
       "      <th>avg_distance_april</th>\n",
       "      <th>pctdif_distance_prepost</th>\n",
       "      <th>pctdif_distance_marapr</th>\n",
       "    </tr>\n",
       "  </thead>\n",
       "  <tbody>\n",
       "    <tr>\n",
       "      <th>0</th>\n",
       "      <td>1</td>\n",
       "      <td>18.224033</td>\n",
       "      <td>18.526604</td>\n",
       "      <td>7.730682</td>\n",
       "      <td>-57.579739</td>\n",
       "      <td>-58.272533</td>\n",
       "    </tr>\n",
       "  </tbody>\n",
       "</table>\n",
       "</div>"
      ],
      "text/plain": [
       "   home_region  avg_distance_febmar  avg_distance_march  avg_distance_april  \\\n",
       "0            1            18.224033           18.526604            7.730682   \n",
       "\n",
       "   pctdif_distance_prepost  pctdif_distance_marapr  \n",
       "0               -57.579739              -58.272533  "
      ]
     },
     "execution_count": 6,
     "metadata": {},
     "output_type": "execute_result"
    }
   ],
   "source": [
    "df.head(1)"
   ]
  },
  {
   "cell_type": "code",
   "execution_count": 7,
   "metadata": {},
   "outputs": [],
   "source": [
    "df['district_id'] = df['home_region'].map(lambda x: f'd_{x}')"
   ]
  },
  {
   "cell_type": "code",
   "execution_count": 8,
   "metadata": {},
   "outputs": [
    {
     "data": {
      "text/html": [
       "<div>\n",
       "<style scoped>\n",
       "    .dataframe tbody tr th:only-of-type {\n",
       "        vertical-align: middle;\n",
       "    }\n",
       "\n",
       "    .dataframe tbody tr th {\n",
       "        vertical-align: top;\n",
       "    }\n",
       "\n",
       "    .dataframe thead th {\n",
       "        text-align: right;\n",
       "    }\n",
       "</style>\n",
       "<table border=\"1\" class=\"dataframe\">\n",
       "  <thead>\n",
       "    <tr style=\"text-align: right;\">\n",
       "      <th></th>\n",
       "      <th>home_region</th>\n",
       "      <th>avg_distance_febmar</th>\n",
       "      <th>avg_distance_march</th>\n",
       "      <th>avg_distance_april</th>\n",
       "      <th>pctdif_distance_prepost</th>\n",
       "      <th>pctdif_distance_marapr</th>\n",
       "      <th>district_id</th>\n",
       "    </tr>\n",
       "  </thead>\n",
       "  <tbody>\n",
       "    <tr>\n",
       "      <th>0</th>\n",
       "      <td>1</td>\n",
       "      <td>18.224033</td>\n",
       "      <td>18.526604</td>\n",
       "      <td>7.730682</td>\n",
       "      <td>-57.579739</td>\n",
       "      <td>-58.272533</td>\n",
       "      <td>d_1</td>\n",
       "    </tr>\n",
       "  </tbody>\n",
       "</table>\n",
       "</div>"
      ],
      "text/plain": [
       "   home_region  avg_distance_febmar  avg_distance_march  avg_distance_april  \\\n",
       "0            1            18.224033           18.526604            7.730682   \n",
       "\n",
       "   pctdif_distance_prepost  pctdif_distance_marapr district_id  \n",
       "0               -57.579739              -58.272533         d_1  "
      ]
     },
     "execution_count": 8,
     "metadata": {},
     "output_type": "execute_result"
    }
   ],
   "source": [
    "df.sort_values('pctdif_distance_marapr', ascending=True).head(1)"
   ]
  },
  {
   "cell_type": "code",
   "execution_count": 9,
   "metadata": {},
   "outputs": [],
   "source": [
    "distance_reduction = df.set_index('district_id')['pctdif_distance_marapr'] / 100\n",
    "distance_reduction.name = 'pctdif_distance'\n",
    "\n",
    "distance_reduction[distance_reduction > 0] = 0\n",
    "distance_reduction = -1 * distance_reduction\n",
    "distance_reduction = 1 - distance_reduction\n",
    "\n",
    "distance_reduction.to_csv(\"../../data/preprocessed/mobility/intra_district_decreased_mobility_rates.csv\")\n"
   ]
  },
  {
   "cell_type": "code",
   "execution_count": 7,
   "metadata": {},
   "outputs": [],
   "source": [
    "#distance_reduction_df = pd.read_csv(\n",
    "    #dir_manager.get_data_dir(\"preprocessed\", \"mobility\", \"intra_district_decreased_mobility_rates.csv\"), index_col=0\n",
    "#)['pctdif_distance']"
   ]
  },
  {
   "cell_type": "code",
   "execution_count": null,
   "metadata": {},
   "outputs": [],
   "source": []
  }
 ],
 "metadata": {
  "kernelspec": {
   "display_name": "Python 3",
   "language": "python",
   "name": "python3"
  },
  "language_info": {
   "codemirror_mode": {
    "name": "ipython",
    "version": 3
   },
   "file_extension": ".py",
   "mimetype": "text/x-python",
   "name": "python",
   "nbconvert_exporter": "python",
   "pygments_lexer": "ipython3",
   "version": "3.7.7"
  }
 },
 "nbformat": 4,
 "nbformat_minor": 4
}
