{
 "cells": [
  {
   "cell_type": "code",
   "execution_count": 1,
   "metadata": {},
   "outputs": [],
   "source": [
    "%load_ext autotime"
   ]
  },
  {
   "cell_type": "code",
   "execution_count": 2,
   "metadata": {},
   "outputs": [
    {
     "name": "stdout",
     "output_type": "stream",
     "text": [
      "Collecting package metadata (current_repodata.json): done\n",
      "Solving environment: done\n",
      "\n",
      "# All requested packages already installed.\n",
      "\n",
      "\n",
      "Note: you may need to restart the kernel to use updated packages.\n",
      "time: 11.6 s\n"
     ]
    }
   ],
   "source": [
    "conda install -c conda-forge ipython-autotime"
   ]
  },
  {
   "cell_type": "code",
   "execution_count": 3,
   "metadata": {},
   "outputs": [
    {
     "data": {
      "text/plain": [
       "'/Users/sophieayling/Documents/GitHub/covid19-agent-based-model/notebooks/census'"
      ]
     },
     "execution_count": 3,
     "metadata": {},
     "output_type": "execute_result"
    },
    {
     "name": "stdout",
     "output_type": "stream",
     "text": [
      "time: 15.4 ms\n"
     ]
    }
   ],
   "source": [
    "import os\n",
    "os.getcwd()"
   ]
  },
  {
   "cell_type": "code",
   "execution_count": 6,
   "metadata": {},
   "outputs": [
    {
     "name": "stdout",
     "output_type": "stream",
     "text": [
      "Collecting package metadata (current_repodata.json): done\n",
      "Solving environment: done\n",
      "\n",
      "# All requested packages already installed.\n",
      "\n",
      "\n",
      "Note: you may need to restart the kernel to use updated packages.\n",
      "time: 8.81 s\n"
     ]
    }
   ],
   "source": []
  },
  {
   "cell_type": "code",
   "execution_count": 4,
   "metadata": {},
   "outputs": [
    {
     "ename": "ModuleNotFoundError",
     "evalue": "No module named 'covid19_abm'",
     "output_type": "error",
     "traceback": [
      "\u001b[0;31m---------------------------------------------------------------------------\u001b[0m",
      "\u001b[0;31mModuleNotFoundError\u001b[0m                       Traceback (most recent call last)",
      "\u001b[0;32m<ipython-input-4-30bd540d4d70>\u001b[0m in \u001b[0;36m<module>\u001b[0;34m\u001b[0m\n\u001b[1;32m      4\u001b[0m \u001b[0;32mfrom\u001b[0m \u001b[0mcollections\u001b[0m \u001b[0;32mimport\u001b[0m \u001b[0mCounter\u001b[0m\u001b[0;34m\u001b[0m\u001b[0;34m\u001b[0m\u001b[0m\n\u001b[1;32m      5\u001b[0m \u001b[0;34m\u001b[0m\u001b[0m\n\u001b[0;32m----> 6\u001b[0;31m \u001b[0;32mfrom\u001b[0m \u001b[0mcovid19_abm\u001b[0m\u001b[0;34m.\u001b[0m\u001b[0mdir_manager\u001b[0m \u001b[0;32mimport\u001b[0m \u001b[0mget_data_dir\u001b[0m\u001b[0;34m\u001b[0m\u001b[0;34m\u001b[0m\u001b[0m\n\u001b[0m",
      "\u001b[0;31mModuleNotFoundError\u001b[0m: No module named 'covid19_abm'"
     ]
    },
    {
     "name": "stdout",
     "output_type": "stream",
     "text": [
      "time: 2.12 s\n"
     ]
    }
   ],
   "source": [
    "import pandas as pd\n",
    "from sklearn.ensemble import GradientBoostingRegressor, RandomForestRegressor\n",
    "import numpy as np\n",
    "from collections import Counter\n",
    "\n",
    "from covid19_abm.dir_manager import get_data_dir"
   ]
  },
  {
   "cell_type": "code",
   "execution_count": 7,
   "metadata": {},
   "outputs": [
    {
     "name": "stdout",
     "output_type": "stream",
     "text": [
      "time: 994 µs\n"
     ]
    }
   ],
   "source": [
    "age_map = {\n",
    "    'less than 1 year': 0,\n",
    "    'less than 1 year ': 0,\n",
    "    '1 year': 1,\n",
    "    '1 year ': 1,\n",
    "    '2 years': 2,\n",
    "    '2 years ': 2,\n",
    "    '98': 98,\n",
    "    '98 ': 98,\n",
    "    'not reported/missing': None,\n",
    "    'not reported/missing ': None,\n",
    "}\n",
    "\n",
    "econ_stat_map = {\n",
    "    'Not working, inactive, not': 'Not working, inactive, not in universe',\n",
    "}"
   ]
  },
  {
   "cell_type": "code",
   "execution_count": 8,
   "metadata": {},
   "outputs": [
    {
     "data": {
      "text/plain": [
       "['Zimbabwe Raw Data Full Simulated School Mining Manufacturing.ipynb',\n",
       " 'Zimbabwe Raw Data Full Simulated School Mining Manufacturing_sa.ipynb',\n",
       " '.ipynb_checkpoints']"
      ]
     },
     "execution_count": 8,
     "metadata": {},
     "output_type": "execute_result"
    },
    {
     "name": "stdout",
     "output_type": "stream",
     "text": [
      "time: 3.8 ms\n"
     ]
    }
   ],
   "source": [
    "os.listdir()"
   ]
  },
  {
   "cell_type": "code",
   "execution_count": null,
   "metadata": {},
   "outputs": [],
   "source": []
  },
  {
   "cell_type": "code",
   "execution_count": 9,
   "metadata": {},
   "outputs": [
    {
     "name": "stdout",
     "output_type": "stream",
     "text": [
      "time: 3min 32s\n"
     ]
    }
   ],
   "source": [
    "full_individual_df = pd.read_stata( '../../data/raw/census_private/ABM_Simulated_Pop_WardDistributed_UpdatedMay30_school_complete_060520.dta')"
   ]
  },
  {
   "cell_type": "code",
   "execution_count": 10,
   "metadata": {},
   "outputs": [
    {
     "name": "stdout",
     "output_type": "stream",
     "text": [
      "time: 5.27 s\n"
     ]
    }
   ],
   "source": [
    "full_individual_df['age'] = full_individual_df['age'].map(lambda x: age_map.get(x, x))\n",
    "full_individual_df['economic_status'] = full_individual_df['economic_status'].str.strip().map(lambda x: econ_stat_map.get(x, x))"
   ]
  },
  {
   "cell_type": "code",
   "execution_count": 11,
   "metadata": {},
   "outputs": [
    {
     "data": {
      "text/html": [
       "<div>\n",
       "<style scoped>\n",
       "    .dataframe tbody tr th:only-of-type {\n",
       "        vertical-align: middle;\n",
       "    }\n",
       "\n",
       "    .dataframe tbody tr th {\n",
       "        vertical-align: top;\n",
       "    }\n",
       "\n",
       "    .dataframe thead th {\n",
       "        text-align: right;\n",
       "    }\n",
       "</style>\n",
       "<table border=\"1\" class=\"dataframe\">\n",
       "  <thead>\n",
       "    <tr style=\"text-align: right;\">\n",
       "      <th></th>\n",
       "      <th>serial</th>\n",
       "      <th>persons</th>\n",
       "      <th>district_id</th>\n",
       "      <th>new_district_id</th>\n",
       "      <th>age</th>\n",
       "      <th>sex</th>\n",
       "      <th>teachers</th>\n",
       "      <th>nfams</th>\n",
       "      <th>isco88a</th>\n",
       "      <th>famunit</th>\n",
       "      <th>...</th>\n",
       "      <th>new_dist_pop_share</th>\n",
       "      <th>geo1_zw</th>\n",
       "      <th>geo1_zw2012</th>\n",
       "      <th>geo1_string</th>\n",
       "      <th>geo2_zw</th>\n",
       "      <th>geo2_zw2012</th>\n",
       "      <th>dhs_ipumsi_zw</th>\n",
       "      <th>province_id_shpfile</th>\n",
       "      <th>province_name_shpfile</th>\n",
       "      <th>district_name_shpfile</th>\n",
       "    </tr>\n",
       "  </thead>\n",
       "  <tbody>\n",
       "    <tr>\n",
       "      <th>0</th>\n",
       "      <td>67786</td>\n",
       "      <td>4</td>\n",
       "      <td>21</td>\n",
       "      <td>1</td>\n",
       "      <td>19</td>\n",
       "      <td>female</td>\n",
       "      <td>0</td>\n",
       "      <td>2 families</td>\n",
       "      <td>domestic and related helpers, cleaners and lau...</td>\n",
       "      <td>2</td>\n",
       "      <td>...</td>\n",
       "      <td>1.0</td>\n",
       "      <td>bulawayo</td>\n",
       "      <td>bulawayo</td>\n",
       "      <td>0</td>\n",
       "      <td>bulawayo urban</td>\n",
       "      <td>bulawayo urban</td>\n",
       "      <td>bulawayo</td>\n",
       "      <td>1</td>\n",
       "      <td>Bulawayo</td>\n",
       "      <td>Bulawayo</td>\n",
       "    </tr>\n",
       "    <tr>\n",
       "      <th>1</th>\n",
       "      <td>64925</td>\n",
       "      <td>3</td>\n",
       "      <td>21</td>\n",
       "      <td>1</td>\n",
       "      <td>49</td>\n",
       "      <td>male</td>\n",
       "      <td>0</td>\n",
       "      <td>2 families</td>\n",
       "      <td>travel attendants and related workers</td>\n",
       "      <td>1</td>\n",
       "      <td>...</td>\n",
       "      <td>1.0</td>\n",
       "      <td>bulawayo</td>\n",
       "      <td>bulawayo</td>\n",
       "      <td>0</td>\n",
       "      <td>bulawayo urban</td>\n",
       "      <td>bulawayo urban</td>\n",
       "      <td>bulawayo</td>\n",
       "      <td>1</td>\n",
       "      <td>Bulawayo</td>\n",
       "      <td>Bulawayo</td>\n",
       "    </tr>\n",
       "    <tr>\n",
       "      <th>2</th>\n",
       "      <td>3648785</td>\n",
       "      <td>8</td>\n",
       "      <td>21</td>\n",
       "      <td>1</td>\n",
       "      <td>26</td>\n",
       "      <td>female</td>\n",
       "      <td>Secondary education teaching professionals</td>\n",
       "      <td>4 families</td>\n",
       "      <td>secondary education teaching professionals</td>\n",
       "      <td>2</td>\n",
       "      <td>...</td>\n",
       "      <td>1.0</td>\n",
       "      <td>bulawayo</td>\n",
       "      <td>bulawayo</td>\n",
       "      <td>0</td>\n",
       "      <td>bulawayo urban</td>\n",
       "      <td>bulawayo urban</td>\n",
       "      <td>bulawayo</td>\n",
       "      <td>1</td>\n",
       "      <td>Bulawayo</td>\n",
       "      <td>Bulawayo</td>\n",
       "    </tr>\n",
       "    <tr>\n",
       "      <th>3</th>\n",
       "      <td>127965</td>\n",
       "      <td>6</td>\n",
       "      <td>21</td>\n",
       "      <td>1</td>\n",
       "      <td>54</td>\n",
       "      <td>female</td>\n",
       "      <td>0</td>\n",
       "      <td>2 families</td>\n",
       "      <td>niu (not in universe)</td>\n",
       "      <td>1</td>\n",
       "      <td>...</td>\n",
       "      <td>1.0</td>\n",
       "      <td>bulawayo</td>\n",
       "      <td>bulawayo</td>\n",
       "      <td>0</td>\n",
       "      <td>bulawayo urban</td>\n",
       "      <td>bulawayo urban</td>\n",
       "      <td>bulawayo</td>\n",
       "      <td>1</td>\n",
       "      <td>Bulawayo</td>\n",
       "      <td>Bulawayo</td>\n",
       "    </tr>\n",
       "    <tr>\n",
       "      <th>4</th>\n",
       "      <td>103824</td>\n",
       "      <td>5</td>\n",
       "      <td>21</td>\n",
       "      <td>1</td>\n",
       "      <td>65</td>\n",
       "      <td>female</td>\n",
       "      <td>0</td>\n",
       "      <td>1 family</td>\n",
       "      <td>niu (not in universe)</td>\n",
       "      <td>1</td>\n",
       "      <td>...</td>\n",
       "      <td>1.0</td>\n",
       "      <td>bulawayo</td>\n",
       "      <td>bulawayo</td>\n",
       "      <td>0</td>\n",
       "      <td>bulawayo urban</td>\n",
       "      <td>bulawayo urban</td>\n",
       "      <td>bulawayo</td>\n",
       "      <td>1</td>\n",
       "      <td>Bulawayo</td>\n",
       "      <td>Bulawayo</td>\n",
       "    </tr>\n",
       "  </tbody>\n",
       "</table>\n",
       "<p>5 rows × 59 columns</p>\n",
       "</div>"
      ],
      "text/plain": [
       "    serial  persons district_id  new_district_id age     sex  \\\n",
       "0    67786        4          21                1  19  female   \n",
       "1    64925        3          21                1  49    male   \n",
       "2  3648785        8          21                1  26  female   \n",
       "3   127965        6          21                1  54  female   \n",
       "4   103824        5          21                1  65  female   \n",
       "\n",
       "                                     teachers       nfams  \\\n",
       "0                                           0  2 families   \n",
       "1                                           0  2 families   \n",
       "2  Secondary education teaching professionals  4 families   \n",
       "3                                           0  2 families   \n",
       "4                                           0    1 family   \n",
       "\n",
       "                                             isco88a  famunit  ...  \\\n",
       "0  domestic and related helpers, cleaners and lau...        2  ...   \n",
       "1              travel attendants and related workers        1  ...   \n",
       "2         secondary education teaching professionals        2  ...   \n",
       "3                              niu (not in universe)        1  ...   \n",
       "4                              niu (not in universe)        1  ...   \n",
       "\n",
       "  new_dist_pop_share   geo1_zw geo1_zw2012 geo1_string         geo2_zw  \\\n",
       "0                1.0  bulawayo    bulawayo           0  bulawayo urban   \n",
       "1                1.0  bulawayo    bulawayo           0  bulawayo urban   \n",
       "2                1.0  bulawayo    bulawayo           0  bulawayo urban   \n",
       "3                1.0  bulawayo    bulawayo           0  bulawayo urban   \n",
       "4                1.0  bulawayo    bulawayo           0  bulawayo urban   \n",
       "\n",
       "      geo2_zw2012 dhs_ipumsi_zw province_id_shpfile province_name_shpfile  \\\n",
       "0  bulawayo urban      bulawayo                   1              Bulawayo   \n",
       "1  bulawayo urban      bulawayo                   1              Bulawayo   \n",
       "2  bulawayo urban      bulawayo                   1              Bulawayo   \n",
       "3  bulawayo urban      bulawayo                   1              Bulawayo   \n",
       "4  bulawayo urban      bulawayo                   1              Bulawayo   \n",
       "\n",
       "  district_name_shpfile  \n",
       "0              Bulawayo  \n",
       "1              Bulawayo  \n",
       "2              Bulawayo  \n",
       "3              Bulawayo  \n",
       "4              Bulawayo  \n",
       "\n",
       "[5 rows x 59 columns]"
      ]
     },
     "execution_count": 11,
     "metadata": {},
     "output_type": "execute_result"
    },
    {
     "name": "stdout",
     "output_type": "stream",
     "text": [
      "time: 313 ms\n"
     ]
    }
   ],
   "source": [
    "full_individual_df.head()"
   ]
  },
  {
   "cell_type": "code",
   "execution_count": 12,
   "metadata": {},
   "outputs": [
    {
     "data": {
      "text/plain": [
       "Not working, inactive, not in universe    5059625\n",
       "In School                                 2828795\n",
       "Homemakers/Housework                      1267806\n",
       "Office workers                             465489\n",
       "Service Workers                           2140208\n",
       "Agriculture Workers                       2309064\n",
       "Indusrtry Workers                          121116\n",
       "In the army                                 41494\n",
       "Disabled and not working                   169548\n",
       "Name: economic_status, dtype: int64"
      ]
     },
     "execution_count": 12,
     "metadata": {},
     "output_type": "execute_result"
    },
    {
     "name": "stdout",
     "output_type": "stream",
     "text": [
      "time: 1.28 s\n"
     ]
    }
   ],
   "source": [
    "l = '''Not working, inactive, not in universe\n",
    "In School\n",
    "Homemakers/Housework\n",
    "Office workers\n",
    "Service Workers\n",
    "Agriculture Workers\n",
    "Indusrtry Workers\n",
    "In the army\n",
    "Disabled and not working'''\n",
    "l = l.split('\\n')\n",
    "full_individual_df['economic_status'].value_counts()[l]"
   ]
  },
  {
   "cell_type": "markdown",
   "metadata": {},
   "source": [
    "# Fill unknown age"
   ]
  },
  {
   "cell_type": "code",
   "execution_count": 13,
   "metadata": {},
   "outputs": [
    {
     "name": "stdout",
     "output_type": "stream",
     "text": [
      "time: 341 µs\n"
     ]
    }
   ],
   "source": [
    "individual_df = full_individual_df"
   ]
  },
  {
   "cell_type": "code",
   "execution_count": 14,
   "metadata": {},
   "outputs": [
    {
     "name": "stdout",
     "output_type": "stream",
     "text": [
      "time: 18 s\n"
     ]
    }
   ],
   "source": [
    "# missing_val = 'not reported/missing'\n",
    "age_cols = ['geo1_zw2012', 'urban', 'persons', 'sex', 'marst', 'citizen', 'race', 'disabled', 'economic_status']\n",
    "X = pd.get_dummies(individual_df[age_cols], drop_first=True)\n",
    "\n",
    "X_train = X[individual_df['age'].notnull()]"
   ]
  },
  {
   "cell_type": "code",
   "execution_count": 15,
   "metadata": {},
   "outputs": [
    {
     "name": "stdout",
     "output_type": "stream",
     "text": [
      "time: 1min 45s\n"
     ]
    }
   ],
   "source": [
    "gb = GradientBoostingRegressor(n_estimators=100, max_depth=3, random_state=1029)\n",
    "# rf = RandomForestRegressor(n_estimators=100, max_depth=3, random_state=1029, n_jobs=50)\n",
    "\n",
    "frac = 0.05\n",
    "X_tr = X_train.sample(frac=frac, random_state=1029)\n",
    "gb.fit(X_tr, individual_df.loc[X_tr.index, 'age'])\n",
    "\n",
    "missing_age = X[individual_df['age'].isnull()]"
   ]
  },
  {
   "cell_type": "code",
   "execution_count": 16,
   "metadata": {},
   "outputs": [
    {
     "data": {
      "text/plain": [
       "<AxesSubplot:>"
      ]
     },
     "execution_count": 16,
     "metadata": {},
     "output_type": "execute_result"
    },
    {
     "data": {
      "image/png": "[encoded data removed]",
      "text/plain": [
       "<Figure size 432x288 with 1 Axes>"
      ]
     },
     "metadata": {
      "needs_background": "light"
     },
     "output_type": "display_data"
    },
    {
     "name": "stdout",
     "output_type": "stream",
     "text": [
      "time: 1.15 s\n"
     ]
    }
   ],
   "source": [
    "pd.Series(gb.predict(missing_age)).hist()"
   ]
  },
  {
   "cell_type": "code",
   "execution_count": 17,
   "metadata": {},
   "outputs": [
    {
     "data": {
      "text/plain": [
       "(718623, 33)"
      ]
     },
     "execution_count": 17,
     "metadata": {},
     "output_type": "execute_result"
    },
    {
     "name": "stdout",
     "output_type": "stream",
     "text": [
      "time: 2.28 ms\n"
     ]
    }
   ],
   "source": [
    "X_tr.shape"
   ]
  },
  {
   "cell_type": "code",
   "execution_count": 18,
   "metadata": {},
   "outputs": [
    {
     "data": {
      "text/html": [
       "<div>\n",
       "<style scoped>\n",
       "    .dataframe tbody tr th:only-of-type {\n",
       "        vertical-align: middle;\n",
       "    }\n",
       "\n",
       "    .dataframe tbody tr th {\n",
       "        vertical-align: top;\n",
       "    }\n",
       "\n",
       "    .dataframe thead th {\n",
       "        text-align: right;\n",
       "    }\n",
       "</style>\n",
       "<table border=\"1\" class=\"dataframe\">\n",
       "  <thead>\n",
       "    <tr style=\"text-align: right;\">\n",
       "      <th></th>\n",
       "      <th>serial</th>\n",
       "      <th>persons</th>\n",
       "      <th>district_id</th>\n",
       "      <th>new_district_id</th>\n",
       "      <th>age</th>\n",
       "      <th>sex</th>\n",
       "      <th>teachers</th>\n",
       "      <th>nfams</th>\n",
       "      <th>isco88a</th>\n",
       "      <th>famunit</th>\n",
       "      <th>...</th>\n",
       "      <th>new_dist_pop_share</th>\n",
       "      <th>geo1_zw</th>\n",
       "      <th>geo1_zw2012</th>\n",
       "      <th>geo1_string</th>\n",
       "      <th>geo2_zw</th>\n",
       "      <th>geo2_zw2012</th>\n",
       "      <th>dhs_ipumsi_zw</th>\n",
       "      <th>province_id_shpfile</th>\n",
       "      <th>province_name_shpfile</th>\n",
       "      <th>district_name_shpfile</th>\n",
       "    </tr>\n",
       "  </thead>\n",
       "  <tbody>\n",
       "    <tr>\n",
       "      <th>438</th>\n",
       "      <td>64898</td>\n",
       "      <td>3</td>\n",
       "      <td>21</td>\n",
       "      <td>1</td>\n",
       "      <td>37</td>\n",
       "      <td>male</td>\n",
       "      <td>0</td>\n",
       "      <td>1 family</td>\n",
       "      <td>motor-vehicle drivers</td>\n",
       "      <td>1</td>\n",
       "      <td>...</td>\n",
       "      <td>1.0</td>\n",
       "      <td>bulawayo</td>\n",
       "      <td>bulawayo</td>\n",
       "      <td>0</td>\n",
       "      <td>bulawayo urban</td>\n",
       "      <td>bulawayo urban</td>\n",
       "      <td>bulawayo</td>\n",
       "      <td>1</td>\n",
       "      <td>Bulawayo</td>\n",
       "      <td>Bulawayo</td>\n",
       "    </tr>\n",
       "    <tr>\n",
       "      <th>3978</th>\n",
       "      <td>141744</td>\n",
       "      <td>8</td>\n",
       "      <td>21</td>\n",
       "      <td>1</td>\n",
       "      <td>9</td>\n",
       "      <td>male</td>\n",
       "      <td>0</td>\n",
       "      <td>1 family</td>\n",
       "      <td>niu (not in universe)</td>\n",
       "      <td>1</td>\n",
       "      <td>...</td>\n",
       "      <td>1.0</td>\n",
       "      <td>bulawayo</td>\n",
       "      <td>bulawayo</td>\n",
       "      <td>0</td>\n",
       "      <td>bulawayo urban</td>\n",
       "      <td>bulawayo urban</td>\n",
       "      <td>bulawayo</td>\n",
       "      <td>1</td>\n",
       "      <td>Bulawayo</td>\n",
       "      <td>Bulawayo</td>\n",
       "    </tr>\n",
       "    <tr>\n",
       "      <th>6720</th>\n",
       "      <td>55301</td>\n",
       "      <td>3</td>\n",
       "      <td>21</td>\n",
       "      <td>1</td>\n",
       "      <td>19</td>\n",
       "      <td>male</td>\n",
       "      <td>0</td>\n",
       "      <td>1 family</td>\n",
       "      <td>niu (not in universe)</td>\n",
       "      <td>1</td>\n",
       "      <td>...</td>\n",
       "      <td>1.0</td>\n",
       "      <td>bulawayo</td>\n",
       "      <td>bulawayo</td>\n",
       "      <td>0</td>\n",
       "      <td>bulawayo urban</td>\n",
       "      <td>bulawayo urban</td>\n",
       "      <td>bulawayo</td>\n",
       "      <td>1</td>\n",
       "      <td>Bulawayo</td>\n",
       "      <td>Bulawayo</td>\n",
       "    </tr>\n",
       "    <tr>\n",
       "      <th>7963</th>\n",
       "      <td>143945</td>\n",
       "      <td>8</td>\n",
       "      <td>21</td>\n",
       "      <td>1</td>\n",
       "      <td>7</td>\n",
       "      <td>male</td>\n",
       "      <td>0</td>\n",
       "      <td>8 families</td>\n",
       "      <td>niu (not in universe)</td>\n",
       "      <td>8</td>\n",
       "      <td>...</td>\n",
       "      <td>1.0</td>\n",
       "      <td>bulawayo</td>\n",
       "      <td>bulawayo</td>\n",
       "      <td>0</td>\n",
       "      <td>bulawayo urban</td>\n",
       "      <td>bulawayo urban</td>\n",
       "      <td>bulawayo</td>\n",
       "      <td>1</td>\n",
       "      <td>Bulawayo</td>\n",
       "      <td>Bulawayo</td>\n",
       "    </tr>\n",
       "    <tr>\n",
       "      <th>9596</th>\n",
       "      <td>99018</td>\n",
       "      <td>5</td>\n",
       "      <td>21</td>\n",
       "      <td>1</td>\n",
       "      <td>20</td>\n",
       "      <td>female</td>\n",
       "      <td>0</td>\n",
       "      <td>2 families</td>\n",
       "      <td>domestic and related helpers, cleaners and lau...</td>\n",
       "      <td>2</td>\n",
       "      <td>...</td>\n",
       "      <td>1.0</td>\n",
       "      <td>bulawayo</td>\n",
       "      <td>bulawayo</td>\n",
       "      <td>0</td>\n",
       "      <td>bulawayo urban</td>\n",
       "      <td>bulawayo urban</td>\n",
       "      <td>bulawayo</td>\n",
       "      <td>1</td>\n",
       "      <td>Bulawayo</td>\n",
       "      <td>Bulawayo</td>\n",
       "    </tr>\n",
       "  </tbody>\n",
       "</table>\n",
       "<p>5 rows × 59 columns</p>\n",
       "</div>"
      ],
      "text/plain": [
       "      serial  persons district_id  new_district_id age     sex teachers  \\\n",
       "438    64898        3          21                1  37    male        0   \n",
       "3978  141744        8          21                1   9    male        0   \n",
       "6720   55301        3          21                1  19    male        0   \n",
       "7963  143945        8          21                1   7    male        0   \n",
       "9596   99018        5          21                1  20  female        0   \n",
       "\n",
       "           nfams                                            isco88a  famunit  \\\n",
       "438     1 family                              motor-vehicle drivers        1   \n",
       "3978    1 family                              niu (not in universe)        1   \n",
       "6720    1 family                              niu (not in universe)        1   \n",
       "7963  8 families                              niu (not in universe)        8   \n",
       "9596  2 families  domestic and related helpers, cleaners and lau...        2   \n",
       "\n",
       "      ... new_dist_pop_share   geo1_zw geo1_zw2012 geo1_string  \\\n",
       "438   ...                1.0  bulawayo    bulawayo           0   \n",
       "3978  ...                1.0  bulawayo    bulawayo           0   \n",
       "6720  ...                1.0  bulawayo    bulawayo           0   \n",
       "7963  ...                1.0  bulawayo    bulawayo           0   \n",
       "9596  ...                1.0  bulawayo    bulawayo           0   \n",
       "\n",
       "             geo2_zw     geo2_zw2012 dhs_ipumsi_zw province_id_shpfile  \\\n",
       "438   bulawayo urban  bulawayo urban      bulawayo                   1   \n",
       "3978  bulawayo urban  bulawayo urban      bulawayo                   1   \n",
       "6720  bulawayo urban  bulawayo urban      bulawayo                   1   \n",
       "7963  bulawayo urban  bulawayo urban      bulawayo                   1   \n",
       "9596  bulawayo urban  bulawayo urban      bulawayo                   1   \n",
       "\n",
       "     province_name_shpfile district_name_shpfile  \n",
       "438               Bulawayo              Bulawayo  \n",
       "3978              Bulawayo              Bulawayo  \n",
       "6720              Bulawayo              Bulawayo  \n",
       "7963              Bulawayo              Bulawayo  \n",
       "9596              Bulawayo              Bulawayo  \n",
       "\n",
       "[5 rows x 59 columns]"
      ]
     },
     "execution_count": 18,
     "metadata": {},
     "output_type": "execute_result"
    },
    {
     "name": "stdout",
     "output_type": "stream",
     "text": [
      "time: 8.07 s\n"
     ]
    }
   ],
   "source": [
    "individual_df.loc[missing_age.index, 'age'] = gb.predict(missing_age).astype(int)\n",
    "individual_df.loc[missing_age.index].head()"
   ]
  },
  {
   "cell_type": "code",
   "execution_count": 19,
   "metadata": {},
   "outputs": [
    {
     "data": {
      "text/plain": [
       "Not working, inactive, not in universe    5059625\n",
       "In School                                 2828795\n",
       "Agriculture Workers                       2309064\n",
       "Service Workers                           2140208\n",
       "Homemakers/Housework                      1267806\n",
       "Office workers                             465489\n",
       "Disabled and not working                   169548\n",
       "Indusrtry Workers                          121116\n",
       "In the army                                 41494\n",
       "Name: economic_status, dtype: int64"
      ]
     },
     "execution_count": 19,
     "metadata": {},
     "output_type": "execute_result"
    },
    {
     "name": "stdout",
     "output_type": "stream",
     "text": [
      "time: 3.69 s\n"
     ]
    }
   ],
   "source": [
    "individual_df.economic_status.astype(str).value_counts()"
   ]
  },
  {
   "cell_type": "markdown",
   "metadata": {},
   "source": [
    "## Create `ward_id`, `household_id` and `economic_activity_location_id`"
   ]
  },
  {
   "cell_type": "code",
   "execution_count": 20,
   "metadata": {},
   "outputs": [
    {
     "data": {
      "text/plain": [
       "'/Users/sophieayling/Documents/GitHub/covid19-agent-based-model/notebooks/census'"
      ]
     },
     "execution_count": 20,
     "metadata": {},
     "output_type": "execute_result"
    },
    {
     "name": "stdout",
     "output_type": "stream",
     "text": [
      "time: 45.3 ms\n"
     ]
    }
   ],
   "source": [
    "pwd"
   ]
  },
  {
   "cell_type": "code",
   "execution_count": 21,
   "metadata": {},
   "outputs": [
    {
     "name": "stdout",
     "output_type": "stream",
     "text": [
      "time: 3.15 ms\n"
     ]
    }
   ],
   "source": [
    "relevant_cols = [\n",
    "    'person_id', 'age', 'sex',\n",
    "    'household_id', 'ward_id',\n",
    "    'economic_status', 'economic_activity_location_id',\n",
    "    # 'household', 'ward'\n",
    "]"
   ]
  },
  {
   "cell_type": "code",
   "execution_count": 22,
   "metadata": {},
   "outputs": [
    {
     "name": "stdout",
     "output_type": "stream",
     "text": [
      "time: 62.6 ms\n"
     ]
    }
   ],
   "source": [
    "old_new_districts = pd.read_csv('../../data/raw/district_relation.csv', index_col=0)\n",
    "old_new_districts.index = old_new_districts['ADMIN_NAME'].str.lower()"
   ]
  },
  {
   "cell_type": "code",
   "execution_count": 23,
   "metadata": {},
   "outputs": [
    {
     "name": "stdout",
     "output_type": "stream",
     "text": [
      "time: 110 ms\n"
     ]
    }
   ],
   "source": [
    "individual_df['serial_expanded'] = individual_df['serial']"
   ]
  },
  {
   "cell_type": "code",
   "execution_count": 24,
   "metadata": {},
   "outputs": [
    {
     "name": "stdout",
     "output_type": "stream",
     "text": [
      "time: 9.38 s\n"
     ]
    }
   ],
   "source": [
    "individual_df['household_id'] = individual_df['serial_expanded'].map(lambda x: f'h_{x}')\n",
    "individual_df['old_ward_id'] = individual_df['geo2_zw2012'].map(lambda x: f'w_{old_new_districts[\"DIST2012\"][x]}')                                          \n",
    "individual_df['new_ward_id'] = individual_df['geo2_zw2012'].map(lambda x: f'w_{old_new_districts[\"NEW_DIST_ID_2\"][x]}')"
   ]
  },
  {
   "cell_type": "code",
   "execution_count": 25,
   "metadata": {},
   "outputs": [
    {
     "name": "stdout",
     "output_type": "stream",
     "text": [
      "time: 1min 29s\n"
     ]
    }
   ],
   "source": [
    "expanded_individual_df = individual_df.copy()"
   ]
  },
  {
   "cell_type": "code",
   "execution_count": 26,
   "metadata": {},
   "outputs": [
    {
     "data": {
      "text/html": [
       "<div>\n",
       "<style scoped>\n",
       "    .dataframe tbody tr th:only-of-type {\n",
       "        vertical-align: middle;\n",
       "    }\n",
       "\n",
       "    .dataframe tbody tr th {\n",
       "        vertical-align: top;\n",
       "    }\n",
       "\n",
       "    .dataframe thead th {\n",
       "        text-align: right;\n",
       "    }\n",
       "</style>\n",
       "<table border=\"1\" class=\"dataframe\">\n",
       "  <thead>\n",
       "    <tr style=\"text-align: right;\">\n",
       "      <th></th>\n",
       "      <th>serial</th>\n",
       "      <th>persons</th>\n",
       "      <th>district_id</th>\n",
       "      <th>new_district_id</th>\n",
       "      <th>age</th>\n",
       "      <th>sex</th>\n",
       "      <th>teachers</th>\n",
       "      <th>nfams</th>\n",
       "      <th>isco88a</th>\n",
       "      <th>famunit</th>\n",
       "      <th>...</th>\n",
       "      <th>geo2_zw</th>\n",
       "      <th>geo2_zw2012</th>\n",
       "      <th>dhs_ipumsi_zw</th>\n",
       "      <th>province_id_shpfile</th>\n",
       "      <th>province_name_shpfile</th>\n",
       "      <th>district_name_shpfile</th>\n",
       "      <th>serial_expanded</th>\n",
       "      <th>household_id</th>\n",
       "      <th>old_ward_id</th>\n",
       "      <th>new_ward_id</th>\n",
       "    </tr>\n",
       "  </thead>\n",
       "  <tbody>\n",
       "    <tr>\n",
       "      <th>0</th>\n",
       "      <td>67786</td>\n",
       "      <td>4</td>\n",
       "      <td>21</td>\n",
       "      <td>1</td>\n",
       "      <td>19</td>\n",
       "      <td>female</td>\n",
       "      <td>0</td>\n",
       "      <td>2 families</td>\n",
       "      <td>domestic and related helpers, cleaners and lau...</td>\n",
       "      <td>2</td>\n",
       "      <td>...</td>\n",
       "      <td>bulawayo urban</td>\n",
       "      <td>bulawayo urban</td>\n",
       "      <td>bulawayo</td>\n",
       "      <td>1</td>\n",
       "      <td>Bulawayo</td>\n",
       "      <td>Bulawayo</td>\n",
       "      <td>67786</td>\n",
       "      <td>h_67786</td>\n",
       "      <td>w_21</td>\n",
       "      <td>w_1</td>\n",
       "    </tr>\n",
       "    <tr>\n",
       "      <th>1</th>\n",
       "      <td>64925</td>\n",
       "      <td>3</td>\n",
       "      <td>21</td>\n",
       "      <td>1</td>\n",
       "      <td>49</td>\n",
       "      <td>male</td>\n",
       "      <td>0</td>\n",
       "      <td>2 families</td>\n",
       "      <td>travel attendants and related workers</td>\n",
       "      <td>1</td>\n",
       "      <td>...</td>\n",
       "      <td>bulawayo urban</td>\n",
       "      <td>bulawayo urban</td>\n",
       "      <td>bulawayo</td>\n",
       "      <td>1</td>\n",
       "      <td>Bulawayo</td>\n",
       "      <td>Bulawayo</td>\n",
       "      <td>64925</td>\n",
       "      <td>h_64925</td>\n",
       "      <td>w_21</td>\n",
       "      <td>w_1</td>\n",
       "    </tr>\n",
       "    <tr>\n",
       "      <th>2</th>\n",
       "      <td>3648785</td>\n",
       "      <td>8</td>\n",
       "      <td>21</td>\n",
       "      <td>1</td>\n",
       "      <td>26</td>\n",
       "      <td>female</td>\n",
       "      <td>Secondary education teaching professionals</td>\n",
       "      <td>4 families</td>\n",
       "      <td>secondary education teaching professionals</td>\n",
       "      <td>2</td>\n",
       "      <td>...</td>\n",
       "      <td>bulawayo urban</td>\n",
       "      <td>bulawayo urban</td>\n",
       "      <td>bulawayo</td>\n",
       "      <td>1</td>\n",
       "      <td>Bulawayo</td>\n",
       "      <td>Bulawayo</td>\n",
       "      <td>3648785</td>\n",
       "      <td>h_3648785</td>\n",
       "      <td>w_21</td>\n",
       "      <td>w_1</td>\n",
       "    </tr>\n",
       "    <tr>\n",
       "      <th>3</th>\n",
       "      <td>127965</td>\n",
       "      <td>6</td>\n",
       "      <td>21</td>\n",
       "      <td>1</td>\n",
       "      <td>54</td>\n",
       "      <td>female</td>\n",
       "      <td>0</td>\n",
       "      <td>2 families</td>\n",
       "      <td>niu (not in universe)</td>\n",
       "      <td>1</td>\n",
       "      <td>...</td>\n",
       "      <td>bulawayo urban</td>\n",
       "      <td>bulawayo urban</td>\n",
       "      <td>bulawayo</td>\n",
       "      <td>1</td>\n",
       "      <td>Bulawayo</td>\n",
       "      <td>Bulawayo</td>\n",
       "      <td>127965</td>\n",
       "      <td>h_127965</td>\n",
       "      <td>w_21</td>\n",
       "      <td>w_1</td>\n",
       "    </tr>\n",
       "    <tr>\n",
       "      <th>4</th>\n",
       "      <td>103824</td>\n",
       "      <td>5</td>\n",
       "      <td>21</td>\n",
       "      <td>1</td>\n",
       "      <td>65</td>\n",
       "      <td>female</td>\n",
       "      <td>0</td>\n",
       "      <td>1 family</td>\n",
       "      <td>niu (not in universe)</td>\n",
       "      <td>1</td>\n",
       "      <td>...</td>\n",
       "      <td>bulawayo urban</td>\n",
       "      <td>bulawayo urban</td>\n",
       "      <td>bulawayo</td>\n",
       "      <td>1</td>\n",
       "      <td>Bulawayo</td>\n",
       "      <td>Bulawayo</td>\n",
       "      <td>103824</td>\n",
       "      <td>h_103824</td>\n",
       "      <td>w_21</td>\n",
       "      <td>w_1</td>\n",
       "    </tr>\n",
       "  </tbody>\n",
       "</table>\n",
       "<p>5 rows × 63 columns</p>\n",
       "</div>"
      ],
      "text/plain": [
       "    serial  persons district_id  new_district_id age     sex  \\\n",
       "0    67786        4          21                1  19  female   \n",
       "1    64925        3          21                1  49    male   \n",
       "2  3648785        8          21                1  26  female   \n",
       "3   127965        6          21                1  54  female   \n",
       "4   103824        5          21                1  65  female   \n",
       "\n",
       "                                     teachers       nfams  \\\n",
       "0                                           0  2 families   \n",
       "1                                           0  2 families   \n",
       "2  Secondary education teaching professionals  4 families   \n",
       "3                                           0  2 families   \n",
       "4                                           0    1 family   \n",
       "\n",
       "                                             isco88a  famunit  ...  \\\n",
       "0  domestic and related helpers, cleaners and lau...        2  ...   \n",
       "1              travel attendants and related workers        1  ...   \n",
       "2         secondary education teaching professionals        2  ...   \n",
       "3                              niu (not in universe)        1  ...   \n",
       "4                              niu (not in universe)        1  ...   \n",
       "\n",
       "          geo2_zw     geo2_zw2012 dhs_ipumsi_zw province_id_shpfile  \\\n",
       "0  bulawayo urban  bulawayo urban      bulawayo                   1   \n",
       "1  bulawayo urban  bulawayo urban      bulawayo                   1   \n",
       "2  bulawayo urban  bulawayo urban      bulawayo                   1   \n",
       "3  bulawayo urban  bulawayo urban      bulawayo                   1   \n",
       "4  bulawayo urban  bulawayo urban      bulawayo                   1   \n",
       "\n",
       "  province_name_shpfile district_name_shpfile serial_expanded household_id  \\\n",
       "0              Bulawayo              Bulawayo           67786      h_67786   \n",
       "1              Bulawayo              Bulawayo           64925      h_64925   \n",
       "2              Bulawayo              Bulawayo         3648785    h_3648785   \n",
       "3              Bulawayo              Bulawayo          127965     h_127965   \n",
       "4              Bulawayo              Bulawayo          103824     h_103824   \n",
       "\n",
       "  old_ward_id new_ward_id  \n",
       "0        w_21         w_1  \n",
       "1        w_21         w_1  \n",
       "2        w_21         w_1  \n",
       "3        w_21         w_1  \n",
       "4        w_21         w_1  \n",
       "\n",
       "[5 rows x 63 columns]"
      ]
     },
     "execution_count": 26,
     "metadata": {},
     "output_type": "execute_result"
    },
    {
     "name": "stdout",
     "output_type": "stream",
     "text": [
      "time: 146 ms\n"
     ]
    }
   ],
   "source": [
    "expanded_individual_df.head()"
   ]
  },
  {
   "cell_type": "code",
   "execution_count": 27,
   "metadata": {},
   "outputs": [
    {
     "name": "stdout",
     "output_type": "stream",
     "text": [
      "time: 520 ms\n"
     ]
    }
   ],
   "source": [
    "expanded_individual_df['school_goers'] = 1 * (expanded_individual_df['school_goers'] != 0)"
   ]
  },
  {
   "cell_type": "code",
   "execution_count": 28,
   "metadata": {},
   "outputs": [
    {
     "data": {
      "text/plain": [
       "Index(['serial', 'persons', 'district_id', 'new_district_id', 'age', 'sex',\n",
       "       'teachers', 'nfams', 'isco88a', 'famunit', 'urban', 'economic_status',\n",
       "       'gq', 'marst', 'citizen', 'race', 'disabled', 'disblnd', 'disdeaf',\n",
       "       'dismntl', 'famsize', 'age2', 'edattain', 'edattaind', 'yrschool',\n",
       "       'educzw', 'empstat', 'empstatd', 'labforce', 'occisco', 'occ',\n",
       "       'manufacturing_workers', 'mining_workers', 'mining_districts', 'pid',\n",
       "       'weight', 'ward', 'school_goers', 'school_goers_detailed', 'pernum',\n",
       "       'geolev1', 'Province', 'Province_str', 'ProvincePop2012',\n",
       "       'ProvincePop2019', 'geolev2', 'new_district_id_st', 'NewDistPop2012',\n",
       "       'NewDistPop2019', 'new_dist_pop_share', 'geo1_zw', 'geo1_zw2012',\n",
       "       'geo1_string', 'geo2_zw', 'geo2_zw2012', 'dhs_ipumsi_zw',\n",
       "       'province_id_shpfile', 'province_name_shpfile', 'district_name_shpfile',\n",
       "       'serial_expanded', 'household_id', 'old_ward_id', 'new_ward_id'],\n",
       "      dtype='object')"
      ]
     },
     "execution_count": 28,
     "metadata": {},
     "output_type": "execute_result"
    },
    {
     "name": "stdout",
     "output_type": "stream",
     "text": [
      "time: 5.75 ms\n"
     ]
    }
   ],
   "source": [
    "expanded_individual_df.columns"
   ]
  },
  {
   "cell_type": "code",
   "execution_count": 29,
   "metadata": {},
   "outputs": [
    {
     "data": {
      "text/plain": [
       "3.739394381540564"
      ]
     },
     "execution_count": 29,
     "metadata": {},
     "output_type": "execute_result"
    },
    {
     "name": "stdout",
     "output_type": "stream",
     "text": [
      "time: 5.15 s\n"
     ]
    }
   ],
   "source": [
    "expanded_individual_df.groupby('serial')['sex'].count().mean()"
   ]
  },
  {
   "cell_type": "code",
   "execution_count": 30,
   "metadata": {},
   "outputs": [
    {
     "data": {
      "text/plain": [
       "3.739394381540564"
      ]
     },
     "execution_count": 30,
     "metadata": {},
     "output_type": "execute_result"
    },
    {
     "name": "stdout",
     "output_type": "stream",
     "text": [
      "time: 1.28 s\n"
     ]
    }
   ],
   "source": [
    "expanded_individual_df.shape[0] / expanded_individual_df['serial'].nunique()"
   ]
  },
  {
   "cell_type": "code",
   "execution_count": 31,
   "metadata": {},
   "outputs": [
    {
     "data": {
      "text/plain": [
       "2923907"
      ]
     },
     "execution_count": 31,
     "metadata": {},
     "output_type": "execute_result"
    },
    {
     "name": "stdout",
     "output_type": "stream",
     "text": [
      "time: 91.8 ms\n"
     ]
    }
   ],
   "source": [
    "(expanded_individual_df['school_goers'] == 1).sum()"
   ]
  },
  {
   "cell_type": "code",
   "execution_count": 32,
   "metadata": {},
   "outputs": [
    {
     "data": {
      "text/plain": [
       "2923907"
      ]
     },
     "execution_count": 32,
     "metadata": {},
     "output_type": "execute_result"
    },
    {
     "name": "stdout",
     "output_type": "stream",
     "text": [
      "time: 50.2 ms\n"
     ]
    }
   ],
   "source": [
    "(expanded_individual_df['school_goers'] == 1).sum()"
   ]
  },
  {
   "cell_type": "markdown",
   "metadata": {},
   "source": [
    "# Mining"
   ]
  },
  {
   "cell_type": "code",
   "execution_count": 33,
   "metadata": {},
   "outputs": [
    {
     "name": "stdout",
     "output_type": "stream",
     "text": [
      "time: 537 µs\n"
     ]
    }
   ],
   "source": [
    "# relevant_cols = [\n",
    "#     'person_id', 'age', 'sex',\n",
    "#     'household_id', 'ward_id',\n",
    "#     'economic_status', 'economic_activity_location_id',\n",
    "#     'school_id_district', \n",
    "#     'manufacturing_workers',\n",
    "#     'mining_district_id'\n",
    "#     # 'household', 'ward'\n",
    "# ]\n",
    "\n",
    "relevant_cols = [\n",
    "    'person_id', 'age', 'sex',\n",
    "    'household_id', 'ward_id',\n",
    "    'economic_status', 'economic_activity_location_id',\n",
    "    # 'school_id_district', \n",
    "    'school_goers',\n",
    "    'manufacturing_workers',\n",
    "    # 'mining_district_id'\n",
    "    # 'household', 'ward'\n",
    "]"
   ]
  },
  {
   "cell_type": "code",
   "execution_count": 34,
   "metadata": {},
   "outputs": [
    {
     "data": {
      "text/plain": [
       "'/Users/sophieayling/Documents/GitHub/covid19-agent-based-model/notebooks/census'"
      ]
     },
     "execution_count": 34,
     "metadata": {},
     "output_type": "execute_result"
    },
    {
     "name": "stdout",
     "output_type": "stream",
     "text": [
      "time: 5.12 ms\n"
     ]
    }
   ],
   "source": [
    "pwd"
   ]
  },
  {
   "cell_type": "code",
   "execution_count": 35,
   "metadata": {},
   "outputs": [
    {
     "name": "stdout",
     "output_type": "stream",
     "text": [
      "time: 3min 23s\n"
     ]
    }
   ],
   "source": [
    "mining_df = expanded_individual_df.copy()\n",
    "\n",
    "p = mining_df['economic_status']\n",
    "\n",
    "mining_df.loc[p == 'Disabled and not working', 'economic_activity_location_id'] = mining_df.loc[p == 'Disabled and not working', 'household_id']\n",
    "mining_df.loc[p != 'Disabled and not working', 'economic_activity_location_id'] = mining_df.loc[p != 'Disabled and not working', 'new_ward_id']\n",
    "\n",
    "try:\n",
    "    mining_df.drop('person_id', axis=1, inplace=True)\n",
    "except KeyError:\n",
    "    pass\n",
    "\n",
    "mining_df['person_id'] = mining_df.index\n",
    "mining_df['age'] = mining_df['age'].astype(int)\n",
    "mining_df['economic_status'] = mining_df['economic_status'].str.strip()\n",
    "mining_df.rename(columns={'new_ward_id': 'ward_id'}, inplace=True)\n",
    "\n",
    "mining_df[relevant_cols].to_pickle(\n",
    "    ('../../data/preprocessed/census/zimbabwe_ipums_mining_manufacturing_school_new_dist_100pct.pickle'))"
   ]
  },
  {
   "cell_type": "code",
   "execution_count": 36,
   "metadata": {},
   "outputs": [
    {
     "data": {
      "text/html": [
       "<div>\n",
       "<style scoped>\n",
       "    .dataframe tbody tr th:only-of-type {\n",
       "        vertical-align: middle;\n",
       "    }\n",
       "\n",
       "    .dataframe tbody tr th {\n",
       "        vertical-align: top;\n",
       "    }\n",
       "\n",
       "    .dataframe thead th {\n",
       "        text-align: right;\n",
       "    }\n",
       "</style>\n",
       "<table border=\"1\" class=\"dataframe\">\n",
       "  <thead>\n",
       "    <tr style=\"text-align: right;\">\n",
       "      <th></th>\n",
       "      <th>person_id</th>\n",
       "      <th>age</th>\n",
       "      <th>sex</th>\n",
       "      <th>household_id</th>\n",
       "      <th>ward_id</th>\n",
       "      <th>economic_status</th>\n",
       "      <th>economic_activity_location_id</th>\n",
       "      <th>school_goers</th>\n",
       "      <th>manufacturing_workers</th>\n",
       "    </tr>\n",
       "  </thead>\n",
       "  <tbody>\n",
       "    <tr>\n",
       "      <th>0</th>\n",
       "      <td>0</td>\n",
       "      <td>19</td>\n",
       "      <td>female</td>\n",
       "      <td>h_67786</td>\n",
       "      <td>w_1</td>\n",
       "      <td>Service Workers</td>\n",
       "      <td>w_1</td>\n",
       "      <td>0</td>\n",
       "      <td>0.0</td>\n",
       "    </tr>\n",
       "    <tr>\n",
       "      <th>1</th>\n",
       "      <td>1</td>\n",
       "      <td>49</td>\n",
       "      <td>male</td>\n",
       "      <td>h_64925</td>\n",
       "      <td>w_1</td>\n",
       "      <td>Service Workers</td>\n",
       "      <td>w_1</td>\n",
       "      <td>0</td>\n",
       "      <td>0.0</td>\n",
       "    </tr>\n",
       "    <tr>\n",
       "      <th>2</th>\n",
       "      <td>2</td>\n",
       "      <td>26</td>\n",
       "      <td>female</td>\n",
       "      <td>h_3648785</td>\n",
       "      <td>w_1</td>\n",
       "      <td>Office workers</td>\n",
       "      <td>w_1</td>\n",
       "      <td>1</td>\n",
       "      <td>0.0</td>\n",
       "    </tr>\n",
       "    <tr>\n",
       "      <th>3</th>\n",
       "      <td>3</td>\n",
       "      <td>54</td>\n",
       "      <td>female</td>\n",
       "      <td>h_127965</td>\n",
       "      <td>w_1</td>\n",
       "      <td>Homemakers/Housework</td>\n",
       "      <td>w_1</td>\n",
       "      <td>0</td>\n",
       "      <td>0.0</td>\n",
       "    </tr>\n",
       "    <tr>\n",
       "      <th>4</th>\n",
       "      <td>4</td>\n",
       "      <td>65</td>\n",
       "      <td>female</td>\n",
       "      <td>h_103824</td>\n",
       "      <td>w_1</td>\n",
       "      <td>Not working, inactive, not in universe</td>\n",
       "      <td>w_1</td>\n",
       "      <td>0</td>\n",
       "      <td>0.0</td>\n",
       "    </tr>\n",
       "  </tbody>\n",
       "</table>\n",
       "</div>"
      ],
      "text/plain": [
       "   person_id  age     sex household_id ward_id  \\\n",
       "0          0   19  female      h_67786     w_1   \n",
       "1          1   49    male      h_64925     w_1   \n",
       "2          2   26  female    h_3648785     w_1   \n",
       "3          3   54  female     h_127965     w_1   \n",
       "4          4   65  female     h_103824     w_1   \n",
       "\n",
       "                          economic_status economic_activity_location_id  \\\n",
       "0                         Service Workers                           w_1   \n",
       "1                         Service Workers                           w_1   \n",
       "2                          Office workers                           w_1   \n",
       "3                    Homemakers/Housework                           w_1   \n",
       "4  Not working, inactive, not in universe                           w_1   \n",
       "\n",
       "   school_goers  manufacturing_workers  \n",
       "0             0                    0.0  \n",
       "1             0                    0.0  \n",
       "2             1                    0.0  \n",
       "3             0                    0.0  \n",
       "4             0                    0.0  "
      ]
     },
     "execution_count": 36,
     "metadata": {},
     "output_type": "execute_result"
    },
    {
     "name": "stdout",
     "output_type": "stream",
     "text": [
      "time: 3.94 s\n"
     ]
    }
   ],
   "source": [
    "mining_df[relevant_cols].head()"
   ]
  },
  {
   "cell_type": "code",
   "execution_count": null,
   "metadata": {},
   "outputs": [],
   "source": []
  },
  {
   "cell_type": "markdown",
   "metadata": {},
   "source": [
    "#### Contingent on available data"
   ]
  },
  {
   "cell_type": "code",
   "execution_count": 37,
   "metadata": {},
   "outputs": [
    {
     "ename": "KeyError",
     "evalue": "'mining_district_id'",
     "output_type": "error",
     "traceback": [
      "\u001b[0;31m---------------------------------------------------------------------------\u001b[0m",
      "\u001b[0;31mKeyError\u001b[0m                                  Traceback (most recent call last)",
      "\u001b[0;32m/opt/anaconda3/envs/covid19_abm/lib/python3.8/site-packages/pandas/core/indexes/base.py\u001b[0m in \u001b[0;36mget_loc\u001b[0;34m(self, key, method, tolerance)\u001b[0m\n\u001b[1;32m   2896\u001b[0m             \u001b[0;32mtry\u001b[0m\u001b[0;34m:\u001b[0m\u001b[0;34m\u001b[0m\u001b[0;34m\u001b[0m\u001b[0m\n\u001b[0;32m-> 2897\u001b[0;31m                 \u001b[0;32mreturn\u001b[0m \u001b[0mself\u001b[0m\u001b[0;34m.\u001b[0m\u001b[0m_engine\u001b[0m\u001b[0;34m.\u001b[0m\u001b[0mget_loc\u001b[0m\u001b[0;34m(\u001b[0m\u001b[0mkey\u001b[0m\u001b[0;34m)\u001b[0m\u001b[0;34m\u001b[0m\u001b[0;34m\u001b[0m\u001b[0m\n\u001b[0m\u001b[1;32m   2898\u001b[0m             \u001b[0;32mexcept\u001b[0m \u001b[0mKeyError\u001b[0m\u001b[0;34m:\u001b[0m\u001b[0;34m\u001b[0m\u001b[0;34m\u001b[0m\u001b[0m\n",
      "\u001b[0;32mpandas/_libs/index.pyx\u001b[0m in \u001b[0;36mpandas._libs.index.IndexEngine.get_loc\u001b[0;34m()\u001b[0m\n",
      "\u001b[0;32mpandas/_libs/index.pyx\u001b[0m in \u001b[0;36mpandas._libs.index.IndexEngine.get_loc\u001b[0;34m()\u001b[0m\n",
      "\u001b[0;32mpandas/_libs/hashtable_class_helper.pxi\u001b[0m in \u001b[0;36mpandas._libs.hashtable.PyObjectHashTable.get_item\u001b[0;34m()\u001b[0m\n",
      "\u001b[0;32mpandas/_libs/hashtable_class_helper.pxi\u001b[0m in \u001b[0;36mpandas._libs.hashtable.PyObjectHashTable.get_item\u001b[0;34m()\u001b[0m\n",
      "\u001b[0;31mKeyError\u001b[0m: 'mining_district_id'",
      "\nDuring handling of the above exception, another exception occurred:\n",
      "\u001b[0;31mKeyError\u001b[0m                                  Traceback (most recent call last)",
      "\u001b[0;32m<ipython-input-37-2c217fd94691>\u001b[0m in \u001b[0;36m<module>\u001b[0;34m\u001b[0m\n\u001b[1;32m      1\u001b[0m \u001b[0;31m# mining_df['serial_expanded'] = mining_df['serial'].map(lambda x: f'{x}_01')\u001b[0m\u001b[0;34m\u001b[0m\u001b[0;34m\u001b[0m\u001b[0;34m\u001b[0m\u001b[0m\n\u001b[1;32m      2\u001b[0m \u001b[0;31m# mining_df['household_id'] = mining_df['serial_expanded'].map(lambda x: f'h_{x}')\u001b[0m\u001b[0;34m\u001b[0m\u001b[0;34m\u001b[0m\u001b[0;34m\u001b[0m\u001b[0m\n\u001b[0;32m----> 3\u001b[0;31m \u001b[0mmining_df\u001b[0m\u001b[0;34m.\u001b[0m\u001b[0mloc\u001b[0m\u001b[0;34m[\u001b[0m\u001b[0mmining_df\u001b[0m\u001b[0;34m[\u001b[0m\u001b[0;34m'mining_district_id'\u001b[0m\u001b[0;34m]\u001b[0m \u001b[0;34m!=\u001b[0m \u001b[0;34m''\u001b[0m\u001b[0;34m,\u001b[0m \u001b[0;34m'mining_district_id'\u001b[0m\u001b[0;34m]\u001b[0m \u001b[0;34m=\u001b[0m \u001b[0mmining_df\u001b[0m\u001b[0;34m.\u001b[0m\u001b[0mloc\u001b[0m\u001b[0;34m[\u001b[0m\u001b[0mmining_df\u001b[0m\u001b[0;34m[\u001b[0m\u001b[0;34m'mining_district_id'\u001b[0m\u001b[0;34m]\u001b[0m \u001b[0;34m!=\u001b[0m \u001b[0;34m''\u001b[0m\u001b[0;34m,\u001b[0m \u001b[0;34m'mining_district_id'\u001b[0m\u001b[0;34m]\u001b[0m\u001b[0;34m.\u001b[0m\u001b[0mmap\u001b[0m\u001b[0;34m(\u001b[0m\u001b[0;32mlambda\u001b[0m \u001b[0mx\u001b[0m\u001b[0;34m:\u001b[0m \u001b[0;34mf'mining_{x}'\u001b[0m\u001b[0;34m)\u001b[0m\u001b[0;34m\u001b[0m\u001b[0;34m\u001b[0m\u001b[0m\n\u001b[0m\u001b[1;32m      4\u001b[0m \u001b[0mmining_df\u001b[0m\u001b[0;34m.\u001b[0m\u001b[0mloc\u001b[0m\u001b[0;34m[\u001b[0m\u001b[0mmining_df\u001b[0m\u001b[0;34m[\u001b[0m\u001b[0;34m'school_id_district'\u001b[0m\u001b[0;34m]\u001b[0m \u001b[0;34m!=\u001b[0m \u001b[0;34m''\u001b[0m\u001b[0;34m,\u001b[0m \u001b[0;34m'school_id_district'\u001b[0m\u001b[0;34m]\u001b[0m \u001b[0;34m=\u001b[0m \u001b[0mmining_df\u001b[0m\u001b[0;34m.\u001b[0m\u001b[0mloc\u001b[0m\u001b[0;34m[\u001b[0m\u001b[0mmining_df\u001b[0m\u001b[0;34m[\u001b[0m\u001b[0;34m'school_id_district'\u001b[0m\u001b[0;34m]\u001b[0m \u001b[0;34m!=\u001b[0m \u001b[0;34m''\u001b[0m\u001b[0;34m,\u001b[0m \u001b[0;34m'school_id_district'\u001b[0m\u001b[0;34m]\u001b[0m\u001b[0;34m.\u001b[0m\u001b[0mmap\u001b[0m\u001b[0;34m(\u001b[0m\u001b[0;32mlambda\u001b[0m \u001b[0mx\u001b[0m\u001b[0;34m:\u001b[0m \u001b[0;34mf'school_{x}'\u001b[0m\u001b[0;34m)\u001b[0m\u001b[0;34m\u001b[0m\u001b[0;34m\u001b[0m\u001b[0m\n",
      "\u001b[0;32m/opt/anaconda3/envs/covid19_abm/lib/python3.8/site-packages/pandas/core/frame.py\u001b[0m in \u001b[0;36m__getitem__\u001b[0;34m(self, key)\u001b[0m\n\u001b[1;32m   2993\u001b[0m             \u001b[0;32mif\u001b[0m \u001b[0mself\u001b[0m\u001b[0;34m.\u001b[0m\u001b[0mcolumns\u001b[0m\u001b[0;34m.\u001b[0m\u001b[0mnlevels\u001b[0m \u001b[0;34m>\u001b[0m \u001b[0;36m1\u001b[0m\u001b[0;34m:\u001b[0m\u001b[0;34m\u001b[0m\u001b[0;34m\u001b[0m\u001b[0m\n\u001b[1;32m   2994\u001b[0m                 \u001b[0;32mreturn\u001b[0m \u001b[0mself\u001b[0m\u001b[0;34m.\u001b[0m\u001b[0m_getitem_multilevel\u001b[0m\u001b[0;34m(\u001b[0m\u001b[0mkey\u001b[0m\u001b[0;34m)\u001b[0m\u001b[0;34m\u001b[0m\u001b[0;34m\u001b[0m\u001b[0m\n\u001b[0;32m-> 2995\u001b[0;31m             \u001b[0mindexer\u001b[0m \u001b[0;34m=\u001b[0m \u001b[0mself\u001b[0m\u001b[0;34m.\u001b[0m\u001b[0mcolumns\u001b[0m\u001b[0;34m.\u001b[0m\u001b[0mget_loc\u001b[0m\u001b[0;34m(\u001b[0m\u001b[0mkey\u001b[0m\u001b[0;34m)\u001b[0m\u001b[0;34m\u001b[0m\u001b[0;34m\u001b[0m\u001b[0m\n\u001b[0m\u001b[1;32m   2996\u001b[0m             \u001b[0;32mif\u001b[0m \u001b[0mis_integer\u001b[0m\u001b[0;34m(\u001b[0m\u001b[0mindexer\u001b[0m\u001b[0;34m)\u001b[0m\u001b[0;34m:\u001b[0m\u001b[0;34m\u001b[0m\u001b[0;34m\u001b[0m\u001b[0m\n\u001b[1;32m   2997\u001b[0m                 \u001b[0mindexer\u001b[0m \u001b[0;34m=\u001b[0m \u001b[0;34m[\u001b[0m\u001b[0mindexer\u001b[0m\u001b[0;34m]\u001b[0m\u001b[0;34m\u001b[0m\u001b[0;34m\u001b[0m\u001b[0m\n",
      "\u001b[0;32m/opt/anaconda3/envs/covid19_abm/lib/python3.8/site-packages/pandas/core/indexes/base.py\u001b[0m in \u001b[0;36mget_loc\u001b[0;34m(self, key, method, tolerance)\u001b[0m\n\u001b[1;32m   2897\u001b[0m                 \u001b[0;32mreturn\u001b[0m \u001b[0mself\u001b[0m\u001b[0;34m.\u001b[0m\u001b[0m_engine\u001b[0m\u001b[0;34m.\u001b[0m\u001b[0mget_loc\u001b[0m\u001b[0;34m(\u001b[0m\u001b[0mkey\u001b[0m\u001b[0;34m)\u001b[0m\u001b[0;34m\u001b[0m\u001b[0;34m\u001b[0m\u001b[0m\n\u001b[1;32m   2898\u001b[0m             \u001b[0;32mexcept\u001b[0m \u001b[0mKeyError\u001b[0m\u001b[0;34m:\u001b[0m\u001b[0;34m\u001b[0m\u001b[0;34m\u001b[0m\u001b[0m\n\u001b[0;32m-> 2899\u001b[0;31m                 \u001b[0;32mreturn\u001b[0m \u001b[0mself\u001b[0m\u001b[0;34m.\u001b[0m\u001b[0m_engine\u001b[0m\u001b[0;34m.\u001b[0m\u001b[0mget_loc\u001b[0m\u001b[0;34m(\u001b[0m\u001b[0mself\u001b[0m\u001b[0;34m.\u001b[0m\u001b[0m_maybe_cast_indexer\u001b[0m\u001b[0;34m(\u001b[0m\u001b[0mkey\u001b[0m\u001b[0;34m)\u001b[0m\u001b[0;34m)\u001b[0m\u001b[0;34m\u001b[0m\u001b[0;34m\u001b[0m\u001b[0m\n\u001b[0m\u001b[1;32m   2900\u001b[0m         \u001b[0mindexer\u001b[0m \u001b[0;34m=\u001b[0m \u001b[0mself\u001b[0m\u001b[0;34m.\u001b[0m\u001b[0mget_indexer\u001b[0m\u001b[0;34m(\u001b[0m\u001b[0;34m[\u001b[0m\u001b[0mkey\u001b[0m\u001b[0;34m]\u001b[0m\u001b[0;34m,\u001b[0m \u001b[0mmethod\u001b[0m\u001b[0;34m=\u001b[0m\u001b[0mmethod\u001b[0m\u001b[0;34m,\u001b[0m \u001b[0mtolerance\u001b[0m\u001b[0;34m=\u001b[0m\u001b[0mtolerance\u001b[0m\u001b[0;34m)\u001b[0m\u001b[0;34m\u001b[0m\u001b[0;34m\u001b[0m\u001b[0m\n\u001b[1;32m   2901\u001b[0m         \u001b[0;32mif\u001b[0m \u001b[0mindexer\u001b[0m\u001b[0;34m.\u001b[0m\u001b[0mndim\u001b[0m \u001b[0;34m>\u001b[0m \u001b[0;36m1\u001b[0m \u001b[0;32mor\u001b[0m \u001b[0mindexer\u001b[0m\u001b[0;34m.\u001b[0m\u001b[0msize\u001b[0m \u001b[0;34m>\u001b[0m \u001b[0;36m1\u001b[0m\u001b[0;34m:\u001b[0m\u001b[0;34m\u001b[0m\u001b[0;34m\u001b[0m\u001b[0m\n",
      "\u001b[0;32mpandas/_libs/index.pyx\u001b[0m in \u001b[0;36mpandas._libs.index.IndexEngine.get_loc\u001b[0;34m()\u001b[0m\n",
      "\u001b[0;32mpandas/_libs/index.pyx\u001b[0m in \u001b[0;36mpandas._libs.index.IndexEngine.get_loc\u001b[0;34m()\u001b[0m\n",
      "\u001b[0;32mpandas/_libs/hashtable_class_helper.pxi\u001b[0m in \u001b[0;36mpandas._libs.hashtable.PyObjectHashTable.get_item\u001b[0;34m()\u001b[0m\n",
      "\u001b[0;32mpandas/_libs/hashtable_class_helper.pxi\u001b[0m in \u001b[0;36mpandas._libs.hashtable.PyObjectHashTable.get_item\u001b[0;34m()\u001b[0m\n",
      "\u001b[0;31mKeyError\u001b[0m: 'mining_district_id'"
     ]
    },
    {
     "name": "stdout",
     "output_type": "stream",
     "text": [
      "time: 1.53 s\n"
     ]
    }
   ],
   "source": [
    "# mining_df['serial_expanded'] = mining_df['serial'].map(lambda x: f'{x}_01')\n",
    "# mining_df['household_id'] = mining_df['serial_expanded'].map(lambda x: f'h_{x}')\n",
    "mining_df.loc[mining_df['mining_district_id'] != '', 'mining_district_id'] = mining_df.loc[mining_df['mining_district_id'] != '', 'mining_district_id'].map(lambda x: f'mining_{x}')\n",
    "mining_df.loc[mining_df['school_id_district'] != '', 'school_id_district'] = mining_df.loc[mining_df['school_id_district'] != '', 'school_id_district'].map(lambda x: f'school_{x}')"
   ]
  },
  {
   "cell_type": "code",
   "execution_count": null,
   "metadata": {},
   "outputs": [],
   "source": [
    "mining_df.head()"
   ]
  },
  {
   "cell_type": "code",
   "execution_count": null,
   "metadata": {},
   "outputs": [],
   "source": [
    "p = mining_df['economic_status']\n",
    "\n",
    "mining_df.loc[p == 'Disabled and not working', 'economic_activity_location_id'] = mining_df.loc[p == 'Disabled and not working', 'household_id']\n",
    "mining_df.loc[p != 'Disabled and not working', 'economic_activity_location_id'] = mining_df.loc[p != 'Disabled and not working', 'new_ward_id']"
   ]
  },
  {
   "cell_type": "code",
   "execution_count": null,
   "metadata": {},
   "outputs": [],
   "source": [
    "try:\n",
    "    mining_df.drop('person_id', axis=1, inplace=True)\n",
    "except KeyError:\n",
    "    pass\n",
    "\n",
    "mining_df['person_id'] = mining_df.index\n",
    "mining_df['age'] = mining_df['age'].astype(int)\n",
    "mining_df['economic_status'] = mining_df['economic_status'].str.strip()\n",
    "mining_df.rename(columns={'new_ward_id': 'ward_id'}, inplace=True)"
   ]
  },
  {
   "cell_type": "code",
   "execution_count": null,
   "metadata": {},
   "outputs": [],
   "source": [
    "mining_df[relevant_cols][\n",
    "    mining_df.serial_expanded.str.endswith('_01')\n",
    "].to_pickle('../../data/zimbabwe_ipums_mining_manufacturing_school_new_dist_5pct.pickle')"
   ]
  },
  {
   "cell_type": "code",
   "execution_count": null,
   "metadata": {},
   "outputs": [],
   "source": [
    "mining_df[relevant_cols][\n",
    "    mining_df.serial_expanded.str.endswith('_01') | mining_df.serial_expanded.str.endswith('_02')\n",
    "].to_pickle('../../data/zimbabwe_ipums_mining_manufacturing_school_new_dist_10pct.pickle')"
   ]
  },
  {
   "cell_type": "code",
   "execution_count": null,
   "metadata": {},
   "outputs": [],
   "source": [
    "mining_df.shape"
   ]
  },
  {
   "cell_type": "code",
   "execution_count": null,
   "metadata": {},
   "outputs": [],
   "source": [
    "import pandas as pd"
   ]
  },
  {
   "cell_type": "code",
   "execution_count": null,
   "metadata": {},
   "outputs": [],
   "source": [
    "mining_df = pd.read_pickle('../../data/zimbabwe_ipums_mining_manufacturing_school_new_dist_10pct.pickle')"
   ]
  },
  {
   "cell_type": "code",
   "execution_count": null,
   "metadata": {},
   "outputs": [],
   "source": [
    "mining_df[mining_df['school_id_district'] != '']['person_id']"
   ]
  },
  {
   "cell_type": "markdown",
   "metadata": {},
   "source": [
    "# Expand to 10%"
   ]
  },
  {
   "cell_type": "code",
   "execution_count": null,
   "metadata": {},
   "outputs": [],
   "source": [
    "mining_df"
   ]
  },
  {
   "cell_type": "code",
   "execution_count": null,
   "metadata": {},
   "outputs": [],
   "source": []
  },
  {
   "cell_type": "markdown",
   "metadata": {},
   "source": [
    "# Scratch"
   ]
  },
  {
   "cell_type": "code",
   "execution_count": null,
   "metadata": {},
   "outputs": [],
   "source": [
    "mining_df[~mining_df['household_id'].str.startswith('h_')]['person_id'].values"
   ]
  },
  {
   "cell_type": "code",
   "execution_count": null,
   "metadata": {},
   "outputs": [],
   "source": [
    "mining_df[mining_df.manufacturing_workers.notnull()].person_id"
   ]
  },
  {
   "cell_type": "code",
   "execution_count": null,
   "metadata": {},
   "outputs": [],
   "source": [
    "mining_df[mining_df['manufacturing_workers'].notnull()]['person_id'].values"
   ]
  },
  {
   "cell_type": "code",
   "execution_count": null,
   "metadata": {},
   "outputs": [],
   "source": [
    "mining_df[mining_df['school_id_district'] != '']['person_id'].values"
   ]
  },
  {
   "cell_type": "code",
   "execution_count": null,
   "metadata": {},
   "outputs": [],
   "source": [
    "mining_df['school_id_district'].shape"
   ]
  },
  {
   "cell_type": "code",
   "execution_count": null,
   "metadata": {},
   "outputs": [],
   "source": []
  },
  {
   "cell_type": "code",
   "execution_count": null,
   "metadata": {},
   "outputs": [],
   "source": []
  }
 ],
 "metadata": {
  "kernelspec": {
   "display_name": "Python 3",
   "language": "python",
   "name": "python3"
  },
  "language_info": {
   "codemirror_mode": {
    "name": "ipython",
    "version": 3
   },
   "file_extension": ".py",
   "mimetype": "text/x-python",
   "name": "python",
   "nbconvert_exporter": "python",
   "pygments_lexer": "ipython3",
   "version": "3.8.5"
  }
 },
 "nbformat": 4,
 "nbformat_minor": 4
}
